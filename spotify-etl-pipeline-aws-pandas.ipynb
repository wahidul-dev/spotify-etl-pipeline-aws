{
 "cells": [
  {
   "cell_type": "code",
   "execution_count": 1,
   "id": "7f826d2b",
   "metadata": {},
   "outputs": [],
   "source": [
    "#!pip install spotipy\n",
    "import spotipy\n",
    "from spotipy.oauth2 import SpotifyClientCredentials\n",
    "from datetime import datetime\n",
    "import pandas as pd"
   ]
  },
  {
   "cell_type": "code",
   "execution_count": 5,
   "id": "cde5936d",
   "metadata": {},
   "outputs": [],
   "source": [
    "# Spotify client credentials\n",
    "client_id = \"43964785e73c43698f52de9f8ea49068\"\n",
    "client_secret = \"b5c8bf24d8454f50a9fdb8fa86f0d92c\"\n",
    "\n",
    "# Initialize Spotify client\n",
    "credentials_manager = SpotifyClientCredentials(client_id=client_id, client_secret=client_secret)\n",
    "sp = spotipy.Spotify(client_credentials_manager=credentials_manager)"
   ]
  },
  {
   "cell_type": "code",
   "execution_count": 6,
   "id": "28923383",
   "metadata": {},
   "outputs": [],
   "source": [
    "# Define the Spotify playlist link\n",
    "playlist_link = \"https://open.spotify.com/playlist/37i9dQZEVXbLiRSasKsNU9\"\n",
    "\n",
    "# Extract the playlist URI from the link\n",
    "playlist_uri = playlist_link.split(\"/\")[-1]\n",
    "\n",
    "# Fetch playlist tracks using the Spotify API\n",
    "data = sp.playlist_tracks(playlist_uri)"
   ]
  },
  {
   "cell_type": "code",
   "execution_count": 28,
   "id": "4af15f3b",
   "metadata": {},
   "outputs": [],
   "source": [
    "# Initialize an empty list to store album information\n",
    "album_list = []\n",
    "\n",
    "# Iterate over the 'items' in the 'data' object\n",
    "for item in data['items']:\n",
    "    # Extract album information from the nested structure within 'item'\n",
    "    id = item['track']['album']['id']\n",
    "    name = item['track']['album']['name']\n",
    "    release_date = item['track']['album']['release_date']\n",
    "    total_tracks = item['track']['album']['total_tracks']\n",
    "    external_urls = item['track']['album']['external_urls']['spotify']\n",
    "\n",
    "    # Create a dictionary 'album_element' to store the extracted information\n",
    "    album_element = {\n",
    "        'id': id,\n",
    "        'name': name,\n",
    "        'release_date': release_date,\n",
    "        'total_tracks': total_tracks,\n",
    "        'external_urls': external_urls\n",
    "    }\n",
    "\n",
    "    # Append 'album_element' to the 'album_list'\n",
    "    album_list.append(album_element)\n",
    "\n",
    "# 'album_list' now contains the extracted album information"
   ]
  },
  {
   "cell_type": "code",
   "execution_count": 29,
   "id": "804abc3c",
   "metadata": {},
   "outputs": [],
   "source": [
    "# Initialize an empty list for artist information\n",
    "artist_list = []\n",
    "\n",
    "# Extract artist data from the 'data' object\n",
    "for item in data['items']:\n",
    "    for key, value in item.items():\n",
    "        if key == 'track':\n",
    "            for artist in value['artists']:\n",
    "                # Create a dictionary with artist details\n",
    "                artist_dict = {\n",
    "                    'artist_id': artist['id'],\n",
    "                    'artist_name': artist['name'],\n",
    "                    'external_url': artist['href']\n",
    "                }\n",
    "                artist_list.append(artist_dict)\n",
    "\n",
    "# 'artist_list' now contains artist information\n"
   ]
  },
  {
   "cell_type": "code",
   "execution_count": 30,
   "id": "f73f279d",
   "metadata": {},
   "outputs": [],
   "source": [
    "# Initialize an empty list to store song information\n",
    "song_list = []\n",
    "\n",
    "# Loop through each item in the 'data' dictionary's 'items' list\n",
    "for row in data['items']:\n",
    "    # Extract various attributes of the song from the 'row' dictionary\n",
    "    song_id = row['track']['id']\n",
    "    song_name = row['track']['name']\n",
    "    song_duration = row['track']['duration_ms']\n",
    "    song_url = row['track']['external_urls']['spotify']\n",
    "    song_popularity = row['track']['popularity']\n",
    "    song_added = row['added_at']\n",
    "    album_id = row['track']['album']['id']\n",
    "    artist_id = row['track']['album']['artists'][0]['id']\n",
    "    \n",
    "    # Create a dictionary representing a song element with extracted attributes\n",
    "    song_element = {\n",
    "        'song_id': song_id,\n",
    "        'song_name': song_name,\n",
    "        'song_duration': song_duration,\n",
    "        'song_url': song_url,\n",
    "        'song_popularity': song_popularity,\n",
    "        'song_added': song_added,\n",
    "        'album_id': album_id,\n",
    "        'artist_id': artist_id\n",
    "    }\n",
    "    \n",
    "    # Append the song element to the 'song_list'\n",
    "    song_list.append(song_element)\n"
   ]
  },
  {
   "cell_type": "code",
   "execution_count": 35,
   "id": "2693bc9d",
   "metadata": {},
   "outputs": [],
   "source": [
    "# Create DataFrames from dictionaries and drop duplicates in a single line\n",
    "album_df = pd.DataFrame.from_dict(album_list).drop_duplicates(subset=['id'])\n",
    "song_df = pd.DataFrame.from_dict(song_list).drop_duplicates(subset=['song_id'])\n",
    "artist_df = pd.DataFrame.from_dict(artist_list).drop_duplicates(subset=['artist_id'])"
   ]
  },
  {
   "cell_type": "code",
   "execution_count": 36,
   "id": "d1a41a26",
   "metadata": {},
   "outputs": [],
   "source": [
    "# Convert date columns to datetime objects\n",
    "album_df['release_date'] = pd.to_datetime(album_df['release_date'])\n",
    "song_df['song_added'] = pd.to_datetime(song_df['song_added'])"
   ]
  }
 ],
 "metadata": {
  "kernelspec": {
   "display_name": "Python 3 (ipykernel)",
   "language": "python",
   "name": "python3"
  },
  "language_info": {
   "codemirror_mode": {
    "name": "ipython",
    "version": 3
   },
   "file_extension": ".py",
   "mimetype": "text/x-python",
   "name": "python",
   "nbconvert_exporter": "python",
   "pygments_lexer": "ipython3",
   "version": "3.11.5"
  }
 },
 "nbformat": 4,
 "nbformat_minor": 5
}
