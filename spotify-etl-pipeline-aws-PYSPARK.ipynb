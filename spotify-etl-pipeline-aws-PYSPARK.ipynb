{
 "cells": [
  {
   "cell_type": "code",
   "execution_count": 45,
   "metadata": {},
   "outputs": [],
   "source": [
    "import spotipy\n",
    "from spotipy.oauth2 import SpotifyClientCredentials\n",
    "from datetime import datetime\n",
    "from pyspark.sql.functions import to_date\n",
    "from pyspark.sql.types import DateType"
   ]
  },
  {
   "cell_type": "code",
   "execution_count": 46,
   "metadata": {},
   "outputs": [],
   "source": [
    "from pyspark.sql import SparkSession\n",
    "\n",
    "try:\n",
    "    spark = SparkSession.builder.appName('SpotifyETL-dev-20230911')\\\n",
    "            .config('spark.app.name', 'SpotifyETL-dev-20230911')\\\n",
    "            .getOrCreate()\n",
    "    \n",
    "    # Your PySpark code here\n",
    "    \n",
    "except Exception as e:\n",
    "    # Handle exceptions\n",
    "    print(f\"Spark Session builder failed {e}\")\n",
    "\n",
    "# Continue with the rest of your PySpark code...\n"
   ]
  },
  {
   "cell_type": "code",
   "execution_count": 47,
   "metadata": {},
   "outputs": [],
   "source": [
    "# Spotify client credentials\n",
    "client_id = \"43964785e73c43698f52de9f8ea49068\"\n",
    "client_secret = \"b5c8bf24d8454f50a9fdb8fa86f0d92c\"\n",
    "\n",
    "try:\n",
    "    # Initialize Spotify client\n",
    "    credentials_manager = SpotifyClientCredentials(client_id=client_id, client_secret=client_secret)\n",
    "    spotify_client = spotipy.Spotify(client_credentials_manager=credentials_manager)\n",
    "    \n",
    "    # Your Spotify API calls or other code here\n",
    "    \n",
    "except spotipy.SpotifyException as e:\n",
    "    # Handle Spotipy-specific exceptions\n",
    "    print(f\"Spotipy Error: {e}\")\n",
    "except Exception as e:\n",
    "    # Handle other exceptions\n",
    "    print(f\"An error occurred: {e}\")\n",
    "\n",
    "# Continue with the rest of your code...\n"
   ]
  },
  {
   "cell_type": "code",
   "execution_count": 48,
   "metadata": {},
   "outputs": [],
   "source": [
    "# Define the Spotify playlist link\n",
    "playlist_link = \"https://open.spotify.com/playlist/37i9dQZEVXbLiRSasKsNU9\"\n",
    "\n",
    "# Extract the playlist URI from the link\n",
    "try:\n",
    "    playlist_uri = playlist_link.split(\"/\")[-1]\n",
    "except IndexError as e:\n",
    "    print(f\"Error extracting playlist URI: {e}\")\n",
    "    playlist_uri = None\n",
    "\n",
    "# Fetch playlist tracks using the Spotify API\n",
    "try:\n",
    "    if playlist_uri:\n",
    "        data = sp.playlist_tracks(playlist_uri)\n",
    "    else:\n",
    "        print(\"No valid playlist URI found.\")\n",
    "except spotipy.SpotifyException as e:\n",
    "    # Handle Spotipy-specific exceptions\n",
    "    print(f\"Spotipy Error: {e}\")\n",
    "except Exception as e:\n",
    "    # Handle other exceptions\n",
    "    print(f\"An error occurred while fetching playlist tracks: {e}\")\n"
   ]
  },
  {
   "cell_type": "code",
   "execution_count": 49,
   "metadata": {},
   "outputs": [
    {
     "data": {
      "text/plain": [
       "list"
      ]
     },
     "execution_count": 49,
     "metadata": {},
     "output_type": "execute_result"
    }
   ],
   "source": [
    "# Initialize an empty list to store album information\n",
    "album_list = []\n",
    "\n",
    "try:\n",
    "    # Iterate over the 'items' in the 'data' object\n",
    "    for item in data['items']:\n",
    "        # Extract album information from the nested structure within 'item'\n",
    "        try:\n",
    "            id = item['track']['album']['id']\n",
    "            name = item['track']['album']['name']\n",
    "            release_date = item['track']['album']['release_date']\n",
    "            total_tracks = item['track']['album']['total_tracks']\n",
    "            external_urls = item['track']['album']['external_urls']['spotify']\n",
    "\n",
    "            # Create a dictionary 'album_element' to store the extracted information\n",
    "            album_element = {\n",
    "                'id': id,\n",
    "                'name': name,\n",
    "                'release_date': release_date,\n",
    "                'total_tracks': total_tracks,\n",
    "                'external_urls': external_urls\n",
    "            }\n",
    "\n",
    "            # Append 'album_element' to the 'album_list'\n",
    "            album_list.append(album_element)\n",
    "        except KeyError as e:\n",
    "            print(f\"KeyError occurred while extracting album information: {e}\")\n",
    "            # You can choose to skip this item or handle the error differently\n",
    "        \n",
    "except Exception as e:\n",
    "    # Handle other exceptions that may occur during the iteration\n",
    "    print(f\"An error occurred during the iteration: {e}\")\n",
    "\n",
    "# 'album_list' now contains the extracted album information\n",
    "type(album_list)\n"
   ]
  },
  {
   "cell_type": "code",
   "execution_count": 50,
   "metadata": {},
   "outputs": [],
   "source": [
    "# Initialize an empty list for artist information\n",
    "artist_list = []\n",
    "\n",
    "# Extract artist data from the 'data' object\n",
    "for item in data['items']:\n",
    "    for key, value in item.items():\n",
    "        if key == 'track':\n",
    "            for artist in value['artists']:\n",
    "                # Create a dictionary with artist details\n",
    "                artist_dict = {\n",
    "                    'artist_id': artist['id'],\n",
    "                    'artist_name': artist['name'],\n",
    "                    'external_url': artist['href']\n",
    "                }\n",
    "                artist_list.append(artist_dict)\n",
    "\n",
    "# 'artist_list' now contains artist information\n"
   ]
  },
  {
   "cell_type": "code",
   "execution_count": 51,
   "metadata": {},
   "outputs": [],
   "source": [
    "# Initialize an empty list to store song information\n",
    "song_list = []\n",
    "\n",
    "# Loop through each item in the 'data' dictionary's 'items' list\n",
    "for row in data['items']:\n",
    "    # Extract various attributes of the song from the 'row' dictionary\n",
    "    song_id = row['track']['id']\n",
    "    song_name = row['track']['name']\n",
    "    song_duration = row['track']['duration_ms']\n",
    "    song_url = row['track']['external_urls']['spotify']\n",
    "    song_popularity = row['track']['popularity']\n",
    "    song_added = row['added_at']\n",
    "    album_id = row['track']['album']['id']\n",
    "    artist_id = row['track']['album']['artists'][0]['id']\n",
    "    \n",
    "    # Create a dictionary representing a song element with extracted attributes\n",
    "    song_element = {\n",
    "        'song_id': song_id,\n",
    "        'song_name': song_name,\n",
    "        'song_duration': song_duration,\n",
    "        'song_url': song_url,\n",
    "        'song_popularity': song_popularity,\n",
    "        'song_added': song_added,\n",
    "        'album_id': album_id,\n",
    "        'artist_id': artist_id\n",
    "    }\n",
    "    \n",
    "    # Append the song element to the 'song_list'\n",
    "    song_list.append(song_element)\n"
   ]
  },
  {
   "cell_type": "code",
   "execution_count": 52,
   "metadata": {},
   "outputs": [
    {
     "name": "stdout",
     "output_type": "stream",
     "text": [
      "root\n",
      " |-- external_urls: string (nullable = true)\n",
      " |-- id: string (nullable = true)\n",
      " |-- name: string (nullable = true)\n",
      " |-- release_date: string (nullable = true)\n",
      " |-- total_tracks: long (nullable = true)\n",
      "\n"
     ]
    }
   ],
   "source": [
    "album_df = spark.createDataFrame(album_list)\n",
    "album_df.printSchema()"
   ]
  },
  {
   "cell_type": "code",
   "execution_count": 53,
   "metadata": {},
   "outputs": [],
   "source": [
    "# Create Spark DataFrames from dictionaries and drop duplicates in a single line\n",
    "album_df = spark.createDataFrame(album_list).dropDuplicates(subset=['id'])\n",
    "song_df = spark.createDataFrame(song_list).dropDuplicates(subset=['song_id'])\n",
    "artist_df = spark.createDataFrame(artist_list).dropDuplicates(subset=['artist_id'])"
   ]
  },
  {
   "cell_type": "code",
   "execution_count": 54,
   "metadata": {},
   "outputs": [],
   "source": [
    "# Convert date columns to datetime objects\n",
    "album_df = album_df.withColumn(\"release_date\", to_date(album_df[\"release_date\"], \"yyyy-MM-dd\").cast(DateType()))\n",
    "song_df = song_df.withColumn(\"song_added\", to_date(song_df[\"song_added\"], \"yyyy-MM-dd\").cast(DateType()))\n"
   ]
  }
 ],
 "metadata": {
  "kernelspec": {
   "display_name": "Python 3",
   "language": "python",
   "name": "python3"
  },
  "language_info": {
   "codemirror_mode": {
    "name": "ipython",
    "version": 3
   },
   "file_extension": ".py",
   "mimetype": "text/x-python",
   "name": "python",
   "nbconvert_exporter": "python",
   "pygments_lexer": "ipython3",
   "version": "3.11.5"
  },
  "orig_nbformat": 4
 },
 "nbformat": 4,
 "nbformat_minor": 2
}
