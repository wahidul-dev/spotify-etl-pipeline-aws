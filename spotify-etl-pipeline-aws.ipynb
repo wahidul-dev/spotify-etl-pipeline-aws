{
 "cells": [
  {
   "cell_type": "code",
   "execution_count": 1,
   "id": "7f826d2b",
   "metadata": {},
   "outputs": [
    {
     "name": "stdout",
     "output_type": "stream",
     "text": [
      "Collecting spotipy\n",
      "  Downloading spotipy-2.23.0-py3-none-any.whl (29 kB)\n",
      "Requirement already satisfied: urllib3>=1.26.0 in c:\\users\\wahidul\\appdata\\local\\programs\\python\\python310\\lib\\site-packages (from spotipy) (2.0.2)\n",
      "Requirement already satisfied: six>=1.15.0 in c:\\users\\wahidul\\appdata\\local\\programs\\python\\python310\\lib\\site-packages (from spotipy) (1.16.0)\n",
      "Requirement already satisfied: requests>=2.25.0 in c:\\users\\wahidul\\appdata\\local\\programs\\python\\python310\\lib\\site-packages (from spotipy) (2.31.0)\n",
      "Collecting redis>=3.5.3\n",
      "  Downloading redis-4.5.5-py3-none-any.whl (240 kB)\n",
      "     -------------------------------------- 240.3/240.3 kB 1.8 MB/s eta 0:00:00\n",
      "Collecting async-timeout>=4.0.2\n",
      "  Downloading async_timeout-4.0.2-py3-none-any.whl (5.8 kB)\n",
      "Requirement already satisfied: certifi>=2017.4.17 in c:\\users\\wahidul\\appdata\\local\\programs\\python\\python310\\lib\\site-packages (from requests>=2.25.0->spotipy) (2023.5.7)\n",
      "Requirement already satisfied: idna<4,>=2.5 in c:\\users\\wahidul\\appdata\\local\\programs\\python\\python310\\lib\\site-packages (from requests>=2.25.0->spotipy) (3.4)\n",
      "Requirement already satisfied: charset-normalizer<4,>=2 in c:\\users\\wahidul\\appdata\\local\\programs\\python\\python310\\lib\\site-packages (from requests>=2.25.0->spotipy) (3.1.0)\n",
      "Installing collected packages: async-timeout, redis, spotipy\n",
      "Successfully installed async-timeout-4.0.2 redis-4.5.5 spotipy-2.23.0\n"
     ]
    },
    {
     "name": "stderr",
     "output_type": "stream",
     "text": [
      "\n",
      "[notice] A new release of pip available: 22.2.1 -> 23.1.2\n",
      "[notice] To update, run: python.exe -m pip install --upgrade pip\n"
     ]
    }
   ],
   "source": [
    "#!pip install spotipy"
   ]
  },
  {
   "cell_type": "code",
   "execution_count": 112,
   "id": "ce4d1e3c",
   "metadata": {},
   "outputs": [],
   "source": [
    "import spotipy\n",
    "from spotipy.oauth2 import SpotifyClientCredentials\n",
    "from datetime import datetime"
   ]
  },
  {
   "cell_type": "code",
   "execution_count": 4,
   "id": "cde5936d",
   "metadata": {},
   "outputs": [],
   "source": [
    "client_credentials_manager = SpotifyClientCredentials(client_id=\"43964785e73c43698f52de9f8ea49068\", client_secret=\"b5c8bf24d8454f50a9fdb8fa86f0d92c\")"
   ]
  },
  {
   "cell_type": "code",
   "execution_count": 5,
   "id": "9ba38815",
   "metadata": {},
   "outputs": [],
   "source": [
    "sp = spotipy.Spotify(client_credentials_manager = client_credentials_manager )"
   ]
  },
  {
   "cell_type": "code",
   "execution_count": 6,
   "id": "24f720ff",
   "metadata": {},
   "outputs": [],
   "source": [
    "playlist_link = \"https://open.spotify.com/playlist/37i9dQZEVXbLiRSasKsNU9\""
   ]
  },
  {
   "cell_type": "code",
   "execution_count": 10,
   "id": "e028bd80",
   "metadata": {},
   "outputs": [],
   "source": [
    "playlist_URI = playlist_link.split(\"/\")[-1]"
   ]
  },
  {
   "cell_type": "code",
   "execution_count": 12,
   "id": "9a0ded84",
   "metadata": {},
   "outputs": [],
   "source": [
    "data = sp.playlist_tracks(playlist_URI)"
   ]
  },
  {
   "cell_type": "code",
   "execution_count": 14,
   "id": "4901b967",
   "metadata": {},
   "outputs": [
    {
     "data": {
      "text/plain": [
       "{'added_at': '2023-05-26T11:07:10Z',\n",
       " 'added_by': {'external_urls': {'spotify': 'https://open.spotify.com/user/'},\n",
       "  'href': 'https://api.spotify.com/v1/users/',\n",
       "  'id': '',\n",
       "  'type': 'user',\n",
       "  'uri': 'spotify:user:'},\n",
       " 'is_local': False,\n",
       " 'primary_color': None,\n",
       " 'track': {'album': {'album_type': 'single',\n",
       "   'artists': [{'external_urls': {'spotify': 'https://open.spotify.com/artist/34gAaWeYZoRER7MY3KBy1Q'},\n",
       "     'href': 'https://api.spotify.com/v1/artists/34gAaWeYZoRER7MY3KBy1Q',\n",
       "     'id': '34gAaWeYZoRER7MY3KBy1Q',\n",
       "     'name': 'Riar Saab',\n",
       "     'type': 'artist',\n",
       "     'uri': 'spotify:artist:34gAaWeYZoRER7MY3KBy1Q'},\n",
       "    {'external_urls': {'spotify': 'https://open.spotify.com/artist/3x1jBMHHrDUQbtRrvV78h2'},\n",
       "     'href': 'https://api.spotify.com/v1/artists/3x1jBMHHrDUQbtRrvV78h2',\n",
       "     'id': '3x1jBMHHrDUQbtRrvV78h2',\n",
       "     'name': 'Abhijay Sharma',\n",
       "     'type': 'artist',\n",
       "     'uri': 'spotify:artist:3x1jBMHHrDUQbtRrvV78h2'}],\n",
       "   'available_markets': ['AD',\n",
       "    'AE',\n",
       "    'AG',\n",
       "    'AL',\n",
       "    'AM',\n",
       "    'AO',\n",
       "    'AR',\n",
       "    'AT',\n",
       "    'AU',\n",
       "    'AZ',\n",
       "    'BA',\n",
       "    'BB',\n",
       "    'BD',\n",
       "    'BE',\n",
       "    'BF',\n",
       "    'BG',\n",
       "    'BH',\n",
       "    'BI',\n",
       "    'BJ',\n",
       "    'BN',\n",
       "    'BO',\n",
       "    'BR',\n",
       "    'BS',\n",
       "    'BT',\n",
       "    'BW',\n",
       "    'BY',\n",
       "    'BZ',\n",
       "    'CA',\n",
       "    'CD',\n",
       "    'CG',\n",
       "    'CH',\n",
       "    'CI',\n",
       "    'CL',\n",
       "    'CM',\n",
       "    'CO',\n",
       "    'CR',\n",
       "    'CV',\n",
       "    'CW',\n",
       "    'CY',\n",
       "    'CZ',\n",
       "    'DE',\n",
       "    'DJ',\n",
       "    'DK',\n",
       "    'DM',\n",
       "    'DO',\n",
       "    'DZ',\n",
       "    'EC',\n",
       "    'EE',\n",
       "    'EG',\n",
       "    'ES',\n",
       "    'ET',\n",
       "    'FI',\n",
       "    'FJ',\n",
       "    'FM',\n",
       "    'FR',\n",
       "    'GA',\n",
       "    'GB',\n",
       "    'GD',\n",
       "    'GE',\n",
       "    'GH',\n",
       "    'GM',\n",
       "    'GN',\n",
       "    'GQ',\n",
       "    'GR',\n",
       "    'GT',\n",
       "    'GW',\n",
       "    'GY',\n",
       "    'HK',\n",
       "    'HN',\n",
       "    'HR',\n",
       "    'HT',\n",
       "    'HU',\n",
       "    'ID',\n",
       "    'IE',\n",
       "    'IL',\n",
       "    'IN',\n",
       "    'IQ',\n",
       "    'IS',\n",
       "    'IT',\n",
       "    'JM',\n",
       "    'JO',\n",
       "    'JP',\n",
       "    'KE',\n",
       "    'KG',\n",
       "    'KH',\n",
       "    'KI',\n",
       "    'KM',\n",
       "    'KN',\n",
       "    'KR',\n",
       "    'KW',\n",
       "    'KZ',\n",
       "    'LA',\n",
       "    'LB',\n",
       "    'LC',\n",
       "    'LI',\n",
       "    'LK',\n",
       "    'LR',\n",
       "    'LS',\n",
       "    'LT',\n",
       "    'LU',\n",
       "    'LV',\n",
       "    'LY',\n",
       "    'MA',\n",
       "    'MC',\n",
       "    'MD',\n",
       "    'ME',\n",
       "    'MG',\n",
       "    'MH',\n",
       "    'MK',\n",
       "    'ML',\n",
       "    'MN',\n",
       "    'MO',\n",
       "    'MR',\n",
       "    'MT',\n",
       "    'MU',\n",
       "    'MV',\n",
       "    'MW',\n",
       "    'MX',\n",
       "    'MY',\n",
       "    'MZ',\n",
       "    'NA',\n",
       "    'NE',\n",
       "    'NG',\n",
       "    'NI',\n",
       "    'NL',\n",
       "    'NO',\n",
       "    'NP',\n",
       "    'NR',\n",
       "    'NZ',\n",
       "    'OM',\n",
       "    'PA',\n",
       "    'PE',\n",
       "    'PG',\n",
       "    'PH',\n",
       "    'PK',\n",
       "    'PL',\n",
       "    'PS',\n",
       "    'PT',\n",
       "    'PW',\n",
       "    'PY',\n",
       "    'QA',\n",
       "    'RO',\n",
       "    'RS',\n",
       "    'RW',\n",
       "    'SA',\n",
       "    'SB',\n",
       "    'SC',\n",
       "    'SE',\n",
       "    'SG',\n",
       "    'SI',\n",
       "    'SK',\n",
       "    'SL',\n",
       "    'SM',\n",
       "    'SN',\n",
       "    'SR',\n",
       "    'ST',\n",
       "    'SV',\n",
       "    'SZ',\n",
       "    'TD',\n",
       "    'TG',\n",
       "    'TH',\n",
       "    'TJ',\n",
       "    'TL',\n",
       "    'TN',\n",
       "    'TO',\n",
       "    'TR',\n",
       "    'TT',\n",
       "    'TV',\n",
       "    'TW',\n",
       "    'TZ',\n",
       "    'UA',\n",
       "    'UG',\n",
       "    'US',\n",
       "    'UY',\n",
       "    'UZ',\n",
       "    'VC',\n",
       "    'VE',\n",
       "    'VN',\n",
       "    'VU',\n",
       "    'WS',\n",
       "    'XK',\n",
       "    'ZA',\n",
       "    'ZM',\n",
       "    'ZW'],\n",
       "   'external_urls': {'spotify': 'https://open.spotify.com/album/3LyafXRRJVEfcjTMr1N8Mu'},\n",
       "   'href': 'https://api.spotify.com/v1/albums/3LyafXRRJVEfcjTMr1N8Mu',\n",
       "   'id': '3LyafXRRJVEfcjTMr1N8Mu',\n",
       "   'images': [{'height': 640,\n",
       "     'url': 'https://i.scdn.co/image/ab67616d0000b273a90a3cbabaee190af2f972bf',\n",
       "     'width': 640},\n",
       "    {'height': 300,\n",
       "     'url': 'https://i.scdn.co/image/ab67616d00001e02a90a3cbabaee190af2f972bf',\n",
       "     'width': 300},\n",
       "    {'height': 64,\n",
       "     'url': 'https://i.scdn.co/image/ab67616d00004851a90a3cbabaee190af2f972bf',\n",
       "     'width': 64}],\n",
       "   'name': 'Obsessed',\n",
       "   'release_date': '2022-09-29',\n",
       "   'release_date_precision': 'day',\n",
       "   'total_tracks': 1,\n",
       "   'type': 'album',\n",
       "   'uri': 'spotify:album:3LyafXRRJVEfcjTMr1N8Mu'},\n",
       "  'artists': [{'external_urls': {'spotify': 'https://open.spotify.com/artist/34gAaWeYZoRER7MY3KBy1Q'},\n",
       "    'href': 'https://api.spotify.com/v1/artists/34gAaWeYZoRER7MY3KBy1Q',\n",
       "    'id': '34gAaWeYZoRER7MY3KBy1Q',\n",
       "    'name': 'Riar Saab',\n",
       "    'type': 'artist',\n",
       "    'uri': 'spotify:artist:34gAaWeYZoRER7MY3KBy1Q'},\n",
       "   {'external_urls': {'spotify': 'https://open.spotify.com/artist/3x1jBMHHrDUQbtRrvV78h2'},\n",
       "    'href': 'https://api.spotify.com/v1/artists/3x1jBMHHrDUQbtRrvV78h2',\n",
       "    'id': '3x1jBMHHrDUQbtRrvV78h2',\n",
       "    'name': 'Abhijay Sharma',\n",
       "    'type': 'artist',\n",
       "    'uri': 'spotify:artist:3x1jBMHHrDUQbtRrvV78h2'}],\n",
       "  'available_markets': ['AR',\n",
       "   'AU',\n",
       "   'AT',\n",
       "   'BE',\n",
       "   'BO',\n",
       "   'BR',\n",
       "   'BG',\n",
       "   'CA',\n",
       "   'CL',\n",
       "   'CO',\n",
       "   'CR',\n",
       "   'CY',\n",
       "   'CZ',\n",
       "   'DK',\n",
       "   'DO',\n",
       "   'DE',\n",
       "   'EC',\n",
       "   'EE',\n",
       "   'SV',\n",
       "   'FI',\n",
       "   'FR',\n",
       "   'GR',\n",
       "   'GT',\n",
       "   'HN',\n",
       "   'HK',\n",
       "   'HU',\n",
       "   'IS',\n",
       "   'IE',\n",
       "   'IT',\n",
       "   'LV',\n",
       "   'LT',\n",
       "   'LU',\n",
       "   'MY',\n",
       "   'MT',\n",
       "   'MX',\n",
       "   'NL',\n",
       "   'NZ',\n",
       "   'NI',\n",
       "   'NO',\n",
       "   'PA',\n",
       "   'PY',\n",
       "   'PE',\n",
       "   'PH',\n",
       "   'PL',\n",
       "   'PT',\n",
       "   'SG',\n",
       "   'SK',\n",
       "   'ES',\n",
       "   'SE',\n",
       "   'CH',\n",
       "   'TW',\n",
       "   'TR',\n",
       "   'UY',\n",
       "   'US',\n",
       "   'GB',\n",
       "   'AD',\n",
       "   'LI',\n",
       "   'MC',\n",
       "   'ID',\n",
       "   'JP',\n",
       "   'TH',\n",
       "   'VN',\n",
       "   'RO',\n",
       "   'IL',\n",
       "   'ZA',\n",
       "   'SA',\n",
       "   'AE',\n",
       "   'BH',\n",
       "   'QA',\n",
       "   'OM',\n",
       "   'KW',\n",
       "   'EG',\n",
       "   'MA',\n",
       "   'DZ',\n",
       "   'TN',\n",
       "   'LB',\n",
       "   'JO',\n",
       "   'PS',\n",
       "   'IN',\n",
       "   'BY',\n",
       "   'KZ',\n",
       "   'MD',\n",
       "   'UA',\n",
       "   'AL',\n",
       "   'BA',\n",
       "   'HR',\n",
       "   'ME',\n",
       "   'MK',\n",
       "   'RS',\n",
       "   'SI',\n",
       "   'KR',\n",
       "   'BD',\n",
       "   'PK',\n",
       "   'LK',\n",
       "   'GH',\n",
       "   'KE',\n",
       "   'NG',\n",
       "   'TZ',\n",
       "   'UG',\n",
       "   'AG',\n",
       "   'AM',\n",
       "   'BS',\n",
       "   'BB',\n",
       "   'BZ',\n",
       "   'BT',\n",
       "   'BW',\n",
       "   'BF',\n",
       "   'CV',\n",
       "   'CW',\n",
       "   'DM',\n",
       "   'FJ',\n",
       "   'GM',\n",
       "   'GE',\n",
       "   'GD',\n",
       "   'GW',\n",
       "   'GY',\n",
       "   'HT',\n",
       "   'JM',\n",
       "   'KI',\n",
       "   'LS',\n",
       "   'LR',\n",
       "   'MW',\n",
       "   'MV',\n",
       "   'ML',\n",
       "   'MH',\n",
       "   'FM',\n",
       "   'NA',\n",
       "   'NR',\n",
       "   'NE',\n",
       "   'PW',\n",
       "   'PG',\n",
       "   'WS',\n",
       "   'SM',\n",
       "   'ST',\n",
       "   'SN',\n",
       "   'SC',\n",
       "   'SL',\n",
       "   'SB',\n",
       "   'KN',\n",
       "   'LC',\n",
       "   'VC',\n",
       "   'SR',\n",
       "   'TL',\n",
       "   'TO',\n",
       "   'TT',\n",
       "   'TV',\n",
       "   'VU',\n",
       "   'AZ',\n",
       "   'BN',\n",
       "   'BI',\n",
       "   'KH',\n",
       "   'CM',\n",
       "   'TD',\n",
       "   'KM',\n",
       "   'GQ',\n",
       "   'SZ',\n",
       "   'GA',\n",
       "   'GN',\n",
       "   'KG',\n",
       "   'LA',\n",
       "   'MO',\n",
       "   'MR',\n",
       "   'MN',\n",
       "   'NP',\n",
       "   'RW',\n",
       "   'TG',\n",
       "   'UZ',\n",
       "   'ZW',\n",
       "   'BJ',\n",
       "   'MG',\n",
       "   'MU',\n",
       "   'MZ',\n",
       "   'AO',\n",
       "   'CI',\n",
       "   'DJ',\n",
       "   'ZM',\n",
       "   'CD',\n",
       "   'CG',\n",
       "   'IQ',\n",
       "   'LY',\n",
       "   'TJ',\n",
       "   'VE',\n",
       "   'ET',\n",
       "   'XK'],\n",
       "  'disc_number': 1,\n",
       "  'duration_ms': 190444,\n",
       "  'episode': False,\n",
       "  'explicit': False,\n",
       "  'external_ids': {'isrc': 'QMBZ92299094'},\n",
       "  'external_urls': {'spotify': 'https://open.spotify.com/track/6Z4rRhYZVQsYKmrxD40tru'},\n",
       "  'href': 'https://api.spotify.com/v1/tracks/6Z4rRhYZVQsYKmrxD40tru',\n",
       "  'id': '6Z4rRhYZVQsYKmrxD40tru',\n",
       "  'is_local': False,\n",
       "  'name': 'Obsessed',\n",
       "  'popularity': 76,\n",
       "  'preview_url': 'https://p.scdn.co/mp3-preview/c746dd0423322ccabefaefe9d04ceb9064ace14e?cid=43964785e73c43698f52de9f8ea49068',\n",
       "  'track': True,\n",
       "  'track_number': 1,\n",
       "  'type': 'track',\n",
       "  'uri': 'spotify:track:6Z4rRhYZVQsYKmrxD40tru'},\n",
       " 'video_thumbnail': {'url': None}}"
      ]
     },
     "execution_count": 14,
     "metadata": {},
     "output_type": "execute_result"
    }
   ],
   "source": [
    "data['items'][0]"
   ]
  },
  {
   "cell_type": "code",
   "execution_count": 50,
   "id": "d01f3573",
   "metadata": {},
   "outputs": [
    {
     "data": {
      "text/plain": [
       "50"
      ]
     },
     "execution_count": 50,
     "metadata": {},
     "output_type": "execute_result"
    }
   ],
   "source": [
    "item_len = len(data['items'])\n",
    "item_len"
   ]
  },
  {
   "cell_type": "code",
   "execution_count": 20,
   "id": "0c5c3866",
   "metadata": {},
   "outputs": [
    {
     "data": {
      "text/plain": [
       "'single'"
      ]
     },
     "execution_count": 20,
     "metadata": {},
     "output_type": "execute_result"
    }
   ],
   "source": [
    "album_type = data['items'][0]['track']['album']['album_type']"
   ]
  },
  {
   "cell_type": "code",
   "execution_count": 71,
   "id": "f9837d8d",
   "metadata": {},
   "outputs": [
    {
     "name": "stdout",
     "output_type": "stream",
     "text": [
      "single\n",
      "single\n",
      "single\n",
      "single\n",
      "single\n",
      "album\n",
      "album\n",
      "single\n",
      "single\n",
      "single\n",
      "single\n",
      "single\n",
      "single\n",
      "single\n",
      "single\n",
      "album\n",
      "single\n",
      "album\n",
      "single\n",
      "single\n",
      "single\n",
      "single\n",
      "single\n",
      "single\n",
      "single\n",
      "single\n",
      "single\n",
      "single\n",
      "single\n",
      "single\n",
      "single\n",
      "album\n",
      "single\n",
      "single\n",
      "single\n",
      "single\n",
      "single\n",
      "single\n",
      "album\n",
      "single\n",
      "album\n",
      "single\n",
      "single\n",
      "album\n",
      "single\n",
      "album\n",
      "single\n",
      "single\n",
      "album\n",
      "single\n"
     ]
    }
   ],
   "source": [
    "for item in range(item_len):\n",
    "    print(data['items'][item]['track']['album']['album_type'])"
   ]
  },
  {
   "cell_type": "code",
   "execution_count": 55,
   "id": "1c85b2f7",
   "metadata": {},
   "outputs": [
    {
     "data": {
      "text/plain": [
       "2"
      ]
     },
     "execution_count": 55,
     "metadata": {},
     "output_type": "execute_result"
    }
   ],
   "source": [
    "artist_count = len(data['items'][0]['track']['album']['artists'])\n",
    "artist_count"
   ]
  },
  {
   "cell_type": "code",
   "execution_count": 72,
   "id": "0503a4c9",
   "metadata": {},
   "outputs": [
    {
     "name": "stdout",
     "output_type": "stream",
     "text": [
      "single 2\n",
      "single 1\n",
      "single 1\n",
      "single 1\n",
      "single 1\n",
      "album 1\n",
      "album 1\n",
      "single 1\n",
      "single 1\n",
      "single 3\n",
      "single 1\n",
      "single 1\n",
      "single 1\n",
      "single 1\n",
      "single 1\n",
      "album 1\n",
      "single 1\n",
      "album 1\n",
      "single 1\n",
      "single 1\n",
      "single 2\n",
      "single 1\n",
      "single 1\n",
      "single 1\n",
      "single 1\n",
      "single 2\n",
      "single 2\n",
      "single 1\n",
      "single 1\n",
      "single 1\n",
      "single 2\n",
      "album 1\n",
      "single 2\n",
      "single 1\n",
      "single 2\n",
      "single 3\n",
      "single 1\n",
      "single 1\n",
      "album 1\n",
      "single 1\n",
      "album 1\n",
      "single 1\n",
      "single 1\n",
      "album 1\n",
      "single 2\n",
      "album 1\n",
      "single 1\n",
      "single 2\n",
      "album 2\n",
      "single 1\n"
     ]
    }
   ],
   "source": [
    "for item in range(item_len):\n",
    "    print(f\"{data['items'][item]['track']['album']['album_type']} {len(data['items'][item]['track']['album']['artists'])}\")"
   ]
  },
  {
   "cell_type": "code",
   "execution_count": 54,
   "id": "551c412f",
   "metadata": {},
   "outputs": [
    {
     "data": {
      "text/plain": [
       "'https://open.spotify.com/artist/34gAaWeYZoRER7MY3KBy1Q'"
      ]
     },
     "execution_count": 54,
     "metadata": {},
     "output_type": "execute_result"
    }
   ],
   "source": [
    "artist_url = data['items'][0]['track']['album']['artists'][0]['external_urls']['spotify']\n",
    "artist_url"
   ]
  },
  {
   "cell_type": "code",
   "execution_count": 85,
   "id": "6cb53f7e",
   "metadata": {},
   "outputs": [
    {
     "name": "stdout",
     "output_type": "stream",
     "text": [
      "1\n",
      "https://open.spotify.com/artist/34gAaWeYZoRER7MY3KBy1Q\n",
      "2\n",
      "https://open.spotify.com/artist/3x1jBMHHrDUQbtRrvV78h2\n",
      "1\n",
      "https://open.spotify.com/artist/6c5OFegHscPZXitA884R1b\n",
      "1\n",
      "https://open.spotify.com/artist/6LkMGN0t3HDNL8hIvma70r\n",
      "1\n",
      "https://open.spotify.com/artist/3HsVtnnjOUToyJThxaoBfx\n",
      "1\n",
      "https://open.spotify.com/artist/5japL3H3OQvvJfhtsNh3eU\n",
      "1\n",
      "https://open.spotify.com/artist/2MyhU8E2SRCcHIN6FtagQR\n",
      "1\n",
      "https://open.spotify.com/artist/7J9o5Hdc4fNz21SsIBztYK\n",
      "1\n",
      "https://open.spotify.com/artist/7iNrvS80wnHDGVxw3qNRiI\n",
      "1\n",
      "https://open.spotify.com/artist/2R7bETtmp3iXexpYAzXrKm\n",
      "1\n",
      "https://open.spotify.com/artist/1jt8MU2um5rIprsn87sDtR\n",
      "2\n",
      "https://open.spotify.com/artist/1X842P1hBNRnwsuy0e3DLS\n",
      "3\n",
      "https://open.spotify.com/artist/4q3N2WZiTq26rLMdpIGRgP\n",
      "1\n",
      "https://open.spotify.com/artist/7ITMCzIU9uII8gwRg8JAhc\n",
      "1\n",
      "https://open.spotify.com/artist/1YRqgFNXqRyMDRr8ClS1NL\n",
      "1\n",
      "https://open.spotify.com/artist/33NVpKoXjItPwUJTMZIOiY\n",
      "1\n",
      "https://open.spotify.com/artist/49aaHxvAJ0tCh0F15OnwIl\n",
      "1\n",
      "https://open.spotify.com/artist/1I0tv3cE1cDIJvQpHyuCYN\n",
      "1\n",
      "https://open.spotify.com/artist/1zuJe6b1roixEKMOtyrEak\n",
      "1\n",
      "https://open.spotify.com/artist/2ih5M0aTrQ97JX1nZuxDQY\n",
      "1\n",
      "https://open.spotify.com/artist/0XeEobZplHxzM9QzFQWLiR\n",
      "1\n",
      "https://open.spotify.com/artist/7xD76cR2sg2mAH29zBGnks\n",
      "1\n",
      "https://open.spotify.com/artist/0ZNfJyThuy6vLnPEpPaJdf\n",
      "1\n",
      "https://open.spotify.com/artist/7tzELpzPjTq26pa5FT9ykz\n",
      "2\n",
      "https://open.spotify.com/artist/7oxHYIVHNg4JQdKnUe1HiQ\n",
      "1\n",
      "https://open.spotify.com/artist/6fzmobEykeKCwfhH6EsZh4\n",
      "1\n",
      "https://open.spotify.com/artist/4AhHkaGz7W2bKKJK90IaV2\n",
      "1\n",
      "https://open.spotify.com/artist/7ITMCzIU9uII8gwRg8JAhc\n",
      "1\n",
      "https://open.spotify.com/artist/7zAAwgV5Wqmvpb4GzvlRkP\n",
      "1\n",
      "https://open.spotify.com/artist/3o9SkahUjtGQ6U9IU0BjhI\n",
      "2\n",
      "https://open.spotify.com/artist/5uoK1zfpi48x9aKAM8x6pt\n",
      "1\n",
      "https://open.spotify.com/artist/6QoCrBHsojKnOrsGNfRcTN\n",
      "2\n",
      "https://open.spotify.com/artist/5xh6szshoZ0UfZD1x6QzZG\n",
      "1\n",
      "https://open.spotify.com/artist/0q21wtMM1dK3rI2HzCYPui\n",
      "1\n",
      "https://open.spotify.com/artist/4GJ6xDCF5jaUqD6avOuQT6\n",
      "1\n",
      "https://open.spotify.com/artist/4LZrB16vINsCHc28cE6oQo\n",
      "1\n",
      "https://open.spotify.com/artist/1CcZoULzFHa8Uhwo6OlQcp\n",
      "2\n",
      "https://open.spotify.com/artist/0Dl0DuG2pk6VWJ3XLKcvt3\n",
      "1\n",
      "https://open.spotify.com/artist/0DjAjUeZwSixK0dRwplBXb\n",
      "1\n",
      "https://open.spotify.com/artist/51ZSh80McCt7vbqHouzW0A\n",
      "2\n",
      "https://open.spotify.com/artist/6XkjpgcEsYab502Vr1bBeW\n",
      "1\n",
      "https://open.spotify.com/artist/74slMAMk8L6oMf6OhNyZ8Q\n",
      "1\n",
      "https://open.spotify.com/artist/6XkjpgcEsYab502Vr1bBeW\n",
      "2\n",
      "https://open.spotify.com/artist/4q3ewBCX7sLwd24euuV69X\n",
      "1\n",
      "https://open.spotify.com/artist/4Ley0K7c2keTiOW0Jpam5g\n",
      "2\n",
      "https://open.spotify.com/artist/4SKWDIWfEZbyMI8gzeeoXO\n",
      "3\n",
      "https://open.spotify.com/artist/0bg3fNpRQgZTCAg3Bseyly\n",
      "1\n",
      "https://open.spotify.com/artist/64tJ2EAv1R6UaZqc4iOCyj\n",
      "1\n",
      "https://open.spotify.com/artist/4E2rKHVDssGJm2SCDOMMJB\n",
      "1\n",
      "https://open.spotify.com/artist/1zuJe6b1roixEKMOtyrEak\n",
      "1\n",
      "https://open.spotify.com/artist/1mXD3HVrObKWyjMvRjfsXp\n",
      "1\n",
      "https://open.spotify.com/artist/4SpbR6yFEvexJuaBpgAU5p\n",
      "1\n",
      "https://open.spotify.com/artist/4gs82a9ZgG2faut653OMRD\n",
      "1\n",
      "https://open.spotify.com/artist/1JvbNeV9zG9Sew1JyaWsyx\n",
      "1\n",
      "https://open.spotify.com/artist/4QVBYiagIaa6ZGSPMbybpy\n",
      "1\n",
      "https://open.spotify.com/artist/4M207MF4iyxBGBXzx5HL3p\n",
      "2\n",
      "https://open.spotify.com/artist/21delmj7yVs6NDL6o1CPbk\n",
      "1\n",
      "https://open.spotify.com/artist/6udveWUgX4vu75FF0DTrXV\n",
      "1\n",
      "https://open.spotify.com/artist/55L5ivgJXuhhrPw3pdEph7\n",
      "1\n",
      "https://open.spotify.com/artist/1EPZusBDP8yewhsaKtwktz\n",
      "2\n",
      "https://open.spotify.com/artist/6q1sTU51oryTTcWTPTd0VC\n",
      "1\n",
      "https://open.spotify.com/artist/0KOSzgkMlkeowt1tgIg6ca\n",
      "2\n",
      "https://open.spotify.com/artist/3NPQ2qMGXAR0g1COJxuZ8r\n",
      "1\n",
      "https://open.spotify.com/artist/7nqOGRxlXj7N2JYbgNEjYH\n"
     ]
    }
   ],
   "source": [
    "for item in range(item_len):\n",
    "    artist_len = len(data['items'][item]['track']['album']['artists'])\n",
    "    for artist in range(artist_len):\n",
    "        print(data['items'][item]['track']['album']['artists'][artist]['external_urls']['spotify'])\n",
    "    \n",
    "    "
   ]
  },
  {
   "cell_type": "code",
   "execution_count": 87,
   "id": "c7392ad1",
   "metadata": {},
   "outputs": [
    {
     "data": {
      "text/plain": [
       "'artist'"
      ]
     },
     "execution_count": 87,
     "metadata": {},
     "output_type": "execute_result"
    }
   ],
   "source": [
    "data['items'][0]['track']['album']['artists'][0][\"type\"]"
   ]
  },
  {
   "cell_type": "code",
   "execution_count": 88,
   "id": "66a2bcab",
   "metadata": {},
   "outputs": [
    {
     "name": "stdout",
     "output_type": "stream",
     "text": [
      "artist\n",
      "artist\n",
      "artist\n",
      "artist\n",
      "artist\n",
      "artist\n",
      "artist\n",
      "artist\n",
      "artist\n",
      "artist\n",
      "artist\n",
      "artist\n",
      "artist\n",
      "artist\n",
      "artist\n",
      "artist\n",
      "artist\n",
      "artist\n",
      "artist\n",
      "artist\n",
      "artist\n",
      "artist\n",
      "artist\n",
      "artist\n",
      "artist\n",
      "artist\n",
      "artist\n",
      "artist\n",
      "artist\n",
      "artist\n",
      "artist\n",
      "artist\n",
      "artist\n",
      "artist\n",
      "artist\n",
      "artist\n",
      "artist\n",
      "artist\n",
      "artist\n",
      "artist\n",
      "artist\n",
      "artist\n",
      "artist\n",
      "artist\n",
      "artist\n",
      "artist\n",
      "artist\n",
      "artist\n",
      "artist\n",
      "artist\n",
      "artist\n",
      "artist\n",
      "artist\n",
      "artist\n",
      "artist\n",
      "artist\n",
      "artist\n",
      "artist\n",
      "artist\n",
      "artist\n",
      "artist\n",
      "artist\n",
      "artist\n",
      "artist\n"
     ]
    }
   ],
   "source": [
    "for item in range(item_len):\n",
    "    artist_len = len(data['items'][item]['track']['album']['artists'])\n",
    "    for artist in range(artist_len):\n",
    "        print(data['items'][item]['track']['album']['artists'][artist]['type'])"
   ]
  },
  {
   "cell_type": "code",
   "execution_count": 89,
   "id": "1e96d43e",
   "metadata": {},
   "outputs": [
    {
     "data": {
      "text/plain": [
       "'Riar Saab'"
      ]
     },
     "execution_count": 89,
     "metadata": {},
     "output_type": "execute_result"
    }
   ],
   "source": [
    "artist_name = data['items'][0]['track']['album']['artists'][0][\"name\"]\n",
    "artist_name"
   ]
  },
  {
   "cell_type": "code",
   "execution_count": 90,
   "id": "633e9c88",
   "metadata": {},
   "outputs": [
    {
     "data": {
      "text/plain": [
       "'34gAaWeYZoRER7MY3KBy1Q'"
      ]
     },
     "execution_count": 90,
     "metadata": {},
     "output_type": "execute_result"
    }
   ],
   "source": [
    "artist_id = data['items'][0]['track']['album']['artists'][0][\"id\"]\n",
    "artist_id"
   ]
  },
  {
   "cell_type": "code",
   "execution_count": 91,
   "id": "48f50470",
   "metadata": {},
   "outputs": [
    {
     "data": {
      "text/plain": [
       "['AD',\n",
       " 'AE',\n",
       " 'AG',\n",
       " 'AL',\n",
       " 'AM',\n",
       " 'AO',\n",
       " 'AR',\n",
       " 'AT',\n",
       " 'AU',\n",
       " 'AZ',\n",
       " 'BA',\n",
       " 'BB',\n",
       " 'BD',\n",
       " 'BE',\n",
       " 'BF',\n",
       " 'BG',\n",
       " 'BH',\n",
       " 'BI',\n",
       " 'BJ',\n",
       " 'BN',\n",
       " 'BO',\n",
       " 'BR',\n",
       " 'BS',\n",
       " 'BT',\n",
       " 'BW',\n",
       " 'BY',\n",
       " 'BZ',\n",
       " 'CA',\n",
       " 'CD',\n",
       " 'CG',\n",
       " 'CH',\n",
       " 'CI',\n",
       " 'CL',\n",
       " 'CM',\n",
       " 'CO',\n",
       " 'CR',\n",
       " 'CV',\n",
       " 'CW',\n",
       " 'CY',\n",
       " 'CZ',\n",
       " 'DE',\n",
       " 'DJ',\n",
       " 'DK',\n",
       " 'DM',\n",
       " 'DO',\n",
       " 'DZ',\n",
       " 'EC',\n",
       " 'EE',\n",
       " 'EG',\n",
       " 'ES',\n",
       " 'ET',\n",
       " 'FI',\n",
       " 'FJ',\n",
       " 'FM',\n",
       " 'FR',\n",
       " 'GA',\n",
       " 'GB',\n",
       " 'GD',\n",
       " 'GE',\n",
       " 'GH',\n",
       " 'GM',\n",
       " 'GN',\n",
       " 'GQ',\n",
       " 'GR',\n",
       " 'GT',\n",
       " 'GW',\n",
       " 'GY',\n",
       " 'HK',\n",
       " 'HN',\n",
       " 'HR',\n",
       " 'HT',\n",
       " 'HU',\n",
       " 'ID',\n",
       " 'IE',\n",
       " 'IL',\n",
       " 'IN',\n",
       " 'IQ',\n",
       " 'IS',\n",
       " 'IT',\n",
       " 'JM',\n",
       " 'JO',\n",
       " 'JP',\n",
       " 'KE',\n",
       " 'KG',\n",
       " 'KH',\n",
       " 'KI',\n",
       " 'KM',\n",
       " 'KN',\n",
       " 'KR',\n",
       " 'KW',\n",
       " 'KZ',\n",
       " 'LA',\n",
       " 'LB',\n",
       " 'LC',\n",
       " 'LI',\n",
       " 'LK',\n",
       " 'LR',\n",
       " 'LS',\n",
       " 'LT',\n",
       " 'LU',\n",
       " 'LV',\n",
       " 'LY',\n",
       " 'MA',\n",
       " 'MC',\n",
       " 'MD',\n",
       " 'ME',\n",
       " 'MG',\n",
       " 'MH',\n",
       " 'MK',\n",
       " 'ML',\n",
       " 'MN',\n",
       " 'MO',\n",
       " 'MR',\n",
       " 'MT',\n",
       " 'MU',\n",
       " 'MV',\n",
       " 'MW',\n",
       " 'MX',\n",
       " 'MY',\n",
       " 'MZ',\n",
       " 'NA',\n",
       " 'NE',\n",
       " 'NG',\n",
       " 'NI',\n",
       " 'NL',\n",
       " 'NO',\n",
       " 'NP',\n",
       " 'NR',\n",
       " 'NZ',\n",
       " 'OM',\n",
       " 'PA',\n",
       " 'PE',\n",
       " 'PG',\n",
       " 'PH',\n",
       " 'PK',\n",
       " 'PL',\n",
       " 'PS',\n",
       " 'PT',\n",
       " 'PW',\n",
       " 'PY',\n",
       " 'QA',\n",
       " 'RO',\n",
       " 'RS',\n",
       " 'RW',\n",
       " 'SA',\n",
       " 'SB',\n",
       " 'SC',\n",
       " 'SE',\n",
       " 'SG',\n",
       " 'SI',\n",
       " 'SK',\n",
       " 'SL',\n",
       " 'SM',\n",
       " 'SN',\n",
       " 'SR',\n",
       " 'ST',\n",
       " 'SV',\n",
       " 'SZ',\n",
       " 'TD',\n",
       " 'TG',\n",
       " 'TH',\n",
       " 'TJ',\n",
       " 'TL',\n",
       " 'TN',\n",
       " 'TO',\n",
       " 'TR',\n",
       " 'TT',\n",
       " 'TV',\n",
       " 'TW',\n",
       " 'TZ',\n",
       " 'UA',\n",
       " 'UG',\n",
       " 'US',\n",
       " 'UY',\n",
       " 'UZ',\n",
       " 'VC',\n",
       " 'VE',\n",
       " 'VN',\n",
       " 'VU',\n",
       " 'WS',\n",
       " 'XK',\n",
       " 'ZA',\n",
       " 'ZM',\n",
       " 'ZW']"
      ]
     },
     "execution_count": 91,
     "metadata": {},
     "output_type": "execute_result"
    }
   ],
   "source": [
    "available_markets = data['items'][0]['track']['album'][\"available_markets\"]\n",
    "available_markets"
   ]
  },
  {
   "cell_type": "code",
   "execution_count": 94,
   "id": "1b2443fc",
   "metadata": {},
   "outputs": [
    {
     "data": {
      "text/plain": [
       "'https://open.spotify.com/album/3LyafXRRJVEfcjTMr1N8Mu'"
      ]
     },
     "execution_count": 94,
     "metadata": {},
     "output_type": "execute_result"
    }
   ],
   "source": [
    "album_url = data['items'][0]['track']['album']['external_urls']['spotify']\n",
    "album_url"
   ]
  },
  {
   "cell_type": "code",
   "execution_count": 95,
   "id": "b5155b67",
   "metadata": {},
   "outputs": [
    {
     "data": {
      "text/plain": [
       "'3LyafXRRJVEfcjTMr1N8Mu'"
      ]
     },
     "execution_count": 95,
     "metadata": {},
     "output_type": "execute_result"
    }
   ],
   "source": [
    "album_id = data['items'][0]['track']['album']['id']\n",
    "album_id"
   ]
  },
  {
   "cell_type": "code",
   "execution_count": 98,
   "id": "34b87321",
   "metadata": {},
   "outputs": [
    {
     "data": {
      "text/plain": [
       "'https://i.scdn.co/image/ab67616d0000b273a90a3cbabaee190af2f972bf'"
      ]
     },
     "execution_count": 98,
     "metadata": {},
     "output_type": "execute_result"
    }
   ],
   "source": [
    "album_image_url = data['items'][0]['track']['album']['images'][0]['url']\n",
    "album_image_url"
   ]
  },
  {
   "cell_type": "code",
   "execution_count": 99,
   "id": "b38cdfb9",
   "metadata": {},
   "outputs": [
    {
     "data": {
      "text/plain": [
       "'Obsessed'"
      ]
     },
     "execution_count": 99,
     "metadata": {},
     "output_type": "execute_result"
    }
   ],
   "source": [
    "album_name = data['items'][0]['track']['album']['name']\n",
    "album_name"
   ]
  },
  {
   "cell_type": "code",
   "execution_count": 100,
   "id": "c7035815",
   "metadata": {},
   "outputs": [
    {
     "data": {
      "text/plain": [
       "'2022-09-29'"
      ]
     },
     "execution_count": 100,
     "metadata": {},
     "output_type": "execute_result"
    }
   ],
   "source": [
    "album_release_date = data['items'][0]['track']['album']['release_date']\n",
    "album_release_date"
   ]
  },
  {
   "cell_type": "code",
   "execution_count": 106,
   "id": "e052bc3f",
   "metadata": {},
   "outputs": [
    {
     "name": "stdout",
     "output_type": "stream",
     "text": [
      "{'album': {'album_type': 'single', 'artists': [{'external_urls': {'spotify': 'https://open.spotify.com/artist/34gAaWeYZoRER7MY3KBy1Q'}, 'href': 'https://api.spotify.com/v1/artists/34gAaWeYZoRER7MY3KBy1Q', 'id': '34gAaWeYZoRER7MY3KBy1Q', 'name': 'Riar Saab', 'type': 'artist', 'uri': 'spotify:artist:34gAaWeYZoRER7MY3KBy1Q'}, {'external_urls': {'spotify': 'https://open.spotify.com/artist/3x1jBMHHrDUQbtRrvV78h2'}, 'href': 'https://api.spotify.com/v1/artists/3x1jBMHHrDUQbtRrvV78h2', 'id': '3x1jBMHHrDUQbtRrvV78h2', 'name': 'Abhijay Sharma', 'type': 'artist', 'uri': 'spotify:artist:3x1jBMHHrDUQbtRrvV78h2'}], 'available_markets': ['AD', 'AE', 'AG', 'AL', 'AM', 'AO', 'AR', 'AT', 'AU', 'AZ', 'BA', 'BB', 'BD', 'BE', 'BF', 'BG', 'BH', 'BI', 'BJ', 'BN', 'BO', 'BR', 'BS', 'BT', 'BW', 'BY', 'BZ', 'CA', 'CD', 'CG', 'CH', 'CI', 'CL', 'CM', 'CO', 'CR', 'CV', 'CW', 'CY', 'CZ', 'DE', 'DJ', 'DK', 'DM', 'DO', 'DZ', 'EC', 'EE', 'EG', 'ES', 'ET', 'FI', 'FJ', 'FM', 'FR', 'GA', 'GB', 'GD', 'GE', 'GH', 'GM', 'GN', 'GQ', 'GR', 'GT', 'GW', 'GY', 'HK', 'HN', 'HR', 'HT', 'HU', 'ID', 'IE', 'IL', 'IN', 'IQ', 'IS', 'IT', 'JM', 'JO', 'JP', 'KE', 'KG', 'KH', 'KI', 'KM', 'KN', 'KR', 'KW', 'KZ', 'LA', 'LB', 'LC', 'LI', 'LK', 'LR', 'LS', 'LT', 'LU', 'LV', 'LY', 'MA', 'MC', 'MD', 'ME', 'MG', 'MH', 'MK', 'ML', 'MN', 'MO', 'MR', 'MT', 'MU', 'MV', 'MW', 'MX', 'MY', 'MZ', 'NA', 'NE', 'NG', 'NI', 'NL', 'NO', 'NP', 'NR', 'NZ', 'OM', 'PA', 'PE', 'PG', 'PH', 'PK', 'PL', 'PS', 'PT', 'PW', 'PY', 'QA', 'RO', 'RS', 'RW', 'SA', 'SB', 'SC', 'SE', 'SG', 'SI', 'SK', 'SL', 'SM', 'SN', 'SR', 'ST', 'SV', 'SZ', 'TD', 'TG', 'TH', 'TJ', 'TL', 'TN', 'TO', 'TR', 'TT', 'TV', 'TW', 'TZ', 'UA', 'UG', 'US', 'UY', 'UZ', 'VC', 'VE', 'VN', 'VU', 'WS', 'XK', 'ZA', 'ZM', 'ZW'], 'external_urls': {'spotify': 'https://open.spotify.com/album/3LyafXRRJVEfcjTMr1N8Mu'}, 'href': 'https://api.spotify.com/v1/albums/3LyafXRRJVEfcjTMr1N8Mu', 'id': '3LyafXRRJVEfcjTMr1N8Mu', 'images': [{'height': 640, 'url': 'https://i.scdn.co/image/ab67616d0000b273a90a3cbabaee190af2f972bf', 'width': 640}, {'height': 300, 'url': 'https://i.scdn.co/image/ab67616d00001e02a90a3cbabaee190af2f972bf', 'width': 300}, {'height': 64, 'url': 'https://i.scdn.co/image/ab67616d00004851a90a3cbabaee190af2f972bf', 'width': 64}], 'name': 'Obsessed', 'release_date': '2022-09-29', 'release_date_precision': 'day', 'total_tracks': 1, 'type': 'album', 'uri': 'spotify:album:3LyafXRRJVEfcjTMr1N8Mu'}, 'artists': [{'external_urls': {'spotify': 'https://open.spotify.com/artist/34gAaWeYZoRER7MY3KBy1Q'}, 'href': 'https://api.spotify.com/v1/artists/34gAaWeYZoRER7MY3KBy1Q', 'id': '34gAaWeYZoRER7MY3KBy1Q', 'name': 'Riar Saab', 'type': 'artist', 'uri': 'spotify:artist:34gAaWeYZoRER7MY3KBy1Q'}, {'external_urls': {'spotify': 'https://open.spotify.com/artist/3x1jBMHHrDUQbtRrvV78h2'}, 'href': 'https://api.spotify.com/v1/artists/3x1jBMHHrDUQbtRrvV78h2', 'id': '3x1jBMHHrDUQbtRrvV78h2', 'name': 'Abhijay Sharma', 'type': 'artist', 'uri': 'spotify:artist:3x1jBMHHrDUQbtRrvV78h2'}], 'available_markets': ['AR', 'AU', 'AT', 'BE', 'BO', 'BR', 'BG', 'CA', 'CL', 'CO', 'CR', 'CY', 'CZ', 'DK', 'DO', 'DE', 'EC', 'EE', 'SV', 'FI', 'FR', 'GR', 'GT', 'HN', 'HK', 'HU', 'IS', 'IE', 'IT', 'LV', 'LT', 'LU', 'MY', 'MT', 'MX', 'NL', 'NZ', 'NI', 'NO', 'PA', 'PY', 'PE', 'PH', 'PL', 'PT', 'SG', 'SK', 'ES', 'SE', 'CH', 'TW', 'TR', 'UY', 'US', 'GB', 'AD', 'LI', 'MC', 'ID', 'JP', 'TH', 'VN', 'RO', 'IL', 'ZA', 'SA', 'AE', 'BH', 'QA', 'OM', 'KW', 'EG', 'MA', 'DZ', 'TN', 'LB', 'JO', 'PS', 'IN', 'BY', 'KZ', 'MD', 'UA', 'AL', 'BA', 'HR', 'ME', 'MK', 'RS', 'SI', 'KR', 'BD', 'PK', 'LK', 'GH', 'KE', 'NG', 'TZ', 'UG', 'AG', 'AM', 'BS', 'BB', 'BZ', 'BT', 'BW', 'BF', 'CV', 'CW', 'DM', 'FJ', 'GM', 'GE', 'GD', 'GW', 'GY', 'HT', 'JM', 'KI', 'LS', 'LR', 'MW', 'MV', 'ML', 'MH', 'FM', 'NA', 'NR', 'NE', 'PW', 'PG', 'WS', 'SM', 'ST', 'SN', 'SC', 'SL', 'SB', 'KN', 'LC', 'VC', 'SR', 'TL', 'TO', 'TT', 'TV', 'VU', 'AZ', 'BN', 'BI', 'KH', 'CM', 'TD', 'KM', 'GQ', 'SZ', 'GA', 'GN', 'KG', 'LA', 'MO', 'MR', 'MN', 'NP', 'RW', 'TG', 'UZ', 'ZW', 'BJ', 'MG', 'MU', 'MZ', 'AO', 'CI', 'DJ', 'ZM', 'CD', 'CG', 'IQ', 'LY', 'TJ', 'VE', 'ET', 'XK'], 'disc_number': 1, 'duration_ms': 190444, 'episode': False, 'explicit': False, 'external_ids': {'isrc': 'QMBZ92299094'}, 'external_urls': {'spotify': 'https://open.spotify.com/track/6Z4rRhYZVQsYKmrxD40tru'}, 'href': 'https://api.spotify.com/v1/tracks/6Z4rRhYZVQsYKmrxD40tru', 'id': '6Z4rRhYZVQsYKmrxD40tru', 'is_local': False, 'name': 'Obsessed', 'popularity': 76, 'preview_url': 'https://p.scdn.co/mp3-preview/c746dd0423322ccabefaefe9d04ceb9064ace14e?cid=43964785e73c43698f52de9f8ea49068', 'track': True, 'track_number': 1, 'type': 'track', 'uri': 'spotify:track:6Z4rRhYZVQsYKmrxD40tru'}\n",
      "{'album': {'album_type': 'single', 'artists': [{'external_urls': {'spotify': 'https://open.spotify.com/artist/6c5OFegHscPZXitA884R1b'}, 'href': 'https://api.spotify.com/v1/artists/6c5OFegHscPZXitA884R1b', 'id': '6c5OFegHscPZXitA884R1b', 'name': 'Paptircem', 'type': 'artist', 'uri': 'spotify:artist:6c5OFegHscPZXitA884R1b'}], 'available_markets': ['AD', 'AE', 'AG', 'AL', 'AM', 'AO', 'AR', 'AT', 'AU', 'AZ', 'BA', 'BB', 'BD', 'BE', 'BF', 'BG', 'BH', 'BI', 'BJ', 'BN', 'BO', 'BR', 'BS', 'BT', 'BW', 'BY', 'BZ', 'CA', 'CD', 'CG', 'CH', 'CI', 'CL', 'CM', 'CO', 'CR', 'CV', 'CW', 'CY', 'CZ', 'DE', 'DJ', 'DK', 'DM', 'DO', 'DZ', 'EC', 'EE', 'EG', 'ES', 'ET', 'FI', 'FJ', 'FM', 'FR', 'GA', 'GB', 'GD', 'GE', 'GH', 'GM', 'GN', 'GQ', 'GR', 'GT', 'GW', 'GY', 'HK', 'HN', 'HR', 'HT', 'HU', 'ID', 'IE', 'IL', 'IN', 'IQ', 'IS', 'IT', 'JM', 'JO', 'JP', 'KE', 'KG', 'KH', 'KI', 'KM', 'KN', 'KR', 'KW', 'KZ', 'LA', 'LB', 'LC', 'LI', 'LK', 'LR', 'LS', 'LT', 'LU', 'LV', 'LY', 'MA', 'MC', 'MD', 'ME', 'MG', 'MH', 'MK', 'ML', 'MN', 'MO', 'MR', 'MT', 'MU', 'MV', 'MW', 'MX', 'MY', 'MZ', 'NA', 'NE', 'NG', 'NI', 'NL', 'NO', 'NP', 'NR', 'NZ', 'OM', 'PA', 'PE', 'PG', 'PH', 'PK', 'PL', 'PS', 'PT', 'PW', 'PY', 'QA', 'RO', 'RS', 'RW', 'SA', 'SB', 'SC', 'SE', 'SG', 'SI', 'SK', 'SL', 'SM', 'SN', 'SR', 'ST', 'SV', 'SZ', 'TD', 'TG', 'TH', 'TJ', 'TL', 'TN', 'TO', 'TR', 'TT', 'TV', 'TW', 'TZ', 'UA', 'UG', 'US', 'UY', 'UZ', 'VC', 'VE', 'VN', 'VU', 'WS', 'XK', 'ZA', 'ZM', 'ZW'], 'external_urls': {'spotify': 'https://open.spotify.com/album/1ZWb1817n5EoBpgjTkCi4S'}, 'href': 'https://api.spotify.com/v1/albums/1ZWb1817n5EoBpgjTkCi4S', 'id': '1ZWb1817n5EoBpgjTkCi4S', 'images': [{'height': 640, 'url': 'https://i.scdn.co/image/ab67616d0000b2734d9b57d49a470cfff5c16e24', 'width': 640}, {'height': 300, 'url': 'https://i.scdn.co/image/ab67616d00001e024d9b57d49a470cfff5c16e24', 'width': 300}, {'height': 64, 'url': 'https://i.scdn.co/image/ab67616d000048514d9b57d49a470cfff5c16e24', 'width': 64}], 'name': 'Padişahım', 'release_date': '2023-04-28', 'release_date_precision': 'day', 'total_tracks': 1, 'type': 'album', 'uri': 'spotify:album:1ZWb1817n5EoBpgjTkCi4S'}, 'artists': [{'external_urls': {'spotify': 'https://open.spotify.com/artist/6c5OFegHscPZXitA884R1b'}, 'href': 'https://api.spotify.com/v1/artists/6c5OFegHscPZXitA884R1b', 'id': '6c5OFegHscPZXitA884R1b', 'name': 'Paptircem', 'type': 'artist', 'uri': 'spotify:artist:6c5OFegHscPZXitA884R1b'}], 'available_markets': ['AR', 'AU', 'AT', 'BE', 'BO', 'BR', 'BG', 'CA', 'CL', 'CO', 'CR', 'CY', 'CZ', 'DK', 'DO', 'DE', 'EC', 'EE', 'SV', 'FI', 'FR', 'GR', 'GT', 'HN', 'HK', 'HU', 'IS', 'IE', 'IT', 'LV', 'LT', 'LU', 'MY', 'MT', 'MX', 'NL', 'NZ', 'NI', 'NO', 'PA', 'PY', 'PE', 'PH', 'PL', 'PT', 'SG', 'SK', 'ES', 'SE', 'CH', 'TW', 'TR', 'UY', 'US', 'GB', 'AD', 'LI', 'MC', 'ID', 'JP', 'TH', 'VN', 'RO', 'IL', 'ZA', 'SA', 'AE', 'BH', 'QA', 'OM', 'KW', 'EG', 'MA', 'DZ', 'TN', 'LB', 'JO', 'PS', 'IN', 'BY', 'KZ', 'MD', 'UA', 'AL', 'BA', 'HR', 'ME', 'MK', 'RS', 'SI', 'KR', 'BD', 'PK', 'LK', 'GH', 'KE', 'NG', 'TZ', 'UG', 'AG', 'AM', 'BS', 'BB', 'BZ', 'BT', 'BW', 'BF', 'CV', 'CW', 'DM', 'FJ', 'GM', 'GE', 'GD', 'GW', 'GY', 'HT', 'JM', 'KI', 'LS', 'LR', 'MW', 'MV', 'ML', 'MH', 'FM', 'NA', 'NR', 'NE', 'PW', 'PG', 'WS', 'SM', 'ST', 'SN', 'SC', 'SL', 'SB', 'KN', 'LC', 'VC', 'SR', 'TL', 'TO', 'TT', 'TV', 'VU', 'AZ', 'BN', 'BI', 'KH', 'CM', 'TD', 'KM', 'GQ', 'SZ', 'GA', 'GN', 'KG', 'LA', 'MO', 'MR', 'MN', 'NP', 'RW', 'TG', 'UZ', 'ZW', 'BJ', 'MG', 'MU', 'MZ', 'AO', 'CI', 'DJ', 'ZM', 'CD', 'CG', 'IQ', 'LY', 'TJ', 'VE', 'ET', 'XK'], 'disc_number': 1, 'duration_ms': 153562, 'episode': False, 'explicit': False, 'external_ids': {'isrc': 'QM6MZ2388938'}, 'external_urls': {'spotify': 'https://open.spotify.com/track/3X7Iy2X4NRbb8gbDYb2xVq'}, 'href': 'https://api.spotify.com/v1/tracks/3X7Iy2X4NRbb8gbDYb2xVq', 'id': '3X7Iy2X4NRbb8gbDYb2xVq', 'is_local': False, 'name': 'Padişahım', 'popularity': 72, 'preview_url': 'https://p.scdn.co/mp3-preview/c7532ecc66dc46fe727ad298f90170a9737d923f?cid=43964785e73c43698f52de9f8ea49068', 'track': True, 'track_number': 1, 'type': 'track', 'uri': 'spotify:track:3X7Iy2X4NRbb8gbDYb2xVq'}\n",
      "{'album': {'album_type': 'single', 'artists': [{'external_urls': {'spotify': 'https://open.spotify.com/artist/6LkMGN0t3HDNL8hIvma70r'}, 'href': 'https://api.spotify.com/v1/artists/6LkMGN0t3HDNL8hIvma70r', 'id': '6LkMGN0t3HDNL8hIvma70r', 'name': 'Käärijä', 'type': 'artist', 'uri': 'spotify:artist:6LkMGN0t3HDNL8hIvma70r'}], 'available_markets': ['AD', 'AE', 'AG', 'AL', 'AM', 'AO', 'AR', 'AT', 'AU', 'AZ', 'BA', 'BB', 'BD', 'BE', 'BF', 'BG', 'BH', 'BI', 'BJ', 'BN', 'BO', 'BR', 'BS', 'BT', 'BW', 'BZ', 'CA', 'CD', 'CG', 'CH', 'CI', 'CL', 'CM', 'CO', 'CR', 'CV', 'CW', 'CY', 'CZ', 'DE', 'DJ', 'DK', 'DM', 'DO', 'DZ', 'EC', 'EE', 'EG', 'ES', 'ET', 'FI', 'FJ', 'FM', 'FR', 'GA', 'GB', 'GD', 'GE', 'GH', 'GM', 'GN', 'GQ', 'GR', 'GT', 'GW', 'GY', 'HK', 'HN', 'HR', 'HT', 'HU', 'ID', 'IE', 'IL', 'IN', 'IQ', 'IS', 'IT', 'JM', 'JO', 'JP', 'KE', 'KG', 'KH', 'KI', 'KM', 'KN', 'KR', 'KW', 'KZ', 'LA', 'LB', 'LC', 'LI', 'LK', 'LR', 'LS', 'LT', 'LU', 'LV', 'LY', 'MA', 'MC', 'MD', 'ME', 'MG', 'MH', 'MK', 'ML', 'MN', 'MO', 'MR', 'MT', 'MU', 'MV', 'MW', 'MX', 'MY', 'MZ', 'NA', 'NE', 'NG', 'NI', 'NL', 'NO', 'NP', 'NR', 'NZ', 'OM', 'PA', 'PE', 'PG', 'PH', 'PK', 'PL', 'PS', 'PT', 'PW', 'PY', 'QA', 'RO', 'RS', 'RW', 'SA', 'SB', 'SC', 'SE', 'SG', 'SI', 'SK', 'SL', 'SM', 'SN', 'SR', 'ST', 'SV', 'SZ', 'TD', 'TG', 'TH', 'TJ', 'TL', 'TN', 'TO', 'TR', 'TT', 'TV', 'TW', 'TZ', 'UA', 'UG', 'US', 'UY', 'UZ', 'VC', 'VE', 'VN', 'VU', 'WS', 'XK', 'ZA', 'ZM', 'ZW'], 'external_urls': {'spotify': 'https://open.spotify.com/album/5rBqeRlrrzR77MAkbgAmS6'}, 'href': 'https://api.spotify.com/v1/albums/5rBqeRlrrzR77MAkbgAmS6', 'id': '5rBqeRlrrzR77MAkbgAmS6', 'images': [{'height': 640, 'url': 'https://i.scdn.co/image/ab67616d0000b273e9973a2290bd5d88c6aad387', 'width': 640}, {'height': 300, 'url': 'https://i.scdn.co/image/ab67616d00001e02e9973a2290bd5d88c6aad387', 'width': 300}, {'height': 64, 'url': 'https://i.scdn.co/image/ab67616d00004851e9973a2290bd5d88c6aad387', 'width': 64}], 'name': 'Cha Cha Cha', 'release_date': '2023-01-17', 'release_date_precision': 'day', 'total_tracks': 1, 'type': 'album', 'uri': 'spotify:album:5rBqeRlrrzR77MAkbgAmS6'}, 'artists': [{'external_urls': {'spotify': 'https://open.spotify.com/artist/6LkMGN0t3HDNL8hIvma70r'}, 'href': 'https://api.spotify.com/v1/artists/6LkMGN0t3HDNL8hIvma70r', 'id': '6LkMGN0t3HDNL8hIvma70r', 'name': 'Käärijä', 'type': 'artist', 'uri': 'spotify:artist:6LkMGN0t3HDNL8hIvma70r'}], 'available_markets': ['AR', 'AU', 'AT', 'BE', 'BO', 'BR', 'BG', 'CA', 'CL', 'CO', 'CR', 'CY', 'CZ', 'DK', 'DO', 'DE', 'EC', 'EE', 'SV', 'FI', 'FR', 'GR', 'GT', 'HN', 'HK', 'HU', 'IS', 'IE', 'IT', 'LV', 'LT', 'LU', 'MY', 'MT', 'MX', 'NL', 'NZ', 'NI', 'NO', 'PA', 'PY', 'PE', 'PH', 'PL', 'PT', 'SG', 'SK', 'ES', 'SE', 'CH', 'TW', 'TR', 'UY', 'US', 'GB', 'AD', 'LI', 'MC', 'ID', 'JP', 'TH', 'VN', 'RO', 'IL', 'ZA', 'SA', 'AE', 'BH', 'QA', 'OM', 'KW', 'EG', 'MA', 'DZ', 'TN', 'LB', 'JO', 'PS', 'IN', 'KZ', 'MD', 'UA', 'AL', 'BA', 'HR', 'ME', 'MK', 'RS', 'SI', 'KR', 'BD', 'PK', 'LK', 'GH', 'KE', 'NG', 'TZ', 'UG', 'AG', 'AM', 'BS', 'BB', 'BZ', 'BT', 'BW', 'BF', 'CV', 'CW', 'DM', 'FJ', 'GM', 'GE', 'GD', 'GW', 'GY', 'HT', 'JM', 'KI', 'LS', 'LR', 'MW', 'MV', 'ML', 'MH', 'FM', 'NA', 'NR', 'NE', 'PW', 'PG', 'WS', 'SM', 'ST', 'SN', 'SC', 'SL', 'SB', 'KN', 'LC', 'VC', 'SR', 'TL', 'TO', 'TT', 'TV', 'VU', 'AZ', 'BN', 'BI', 'KH', 'CM', 'TD', 'KM', 'GQ', 'SZ', 'GA', 'GN', 'KG', 'LA', 'MO', 'MR', 'MN', 'NP', 'RW', 'TG', 'UZ', 'ZW', 'BJ', 'MG', 'MU', 'MZ', 'AO', 'CI', 'DJ', 'ZM', 'CD', 'CG', 'IQ', 'LY', 'TJ', 'VE', 'ET', 'XK'], 'disc_number': 1, 'duration_ms': 175161, 'episode': False, 'explicit': False, 'external_ids': {'isrc': 'FIWMA2200519'}, 'external_urls': {'spotify': 'https://open.spotify.com/track/5RX8T3EoTuXcybAxe6oPAw'}, 'href': 'https://api.spotify.com/v1/tracks/5RX8T3EoTuXcybAxe6oPAw', 'id': '5RX8T3EoTuXcybAxe6oPAw', 'is_local': False, 'name': 'Cha Cha Cha', 'popularity': 89, 'preview_url': 'https://p.scdn.co/mp3-preview/8ab21713528f10594017365148e7f4cc0a29da89?cid=43964785e73c43698f52de9f8ea49068', 'track': True, 'track_number': 1, 'type': 'track', 'uri': 'spotify:track:5RX8T3EoTuXcybAxe6oPAw'}\n",
      "{'album': {'album_type': 'single', 'artists': [{'external_urls': {'spotify': 'https://open.spotify.com/artist/3HsVtnnjOUToyJThxaoBfx'}, 'href': 'https://api.spotify.com/v1/artists/3HsVtnnjOUToyJThxaoBfx', 'id': '3HsVtnnjOUToyJThxaoBfx', 'name': 'Halle', 'type': 'artist', 'uri': 'spotify:artist:3HsVtnnjOUToyJThxaoBfx'}], 'available_markets': ['AD', 'AE', 'AG', 'AL', 'AM', 'AO', 'AR', 'AT', 'AU', 'AZ', 'BA', 'BB', 'BD', 'BE', 'BF', 'BG', 'BH', 'BI', 'BJ', 'BN', 'BO', 'BR', 'BS', 'BT', 'BW', 'BZ', 'CA', 'CD', 'CG', 'CH', 'CI', 'CL', 'CM', 'CO', 'CR', 'CV', 'CW', 'CY', 'CZ', 'DE', 'DJ', 'DK', 'DM', 'DO', 'DZ', 'EC', 'EE', 'EG', 'ES', 'ET', 'FI', 'FJ', 'FM', 'FR', 'GA', 'GB', 'GD', 'GE', 'GH', 'GM', 'GN', 'GQ', 'GR', 'GT', 'GW', 'GY', 'HK', 'HN', 'HR', 'HT', 'HU', 'ID', 'IE', 'IL', 'IN', 'IQ', 'IS', 'IT', 'JM', 'JO', 'JP', 'KE', 'KG', 'KH', 'KI', 'KM', 'KN', 'KR', 'KW', 'KZ', 'LA', 'LB', 'LC', 'LI', 'LK', 'LR', 'LS', 'LT', 'LU', 'LV', 'LY', 'MA', 'MC', 'MD', 'ME', 'MG', 'MH', 'MK', 'ML', 'MN', 'MO', 'MR', 'MT', 'MU', 'MV', 'MW', 'MX', 'MY', 'MZ', 'NA', 'NE', 'NG', 'NI', 'NL', 'NO', 'NP', 'NR', 'NZ', 'OM', 'PA', 'PE', 'PG', 'PH', 'PK', 'PL', 'PS', 'PT', 'PW', 'PY', 'QA', 'RO', 'RS', 'RW', 'SA', 'SB', 'SC', 'SE', 'SG', 'SI', 'SK', 'SL', 'SM', 'SN', 'SR', 'ST', 'SV', 'SZ', 'TD', 'TG', 'TH', 'TJ', 'TL', 'TN', 'TO', 'TR', 'TT', 'TV', 'TW', 'TZ', 'UA', 'UG', 'US', 'UY', 'UZ', 'VC', 'VE', 'VN', 'VU', 'WS', 'XK', 'ZA', 'ZM', 'ZW'], 'external_urls': {'spotify': 'https://open.spotify.com/album/1cehuxhFNt8Q8Eobacb0YR'}, 'href': 'https://api.spotify.com/v1/albums/1cehuxhFNt8Q8Eobacb0YR', 'id': '1cehuxhFNt8Q8Eobacb0YR', 'images': [{'height': 640, 'url': 'https://i.scdn.co/image/ab67616d0000b2736af4849e2a3c0884def6aa8d', 'width': 640}, {'height': 300, 'url': 'https://i.scdn.co/image/ab67616d00001e026af4849e2a3c0884def6aa8d', 'width': 300}, {'height': 64, 'url': 'https://i.scdn.co/image/ab67616d000048516af4849e2a3c0884def6aa8d', 'width': 64}], 'name': 'Part of Your World (From \"The Little Mermaid\")', 'release_date': '2023-04-26', 'release_date_precision': 'day', 'total_tracks': 1, 'type': 'album', 'uri': 'spotify:album:1cehuxhFNt8Q8Eobacb0YR'}, 'artists': [{'external_urls': {'spotify': 'https://open.spotify.com/artist/3HsVtnnjOUToyJThxaoBfx'}, 'href': 'https://api.spotify.com/v1/artists/3HsVtnnjOUToyJThxaoBfx', 'id': '3HsVtnnjOUToyJThxaoBfx', 'name': 'Halle', 'type': 'artist', 'uri': 'spotify:artist:3HsVtnnjOUToyJThxaoBfx'}], 'available_markets': ['AR', 'AU', 'AT', 'BE', 'BO', 'BR', 'BG', 'CA', 'CL', 'CO', 'CR', 'CY', 'CZ', 'DK', 'DO', 'DE', 'EC', 'EE', 'SV', 'FI', 'FR', 'GR', 'GT', 'HN', 'HK', 'HU', 'IS', 'IE', 'IT', 'LV', 'LT', 'LU', 'MY', 'MT', 'MX', 'NL', 'NZ', 'NI', 'NO', 'PA', 'PY', 'PE', 'PH', 'PL', 'PT', 'SG', 'SK', 'ES', 'SE', 'CH', 'TW', 'TR', 'UY', 'US', 'GB', 'AD', 'LI', 'MC', 'ID', 'JP', 'TH', 'VN', 'RO', 'IL', 'ZA', 'SA', 'AE', 'BH', 'QA', 'OM', 'KW', 'EG', 'MA', 'DZ', 'TN', 'LB', 'JO', 'PS', 'IN', 'KZ', 'MD', 'UA', 'AL', 'BA', 'HR', 'ME', 'MK', 'RS', 'SI', 'KR', 'BD', 'PK', 'LK', 'GH', 'KE', 'NG', 'TZ', 'UG', 'AG', 'AM', 'BS', 'BB', 'BZ', 'BT', 'BW', 'BF', 'CV', 'CW', 'DM', 'FJ', 'GM', 'GE', 'GD', 'GW', 'GY', 'HT', 'JM', 'KI', 'LS', 'LR', 'MW', 'MV', 'ML', 'MH', 'FM', 'NA', 'NR', 'NE', 'PW', 'PG', 'WS', 'SM', 'ST', 'SN', 'SC', 'SL', 'SB', 'KN', 'LC', 'VC', 'SR', 'TL', 'TO', 'TT', 'TV', 'VU', 'AZ', 'BN', 'BI', 'KH', 'CM', 'TD', 'KM', 'GQ', 'SZ', 'GA', 'GN', 'KG', 'LA', 'MO', 'MR', 'MN', 'NP', 'RW', 'TG', 'UZ', 'ZW', 'BJ', 'MG', 'MU', 'MZ', 'AO', 'CI', 'DJ', 'ZM', 'CD', 'CG', 'IQ', 'LY', 'TJ', 'VE', 'ET', 'XK'], 'disc_number': 1, 'duration_ms': 214373, 'episode': False, 'explicit': False, 'external_ids': {'isrc': 'USWD12321011'}, 'external_urls': {'spotify': 'https://open.spotify.com/track/2pcSENGQmdptFCBQ3HpKHe'}, 'href': 'https://api.spotify.com/v1/tracks/2pcSENGQmdptFCBQ3HpKHe', 'id': '2pcSENGQmdptFCBQ3HpKHe', 'is_local': False, 'name': 'Part of Your World - From \"The Little Mermaid\"', 'popularity': 72, 'preview_url': None, 'track': True, 'track_number': 1, 'type': 'track', 'uri': 'spotify:track:2pcSENGQmdptFCBQ3HpKHe'}\n",
      "{'album': {'album_type': 'single', 'artists': [{'external_urls': {'spotify': 'https://open.spotify.com/artist/5japL3H3OQvvJfhtsNh3eU'}, 'href': 'https://api.spotify.com/v1/artists/5japL3H3OQvvJfhtsNh3eU', 'id': '5japL3H3OQvvJfhtsNh3eU', 'name': 'Teya Dora', 'type': 'artist', 'uri': 'spotify:artist:5japL3H3OQvvJfhtsNh3eU'}], 'available_markets': ['AD', 'AE', 'AG', 'AL', 'AM', 'AO', 'AR', 'AT', 'AU', 'AZ', 'BA', 'BB', 'BD', 'BE', 'BF', 'BG', 'BH', 'BI', 'BJ', 'BN', 'BO', 'BR', 'BS', 'BT', 'BW', 'BY', 'BZ', 'CA', 'CD', 'CG', 'CH', 'CI', 'CL', 'CM', 'CO', 'CR', 'CV', 'CW', 'CY', 'CZ', 'DE', 'DJ', 'DK', 'DM', 'DO', 'DZ', 'EC', 'EE', 'EG', 'ES', 'ET', 'FI', 'FJ', 'FM', 'FR', 'GA', 'GB', 'GD', 'GE', 'GH', 'GM', 'GN', 'GQ', 'GR', 'GT', 'GW', 'GY', 'HK', 'HN', 'HR', 'HT', 'HU', 'ID', 'IE', 'IL', 'IN', 'IQ', 'IS', 'IT', 'JM', 'JO', 'JP', 'KE', 'KG', 'KH', 'KI', 'KM', 'KN', 'KR', 'KW', 'KZ', 'LA', 'LB', 'LC', 'LI', 'LK', 'LR', 'LS', 'LT', 'LU', 'LV', 'LY', 'MA', 'MC', 'MD', 'ME', 'MG', 'MH', 'MK', 'ML', 'MN', 'MO', 'MR', 'MT', 'MU', 'MV', 'MW', 'MX', 'MY', 'MZ', 'NA', 'NE', 'NG', 'NI', 'NL', 'NO', 'NP', 'NR', 'NZ', 'OM', 'PA', 'PE', 'PG', 'PH', 'PK', 'PL', 'PS', 'PT', 'PW', 'PY', 'QA', 'RO', 'RS', 'RW', 'SA', 'SB', 'SC', 'SE', 'SG', 'SI', 'SK', 'SL', 'SM', 'SN', 'SR', 'ST', 'SV', 'SZ', 'TD', 'TG', 'TH', 'TJ', 'TL', 'TN', 'TO', 'TR', 'TT', 'TV', 'TW', 'TZ', 'UA', 'UG', 'US', 'UY', 'UZ', 'VC', 'VE', 'VN', 'VU', 'WS', 'XK', 'ZA', 'ZM', 'ZW'], 'external_urls': {'spotify': 'https://open.spotify.com/album/66OKdF2UFS4TC5FToHWL5Y'}, 'href': 'https://api.spotify.com/v1/albums/66OKdF2UFS4TC5FToHWL5Y', 'id': '66OKdF2UFS4TC5FToHWL5Y', 'images': [{'height': 640, 'url': 'https://i.scdn.co/image/ab67616d0000b27399e62c18fc16a98a9516023c', 'width': 640}, {'height': 300, 'url': 'https://i.scdn.co/image/ab67616d00001e0299e62c18fc16a98a9516023c', 'width': 300}, {'height': 64, 'url': 'https://i.scdn.co/image/ab67616d0000485199e62c18fc16a98a9516023c', 'width': 64}], 'name': 'Džanum', 'release_date': '2023-03-22', 'release_date_precision': 'day', 'total_tracks': 1, 'type': 'album', 'uri': 'spotify:album:66OKdF2UFS4TC5FToHWL5Y'}, 'artists': [{'external_urls': {'spotify': 'https://open.spotify.com/artist/5japL3H3OQvvJfhtsNh3eU'}, 'href': 'https://api.spotify.com/v1/artists/5japL3H3OQvvJfhtsNh3eU', 'id': '5japL3H3OQvvJfhtsNh3eU', 'name': 'Teya Dora', 'type': 'artist', 'uri': 'spotify:artist:5japL3H3OQvvJfhtsNh3eU'}], 'available_markets': ['AR', 'AU', 'AT', 'BE', 'BO', 'BR', 'BG', 'CA', 'CL', 'CO', 'CR', 'CY', 'CZ', 'DK', 'DO', 'DE', 'EC', 'EE', 'SV', 'FI', 'FR', 'GR', 'GT', 'HN', 'HK', 'HU', 'IS', 'IE', 'IT', 'LV', 'LT', 'LU', 'MY', 'MT', 'MX', 'NL', 'NZ', 'NI', 'NO', 'PA', 'PY', 'PE', 'PH', 'PL', 'PT', 'SG', 'SK', 'ES', 'SE', 'CH', 'TW', 'TR', 'UY', 'US', 'GB', 'AD', 'LI', 'MC', 'ID', 'JP', 'TH', 'VN', 'RO', 'IL', 'ZA', 'SA', 'AE', 'BH', 'QA', 'OM', 'KW', 'EG', 'MA', 'DZ', 'TN', 'LB', 'JO', 'PS', 'IN', 'BY', 'KZ', 'MD', 'UA', 'AL', 'BA', 'HR', 'ME', 'MK', 'RS', 'SI', 'KR', 'BD', 'PK', 'LK', 'GH', 'KE', 'NG', 'TZ', 'UG', 'AG', 'AM', 'BS', 'BB', 'BZ', 'BT', 'BW', 'BF', 'CV', 'CW', 'DM', 'FJ', 'GM', 'GE', 'GD', 'GW', 'GY', 'HT', 'JM', 'KI', 'LS', 'LR', 'MW', 'MV', 'ML', 'MH', 'FM', 'NA', 'NR', 'NE', 'PW', 'PG', 'WS', 'SM', 'ST', 'SN', 'SC', 'SL', 'SB', 'KN', 'LC', 'VC', 'SR', 'TL', 'TO', 'TT', 'TV', 'VU', 'AZ', 'BN', 'BI', 'KH', 'CM', 'TD', 'KM', 'GQ', 'SZ', 'GA', 'GN', 'KG', 'LA', 'MO', 'MR', 'MN', 'NP', 'RW', 'TG', 'UZ', 'ZW', 'BJ', 'MG', 'MU', 'MZ', 'AO', 'CI', 'DJ', 'ZM', 'CD', 'CG', 'IQ', 'LY', 'TJ', 'VE', 'ET', 'XK'], 'disc_number': 1, 'duration_ms': 174045, 'episode': False, 'explicit': False, 'external_ids': {'isrc': 'FRX202362720'}, 'external_urls': {'spotify': 'https://open.spotify.com/track/2fF8V1O1i1Y8s06FmJHJlz'}, 'href': 'https://api.spotify.com/v1/tracks/2fF8V1O1i1Y8s06FmJHJlz', 'id': '2fF8V1O1i1Y8s06FmJHJlz', 'is_local': False, 'name': 'Džanum', 'popularity': 74, 'preview_url': 'https://p.scdn.co/mp3-preview/737b2b3a04c69b927bf0640cd2d5047a64169d85?cid=43964785e73c43698f52de9f8ea49068', 'track': True, 'track_number': 1, 'type': 'track', 'uri': 'spotify:track:2fF8V1O1i1Y8s06FmJHJlz'}\n",
      "{'album': {'album_type': 'album', 'artists': [{'external_urls': {'spotify': 'https://open.spotify.com/artist/2MyhU8E2SRCcHIN6FtagQR'}, 'href': 'https://api.spotify.com/v1/artists/2MyhU8E2SRCcHIN6FtagQR', 'id': '2MyhU8E2SRCcHIN6FtagQR', 'name': 'EHAMIC', 'type': 'artist', 'uri': 'spotify:artist:2MyhU8E2SRCcHIN6FtagQR'}], 'available_markets': ['AD', 'AE', 'AG', 'AL', 'AM', 'AO', 'AR', 'AT', 'AU', 'AZ', 'BA', 'BB', 'BD', 'BE', 'BF', 'BG', 'BH', 'BI', 'BJ', 'BN', 'BO', 'BR', 'BS', 'BT', 'BW', 'BY', 'BZ', 'CA', 'CD', 'CG', 'CH', 'CI', 'CL', 'CM', 'CO', 'CR', 'CV', 'CW', 'CY', 'CZ', 'DE', 'DJ', 'DK', 'DM', 'DO', 'DZ', 'EC', 'EE', 'EG', 'ES', 'ET', 'FI', 'FJ', 'FM', 'FR', 'GA', 'GB', 'GD', 'GE', 'GH', 'GM', 'GN', 'GQ', 'GR', 'GT', 'GW', 'GY', 'HK', 'HN', 'HR', 'HT', 'HU', 'ID', 'IE', 'IL', 'IN', 'IQ', 'IS', 'IT', 'JM', 'JO', 'KE', 'KG', 'KH', 'KI', 'KM', 'KN', 'KR', 'KW', 'KZ', 'LA', 'LB', 'LC', 'LI', 'LK', 'LR', 'LS', 'LT', 'LU', 'LV', 'LY', 'MA', 'MC', 'MD', 'ME', 'MG', 'MH', 'MK', 'ML', 'MN', 'MO', 'MR', 'MT', 'MU', 'MV', 'MW', 'MX', 'MY', 'MZ', 'NA', 'NE', 'NG', 'NI', 'NL', 'NO', 'NP', 'NR', 'NZ', 'OM', 'PA', 'PE', 'PG', 'PH', 'PK', 'PL', 'PS', 'PT', 'PW', 'PY', 'QA', 'RO', 'RS', 'RW', 'SA', 'SB', 'SC', 'SE', 'SG', 'SI', 'SK', 'SL', 'SM', 'SN', 'SR', 'ST', 'SV', 'SZ', 'TD', 'TG', 'TH', 'TJ', 'TL', 'TN', 'TO', 'TR', 'TT', 'TV', 'TZ', 'UA', 'UG', 'US', 'UY', 'UZ', 'VC', 'VE', 'VN', 'VU', 'WS', 'XK', 'ZA', 'ZM', 'ZW'], 'external_urls': {'spotify': 'https://open.spotify.com/album/0Q7zeUnaYrjTi3am2ceK4N'}, 'href': 'https://api.spotify.com/v1/albums/0Q7zeUnaYrjTi3am2ceK4N', 'id': '0Q7zeUnaYrjTi3am2ceK4N', 'images': [{'height': 640, 'url': 'https://i.scdn.co/image/ab67616d0000b273f2829699bddbc5a884027ea1', 'width': 640}, {'height': 300, 'url': 'https://i.scdn.co/image/ab67616d00001e02f2829699bddbc5a884027ea1', 'width': 300}, {'height': 64, 'url': 'https://i.scdn.co/image/ab67616d00004851f2829699bddbc5a884027ea1', 'width': 64}], 'name': '\"Classicaloid\" Chopin Musik', 'release_date': '2018-10-04', 'release_date_precision': 'day', 'total_tracks': 12, 'type': 'album', 'uri': 'spotify:album:0Q7zeUnaYrjTi3am2ceK4N'}, 'artists': [{'external_urls': {'spotify': 'https://open.spotify.com/artist/2MyhU8E2SRCcHIN6FtagQR'}, 'href': 'https://api.spotify.com/v1/artists/2MyhU8E2SRCcHIN6FtagQR', 'id': '2MyhU8E2SRCcHIN6FtagQR', 'name': 'EHAMIC', 'type': 'artist', 'uri': 'spotify:artist:2MyhU8E2SRCcHIN6FtagQR'}], 'available_markets': ['AR', 'AU', 'AT', 'BE', 'BO', 'BR', 'BG', 'CA', 'CL', 'CO', 'CR', 'CY', 'CZ', 'DK', 'DO', 'DE', 'EC', 'EE', 'SV', 'FI', 'FR', 'GR', 'GT', 'HN', 'HK', 'HU', 'IS', 'IE', 'IT', 'LV', 'LT', 'LU', 'MY', 'MT', 'MX', 'NL', 'NZ', 'NI', 'NO', 'PA', 'PY', 'PE', 'PH', 'PL', 'PT', 'SG', 'SK', 'ES', 'SE', 'CH', 'TR', 'UY', 'US', 'GB', 'AD', 'LI', 'MC', 'ID', 'TH', 'VN', 'RO', 'IL', 'ZA', 'SA', 'AE', 'BH', 'QA', 'OM', 'KW', 'EG', 'MA', 'DZ', 'TN', 'LB', 'JO', 'PS', 'IN', 'BY', 'KZ', 'MD', 'UA', 'AL', 'BA', 'HR', 'ME', 'MK', 'RS', 'SI', 'KR', 'BD', 'PK', 'LK', 'GH', 'KE', 'NG', 'TZ', 'UG', 'AG', 'AM', 'BS', 'BB', 'BZ', 'BT', 'BW', 'BF', 'CV', 'CW', 'DM', 'FJ', 'GM', 'GE', 'GD', 'GW', 'GY', 'HT', 'JM', 'KI', 'LS', 'LR', 'MW', 'MV', 'ML', 'MH', 'FM', 'NA', 'NR', 'NE', 'PW', 'PG', 'WS', 'SM', 'ST', 'SN', 'SC', 'SL', 'SB', 'KN', 'LC', 'VC', 'SR', 'TL', 'TO', 'TT', 'TV', 'VU', 'AZ', 'BN', 'BI', 'KH', 'CM', 'TD', 'KM', 'GQ', 'SZ', 'GA', 'GN', 'KG', 'LA', 'MO', 'MR', 'MN', 'NP', 'RW', 'TG', 'UZ', 'ZW', 'BJ', 'MG', 'MU', 'MZ', 'AO', 'CI', 'DJ', 'ZM', 'CD', 'CG', 'IQ', 'LY', 'TJ', 'VE', 'ET', 'XK'], 'disc_number': 1, 'duration_ms': 190460, 'episode': False, 'explicit': False, 'external_ids': {'isrc': 'JPG531701107'}, 'external_urls': {'spotify': 'https://open.spotify.com/track/3OP9la2QTA5artehqjFJCp'}, 'href': 'https://api.spotify.com/v1/tracks/3OP9la2QTA5artehqjFJCp', 'id': '3OP9la2QTA5artehqjFJCp', 'is_local': False, 'name': 'Koinu no Carnival -From \"Minute Waltz\"-', 'popularity': 71, 'preview_url': 'https://p.scdn.co/mp3-preview/019d69402407fa2c5703539856561a8552518c91?cid=43964785e73c43698f52de9f8ea49068', 'track': True, 'track_number': 4, 'type': 'track', 'uri': 'spotify:track:3OP9la2QTA5artehqjFJCp'}\n",
      "{'album': {'album_type': 'album', 'artists': [{'external_urls': {'spotify': 'https://open.spotify.com/artist/7J9o5Hdc4fNz21SsIBztYK'}, 'href': 'https://api.spotify.com/v1/artists/7J9o5Hdc4fNz21SsIBztYK', 'id': '7J9o5Hdc4fNz21SsIBztYK', 'name': 'Yıldız Usmonova', 'type': 'artist', 'uri': 'spotify:artist:7J9o5Hdc4fNz21SsIBztYK'}], 'available_markets': ['AD', 'AE', 'AG', 'AL', 'AM', 'AO', 'AR', 'AT', 'AU', 'AZ', 'BA', 'BB', 'BD', 'BE', 'BF', 'BG', 'BH', 'BI', 'BJ', 'BN', 'BO', 'BR', 'BS', 'BT', 'BW', 'BY', 'BZ', 'CA', 'CD', 'CG', 'CH', 'CI', 'CL', 'CM', 'CO', 'CR', 'CV', 'CW', 'CY', 'CZ', 'DE', 'DJ', 'DK', 'DM', 'DO', 'DZ', 'EC', 'EE', 'EG', 'ES', 'ET', 'FI', 'FJ', 'FM', 'FR', 'GA', 'GB', 'GD', 'GE', 'GH', 'GM', 'GN', 'GQ', 'GR', 'GT', 'GW', 'GY', 'HK', 'HN', 'HR', 'HT', 'HU', 'ID', 'IE', 'IL', 'IN', 'IQ', 'IS', 'IT', 'JM', 'JO', 'JP', 'KE', 'KG', 'KH', 'KI', 'KM', 'KN', 'KR', 'KW', 'KZ', 'LA', 'LB', 'LC', 'LI', 'LK', 'LR', 'LS', 'LT', 'LU', 'LV', 'LY', 'MA', 'MC', 'MD', 'ME', 'MG', 'MH', 'MK', 'ML', 'MN', 'MO', 'MR', 'MT', 'MU', 'MV', 'MW', 'MX', 'MY', 'MZ', 'NA', 'NE', 'NG', 'NI', 'NL', 'NO', 'NP', 'NR', 'NZ', 'OM', 'PA', 'PE', 'PG', 'PH', 'PK', 'PL', 'PS', 'PT', 'PW', 'PY', 'QA', 'RO', 'RS', 'RW', 'SA', 'SB', 'SC', 'SE', 'SG', 'SI', 'SK', 'SL', 'SM', 'SN', 'SR', 'ST', 'SV', 'SZ', 'TD', 'TG', 'TH', 'TJ', 'TL', 'TN', 'TO', 'TR', 'TT', 'TV', 'TW', 'TZ', 'UA', 'UG', 'US', 'UY', 'UZ', 'VC', 'VE', 'VN', 'VU', 'WS', 'XK', 'ZA', 'ZM', 'ZW'], 'external_urls': {'spotify': 'https://open.spotify.com/album/4OANCg2XGfMsaP3bMhazsu'}, 'href': 'https://api.spotify.com/v1/albums/4OANCg2XGfMsaP3bMhazsu', 'id': '4OANCg2XGfMsaP3bMhazsu', 'images': [{'height': 640, 'url': 'https://i.scdn.co/image/ab67616d0000b2737669b51ade2c8aab3d0fb940', 'width': 640}, {'height': 300, 'url': 'https://i.scdn.co/image/ab67616d00001e027669b51ade2c8aab3d0fb940', 'width': 300}, {'height': 64, 'url': 'https://i.scdn.co/image/ab67616d000048517669b51ade2c8aab3d0fb940', 'width': 64}], 'name': 'Dünya', 'release_date': '2009-09-08', 'release_date_precision': 'day', 'total_tracks': 10, 'type': 'album', 'uri': 'spotify:album:4OANCg2XGfMsaP3bMhazsu'}, 'artists': [{'external_urls': {'spotify': 'https://open.spotify.com/artist/7J9o5Hdc4fNz21SsIBztYK'}, 'href': 'https://api.spotify.com/v1/artists/7J9o5Hdc4fNz21SsIBztYK', 'id': '7J9o5Hdc4fNz21SsIBztYK', 'name': 'Yıldız Usmonova', 'type': 'artist', 'uri': 'spotify:artist:7J9o5Hdc4fNz21SsIBztYK'}, {'external_urls': {'spotify': 'https://open.spotify.com/artist/5h9ueyfXGdgh1rkRQFixkj'}, 'href': 'https://api.spotify.com/v1/artists/5h9ueyfXGdgh1rkRQFixkj', 'id': '5h9ueyfXGdgh1rkRQFixkj', 'name': 'Yaşar Günaçgün', 'type': 'artist', 'uri': 'spotify:artist:5h9ueyfXGdgh1rkRQFixkj'}], 'available_markets': ['AR', 'AU', 'AT', 'BE', 'BO', 'BR', 'BG', 'CA', 'CL', 'CO', 'CR', 'CY', 'CZ', 'DK', 'DO', 'DE', 'EC', 'EE', 'SV', 'FI', 'FR', 'GR', 'GT', 'HN', 'HK', 'HU', 'IS', 'IE', 'IT', 'LV', 'LT', 'LU', 'MY', 'MT', 'MX', 'NL', 'NZ', 'NI', 'NO', 'PA', 'PY', 'PE', 'PH', 'PL', 'PT', 'SG', 'SK', 'ES', 'SE', 'CH', 'TW', 'TR', 'UY', 'US', 'GB', 'AD', 'LI', 'MC', 'ID', 'JP', 'TH', 'VN', 'RO', 'IL', 'ZA', 'SA', 'AE', 'BH', 'QA', 'OM', 'KW', 'EG', 'MA', 'DZ', 'TN', 'LB', 'JO', 'PS', 'IN', 'BY', 'KZ', 'MD', 'UA', 'AL', 'BA', 'HR', 'ME', 'MK', 'RS', 'SI', 'KR', 'BD', 'PK', 'LK', 'GH', 'KE', 'NG', 'TZ', 'UG', 'AG', 'AM', 'BS', 'BB', 'BZ', 'BT', 'BW', 'BF', 'CV', 'CW', 'DM', 'FJ', 'GM', 'GE', 'GD', 'GW', 'GY', 'HT', 'JM', 'KI', 'LS', 'LR', 'MW', 'MV', 'ML', 'MH', 'FM', 'NA', 'NR', 'NE', 'PW', 'PG', 'WS', 'SM', 'ST', 'SN', 'SC', 'SL', 'SB', 'KN', 'LC', 'VC', 'SR', 'TL', 'TO', 'TT', 'TV', 'VU', 'AZ', 'BN', 'BI', 'KH', 'CM', 'TD', 'KM', 'GQ', 'SZ', 'GA', 'GN', 'KG', 'LA', 'MO', 'MR', 'MN', 'NP', 'RW', 'TG', 'UZ', 'ZW', 'BJ', 'MG', 'MU', 'MZ', 'AO', 'CI', 'DJ', 'ZM', 'CD', 'CG', 'IQ', 'LY', 'TJ', 'VE', 'ET', 'XK'], 'disc_number': 1, 'duration_ms': 270140, 'episode': False, 'explicit': False, 'external_ids': {'isrc': 'TR7910900005'}, 'external_urls': {'spotify': 'https://open.spotify.com/track/4wafsaGv4ofwEBmDyp4qsA'}, 'href': 'https://api.spotify.com/v1/tracks/4wafsaGv4ofwEBmDyp4qsA', 'id': '4wafsaGv4ofwEBmDyp4qsA', 'is_local': False, 'name': 'Seni Severdim (feat. Yaşar )', 'popularity': 68, 'preview_url': 'https://p.scdn.co/mp3-preview/05f65692ad5e125034d90c50c899c013b5e8029c?cid=43964785e73c43698f52de9f8ea49068', 'track': True, 'track_number': 5, 'type': 'track', 'uri': 'spotify:track:4wafsaGv4ofwEBmDyp4qsA'}\n",
      "{'album': {'album_type': 'single', 'artists': [{'external_urls': {'spotify': 'https://open.spotify.com/artist/7iNrvS80wnHDGVxw3qNRiI'}, 'href': 'https://api.spotify.com/v1/artists/7iNrvS80wnHDGVxw3qNRiI', 'id': '7iNrvS80wnHDGVxw3qNRiI', 'name': 'CHINCHILLA', 'type': 'artist', 'uri': 'spotify:artist:7iNrvS80wnHDGVxw3qNRiI'}], 'available_markets': ['AD', 'AE', 'AG', 'AL', 'AM', 'AO', 'AR', 'AT', 'AU', 'AZ', 'BA', 'BB', 'BD', 'BE', 'BF', 'BG', 'BH', 'BI', 'BJ', 'BN', 'BO', 'BR', 'BS', 'BT', 'BW', 'BY', 'BZ', 'CA', 'CD', 'CG', 'CH', 'CI', 'CL', 'CM', 'CO', 'CR', 'CV', 'CW', 'CY', 'CZ', 'DE', 'DJ', 'DK', 'DM', 'DO', 'DZ', 'EC', 'EE', 'EG', 'ES', 'ET', 'FI', 'FJ', 'FM', 'FR', 'GA', 'GB', 'GD', 'GE', 'GH', 'GM', 'GN', 'GQ', 'GR', 'GT', 'GW', 'GY', 'HK', 'HN', 'HR', 'HT', 'HU', 'ID', 'IE', 'IL', 'IN', 'IQ', 'IS', 'IT', 'JM', 'JO', 'JP', 'KE', 'KG', 'KH', 'KI', 'KM', 'KN', 'KR', 'KW', 'KZ', 'LA', 'LB', 'LC', 'LI', 'LK', 'LR', 'LS', 'LT', 'LU', 'LV', 'LY', 'MA', 'MC', 'MD', 'ME', 'MG', 'MH', 'MK', 'ML', 'MN', 'MO', 'MR', 'MT', 'MU', 'MV', 'MW', 'MX', 'MY', 'MZ', 'NA', 'NE', 'NG', 'NI', 'NL', 'NO', 'NP', 'NR', 'NZ', 'OM', 'PA', 'PE', 'PG', 'PH', 'PK', 'PL', 'PS', 'PT', 'PW', 'PY', 'QA', 'RO', 'RS', 'RW', 'SA', 'SB', 'SC', 'SE', 'SG', 'SI', 'SK', 'SL', 'SM', 'SN', 'SR', 'ST', 'SV', 'SZ', 'TD', 'TG', 'TH', 'TJ', 'TL', 'TN', 'TO', 'TR', 'TT', 'TV', 'TW', 'TZ', 'UA', 'UG', 'US', 'UY', 'UZ', 'VC', 'VE', 'VN', 'VU', 'WS', 'XK', 'ZA', 'ZM', 'ZW'], 'external_urls': {'spotify': 'https://open.spotify.com/album/1vTHLsE6MttzdRfg2ZkU4I'}, 'href': 'https://api.spotify.com/v1/albums/1vTHLsE6MttzdRfg2ZkU4I', 'id': '1vTHLsE6MttzdRfg2ZkU4I', 'images': [{'height': 640, 'url': 'https://i.scdn.co/image/ab67616d0000b273f3c1e5efbe210d8f898c5ad3', 'width': 640}, {'height': 300, 'url': 'https://i.scdn.co/image/ab67616d00001e02f3c1e5efbe210d8f898c5ad3', 'width': 300}, {'height': 64, 'url': 'https://i.scdn.co/image/ab67616d00004851f3c1e5efbe210d8f898c5ad3', 'width': 64}], 'name': 'Little Girl Gone', 'release_date': '2023-04-21', 'release_date_precision': 'day', 'total_tracks': 1, 'type': 'album', 'uri': 'spotify:album:1vTHLsE6MttzdRfg2ZkU4I'}, 'artists': [{'external_urls': {'spotify': 'https://open.spotify.com/artist/7iNrvS80wnHDGVxw3qNRiI'}, 'href': 'https://api.spotify.com/v1/artists/7iNrvS80wnHDGVxw3qNRiI', 'id': '7iNrvS80wnHDGVxw3qNRiI', 'name': 'CHINCHILLA', 'type': 'artist', 'uri': 'spotify:artist:7iNrvS80wnHDGVxw3qNRiI'}], 'available_markets': ['AR', 'AU', 'AT', 'BE', 'BO', 'BR', 'BG', 'CA', 'CL', 'CO', 'CR', 'CY', 'CZ', 'DK', 'DO', 'DE', 'EC', 'EE', 'SV', 'FI', 'FR', 'GR', 'GT', 'HN', 'HK', 'HU', 'IS', 'IE', 'IT', 'LV', 'LT', 'LU', 'MY', 'MT', 'MX', 'NL', 'NZ', 'NI', 'NO', 'PA', 'PY', 'PE', 'PH', 'PL', 'PT', 'SG', 'SK', 'ES', 'SE', 'CH', 'TW', 'TR', 'UY', 'US', 'GB', 'AD', 'LI', 'MC', 'ID', 'JP', 'TH', 'VN', 'RO', 'IL', 'ZA', 'SA', 'AE', 'BH', 'QA', 'OM', 'KW', 'EG', 'MA', 'DZ', 'TN', 'LB', 'JO', 'PS', 'IN', 'BY', 'KZ', 'MD', 'UA', 'AL', 'BA', 'HR', 'ME', 'MK', 'RS', 'SI', 'KR', 'BD', 'PK', 'LK', 'GH', 'KE', 'NG', 'TZ', 'UG', 'AG', 'AM', 'BS', 'BB', 'BZ', 'BT', 'BW', 'BF', 'CV', 'CW', 'DM', 'FJ', 'GM', 'GE', 'GD', 'GW', 'GY', 'HT', 'JM', 'KI', 'LS', 'LR', 'MW', 'MV', 'ML', 'MH', 'FM', 'NA', 'NR', 'NE', 'PW', 'PG', 'WS', 'SM', 'ST', 'SN', 'SC', 'SL', 'SB', 'KN', 'LC', 'VC', 'SR', 'TL', 'TO', 'TT', 'TV', 'VU', 'AZ', 'BN', 'BI', 'KH', 'CM', 'TD', 'KM', 'GQ', 'SZ', 'GA', 'GN', 'KG', 'LA', 'MO', 'MR', 'MN', 'NP', 'RW', 'TG', 'UZ', 'ZW', 'BJ', 'MG', 'MU', 'MZ', 'AO', 'CI', 'DJ', 'ZM', 'CD', 'CG', 'IQ', 'LY', 'TJ', 'VE', 'ET', 'XK'], 'disc_number': 1, 'duration_ms': 188596, 'episode': False, 'explicit': True, 'external_ids': {'isrc': 'GBGLW2300286'}, 'external_urls': {'spotify': 'https://open.spotify.com/track/5OLcsBO28uWHMzS0EEeZNp'}, 'href': 'https://api.spotify.com/v1/tracks/5OLcsBO28uWHMzS0EEeZNp', 'id': '5OLcsBO28uWHMzS0EEeZNp', 'is_local': False, 'name': 'Little Girl Gone', 'popularity': 81, 'preview_url': 'https://p.scdn.co/mp3-preview/622c54a2228c02197b66a523733fbee44e739ceb?cid=43964785e73c43698f52de9f8ea49068', 'track': True, 'track_number': 1, 'type': 'track', 'uri': 'spotify:track:5OLcsBO28uWHMzS0EEeZNp'}\n",
      "{'album': {'album_type': 'single', 'artists': [{'external_urls': {'spotify': 'https://open.spotify.com/artist/2R7bETtmp3iXexpYAzXrKm'}, 'href': 'https://api.spotify.com/v1/artists/2R7bETtmp3iXexpYAzXrKm', 'id': '2R7bETtmp3iXexpYAzXrKm', 'name': 'Khloe Rose', 'type': 'artist', 'uri': 'spotify:artist:2R7bETtmp3iXexpYAzXrKm'}], 'available_markets': ['AD', 'AE', 'AG', 'AL', 'AM', 'AO', 'AR', 'AT', 'AU', 'AZ', 'BA', 'BB', 'BD', 'BE', 'BF', 'BG', 'BH', 'BI', 'BJ', 'BN', 'BO', 'BR', 'BS', 'BT', 'BW', 'BY', 'BZ', 'CA', 'CD', 'CG', 'CH', 'CI', 'CL', 'CM', 'CO', 'CR', 'CV', 'CW', 'CY', 'CZ', 'DE', 'DJ', 'DK', 'DM', 'DO', 'DZ', 'EC', 'EE', 'EG', 'ES', 'ET', 'FI', 'FJ', 'FM', 'FR', 'GA', 'GB', 'GD', 'GE', 'GH', 'GM', 'GN', 'GQ', 'GR', 'GT', 'GW', 'GY', 'HK', 'HN', 'HR', 'HT', 'HU', 'ID', 'IE', 'IL', 'IN', 'IQ', 'IS', 'IT', 'JM', 'JO', 'JP', 'KE', 'KG', 'KH', 'KI', 'KM', 'KN', 'KR', 'KW', 'KZ', 'LA', 'LB', 'LC', 'LI', 'LK', 'LR', 'LS', 'LT', 'LU', 'LV', 'LY', 'MA', 'MC', 'MD', 'ME', 'MG', 'MH', 'MK', 'ML', 'MN', 'MO', 'MR', 'MT', 'MU', 'MV', 'MW', 'MX', 'MY', 'MZ', 'NA', 'NE', 'NG', 'NI', 'NL', 'NO', 'NP', 'NR', 'NZ', 'OM', 'PA', 'PE', 'PG', 'PH', 'PK', 'PL', 'PS', 'PT', 'PW', 'PY', 'QA', 'RO', 'RS', 'RW', 'SA', 'SB', 'SC', 'SE', 'SG', 'SI', 'SK', 'SL', 'SM', 'SN', 'SR', 'ST', 'SV', 'SZ', 'TD', 'TG', 'TH', 'TJ', 'TL', 'TN', 'TO', 'TR', 'TT', 'TV', 'TW', 'TZ', 'UA', 'UG', 'US', 'UY', 'UZ', 'VC', 'VE', 'VN', 'VU', 'WS', 'XK', 'ZA', 'ZM', 'ZW'], 'external_urls': {'spotify': 'https://open.spotify.com/album/1Io07XUBdJzMINQnAWzSR5'}, 'href': 'https://api.spotify.com/v1/albums/1Io07XUBdJzMINQnAWzSR5', 'id': '1Io07XUBdJzMINQnAWzSR5', 'images': [{'height': 640, 'url': 'https://i.scdn.co/image/ab67616d0000b2733b6cef0b9f0a0e5440ec1a57', 'width': 640}, {'height': 300, 'url': 'https://i.scdn.co/image/ab67616d00001e023b6cef0b9f0a0e5440ec1a57', 'width': 300}, {'height': 64, 'url': 'https://i.scdn.co/image/ab67616d000048513b6cef0b9f0a0e5440ec1a57', 'width': 64}], 'name': 'Fictional', 'release_date': '2023-04-21', 'release_date_precision': 'day', 'total_tracks': 1, 'type': 'album', 'uri': 'spotify:album:1Io07XUBdJzMINQnAWzSR5'}, 'artists': [{'external_urls': {'spotify': 'https://open.spotify.com/artist/2R7bETtmp3iXexpYAzXrKm'}, 'href': 'https://api.spotify.com/v1/artists/2R7bETtmp3iXexpYAzXrKm', 'id': '2R7bETtmp3iXexpYAzXrKm', 'name': 'Khloe Rose', 'type': 'artist', 'uri': 'spotify:artist:2R7bETtmp3iXexpYAzXrKm'}], 'available_markets': ['AR', 'AU', 'AT', 'BE', 'BO', 'BR', 'BG', 'CA', 'CL', 'CO', 'CR', 'CY', 'CZ', 'DK', 'DO', 'DE', 'EC', 'EE', 'SV', 'FI', 'FR', 'GR', 'GT', 'HN', 'HK', 'HU', 'IS', 'IE', 'IT', 'LV', 'LT', 'LU', 'MY', 'MT', 'MX', 'NL', 'NZ', 'NI', 'NO', 'PA', 'PY', 'PE', 'PH', 'PL', 'PT', 'SG', 'SK', 'ES', 'SE', 'CH', 'TW', 'TR', 'UY', 'US', 'GB', 'AD', 'LI', 'MC', 'ID', 'JP', 'TH', 'VN', 'RO', 'IL', 'ZA', 'SA', 'AE', 'BH', 'QA', 'OM', 'KW', 'EG', 'MA', 'DZ', 'TN', 'LB', 'JO', 'PS', 'IN', 'BY', 'KZ', 'MD', 'UA', 'AL', 'BA', 'HR', 'ME', 'MK', 'RS', 'SI', 'KR', 'BD', 'PK', 'LK', 'GH', 'KE', 'NG', 'TZ', 'UG', 'AG', 'AM', 'BS', 'BB', 'BZ', 'BT', 'BW', 'BF', 'CV', 'CW', 'DM', 'FJ', 'GM', 'GE', 'GD', 'GW', 'GY', 'HT', 'JM', 'KI', 'LS', 'LR', 'MW', 'MV', 'ML', 'MH', 'FM', 'NA', 'NR', 'NE', 'PW', 'PG', 'WS', 'SM', 'ST', 'SN', 'SC', 'SL', 'SB', 'KN', 'LC', 'VC', 'SR', 'TL', 'TO', 'TT', 'TV', 'VU', 'AZ', 'BN', 'BI', 'KH', 'CM', 'TD', 'KM', 'GQ', 'SZ', 'GA', 'GN', 'KG', 'LA', 'MO', 'MR', 'MN', 'NP', 'RW', 'TG', 'UZ', 'ZW', 'BJ', 'MG', 'MU', 'MZ', 'AO', 'CI', 'DJ', 'ZM', 'CD', 'CG', 'IQ', 'LY', 'TJ', 'VE', 'ET', 'XK'], 'disc_number': 1, 'duration_ms': 223400, 'episode': False, 'explicit': False, 'external_ids': {'isrc': 'USQX92301920'}, 'external_urls': {'spotify': 'https://open.spotify.com/track/6aHT59msgWO3ivOICNFmSS'}, 'href': 'https://api.spotify.com/v1/tracks/6aHT59msgWO3ivOICNFmSS', 'id': '6aHT59msgWO3ivOICNFmSS', 'is_local': False, 'name': 'Fictional', 'popularity': 75, 'preview_url': 'https://p.scdn.co/mp3-preview/4a2ab7361d89c2d8159b566aae2dfd8af50f8c2d?cid=43964785e73c43698f52de9f8ea49068', 'track': True, 'track_number': 1, 'type': 'track', 'uri': 'spotify:track:6aHT59msgWO3ivOICNFmSS'}\n",
      "{'album': {'album_type': 'single', 'artists': [{'external_urls': {'spotify': 'https://open.spotify.com/artist/1jt8MU2um5rIprsn87sDtR'}, 'href': 'https://api.spotify.com/v1/artists/1jt8MU2um5rIprsn87sDtR', 'id': '1jt8MU2um5rIprsn87sDtR', 'name': 'MC Guh SR', 'type': 'artist', 'uri': 'spotify:artist:1jt8MU2um5rIprsn87sDtR'}, {'external_urls': {'spotify': 'https://open.spotify.com/artist/1X842P1hBNRnwsuy0e3DLS'}, 'href': 'https://api.spotify.com/v1/artists/1X842P1hBNRnwsuy0e3DLS', 'id': '1X842P1hBNRnwsuy0e3DLS', 'name': 'Dj Pikeno Mpc', 'type': 'artist', 'uri': 'spotify:artist:1X842P1hBNRnwsuy0e3DLS'}, {'external_urls': {'spotify': 'https://open.spotify.com/artist/4q3N2WZiTq26rLMdpIGRgP'}, 'href': 'https://api.spotify.com/v1/artists/4q3N2WZiTq26rLMdpIGRgP', 'id': '4q3N2WZiTq26rLMdpIGRgP', 'name': 'Markim WF', 'type': 'artist', 'uri': 'spotify:artist:4q3N2WZiTq26rLMdpIGRgP'}], 'available_markets': ['AD', 'AE', 'AG', 'AL', 'AM', 'AO', 'AR', 'AT', 'AU', 'AZ', 'BA', 'BB', 'BD', 'BE', 'BF', 'BG', 'BH', 'BI', 'BJ', 'BN', 'BO', 'BR', 'BS', 'BT', 'BW', 'BY', 'BZ', 'CA', 'CD', 'CG', 'CH', 'CI', 'CL', 'CM', 'CO', 'CR', 'CV', 'CW', 'CY', 'CZ', 'DE', 'DJ', 'DK', 'DM', 'DO', 'DZ', 'EC', 'EE', 'EG', 'ES', 'ET', 'FI', 'FJ', 'FM', 'FR', 'GA', 'GB', 'GD', 'GE', 'GH', 'GM', 'GN', 'GQ', 'GR', 'GT', 'GW', 'GY', 'HK', 'HN', 'HR', 'HT', 'HU', 'ID', 'IE', 'IL', 'IN', 'IQ', 'IS', 'IT', 'JM', 'JO', 'JP', 'KE', 'KG', 'KH', 'KI', 'KM', 'KN', 'KR', 'KW', 'KZ', 'LA', 'LB', 'LC', 'LI', 'LK', 'LR', 'LS', 'LT', 'LU', 'LV', 'LY', 'MA', 'MC', 'MD', 'ME', 'MG', 'MH', 'MK', 'ML', 'MN', 'MO', 'MR', 'MT', 'MU', 'MV', 'MW', 'MX', 'MY', 'MZ', 'NA', 'NE', 'NG', 'NI', 'NL', 'NO', 'NP', 'NR', 'NZ', 'OM', 'PA', 'PE', 'PG', 'PH', 'PK', 'PL', 'PS', 'PT', 'PW', 'PY', 'QA', 'RO', 'RS', 'RW', 'SA', 'SB', 'SC', 'SE', 'SG', 'SI', 'SK', 'SL', 'SM', 'SN', 'SR', 'ST', 'SV', 'SZ', 'TD', 'TG', 'TH', 'TJ', 'TL', 'TN', 'TO', 'TR', 'TT', 'TV', 'TW', 'TZ', 'UA', 'UG', 'US', 'UY', 'UZ', 'VC', 'VE', 'VN', 'VU', 'WS', 'XK', 'ZA', 'ZM', 'ZW'], 'external_urls': {'spotify': 'https://open.spotify.com/album/0yqNgSv3rV1saE5YfUVSUs'}, 'href': 'https://api.spotify.com/v1/albums/0yqNgSv3rV1saE5YfUVSUs', 'id': '0yqNgSv3rV1saE5YfUVSUs', 'images': [{'height': 640, 'url': 'https://i.scdn.co/image/ab67616d0000b27336f01ccc8d9cb96948f8860d', 'width': 640}, {'height': 300, 'url': 'https://i.scdn.co/image/ab67616d00001e0236f01ccc8d9cb96948f8860d', 'width': 300}, {'height': 64, 'url': 'https://i.scdn.co/image/ab67616d0000485136f01ccc8d9cb96948f8860d', 'width': 64}], 'name': 'Ela Voltou de Perna Bamba', 'release_date': '2023-03-21', 'release_date_precision': 'day', 'total_tracks': 1, 'type': 'album', 'uri': 'spotify:album:0yqNgSv3rV1saE5YfUVSUs'}, 'artists': [{'external_urls': {'spotify': 'https://open.spotify.com/artist/1jt8MU2um5rIprsn87sDtR'}, 'href': 'https://api.spotify.com/v1/artists/1jt8MU2um5rIprsn87sDtR', 'id': '1jt8MU2um5rIprsn87sDtR', 'name': 'MC Guh SR', 'type': 'artist', 'uri': 'spotify:artist:1jt8MU2um5rIprsn87sDtR'}, {'external_urls': {'spotify': 'https://open.spotify.com/artist/1X842P1hBNRnwsuy0e3DLS'}, 'href': 'https://api.spotify.com/v1/artists/1X842P1hBNRnwsuy0e3DLS', 'id': '1X842P1hBNRnwsuy0e3DLS', 'name': 'Dj Pikeno Mpc', 'type': 'artist', 'uri': 'spotify:artist:1X842P1hBNRnwsuy0e3DLS'}, {'external_urls': {'spotify': 'https://open.spotify.com/artist/4q3N2WZiTq26rLMdpIGRgP'}, 'href': 'https://api.spotify.com/v1/artists/4q3N2WZiTq26rLMdpIGRgP', 'id': '4q3N2WZiTq26rLMdpIGRgP', 'name': 'Markim WF', 'type': 'artist', 'uri': 'spotify:artist:4q3N2WZiTq26rLMdpIGRgP'}, {'external_urls': {'spotify': 'https://open.spotify.com/artist/1DqzXlcCmklnLECrUuo1DC'}, 'href': 'https://api.spotify.com/v1/artists/1DqzXlcCmklnLECrUuo1DC', 'id': '1DqzXlcCmklnLECrUuo1DC', 'name': 'MC Pê Original', 'type': 'artist', 'uri': 'spotify:artist:1DqzXlcCmklnLECrUuo1DC'}], 'available_markets': ['AR', 'AU', 'AT', 'BE', 'BO', 'BR', 'BG', 'CA', 'CL', 'CO', 'CR', 'CY', 'CZ', 'DK', 'DO', 'DE', 'EC', 'EE', 'SV', 'FI', 'FR', 'GR', 'GT', 'HN', 'HK', 'HU', 'IS', 'IE', 'IT', 'LV', 'LT', 'LU', 'MY', 'MT', 'MX', 'NL', 'NZ', 'NI', 'NO', 'PA', 'PY', 'PE', 'PH', 'PL', 'PT', 'SG', 'SK', 'ES', 'SE', 'CH', 'TW', 'TR', 'UY', 'US', 'GB', 'AD', 'LI', 'MC', 'ID', 'JP', 'TH', 'VN', 'RO', 'IL', 'ZA', 'SA', 'AE', 'BH', 'QA', 'OM', 'KW', 'EG', 'MA', 'DZ', 'TN', 'LB', 'JO', 'PS', 'IN', 'BY', 'KZ', 'MD', 'UA', 'AL', 'BA', 'HR', 'ME', 'MK', 'RS', 'SI', 'KR', 'BD', 'PK', 'LK', 'GH', 'KE', 'NG', 'TZ', 'UG', 'AG', 'AM', 'BS', 'BB', 'BZ', 'BT', 'BW', 'BF', 'CV', 'CW', 'DM', 'FJ', 'GM', 'GE', 'GD', 'GW', 'GY', 'HT', 'JM', 'KI', 'LS', 'LR', 'MW', 'MV', 'ML', 'MH', 'FM', 'NA', 'NR', 'NE', 'PW', 'PG', 'WS', 'SM', 'ST', 'SN', 'SC', 'SL', 'SB', 'KN', 'LC', 'VC', 'SR', 'TL', 'TO', 'TT', 'TV', 'VU', 'AZ', 'BN', 'BI', 'KH', 'CM', 'TD', 'KM', 'GQ', 'SZ', 'GA', 'GN', 'KG', 'LA', 'MO', 'MR', 'MN', 'NP', 'RW', 'TG', 'UZ', 'ZW', 'BJ', 'MG', 'MU', 'MZ', 'AO', 'CI', 'DJ', 'ZM', 'CD', 'CG', 'IQ', 'LY', 'TJ', 'VE', 'ET', 'XK'], 'disc_number': 1, 'duration_ms': 199384, 'episode': False, 'explicit': True, 'external_ids': {'isrc': 'QZGLM2398945'}, 'external_urls': {'spotify': 'https://open.spotify.com/track/745VUhm32odbxJI2q1rUMv'}, 'href': 'https://api.spotify.com/v1/tracks/745VUhm32odbxJI2q1rUMv', 'id': '745VUhm32odbxJI2q1rUMv', 'is_local': False, 'name': 'Ela Voltou de Perna Bamba', 'popularity': 70, 'preview_url': 'https://p.scdn.co/mp3-preview/754b3139fdcd7e3ad2580b627c32f53fcc1df704?cid=43964785e73c43698f52de9f8ea49068', 'track': True, 'track_number': 1, 'type': 'track', 'uri': 'spotify:track:745VUhm32odbxJI2q1rUMv'}\n",
      "{'album': {'album_type': 'single', 'artists': [{'external_urls': {'spotify': 'https://open.spotify.com/artist/7ITMCzIU9uII8gwRg8JAhc'}, 'href': 'https://api.spotify.com/v1/artists/7ITMCzIU9uII8gwRg8JAhc', 'id': '7ITMCzIU9uII8gwRg8JAhc', 'name': 'Odetari', 'type': 'artist', 'uri': 'spotify:artist:7ITMCzIU9uII8gwRg8JAhc'}], 'available_markets': ['AD', 'AE', 'AG', 'AL', 'AM', 'AO', 'AR', 'AT', 'AU', 'AZ', 'BA', 'BB', 'BD', 'BE', 'BF', 'BG', 'BH', 'BI', 'BJ', 'BN', 'BO', 'BR', 'BS', 'BT', 'BW', 'BZ', 'CA', 'CD', 'CG', 'CH', 'CI', 'CL', 'CM', 'CO', 'CR', 'CV', 'CW', 'CY', 'CZ', 'DE', 'DJ', 'DK', 'DM', 'DO', 'DZ', 'EC', 'EE', 'EG', 'ES', 'ET', 'FI', 'FJ', 'FM', 'FR', 'GA', 'GB', 'GD', 'GE', 'GH', 'GM', 'GN', 'GQ', 'GR', 'GT', 'GW', 'GY', 'HK', 'HN', 'HR', 'HT', 'HU', 'ID', 'IE', 'IL', 'IN', 'IQ', 'IS', 'IT', 'JM', 'JO', 'JP', 'KE', 'KG', 'KH', 'KI', 'KM', 'KN', 'KR', 'KW', 'KZ', 'LA', 'LB', 'LC', 'LI', 'LK', 'LR', 'LS', 'LT', 'LU', 'LV', 'LY', 'MA', 'MC', 'MD', 'ME', 'MG', 'MH', 'MK', 'ML', 'MN', 'MO', 'MR', 'MT', 'MU', 'MV', 'MW', 'MX', 'MY', 'MZ', 'NA', 'NE', 'NG', 'NI', 'NL', 'NO', 'NP', 'NR', 'NZ', 'OM', 'PA', 'PE', 'PG', 'PH', 'PK', 'PL', 'PS', 'PT', 'PW', 'PY', 'QA', 'RO', 'RS', 'RW', 'SA', 'SB', 'SC', 'SE', 'SG', 'SI', 'SK', 'SL', 'SM', 'SN', 'SR', 'ST', 'SV', 'SZ', 'TD', 'TG', 'TH', 'TJ', 'TL', 'TN', 'TO', 'TR', 'TT', 'TV', 'TW', 'TZ', 'UA', 'UG', 'US', 'UY', 'UZ', 'VC', 'VE', 'VN', 'VU', 'WS', 'XK', 'ZA', 'ZM', 'ZW'], 'external_urls': {'spotify': 'https://open.spotify.com/album/0uj4fkv8FHhc7sZyxMnAAw'}, 'href': 'https://api.spotify.com/v1/albums/0uj4fkv8FHhc7sZyxMnAAw', 'id': '0uj4fkv8FHhc7sZyxMnAAw', 'images': [{'height': 640, 'url': 'https://i.scdn.co/image/ab67616d0000b273e62077fe3874cbc3a15d67d5', 'width': 640}, {'height': 300, 'url': 'https://i.scdn.co/image/ab67616d00001e02e62077fe3874cbc3a15d67d5', 'width': 300}, {'height': 64, 'url': 'https://i.scdn.co/image/ab67616d00004851e62077fe3874cbc3a15d67d5', 'width': 64}], 'name': 'GOOD LOYAL THOTS', 'release_date': '2023-03-15', 'release_date_precision': 'day', 'total_tracks': 1, 'type': 'album', 'uri': 'spotify:album:0uj4fkv8FHhc7sZyxMnAAw'}, 'artists': [{'external_urls': {'spotify': 'https://open.spotify.com/artist/7ITMCzIU9uII8gwRg8JAhc'}, 'href': 'https://api.spotify.com/v1/artists/7ITMCzIU9uII8gwRg8JAhc', 'id': '7ITMCzIU9uII8gwRg8JAhc', 'name': 'Odetari', 'type': 'artist', 'uri': 'spotify:artist:7ITMCzIU9uII8gwRg8JAhc'}], 'available_markets': ['AR', 'AU', 'AT', 'BE', 'BO', 'BR', 'BG', 'CA', 'CL', 'CO', 'CR', 'CY', 'CZ', 'DK', 'DO', 'DE', 'EC', 'EE', 'SV', 'FI', 'FR', 'GR', 'GT', 'HN', 'HK', 'HU', 'IS', 'IE', 'IT', 'LV', 'LT', 'LU', 'MY', 'MT', 'MX', 'NL', 'NZ', 'NI', 'NO', 'PA', 'PY', 'PE', 'PH', 'PL', 'PT', 'SG', 'SK', 'ES', 'SE', 'CH', 'TW', 'TR', 'UY', 'US', 'GB', 'AD', 'LI', 'MC', 'ID', 'JP', 'TH', 'VN', 'RO', 'IL', 'ZA', 'SA', 'AE', 'BH', 'QA', 'OM', 'KW', 'EG', 'MA', 'DZ', 'TN', 'LB', 'JO', 'PS', 'IN', 'KZ', 'MD', 'UA', 'AL', 'BA', 'HR', 'ME', 'MK', 'RS', 'SI', 'KR', 'BD', 'PK', 'LK', 'GH', 'KE', 'NG', 'TZ', 'UG', 'AG', 'AM', 'BS', 'BB', 'BZ', 'BT', 'BW', 'BF', 'CV', 'CW', 'DM', 'FJ', 'GM', 'GE', 'GD', 'GW', 'GY', 'HT', 'JM', 'KI', 'LS', 'LR', 'MW', 'MV', 'ML', 'MH', 'FM', 'NA', 'NR', 'NE', 'PW', 'PG', 'WS', 'SM', 'ST', 'SN', 'SC', 'SL', 'SB', 'KN', 'LC', 'VC', 'SR', 'TL', 'TO', 'TT', 'TV', 'VU', 'AZ', 'BN', 'BI', 'KH', 'CM', 'TD', 'KM', 'GQ', 'SZ', 'GA', 'GN', 'KG', 'LA', 'MO', 'MR', 'MN', 'NP', 'RW', 'TG', 'UZ', 'ZW', 'BJ', 'MG', 'MU', 'MZ', 'AO', 'CI', 'DJ', 'ZM', 'CD', 'CG', 'IQ', 'LY', 'TJ', 'VE', 'ET', 'XK'], 'disc_number': 1, 'duration_ms': 102556, 'episode': False, 'explicit': True, 'external_ids': {'isrc': 'QZES92330937'}, 'external_urls': {'spotify': 'https://open.spotify.com/track/06tNJ27nVxbDwhiQMChWyr'}, 'href': 'https://api.spotify.com/v1/tracks/06tNJ27nVxbDwhiQMChWyr', 'id': '06tNJ27nVxbDwhiQMChWyr', 'is_local': False, 'name': 'GOOD LOYAL THOTS', 'popularity': 59, 'preview_url': None, 'track': True, 'track_number': 1, 'type': 'track', 'uri': 'spotify:track:06tNJ27nVxbDwhiQMChWyr'}\n",
      "{'album': {'album_type': 'single', 'artists': [{'external_urls': {'spotify': 'https://open.spotify.com/artist/1YRqgFNXqRyMDRr8ClS1NL'}, 'href': 'https://api.spotify.com/v1/artists/1YRqgFNXqRyMDRr8ClS1NL', 'id': '1YRqgFNXqRyMDRr8ClS1NL', 'name': 'Kali', 'type': 'artist', 'uri': 'spotify:artist:1YRqgFNXqRyMDRr8ClS1NL'}], 'available_markets': ['AD', 'AE', 'AG', 'AL', 'AM', 'AO', 'AR', 'AT', 'AU', 'AZ', 'BA', 'BB', 'BD', 'BE', 'BF', 'BG', 'BH', 'BI', 'BJ', 'BN', 'BO', 'BR', 'BS', 'BT', 'BW', 'BZ', 'CA', 'CD', 'CG', 'CH', 'CI', 'CL', 'CM', 'CO', 'CR', 'CV', 'CW', 'CY', 'CZ', 'DE', 'DJ', 'DK', 'DM', 'DO', 'DZ', 'EC', 'EE', 'EG', 'ES', 'ET', 'FI', 'FJ', 'FM', 'FR', 'GA', 'GB', 'GD', 'GE', 'GH', 'GM', 'GN', 'GQ', 'GR', 'GT', 'GW', 'GY', 'HK', 'HN', 'HR', 'HT', 'HU', 'ID', 'IE', 'IL', 'IN', 'IQ', 'IS', 'IT', 'JM', 'JO', 'JP', 'KE', 'KG', 'KH', 'KI', 'KM', 'KN', 'KR', 'KW', 'KZ', 'LA', 'LB', 'LC', 'LI', 'LK', 'LR', 'LS', 'LT', 'LU', 'LV', 'LY', 'MA', 'MC', 'MD', 'ME', 'MG', 'MH', 'MK', 'ML', 'MN', 'MO', 'MR', 'MT', 'MU', 'MV', 'MW', 'MX', 'MY', 'MZ', 'NA', 'NE', 'NG', 'NI', 'NL', 'NO', 'NP', 'NR', 'NZ', 'OM', 'PA', 'PE', 'PG', 'PH', 'PK', 'PL', 'PS', 'PT', 'PW', 'PY', 'QA', 'RO', 'RS', 'RW', 'SA', 'SB', 'SC', 'SE', 'SG', 'SI', 'SK', 'SL', 'SM', 'SN', 'SR', 'ST', 'SV', 'SZ', 'TD', 'TG', 'TH', 'TJ', 'TL', 'TN', 'TO', 'TR', 'TT', 'TV', 'TW', 'TZ', 'UA', 'UG', 'US', 'UY', 'UZ', 'VC', 'VE', 'VN', 'VU', 'WS', 'XK', 'ZA', 'ZM', 'ZW'], 'external_urls': {'spotify': 'https://open.spotify.com/album/6uk3hBYbrMsSzufADPjv9K'}, 'href': 'https://api.spotify.com/v1/albums/6uk3hBYbrMsSzufADPjv9K', 'id': '6uk3hBYbrMsSzufADPjv9K', 'images': [{'height': 640, 'url': 'https://i.scdn.co/image/ab67616d0000b27333a8cd9ae03bc913e6e5af11', 'width': 640}, {'height': 300, 'url': 'https://i.scdn.co/image/ab67616d00001e0233a8cd9ae03bc913e6e5af11', 'width': 300}, {'height': 64, 'url': 'https://i.scdn.co/image/ab67616d0000485133a8cd9ae03bc913e6e5af11', 'width': 64}], 'name': 'Area Codes', 'release_date': '2023-03-17', 'release_date_precision': 'day', 'total_tracks': 1, 'type': 'album', 'uri': 'spotify:album:6uk3hBYbrMsSzufADPjv9K'}, 'artists': [{'external_urls': {'spotify': 'https://open.spotify.com/artist/1YRqgFNXqRyMDRr8ClS1NL'}, 'href': 'https://api.spotify.com/v1/artists/1YRqgFNXqRyMDRr8ClS1NL', 'id': '1YRqgFNXqRyMDRr8ClS1NL', 'name': 'Kali', 'type': 'artist', 'uri': 'spotify:artist:1YRqgFNXqRyMDRr8ClS1NL'}], 'available_markets': ['AR', 'AU', 'AT', 'BE', 'BO', 'BR', 'BG', 'CA', 'CL', 'CO', 'CR', 'CY', 'CZ', 'DK', 'DO', 'DE', 'EC', 'EE', 'SV', 'FI', 'FR', 'GR', 'GT', 'HN', 'HK', 'HU', 'IS', 'IE', 'IT', 'LV', 'LT', 'LU', 'MY', 'MT', 'MX', 'NL', 'NZ', 'NI', 'NO', 'PA', 'PY', 'PE', 'PH', 'PL', 'PT', 'SG', 'SK', 'ES', 'SE', 'CH', 'TW', 'TR', 'UY', 'US', 'GB', 'AD', 'LI', 'MC', 'ID', 'JP', 'TH', 'VN', 'RO', 'IL', 'ZA', 'SA', 'AE', 'BH', 'QA', 'OM', 'KW', 'EG', 'MA', 'DZ', 'TN', 'LB', 'JO', 'PS', 'IN', 'KZ', 'MD', 'UA', 'AL', 'BA', 'HR', 'ME', 'MK', 'RS', 'SI', 'KR', 'BD', 'PK', 'LK', 'GH', 'KE', 'NG', 'TZ', 'UG', 'AG', 'AM', 'BS', 'BB', 'BZ', 'BT', 'BW', 'BF', 'CV', 'CW', 'DM', 'FJ', 'GM', 'GE', 'GD', 'GW', 'GY', 'HT', 'JM', 'KI', 'LS', 'LR', 'MW', 'MV', 'ML', 'MH', 'FM', 'NA', 'NR', 'NE', 'PW', 'PG', 'WS', 'SM', 'ST', 'SN', 'SC', 'SL', 'SB', 'KN', 'LC', 'VC', 'SR', 'TL', 'TO', 'TT', 'TV', 'VU', 'AZ', 'BN', 'BI', 'KH', 'CM', 'TD', 'KM', 'GQ', 'SZ', 'GA', 'GN', 'KG', 'LA', 'MO', 'MR', 'MN', 'NP', 'RW', 'TG', 'UZ', 'ZW', 'BJ', 'MG', 'MU', 'MZ', 'AO', 'CI', 'DJ', 'ZM', 'CD', 'CG', 'IQ', 'LY', 'TJ', 'VE', 'ET', 'XK'], 'disc_number': 1, 'duration_ms': 139325, 'episode': False, 'explicit': True, 'external_ids': {'isrc': 'USAT22301942'}, 'external_urls': {'spotify': 'https://open.spotify.com/track/7sliFe6W30tPBPh6dvZsIH'}, 'href': 'https://api.spotify.com/v1/tracks/7sliFe6W30tPBPh6dvZsIH', 'id': '7sliFe6W30tPBPh6dvZsIH', 'is_local': False, 'name': 'Area Codes', 'popularity': 86, 'preview_url': 'https://p.scdn.co/mp3-preview/d1beed2734f948ec9c33164d3aa818e04f4afd30?cid=43964785e73c43698f52de9f8ea49068', 'track': True, 'track_number': 1, 'type': 'track', 'uri': 'spotify:track:7sliFe6W30tPBPh6dvZsIH'}\n",
      "{'album': {'album_type': 'single', 'artists': [{'external_urls': {'spotify': 'https://open.spotify.com/artist/33NVpKoXjItPwUJTMZIOiY'}, 'href': 'https://api.spotify.com/v1/artists/33NVpKoXjItPwUJTMZIOiY', 'id': '33NVpKoXjItPwUJTMZIOiY', 'name': 'David Kushner', 'type': 'artist', 'uri': 'spotify:artist:33NVpKoXjItPwUJTMZIOiY'}], 'available_markets': ['AD', 'AE', 'AG', 'AL', 'AM', 'AO', 'AR', 'AT', 'AU', 'AZ', 'BA', 'BB', 'BD', 'BE', 'BF', 'BG', 'BH', 'BI', 'BJ', 'BN', 'BO', 'BR', 'BS', 'BT', 'BW', 'BZ', 'CA', 'CD', 'CG', 'CH', 'CI', 'CL', 'CM', 'CO', 'CR', 'CV', 'CW', 'CY', 'CZ', 'DE', 'DJ', 'DK', 'DM', 'DO', 'DZ', 'EC', 'EE', 'EG', 'ES', 'ET', 'FI', 'FJ', 'FM', 'FR', 'GA', 'GB', 'GD', 'GE', 'GH', 'GM', 'GN', 'GQ', 'GR', 'GT', 'GW', 'GY', 'HK', 'HN', 'HR', 'HT', 'HU', 'ID', 'IE', 'IL', 'IN', 'IQ', 'IS', 'IT', 'JM', 'JO', 'JP', 'KE', 'KG', 'KH', 'KI', 'KM', 'KN', 'KR', 'KW', 'KZ', 'LA', 'LB', 'LC', 'LI', 'LK', 'LR', 'LS', 'LT', 'LU', 'LV', 'LY', 'MA', 'MC', 'MD', 'ME', 'MG', 'MH', 'MK', 'ML', 'MN', 'MO', 'MR', 'MT', 'MU', 'MV', 'MW', 'MX', 'MY', 'MZ', 'NA', 'NE', 'NG', 'NI', 'NL', 'NO', 'NP', 'NR', 'NZ', 'OM', 'PA', 'PE', 'PG', 'PH', 'PK', 'PL', 'PS', 'PT', 'PW', 'PY', 'QA', 'RO', 'RS', 'RW', 'SA', 'SB', 'SC', 'SE', 'SG', 'SI', 'SK', 'SL', 'SM', 'SN', 'SR', 'ST', 'SV', 'SZ', 'TD', 'TG', 'TH', 'TJ', 'TL', 'TN', 'TO', 'TR', 'TT', 'TV', 'TW', 'TZ', 'UA', 'UG', 'US', 'UY', 'UZ', 'VC', 'VE', 'VN', 'VU', 'WS', 'XK', 'ZA', 'ZM', 'ZW'], 'external_urls': {'spotify': 'https://open.spotify.com/album/6NcI39WPu4kY6Tul11nhSv'}, 'href': 'https://api.spotify.com/v1/albums/6NcI39WPu4kY6Tul11nhSv', 'id': '6NcI39WPu4kY6Tul11nhSv', 'images': [{'height': 640, 'url': 'https://i.scdn.co/image/ab67616d0000b27395ca6a9b4083a86c149934ae', 'width': 640}, {'height': 300, 'url': 'https://i.scdn.co/image/ab67616d00001e0295ca6a9b4083a86c149934ae', 'width': 300}, {'height': 64, 'url': 'https://i.scdn.co/image/ab67616d0000485195ca6a9b4083a86c149934ae', 'width': 64}], 'name': 'Daylight', 'release_date': '2023-04-14', 'release_date_precision': 'day', 'total_tracks': 1, 'type': 'album', 'uri': 'spotify:album:6NcI39WPu4kY6Tul11nhSv'}, 'artists': [{'external_urls': {'spotify': 'https://open.spotify.com/artist/33NVpKoXjItPwUJTMZIOiY'}, 'href': 'https://api.spotify.com/v1/artists/33NVpKoXjItPwUJTMZIOiY', 'id': '33NVpKoXjItPwUJTMZIOiY', 'name': 'David Kushner', 'type': 'artist', 'uri': 'spotify:artist:33NVpKoXjItPwUJTMZIOiY'}], 'available_markets': ['AR', 'AU', 'AT', 'BE', 'BO', 'BR', 'BG', 'CA', 'CL', 'CO', 'CR', 'CY', 'CZ', 'DK', 'DO', 'DE', 'EC', 'EE', 'SV', 'FI', 'FR', 'GR', 'GT', 'HN', 'HK', 'HU', 'IS', 'IE', 'IT', 'LV', 'LT', 'LU', 'MY', 'MT', 'MX', 'NL', 'NZ', 'NI', 'NO', 'PA', 'PY', 'PE', 'PH', 'PL', 'PT', 'SG', 'SK', 'ES', 'SE', 'CH', 'TW', 'TR', 'UY', 'US', 'GB', 'AD', 'LI', 'MC', 'ID', 'JP', 'TH', 'VN', 'RO', 'IL', 'ZA', 'SA', 'AE', 'BH', 'QA', 'OM', 'KW', 'EG', 'MA', 'DZ', 'TN', 'LB', 'JO', 'PS', 'IN', 'KZ', 'MD', 'UA', 'AL', 'BA', 'HR', 'ME', 'MK', 'RS', 'SI', 'KR', 'BD', 'PK', 'LK', 'GH', 'KE', 'NG', 'TZ', 'UG', 'AG', 'AM', 'BS', 'BB', 'BZ', 'BT', 'BW', 'BF', 'CV', 'CW', 'DM', 'FJ', 'GM', 'GE', 'GD', 'GW', 'GY', 'HT', 'JM', 'KI', 'LS', 'LR', 'MW', 'MV', 'ML', 'MH', 'FM', 'NA', 'NR', 'NE', 'PW', 'PG', 'WS', 'SM', 'ST', 'SN', 'SC', 'SL', 'SB', 'KN', 'LC', 'VC', 'SR', 'TL', 'TO', 'TT', 'TV', 'VU', 'AZ', 'BN', 'BI', 'KH', 'CM', 'TD', 'KM', 'GQ', 'SZ', 'GA', 'GN', 'KG', 'LA', 'MO', 'MR', 'MN', 'NP', 'RW', 'TG', 'UZ', 'ZW', 'BJ', 'MG', 'MU', 'MZ', 'AO', 'CI', 'DJ', 'ZM', 'CD', 'CG', 'IQ', 'LY', 'TJ', 'VE', 'ET', 'XK'], 'disc_number': 1, 'duration_ms': 212953, 'episode': False, 'explicit': False, 'external_ids': {'isrc': 'QZXDB2300005'}, 'external_urls': {'spotify': 'https://open.spotify.com/track/1odExI7RdWc4BT515LTAwj'}, 'href': 'https://api.spotify.com/v1/tracks/1odExI7RdWc4BT515LTAwj', 'id': '1odExI7RdWc4BT515LTAwj', 'is_local': False, 'name': 'Daylight', 'popularity': 97, 'preview_url': None, 'track': True, 'track_number': 1, 'type': 'track', 'uri': 'spotify:track:1odExI7RdWc4BT515LTAwj'}\n",
      "{'album': {'album_type': 'single', 'artists': [{'external_urls': {'spotify': 'https://open.spotify.com/artist/49aaHxvAJ0tCh0F15OnwIl'}, 'href': 'https://api.spotify.com/v1/artists/49aaHxvAJ0tCh0F15OnwIl', 'id': '49aaHxvAJ0tCh0F15OnwIl', 'name': 'Loreen', 'type': 'artist', 'uri': 'spotify:artist:49aaHxvAJ0tCh0F15OnwIl'}], 'available_markets': ['AD', 'AE', 'AG', 'AL', 'AM', 'AO', 'AR', 'AT', 'AU', 'AZ', 'BA', 'BB', 'BD', 'BE', 'BF', 'BG', 'BH', 'BI', 'BJ', 'BN', 'BO', 'BR', 'BS', 'BT', 'BW', 'BZ', 'CA', 'CD', 'CG', 'CH', 'CI', 'CL', 'CM', 'CO', 'CR', 'CV', 'CW', 'CY', 'CZ', 'DE', 'DJ', 'DK', 'DM', 'DO', 'DZ', 'EC', 'EE', 'EG', 'ES', 'ET', 'FI', 'FJ', 'FM', 'FR', 'GA', 'GB', 'GD', 'GE', 'GH', 'GM', 'GN', 'GQ', 'GR', 'GT', 'GW', 'GY', 'HK', 'HN', 'HR', 'HT', 'HU', 'ID', 'IE', 'IL', 'IN', 'IQ', 'IS', 'IT', 'JM', 'JO', 'JP', 'KE', 'KG', 'KH', 'KI', 'KM', 'KN', 'KR', 'KW', 'KZ', 'LA', 'LB', 'LC', 'LI', 'LK', 'LR', 'LS', 'LT', 'LU', 'LV', 'LY', 'MA', 'MC', 'MD', 'ME', 'MG', 'MH', 'MK', 'ML', 'MN', 'MO', 'MR', 'MT', 'MU', 'MV', 'MW', 'MX', 'MY', 'MZ', 'NA', 'NE', 'NG', 'NI', 'NL', 'NO', 'NP', 'NR', 'NZ', 'OM', 'PA', 'PE', 'PG', 'PH', 'PK', 'PL', 'PS', 'PT', 'PW', 'PY', 'QA', 'RO', 'RS', 'RW', 'SA', 'SB', 'SC', 'SE', 'SG', 'SI', 'SK', 'SL', 'SM', 'SN', 'SR', 'ST', 'SV', 'SZ', 'TD', 'TG', 'TH', 'TJ', 'TL', 'TN', 'TO', 'TR', 'TT', 'TV', 'TW', 'TZ', 'UA', 'UG', 'US', 'UY', 'UZ', 'VC', 'VE', 'VN', 'VU', 'WS', 'XK', 'ZA', 'ZM', 'ZW'], 'external_urls': {'spotify': 'https://open.spotify.com/album/0LRTS7FyYLppkDLOZT02Xp'}, 'href': 'https://api.spotify.com/v1/albums/0LRTS7FyYLppkDLOZT02Xp', 'id': '0LRTS7FyYLppkDLOZT02Xp', 'images': [{'height': 640, 'url': 'https://i.scdn.co/image/ab67616d0000b2732b0ba87db609976eee193bd6', 'width': 640}, {'height': 300, 'url': 'https://i.scdn.co/image/ab67616d00001e022b0ba87db609976eee193bd6', 'width': 300}, {'height': 64, 'url': 'https://i.scdn.co/image/ab67616d000048512b0ba87db609976eee193bd6', 'width': 64}], 'name': 'Tattoo', 'release_date': '2023-02-25', 'release_date_precision': 'day', 'total_tracks': 1, 'type': 'album', 'uri': 'spotify:album:0LRTS7FyYLppkDLOZT02Xp'}, 'artists': [{'external_urls': {'spotify': 'https://open.spotify.com/artist/49aaHxvAJ0tCh0F15OnwIl'}, 'href': 'https://api.spotify.com/v1/artists/49aaHxvAJ0tCh0F15OnwIl', 'id': '49aaHxvAJ0tCh0F15OnwIl', 'name': 'Loreen', 'type': 'artist', 'uri': 'spotify:artist:49aaHxvAJ0tCh0F15OnwIl'}], 'available_markets': ['AR', 'AU', 'AT', 'BE', 'BO', 'BR', 'BG', 'CA', 'CL', 'CO', 'CR', 'CY', 'CZ', 'DK', 'DO', 'DE', 'EC', 'EE', 'SV', 'FI', 'FR', 'GR', 'GT', 'HN', 'HK', 'HU', 'IS', 'IE', 'IT', 'LV', 'LT', 'LU', 'MY', 'MT', 'MX', 'NL', 'NZ', 'NI', 'NO', 'PA', 'PY', 'PE', 'PH', 'PL', 'PT', 'SG', 'SK', 'ES', 'SE', 'CH', 'TW', 'TR', 'UY', 'US', 'GB', 'AD', 'LI', 'MC', 'ID', 'JP', 'TH', 'VN', 'RO', 'IL', 'ZA', 'SA', 'AE', 'BH', 'QA', 'OM', 'KW', 'EG', 'MA', 'DZ', 'TN', 'LB', 'JO', 'PS', 'IN', 'KZ', 'MD', 'UA', 'AL', 'BA', 'HR', 'ME', 'MK', 'RS', 'SI', 'KR', 'BD', 'PK', 'LK', 'GH', 'KE', 'NG', 'TZ', 'UG', 'AG', 'AM', 'BS', 'BB', 'BZ', 'BT', 'BW', 'BF', 'CV', 'CW', 'DM', 'FJ', 'GM', 'GE', 'GD', 'GW', 'GY', 'HT', 'JM', 'KI', 'LS', 'LR', 'MW', 'MV', 'ML', 'MH', 'FM', 'NA', 'NR', 'NE', 'PW', 'PG', 'WS', 'SM', 'ST', 'SN', 'SC', 'SL', 'SB', 'KN', 'LC', 'VC', 'SR', 'TL', 'TO', 'TT', 'TV', 'VU', 'AZ', 'BN', 'BI', 'KH', 'CM', 'TD', 'KM', 'GQ', 'SZ', 'GA', 'GN', 'KG', 'LA', 'MO', 'MR', 'MN', 'NP', 'RW', 'TG', 'UZ', 'ZW', 'BJ', 'MG', 'MU', 'MZ', 'AO', 'CI', 'DJ', 'ZM', 'CD', 'CG', 'IQ', 'LY', 'TJ', 'VE', 'ET', 'XK'], 'disc_number': 1, 'duration_ms': 183374, 'episode': False, 'explicit': False, 'external_ids': {'isrc': 'SEUM72201638'}, 'external_urls': {'spotify': 'https://open.spotify.com/track/1DmW5Ep6ywYwxc2HMT5BG6'}, 'href': 'https://api.spotify.com/v1/tracks/1DmW5Ep6ywYwxc2HMT5BG6', 'id': '1DmW5Ep6ywYwxc2HMT5BG6', 'is_local': False, 'name': 'Tattoo', 'popularity': 92, 'preview_url': None, 'track': True, 'track_number': 1, 'type': 'track', 'uri': 'spotify:track:1DmW5Ep6ywYwxc2HMT5BG6'}\n",
      "{'album': {'album_type': 'single', 'artists': [{'external_urls': {'spotify': 'https://open.spotify.com/artist/1I0tv3cE1cDIJvQpHyuCYN'}, 'href': 'https://api.spotify.com/v1/artists/1I0tv3cE1cDIJvQpHyuCYN', 'id': '1I0tv3cE1cDIJvQpHyuCYN', 'name': 'Icandy', 'type': 'artist', 'uri': 'spotify:artist:1I0tv3cE1cDIJvQpHyuCYN'}], 'available_markets': ['AD', 'AE', 'AG', 'AL', 'AM', 'AO', 'AR', 'AT', 'AU', 'AZ', 'BA', 'BB', 'BD', 'BE', 'BF', 'BG', 'BH', 'BI', 'BJ', 'BN', 'BO', 'BR', 'BS', 'BT', 'BW', 'BY', 'BZ', 'CA', 'CD', 'CG', 'CH', 'CI', 'CL', 'CM', 'CO', 'CR', 'CV', 'CW', 'CY', 'CZ', 'DE', 'DJ', 'DK', 'DM', 'DO', 'DZ', 'EC', 'EE', 'EG', 'ES', 'ET', 'FI', 'FJ', 'FM', 'FR', 'GA', 'GB', 'GD', 'GE', 'GH', 'GM', 'GN', 'GQ', 'GR', 'GT', 'GW', 'GY', 'HK', 'HN', 'HR', 'HT', 'HU', 'ID', 'IE', 'IL', 'IN', 'IQ', 'IS', 'IT', 'JM', 'JO', 'JP', 'KE', 'KG', 'KH', 'KI', 'KM', 'KN', 'KR', 'KW', 'KZ', 'LA', 'LB', 'LC', 'LI', 'LK', 'LR', 'LS', 'LT', 'LU', 'LV', 'LY', 'MA', 'MC', 'MD', 'ME', 'MG', 'MH', 'MK', 'ML', 'MN', 'MO', 'MR', 'MT', 'MU', 'MV', 'MW', 'MX', 'MY', 'MZ', 'NA', 'NE', 'NG', 'NI', 'NL', 'NO', 'NP', 'NR', 'NZ', 'OM', 'PA', 'PE', 'PG', 'PH', 'PK', 'PL', 'PS', 'PT', 'PW', 'PY', 'QA', 'RO', 'RS', 'RW', 'SA', 'SB', 'SC', 'SE', 'SG', 'SI', 'SK', 'SL', 'SM', 'SN', 'SR', 'ST', 'SV', 'SZ', 'TD', 'TG', 'TH', 'TJ', 'TL', 'TN', 'TO', 'TR', 'TT', 'TV', 'TW', 'TZ', 'UA', 'UG', 'US', 'UY', 'UZ', 'VC', 'VE', 'VN', 'VU', 'WS', 'XK', 'ZA', 'ZM', 'ZW'], 'external_urls': {'spotify': 'https://open.spotify.com/album/4EqXw4bTD5XpdI16CSlWng'}, 'href': 'https://api.spotify.com/v1/albums/4EqXw4bTD5XpdI16CSlWng', 'id': '4EqXw4bTD5XpdI16CSlWng', 'images': [{'height': 640, 'url': 'https://i.scdn.co/image/ab67616d0000b2739f8f59dedbce095a01f87c37', 'width': 640}, {'height': 300, 'url': 'https://i.scdn.co/image/ab67616d00001e029f8f59dedbce095a01f87c37', 'width': 300}, {'height': 64, 'url': 'https://i.scdn.co/image/ab67616d000048519f8f59dedbce095a01f87c37', 'width': 64}], 'name': 'Keep Dat Nigga', 'release_date': '2022-12-19', 'release_date_precision': 'day', 'total_tracks': 1, 'type': 'album', 'uri': 'spotify:album:4EqXw4bTD5XpdI16CSlWng'}, 'artists': [{'external_urls': {'spotify': 'https://open.spotify.com/artist/1I0tv3cE1cDIJvQpHyuCYN'}, 'href': 'https://api.spotify.com/v1/artists/1I0tv3cE1cDIJvQpHyuCYN', 'id': '1I0tv3cE1cDIJvQpHyuCYN', 'name': 'Icandy', 'type': 'artist', 'uri': 'spotify:artist:1I0tv3cE1cDIJvQpHyuCYN'}], 'available_markets': ['AR', 'AU', 'AT', 'BE', 'BO', 'BR', 'BG', 'CA', 'CL', 'CO', 'CR', 'CY', 'CZ', 'DK', 'DO', 'DE', 'EC', 'EE', 'SV', 'FI', 'FR', 'GR', 'GT', 'HN', 'HK', 'HU', 'IS', 'IE', 'IT', 'LV', 'LT', 'LU', 'MY', 'MT', 'MX', 'NL', 'NZ', 'NI', 'NO', 'PA', 'PY', 'PE', 'PH', 'PL', 'PT', 'SG', 'SK', 'ES', 'SE', 'CH', 'TW', 'TR', 'UY', 'US', 'GB', 'AD', 'LI', 'MC', 'ID', 'JP', 'TH', 'VN', 'RO', 'IL', 'ZA', 'SA', 'AE', 'BH', 'QA', 'OM', 'KW', 'EG', 'MA', 'DZ', 'TN', 'LB', 'JO', 'PS', 'IN', 'BY', 'KZ', 'MD', 'UA', 'AL', 'BA', 'HR', 'ME', 'MK', 'RS', 'SI', 'KR', 'BD', 'PK', 'LK', 'GH', 'KE', 'NG', 'TZ', 'UG', 'AG', 'AM', 'BS', 'BB', 'BZ', 'BT', 'BW', 'BF', 'CV', 'CW', 'DM', 'FJ', 'GM', 'GE', 'GD', 'GW', 'GY', 'HT', 'JM', 'KI', 'LS', 'LR', 'MW', 'MV', 'ML', 'MH', 'FM', 'NA', 'NR', 'NE', 'PW', 'PG', 'WS', 'SM', 'ST', 'SN', 'SC', 'SL', 'SB', 'KN', 'LC', 'VC', 'SR', 'TL', 'TO', 'TT', 'TV', 'VU', 'AZ', 'BN', 'BI', 'KH', 'CM', 'TD', 'KM', 'GQ', 'SZ', 'GA', 'GN', 'KG', 'LA', 'MO', 'MR', 'MN', 'NP', 'RW', 'TG', 'UZ', 'ZW', 'BJ', 'MG', 'MU', 'MZ', 'AO', 'CI', 'DJ', 'ZM', 'CD', 'CG', 'IQ', 'LY', 'TJ', 'VE', 'ET', 'XK'], 'disc_number': 1, 'duration_ms': 138945, 'episode': False, 'explicit': True, 'external_ids': {'isrc': 'USQX92302529'}, 'external_urls': {'spotify': 'https://open.spotify.com/track/06eobTXs90ICbtbxhmgviZ'}, 'href': 'https://api.spotify.com/v1/tracks/06eobTXs90ICbtbxhmgviZ', 'id': '06eobTXs90ICbtbxhmgviZ', 'is_local': False, 'name': 'Keep Dat Nigga', 'popularity': 79, 'preview_url': 'https://p.scdn.co/mp3-preview/4c4a08f29d9a7ca83dd4edc3077f38009714676c?cid=43964785e73c43698f52de9f8ea49068', 'track': True, 'track_number': 1, 'type': 'track', 'uri': 'spotify:track:06eobTXs90ICbtbxhmgviZ'}\n",
      "{'album': {'album_type': 'album', 'artists': [{'external_urls': {'spotify': 'https://open.spotify.com/artist/1zuJe6b1roixEKMOtyrEak'}, 'href': 'https://api.spotify.com/v1/artists/1zuJe6b1roixEKMOtyrEak', 'id': '1zuJe6b1roixEKMOtyrEak', 'name': 'Tina Turner', 'type': 'artist', 'uri': 'spotify:artist:1zuJe6b1roixEKMOtyrEak'}], 'available_markets': ['AD', 'AE', 'AG', 'AL', 'AM', 'AO', 'AR', 'AT', 'AU', 'AZ', 'BA', 'BB', 'BD', 'BE', 'BF', 'BG', 'BH', 'BI', 'BJ', 'BN', 'BO', 'BR', 'BS', 'BT', 'BW', 'BY', 'BZ', 'CA', 'CD', 'CG', 'CH', 'CI', 'CL', 'CM', 'CO', 'CR', 'CV', 'CW', 'CY', 'CZ', 'DE', 'DJ', 'DK', 'DM', 'DO', 'DZ', 'EC', 'EE', 'EG', 'ES', 'ET', 'FI', 'FJ', 'FM', 'FR', 'GA', 'GB', 'GD', 'GE', 'GH', 'GM', 'GN', 'GQ', 'GR', 'GT', 'GW', 'GY', 'HK', 'HN', 'HR', 'HT', 'HU', 'ID', 'IE', 'IL', 'IN', 'IQ', 'IS', 'IT', 'JM', 'JO', 'JP', 'KE', 'KG', 'KH', 'KI', 'KM', 'KN', 'KR', 'KW', 'KZ', 'LA', 'LB', 'LC', 'LI', 'LK', 'LR', 'LS', 'LT', 'LU', 'LV', 'LY', 'MA', 'MC', 'MD', 'ME', 'MG', 'MH', 'MK', 'ML', 'MN', 'MO', 'MR', 'MT', 'MU', 'MV', 'MW', 'MX', 'MY', 'MZ', 'NA', 'NE', 'NG', 'NI', 'NL', 'NO', 'NP', 'NR', 'NZ', 'OM', 'PA', 'PE', 'PG', 'PH', 'PK', 'PL', 'PS', 'PT', 'PW', 'PY', 'QA', 'RO', 'RS', 'RW', 'SA', 'SB', 'SC', 'SE', 'SG', 'SI', 'SK', 'SL', 'SM', 'SN', 'SR', 'ST', 'SV', 'SZ', 'TD', 'TG', 'TH', 'TJ', 'TL', 'TN', 'TO', 'TR', 'TT', 'TV', 'TW', 'TZ', 'UA', 'UG', 'US', 'UY', 'UZ', 'VC', 'VE', 'VN', 'VU', 'WS', 'XK', 'ZA', 'ZM', 'ZW'], 'external_urls': {'spotify': 'https://open.spotify.com/album/3hgAoHSmany3EiKL0Aqh3G'}, 'href': 'https://api.spotify.com/v1/albums/3hgAoHSmany3EiKL0Aqh3G', 'id': '3hgAoHSmany3EiKL0Aqh3G', 'images': [{'height': 640, 'url': 'https://i.scdn.co/image/ab67616d0000b273a04b4373fd72bf81c8784adf', 'width': 640}, {'height': 300, 'url': 'https://i.scdn.co/image/ab67616d00001e02a04b4373fd72bf81c8784adf', 'width': 300}, {'height': 64, 'url': 'https://i.scdn.co/image/ab67616d00004851a04b4373fd72bf81c8784adf', 'width': 64}], 'name': 'Foreign Affair', 'release_date': '1989-09-13', 'release_date_precision': 'day', 'total_tracks': 12, 'type': 'album', 'uri': 'spotify:album:3hgAoHSmany3EiKL0Aqh3G'}, 'artists': [{'external_urls': {'spotify': 'https://open.spotify.com/artist/1zuJe6b1roixEKMOtyrEak'}, 'href': 'https://api.spotify.com/v1/artists/1zuJe6b1roixEKMOtyrEak', 'id': '1zuJe6b1roixEKMOtyrEak', 'name': 'Tina Turner', 'type': 'artist', 'uri': 'spotify:artist:1zuJe6b1roixEKMOtyrEak'}], 'available_markets': ['AR', 'AU', 'AT', 'BE', 'BO', 'BR', 'BG', 'CA', 'CL', 'CO', 'CR', 'CY', 'CZ', 'DK', 'DO', 'DE', 'EC', 'EE', 'SV', 'FI', 'FR', 'GR', 'GT', 'HN', 'HK', 'HU', 'IS', 'IE', 'IT', 'LV', 'LT', 'LU', 'MY', 'MT', 'MX', 'NL', 'NZ', 'NI', 'NO', 'PA', 'PY', 'PE', 'PH', 'PL', 'PT', 'SG', 'SK', 'ES', 'SE', 'CH', 'TW', 'TR', 'UY', 'US', 'GB', 'AD', 'LI', 'MC', 'ID', 'JP', 'TH', 'VN', 'RO', 'IL', 'ZA', 'SA', 'AE', 'BH', 'QA', 'OM', 'KW', 'EG', 'MA', 'DZ', 'TN', 'LB', 'JO', 'PS', 'IN', 'BY', 'KZ', 'MD', 'UA', 'AL', 'BA', 'HR', 'ME', 'MK', 'RS', 'SI', 'KR', 'BD', 'PK', 'LK', 'GH', 'KE', 'NG', 'TZ', 'UG', 'AG', 'AM', 'BS', 'BB', 'BZ', 'BT', 'BW', 'BF', 'CV', 'CW', 'DM', 'FJ', 'GM', 'GE', 'GD', 'GW', 'GY', 'HT', 'JM', 'KI', 'LS', 'LR', 'MW', 'MV', 'ML', 'MH', 'FM', 'NA', 'NR', 'NE', 'PW', 'PG', 'WS', 'SM', 'ST', 'SN', 'SC', 'SL', 'SB', 'KN', 'LC', 'VC', 'SR', 'TL', 'TO', 'TT', 'TV', 'VU', 'AZ', 'BN', 'BI', 'KH', 'CM', 'TD', 'KM', 'GQ', 'SZ', 'GA', 'GN', 'KG', 'LA', 'MO', 'MR', 'MN', 'NP', 'RW', 'TG', 'UZ', 'ZW', 'BJ', 'MG', 'MU', 'MZ', 'AO', 'CI', 'DJ', 'ZM', 'CD', 'CG', 'IQ', 'LY', 'TJ', 'VE', 'ET', 'XK'], 'disc_number': 1, 'duration_ms': 329800, 'episode': False, 'explicit': False, 'external_ids': {'isrc': 'USCA28900109'}, 'external_urls': {'spotify': 'https://open.spotify.com/track/6pPWRBubXOBAHnjl5ZIujB'}, 'href': 'https://api.spotify.com/v1/tracks/6pPWRBubXOBAHnjl5ZIujB', 'id': '6pPWRBubXOBAHnjl5ZIujB', 'is_local': False, 'name': 'The Best', 'popularity': 74, 'preview_url': 'https://p.scdn.co/mp3-preview/72ecae1737bc2e5e3cb7239966d5d9a6082b03b2?cid=43964785e73c43698f52de9f8ea49068', 'track': True, 'track_number': 2, 'type': 'track', 'uri': 'spotify:track:6pPWRBubXOBAHnjl5ZIujB'}\n",
      "{'album': {'album_type': 'single', 'artists': [{'external_urls': {'spotify': 'https://open.spotify.com/artist/2ih5M0aTrQ97JX1nZuxDQY'}, 'href': 'https://api.spotify.com/v1/artists/2ih5M0aTrQ97JX1nZuxDQY', 'id': '2ih5M0aTrQ97JX1nZuxDQY', 'name': 'Iniko', 'type': 'artist', 'uri': 'spotify:artist:2ih5M0aTrQ97JX1nZuxDQY'}], 'available_markets': ['AD', 'AE', 'AG', 'AL', 'AM', 'AO', 'AR', 'AT', 'AU', 'AZ', 'BA', 'BB', 'BD', 'BE', 'BF', 'BG', 'BH', 'BI', 'BJ', 'BN', 'BO', 'BR', 'BS', 'BT', 'BW', 'BY', 'BZ', 'CA', 'CD', 'CG', 'CH', 'CI', 'CL', 'CM', 'CO', 'CR', 'CV', 'CW', 'CY', 'CZ', 'DE', 'DJ', 'DK', 'DM', 'DO', 'DZ', 'EC', 'EE', 'EG', 'ES', 'ET', 'FI', 'FJ', 'FM', 'FR', 'GA', 'GB', 'GD', 'GE', 'GH', 'GM', 'GN', 'GQ', 'GR', 'GT', 'GW', 'GY', 'HK', 'HN', 'HR', 'HT', 'HU', 'ID', 'IE', 'IL', 'IN', 'IQ', 'IS', 'IT', 'JM', 'JO', 'JP', 'KE', 'KG', 'KH', 'KI', 'KM', 'KN', 'KR', 'KW', 'KZ', 'LA', 'LB', 'LC', 'LI', 'LK', 'LR', 'LS', 'LT', 'LU', 'LV', 'LY', 'MA', 'MC', 'MD', 'ME', 'MG', 'MH', 'MK', 'ML', 'MN', 'MO', 'MR', 'MT', 'MU', 'MV', 'MW', 'MX', 'MY', 'MZ', 'NA', 'NE', 'NG', 'NI', 'NL', 'NO', 'NP', 'NR', 'NZ', 'OM', 'PA', 'PE', 'PG', 'PH', 'PK', 'PL', 'PS', 'PT', 'PW', 'PY', 'QA', 'RO', 'RS', 'RW', 'SA', 'SB', 'SC', 'SE', 'SG', 'SI', 'SK', 'SL', 'SM', 'SN', 'SR', 'ST', 'SV', 'SZ', 'TD', 'TG', 'TH', 'TJ', 'TL', 'TN', 'TO', 'TR', 'TT', 'TV', 'TW', 'TZ', 'UA', 'UG', 'US', 'UY', 'UZ', 'VC', 'VE', 'VN', 'VU', 'WS', 'XK', 'ZA', 'ZM', 'ZW'], 'external_urls': {'spotify': 'https://open.spotify.com/album/3TF9WzclcGdnebpaHgMyxh'}, 'href': 'https://api.spotify.com/v1/albums/3TF9WzclcGdnebpaHgMyxh', 'id': '3TF9WzclcGdnebpaHgMyxh', 'images': [{'height': 640, 'url': 'https://i.scdn.co/image/ab67616d0000b273cb9eb26c1431d576ca8f205c', 'width': 640}, {'height': 300, 'url': 'https://i.scdn.co/image/ab67616d00001e02cb9eb26c1431d576ca8f205c', 'width': 300}, {'height': 64, 'url': 'https://i.scdn.co/image/ab67616d00004851cb9eb26c1431d576ca8f205c', 'width': 64}], 'name': 'Jericho', 'release_date': '2023-04-15', 'release_date_precision': 'day', 'total_tracks': 1, 'type': 'album', 'uri': 'spotify:album:3TF9WzclcGdnebpaHgMyxh'}, 'artists': [{'external_urls': {'spotify': 'https://open.spotify.com/artist/2ih5M0aTrQ97JX1nZuxDQY'}, 'href': 'https://api.spotify.com/v1/artists/2ih5M0aTrQ97JX1nZuxDQY', 'id': '2ih5M0aTrQ97JX1nZuxDQY', 'name': 'Iniko', 'type': 'artist', 'uri': 'spotify:artist:2ih5M0aTrQ97JX1nZuxDQY'}], 'available_markets': ['AR', 'AU', 'AT', 'BE', 'BO', 'BR', 'BG', 'CA', 'CL', 'CO', 'CR', 'CY', 'CZ', 'DK', 'DO', 'DE', 'EC', 'EE', 'SV', 'FI', 'FR', 'GR', 'GT', 'HN', 'HK', 'HU', 'IS', 'IE', 'IT', 'LV', 'LT', 'LU', 'MY', 'MT', 'MX', 'NL', 'NZ', 'NI', 'NO', 'PA', 'PY', 'PE', 'PH', 'PL', 'PT', 'SG', 'SK', 'ES', 'SE', 'CH', 'TW', 'TR', 'UY', 'US', 'GB', 'AD', 'LI', 'MC', 'ID', 'JP', 'TH', 'VN', 'RO', 'IL', 'ZA', 'SA', 'AE', 'BH', 'QA', 'OM', 'KW', 'EG', 'MA', 'DZ', 'TN', 'LB', 'JO', 'PS', 'IN', 'BY', 'KZ', 'MD', 'UA', 'AL', 'BA', 'HR', 'ME', 'MK', 'RS', 'SI', 'KR', 'BD', 'PK', 'LK', 'GH', 'KE', 'NG', 'TZ', 'UG', 'AG', 'AM', 'BS', 'BB', 'BZ', 'BT', 'BW', 'BF', 'CV', 'CW', 'DM', 'FJ', 'GM', 'GE', 'GD', 'GW', 'GY', 'HT', 'JM', 'KI', 'LS', 'LR', 'MW', 'MV', 'ML', 'MH', 'FM', 'NA', 'NR', 'NE', 'PW', 'PG', 'WS', 'SM', 'ST', 'SN', 'SC', 'SL', 'SB', 'KN', 'LC', 'VC', 'SR', 'TL', 'TO', 'TT', 'TV', 'VU', 'AZ', 'BN', 'BI', 'KH', 'CM', 'TD', 'KM', 'GQ', 'SZ', 'GA', 'GN', 'KG', 'LA', 'MO', 'MR', 'MN', 'NP', 'RW', 'TG', 'UZ', 'ZW', 'BJ', 'MG', 'MU', 'MZ', 'AO', 'CI', 'DJ', 'ZM', 'CD', 'CG', 'IQ', 'LY', 'TJ', 'VE', 'ET', 'XK'], 'disc_number': 1, 'duration_ms': 158133, 'episode': False, 'explicit': False, 'external_ids': {'isrc': 'USQX92302565'}, 'external_urls': {'spotify': 'https://open.spotify.com/track/4ztdjZ2t7BVo5DLIFQBdJh'}, 'href': 'https://api.spotify.com/v1/tracks/4ztdjZ2t7BVo5DLIFQBdJh', 'id': '4ztdjZ2t7BVo5DLIFQBdJh', 'is_local': False, 'name': 'Jericho', 'popularity': 82, 'preview_url': 'https://p.scdn.co/mp3-preview/92293cd071cd09f0767a5f696c0b4e7dc66d92f0?cid=43964785e73c43698f52de9f8ea49068', 'track': True, 'track_number': 1, 'type': 'track', 'uri': 'spotify:track:4ztdjZ2t7BVo5DLIFQBdJh'}\n",
      "{'album': {'album_type': 'album', 'artists': [{'external_urls': {'spotify': 'https://open.spotify.com/artist/0XeEobZplHxzM9QzFQWLiR'}, 'href': 'https://api.spotify.com/v1/artists/0XeEobZplHxzM9QzFQWLiR', 'id': '0XeEobZplHxzM9QzFQWLiR', 'name': 'Eslabon Armado', 'type': 'artist', 'uri': 'spotify:artist:0XeEobZplHxzM9QzFQWLiR'}], 'available_markets': ['AD', 'AE', 'AG', 'AL', 'AM', 'AO', 'AR', 'AT', 'AU', 'AZ', 'BA', 'BB', 'BD', 'BE', 'BF', 'BG', 'BH', 'BI', 'BJ', 'BN', 'BO', 'BR', 'BS', 'BT', 'BW', 'BY', 'BZ', 'CA', 'CD', 'CG', 'CH', 'CI', 'CL', 'CM', 'CO', 'CR', 'CV', 'CW', 'CY', 'CZ', 'DE', 'DJ', 'DK', 'DM', 'DO', 'DZ', 'EC', 'EE', 'EG', 'ES', 'ET', 'FI', 'FJ', 'FM', 'FR', 'GA', 'GB', 'GD', 'GE', 'GH', 'GM', 'GN', 'GQ', 'GR', 'GT', 'GW', 'GY', 'HK', 'HN', 'HR', 'HT', 'HU', 'ID', 'IE', 'IL', 'IN', 'IQ', 'IS', 'IT', 'JM', 'JO', 'JP', 'KE', 'KG', 'KH', 'KI', 'KM', 'KN', 'KR', 'KW', 'KZ', 'LA', 'LB', 'LC', 'LI', 'LK', 'LR', 'LS', 'LT', 'LU', 'LV', 'LY', 'MA', 'MC', 'MD', 'ME', 'MG', 'MH', 'MK', 'ML', 'MN', 'MO', 'MR', 'MT', 'MU', 'MV', 'MW', 'MX', 'MY', 'MZ', 'NA', 'NE', 'NG', 'NI', 'NL', 'NO', 'NP', 'NR', 'NZ', 'OM', 'PA', 'PE', 'PG', 'PH', 'PK', 'PL', 'PS', 'PT', 'PW', 'PY', 'QA', 'RO', 'RS', 'RW', 'SA', 'SB', 'SC', 'SE', 'SG', 'SI', 'SK', 'SL', 'SM', 'SN', 'SR', 'ST', 'SV', 'SZ', 'TD', 'TG', 'TH', 'TJ', 'TL', 'TN', 'TO', 'TR', 'TT', 'TV', 'TW', 'TZ', 'UA', 'UG', 'US', 'UY', 'UZ', 'VC', 'VE', 'VN', 'VU', 'WS', 'XK', 'ZA', 'ZM', 'ZW'], 'external_urls': {'spotify': 'https://open.spotify.com/album/5aDEezKnOqyQo0qvTFhpkM'}, 'href': 'https://api.spotify.com/v1/albums/5aDEezKnOqyQo0qvTFhpkM', 'id': '5aDEezKnOqyQo0qvTFhpkM', 'images': [{'height': 640, 'url': 'https://i.scdn.co/image/ab67616d0000b273dfddf1cb31b85a6d28b7d91f', 'width': 640}, {'height': 300, 'url': 'https://i.scdn.co/image/ab67616d00001e02dfddf1cb31b85a6d28b7d91f', 'width': 300}, {'height': 64, 'url': 'https://i.scdn.co/image/ab67616d00004851dfddf1cb31b85a6d28b7d91f', 'width': 64}], 'name': 'DESVELADO', 'release_date': '2023-04-28', 'release_date_precision': 'day', 'total_tracks': 16, 'type': 'album', 'uri': 'spotify:album:5aDEezKnOqyQo0qvTFhpkM'}, 'artists': [{'external_urls': {'spotify': 'https://open.spotify.com/artist/0XeEobZplHxzM9QzFQWLiR'}, 'href': 'https://api.spotify.com/v1/artists/0XeEobZplHxzM9QzFQWLiR', 'id': '0XeEobZplHxzM9QzFQWLiR', 'name': 'Eslabon Armado', 'type': 'artist', 'uri': 'spotify:artist:0XeEobZplHxzM9QzFQWLiR'}, {'external_urls': {'spotify': 'https://open.spotify.com/artist/12GqGscKJx3aE4t07u7eVZ'}, 'href': 'https://api.spotify.com/v1/artists/12GqGscKJx3aE4t07u7eVZ', 'id': '12GqGscKJx3aE4t07u7eVZ', 'name': 'Peso Pluma', 'type': 'artist', 'uri': 'spotify:artist:12GqGscKJx3aE4t07u7eVZ'}], 'available_markets': ['AR', 'AU', 'AT', 'BE', 'BO', 'BR', 'BG', 'CA', 'CL', 'CO', 'CR', 'CY', 'CZ', 'DK', 'DO', 'DE', 'EC', 'EE', 'SV', 'FI', 'FR', 'GR', 'GT', 'HN', 'HK', 'HU', 'IS', 'IE', 'IT', 'LV', 'LT', 'LU', 'MY', 'MT', 'MX', 'NL', 'NZ', 'NI', 'NO', 'PA', 'PY', 'PE', 'PH', 'PL', 'PT', 'SG', 'SK', 'ES', 'SE', 'CH', 'TW', 'TR', 'UY', 'US', 'GB', 'AD', 'LI', 'MC', 'ID', 'JP', 'TH', 'VN', 'RO', 'IL', 'ZA', 'SA', 'AE', 'BH', 'QA', 'OM', 'KW', 'EG', 'MA', 'DZ', 'TN', 'LB', 'JO', 'PS', 'IN', 'BY', 'KZ', 'MD', 'UA', 'AL', 'BA', 'HR', 'ME', 'MK', 'RS', 'SI', 'KR', 'BD', 'PK', 'LK', 'GH', 'KE', 'NG', 'TZ', 'UG', 'AG', 'AM', 'BS', 'BB', 'BZ', 'BT', 'BW', 'BF', 'CV', 'CW', 'DM', 'FJ', 'GM', 'GE', 'GD', 'GW', 'GY', 'HT', 'JM', 'KI', 'LS', 'LR', 'MW', 'MV', 'ML', 'MH', 'FM', 'NA', 'NR', 'NE', 'PW', 'PG', 'WS', 'SM', 'ST', 'SN', 'SC', 'SL', 'SB', 'KN', 'LC', 'VC', 'SR', 'TL', 'TO', 'TT', 'TV', 'VU', 'AZ', 'BN', 'BI', 'KH', 'CM', 'TD', 'KM', 'GQ', 'SZ', 'GA', 'GN', 'KG', 'LA', 'MO', 'MR', 'MN', 'NP', 'RW', 'TG', 'UZ', 'ZW', 'BJ', 'MG', 'MU', 'MZ', 'AO', 'CI', 'DJ', 'ZM', 'CD', 'CG', 'IQ', 'LY', 'TJ', 'VE', 'ET', 'XK'], 'disc_number': 1, 'duration_ms': 165671, 'episode': False, 'explicit': False, 'external_ids': {'isrc': 'USE7D2300007'}, 'external_urls': {'spotify': 'https://open.spotify.com/track/3qQbCzHBycnDpGskqOWY0E'}, 'href': 'https://api.spotify.com/v1/tracks/3qQbCzHBycnDpGskqOWY0E', 'id': '3qQbCzHBycnDpGskqOWY0E', 'is_local': False, 'name': 'Ella Baila Sola', 'popularity': 91, 'preview_url': 'https://p.scdn.co/mp3-preview/5d39f3e17f1e20e2711d033001e48b8d4249b992?cid=43964785e73c43698f52de9f8ea49068', 'track': True, 'track_number': 6, 'type': 'track', 'uri': 'spotify:track:3qQbCzHBycnDpGskqOWY0E'}\n",
      "{'album': {'album_type': 'single', 'artists': [{'external_urls': {'spotify': 'https://open.spotify.com/artist/7xD76cR2sg2mAH29zBGnks'}, 'href': 'https://api.spotify.com/v1/artists/7xD76cR2sg2mAH29zBGnks', 'id': '7xD76cR2sg2mAH29zBGnks', 'name': 'glichery', 'type': 'artist', 'uri': 'spotify:artist:7xD76cR2sg2mAH29zBGnks'}], 'available_markets': ['AD', 'AE', 'AG', 'AL', 'AM', 'AO', 'AR', 'AT', 'AU', 'AZ', 'BA', 'BB', 'BD', 'BE', 'BF', 'BG', 'BH', 'BI', 'BJ', 'BN', 'BO', 'BR', 'BS', 'BT', 'BW', 'BY', 'BZ', 'CA', 'CD', 'CG', 'CH', 'CI', 'CL', 'CM', 'CO', 'CR', 'CV', 'CW', 'CY', 'CZ', 'DE', 'DJ', 'DK', 'DM', 'DO', 'DZ', 'EC', 'EE', 'EG', 'ES', 'ET', 'FI', 'FJ', 'FM', 'FR', 'GA', 'GB', 'GD', 'GE', 'GH', 'GM', 'GN', 'GQ', 'GR', 'GT', 'GW', 'GY', 'HK', 'HN', 'HR', 'HT', 'HU', 'ID', 'IE', 'IL', 'IN', 'IQ', 'IS', 'IT', 'JM', 'JO', 'JP', 'KE', 'KG', 'KH', 'KI', 'KM', 'KN', 'KR', 'KW', 'KZ', 'LA', 'LB', 'LC', 'LI', 'LK', 'LR', 'LS', 'LT', 'LU', 'LV', 'LY', 'MA', 'MC', 'MD', 'ME', 'MG', 'MH', 'MK', 'ML', 'MN', 'MO', 'MR', 'MT', 'MU', 'MV', 'MW', 'MX', 'MY', 'MZ', 'NA', 'NE', 'NG', 'NI', 'NL', 'NO', 'NP', 'NR', 'NZ', 'OM', 'PA', 'PE', 'PG', 'PH', 'PK', 'PL', 'PS', 'PT', 'PW', 'PY', 'QA', 'RO', 'RS', 'RW', 'SA', 'SB', 'SC', 'SE', 'SG', 'SI', 'SK', 'SL', 'SM', 'SN', 'SR', 'ST', 'SV', 'SZ', 'TD', 'TG', 'TH', 'TJ', 'TL', 'TN', 'TO', 'TR', 'TT', 'TV', 'TW', 'TZ', 'UA', 'UG', 'US', 'UY', 'UZ', 'VC', 'VE', 'VN', 'VU', 'WS', 'XK', 'ZA', 'ZM', 'ZW'], 'external_urls': {'spotify': 'https://open.spotify.com/album/3nofsi0Rt2tnhAuvz8pB95'}, 'href': 'https://api.spotify.com/v1/albums/3nofsi0Rt2tnhAuvz8pB95', 'id': '3nofsi0Rt2tnhAuvz8pB95', 'images': [{'height': 640, 'url': 'https://i.scdn.co/image/ab67616d0000b2734d5a49d56acb995c0325f859', 'width': 640}, {'height': 300, 'url': 'https://i.scdn.co/image/ab67616d00001e024d5a49d56acb995c0325f859', 'width': 300}, {'height': 64, 'url': 'https://i.scdn.co/image/ab67616d000048514d5a49d56acb995c0325f859', 'width': 64}], 'name': 'Sea Of Problems', 'release_date': '2023-03-11', 'release_date_precision': 'day', 'total_tracks': 1, 'type': 'album', 'uri': 'spotify:album:3nofsi0Rt2tnhAuvz8pB95'}, 'artists': [{'external_urls': {'spotify': 'https://open.spotify.com/artist/7xD76cR2sg2mAH29zBGnks'}, 'href': 'https://api.spotify.com/v1/artists/7xD76cR2sg2mAH29zBGnks', 'id': '7xD76cR2sg2mAH29zBGnks', 'name': 'glichery', 'type': 'artist', 'uri': 'spotify:artist:7xD76cR2sg2mAH29zBGnks'}], 'available_markets': ['AR', 'AU', 'AT', 'BE', 'BO', 'BR', 'BG', 'CA', 'CL', 'CO', 'CR', 'CY', 'CZ', 'DK', 'DO', 'DE', 'EC', 'EE', 'SV', 'FI', 'FR', 'GR', 'GT', 'HN', 'HK', 'HU', 'IS', 'IE', 'IT', 'LV', 'LT', 'LU', 'MY', 'MT', 'MX', 'NL', 'NZ', 'NI', 'NO', 'PA', 'PY', 'PE', 'PH', 'PL', 'PT', 'SG', 'SK', 'ES', 'SE', 'CH', 'TW', 'TR', 'UY', 'US', 'GB', 'AD', 'LI', 'MC', 'ID', 'JP', 'TH', 'VN', 'RO', 'IL', 'ZA', 'SA', 'AE', 'BH', 'QA', 'OM', 'KW', 'EG', 'MA', 'DZ', 'TN', 'LB', 'JO', 'PS', 'IN', 'BY', 'KZ', 'MD', 'UA', 'AL', 'BA', 'HR', 'ME', 'MK', 'RS', 'SI', 'KR', 'BD', 'PK', 'LK', 'GH', 'KE', 'NG', 'TZ', 'UG', 'AG', 'AM', 'BS', 'BB', 'BZ', 'BT', 'BW', 'BF', 'CV', 'CW', 'DM', 'FJ', 'GM', 'GE', 'GD', 'GW', 'GY', 'HT', 'JM', 'KI', 'LS', 'LR', 'MW', 'MV', 'ML', 'MH', 'FM', 'NA', 'NR', 'NE', 'PW', 'PG', 'WS', 'SM', 'ST', 'SN', 'SC', 'SL', 'SB', 'KN', 'LC', 'VC', 'SR', 'TL', 'TO', 'TT', 'TV', 'VU', 'AZ', 'BN', 'BI', 'KH', 'CM', 'TD', 'KM', 'GQ', 'SZ', 'GA', 'GN', 'KG', 'LA', 'MO', 'MR', 'MN', 'NP', 'RW', 'TG', 'UZ', 'ZW', 'BJ', 'MG', 'MU', 'MZ', 'AO', 'CI', 'DJ', 'ZM', 'CD', 'CG', 'IQ', 'LY', 'TJ', 'VE', 'ET', 'XK'], 'disc_number': 1, 'duration_ms': 110624, 'episode': False, 'explicit': True, 'external_ids': {'isrc': 'QZES52317018'}, 'external_urls': {'spotify': 'https://open.spotify.com/track/3VvcKToPY3diGRjERt8NvD'}, 'href': 'https://api.spotify.com/v1/tracks/3VvcKToPY3diGRjERt8NvD', 'id': '3VvcKToPY3diGRjERt8NvD', 'is_local': False, 'name': 'Sea Of Problems', 'popularity': 78, 'preview_url': 'https://p.scdn.co/mp3-preview/1961a6cba5399e8e65b4065907e7956f32592c65?cid=43964785e73c43698f52de9f8ea49068', 'track': True, 'track_number': 1, 'type': 'track', 'uri': 'spotify:track:3VvcKToPY3diGRjERt8NvD'}\n",
      "{'album': {'album_type': 'single', 'artists': [{'external_urls': {'spotify': 'https://open.spotify.com/artist/0ZNfJyThuy6vLnPEpPaJdf'}, 'href': 'https://api.spotify.com/v1/artists/0ZNfJyThuy6vLnPEpPaJdf', 'id': '0ZNfJyThuy6vLnPEpPaJdf', 'name': 'Joker Out', 'type': 'artist', 'uri': 'spotify:artist:0ZNfJyThuy6vLnPEpPaJdf'}], 'available_markets': ['AD', 'AE', 'AG', 'AL', 'AM', 'AO', 'AR', 'AT', 'AU', 'AZ', 'BA', 'BB', 'BD', 'BE', 'BF', 'BG', 'BH', 'BI', 'BJ', 'BN', 'BO', 'BR', 'BS', 'BT', 'BW', 'BZ', 'CA', 'CD', 'CG', 'CH', 'CI', 'CL', 'CM', 'CO', 'CR', 'CV', 'CW', 'CY', 'CZ', 'DE', 'DJ', 'DK', 'DM', 'DO', 'DZ', 'EC', 'EE', 'EG', 'ES', 'ET', 'FI', 'FJ', 'FM', 'FR', 'GA', 'GB', 'GD', 'GE', 'GH', 'GM', 'GN', 'GQ', 'GR', 'GT', 'GW', 'GY', 'HK', 'HN', 'HR', 'HT', 'HU', 'ID', 'IE', 'IL', 'IN', 'IQ', 'IS', 'IT', 'JM', 'JO', 'JP', 'KE', 'KG', 'KH', 'KI', 'KM', 'KN', 'KR', 'KW', 'KZ', 'LA', 'LB', 'LC', 'LI', 'LK', 'LR', 'LS', 'LT', 'LU', 'LV', 'LY', 'MA', 'MC', 'MD', 'ME', 'MG', 'MH', 'MK', 'ML', 'MN', 'MO', 'MR', 'MT', 'MU', 'MV', 'MW', 'MX', 'MY', 'MZ', 'NA', 'NE', 'NG', 'NI', 'NL', 'NO', 'NP', 'NR', 'NZ', 'OM', 'PA', 'PE', 'PG', 'PH', 'PK', 'PL', 'PS', 'PT', 'PW', 'PY', 'QA', 'RO', 'RS', 'RW', 'SA', 'SB', 'SC', 'SE', 'SG', 'SI', 'SK', 'SL', 'SM', 'SN', 'SR', 'ST', 'SV', 'SZ', 'TD', 'TG', 'TH', 'TJ', 'TL', 'TN', 'TO', 'TR', 'TT', 'TV', 'TW', 'TZ', 'UA', 'UG', 'US', 'UY', 'UZ', 'VC', 'VE', 'VN', 'VU', 'WS', 'XK', 'ZA', 'ZM', 'ZW'], 'external_urls': {'spotify': 'https://open.spotify.com/album/0OzSTBSYgPD05WhkjurQFa'}, 'href': 'https://api.spotify.com/v1/albums/0OzSTBSYgPD05WhkjurQFa', 'id': '0OzSTBSYgPD05WhkjurQFa', 'images': [{'height': 640, 'url': 'https://i.scdn.co/image/ab67616d0000b273fb9215a727a3759a3134d8ab', 'width': 640}, {'height': 300, 'url': 'https://i.scdn.co/image/ab67616d00001e02fb9215a727a3759a3134d8ab', 'width': 300}, {'height': 64, 'url': 'https://i.scdn.co/image/ab67616d00004851fb9215a727a3759a3134d8ab', 'width': 64}], 'name': 'Carpe Diem', 'release_date': '2023-02-04', 'release_date_precision': 'day', 'total_tracks': 1, 'type': 'album', 'uri': 'spotify:album:0OzSTBSYgPD05WhkjurQFa'}, 'artists': [{'external_urls': {'spotify': 'https://open.spotify.com/artist/0ZNfJyThuy6vLnPEpPaJdf'}, 'href': 'https://api.spotify.com/v1/artists/0ZNfJyThuy6vLnPEpPaJdf', 'id': '0ZNfJyThuy6vLnPEpPaJdf', 'name': 'Joker Out', 'type': 'artist', 'uri': 'spotify:artist:0ZNfJyThuy6vLnPEpPaJdf'}], 'available_markets': ['AR', 'AU', 'AT', 'BE', 'BO', 'BR', 'BG', 'CA', 'CL', 'CO', 'CR', 'CY', 'CZ', 'DK', 'DO', 'DE', 'EC', 'EE', 'SV', 'FI', 'FR', 'GR', 'GT', 'HN', 'HK', 'HU', 'IS', 'IE', 'IT', 'LV', 'LT', 'LU', 'MY', 'MT', 'MX', 'NL', 'NZ', 'NI', 'NO', 'PA', 'PY', 'PE', 'PH', 'PL', 'PT', 'SG', 'SK', 'ES', 'SE', 'CH', 'TW', 'TR', 'UY', 'US', 'GB', 'AD', 'LI', 'MC', 'ID', 'JP', 'TH', 'VN', 'RO', 'IL', 'ZA', 'SA', 'AE', 'BH', 'QA', 'OM', 'KW', 'EG', 'MA', 'DZ', 'TN', 'LB', 'JO', 'PS', 'IN', 'KZ', 'MD', 'UA', 'AL', 'BA', 'HR', 'ME', 'MK', 'RS', 'SI', 'KR', 'BD', 'PK', 'LK', 'GH', 'KE', 'NG', 'TZ', 'UG', 'AG', 'AM', 'BS', 'BB', 'BZ', 'BT', 'BW', 'BF', 'CV', 'CW', 'DM', 'FJ', 'GM', 'GE', 'GD', 'GW', 'GY', 'HT', 'JM', 'KI', 'LS', 'LR', 'MW', 'MV', 'ML', 'MH', 'FM', 'NA', 'NR', 'NE', 'PW', 'PG', 'WS', 'SM', 'ST', 'SN', 'SC', 'SL', 'SB', 'KN', 'LC', 'VC', 'SR', 'TL', 'TO', 'TT', 'TV', 'VU', 'AZ', 'BN', 'BI', 'KH', 'CM', 'TD', 'KM', 'GQ', 'SZ', 'GA', 'GN', 'KG', 'LA', 'MO', 'MR', 'MN', 'NP', 'RW', 'TG', 'UZ', 'ZW', 'BJ', 'MG', 'MU', 'MZ', 'AO', 'CI', 'DJ', 'ZM', 'CD', 'CG', 'IQ', 'LY', 'TJ', 'VE', 'ET', 'XK'], 'disc_number': 1, 'duration_ms': 165702, 'episode': False, 'explicit': False, 'external_ids': {'isrc': 'SIABJ2300001'}, 'external_urls': {'spotify': 'https://open.spotify.com/track/14ibwN44PVKuvEqLiaNkKu'}, 'href': 'https://api.spotify.com/v1/tracks/14ibwN44PVKuvEqLiaNkKu', 'id': '14ibwN44PVKuvEqLiaNkKu', 'is_local': False, 'name': 'Carpe Diem', 'popularity': 77, 'preview_url': None, 'track': True, 'track_number': 1, 'type': 'track', 'uri': 'spotify:track:14ibwN44PVKuvEqLiaNkKu'}\n",
      "{'album': {'album_type': 'single', 'artists': [{'external_urls': {'spotify': 'https://open.spotify.com/artist/7tzELpzPjTq26pa5FT9ykz'}, 'href': 'https://api.spotify.com/v1/artists/7tzELpzPjTq26pa5FT9ykz', 'id': '7tzELpzPjTq26pa5FT9ykz', 'name': 'Yung Yury', 'type': 'artist', 'uri': 'spotify:artist:7tzELpzPjTq26pa5FT9ykz'}, {'external_urls': {'spotify': 'https://open.spotify.com/artist/7oxHYIVHNg4JQdKnUe1HiQ'}, 'href': 'https://api.spotify.com/v1/artists/7oxHYIVHNg4JQdKnUe1HiQ', 'id': '7oxHYIVHNg4JQdKnUe1HiQ', 'name': 'Damn Yury', 'type': 'artist', 'uri': 'spotify:artist:7oxHYIVHNg4JQdKnUe1HiQ'}], 'available_markets': ['AD', 'AE', 'AG', 'AL', 'AM', 'AO', 'AR', 'AT', 'AU', 'AZ', 'BA', 'BB', 'BD', 'BE', 'BF', 'BG', 'BH', 'BI', 'BJ', 'BN', 'BO', 'BR', 'BS', 'BT', 'BW', 'BY', 'BZ', 'CA', 'CD', 'CG', 'CH', 'CI', 'CL', 'CM', 'CO', 'CR', 'CV', 'CW', 'CY', 'CZ', 'DE', 'DJ', 'DK', 'DM', 'DO', 'DZ', 'EC', 'EE', 'EG', 'ES', 'ET', 'FI', 'FJ', 'FM', 'FR', 'GA', 'GB', 'GD', 'GE', 'GH', 'GM', 'GN', 'GQ', 'GR', 'GT', 'GW', 'GY', 'HK', 'HN', 'HR', 'HT', 'HU', 'ID', 'IE', 'IL', 'IN', 'IQ', 'IS', 'IT', 'JM', 'JO', 'JP', 'KE', 'KG', 'KH', 'KI', 'KM', 'KN', 'KR', 'KW', 'KZ', 'LA', 'LB', 'LC', 'LI', 'LK', 'LR', 'LS', 'LT', 'LU', 'LV', 'LY', 'MA', 'MC', 'MD', 'ME', 'MG', 'MH', 'MK', 'ML', 'MN', 'MO', 'MR', 'MT', 'MU', 'MV', 'MW', 'MX', 'MY', 'MZ', 'NA', 'NE', 'NG', 'NI', 'NL', 'NO', 'NP', 'NR', 'NZ', 'OM', 'PA', 'PE', 'PG', 'PH', 'PK', 'PL', 'PS', 'PT', 'PW', 'PY', 'QA', 'RO', 'RS', 'RW', 'SA', 'SB', 'SC', 'SE', 'SG', 'SI', 'SK', 'SL', 'SM', 'SN', 'SR', 'ST', 'SV', 'SZ', 'TD', 'TG', 'TH', 'TJ', 'TL', 'TN', 'TO', 'TR', 'TT', 'TV', 'TW', 'TZ', 'UA', 'UG', 'US', 'UY', 'UZ', 'VC', 'VE', 'VN', 'VU', 'WS', 'XK', 'ZA', 'ZM', 'ZW'], 'external_urls': {'spotify': 'https://open.spotify.com/album/6RfzTgu36z9KsBvxPKoMom'}, 'href': 'https://api.spotify.com/v1/albums/6RfzTgu36z9KsBvxPKoMom', 'id': '6RfzTgu36z9KsBvxPKoMom', 'images': [{'height': 640, 'url': 'https://i.scdn.co/image/ab67616d0000b273914677a4057e98b10548a29f', 'width': 640}, {'height': 300, 'url': 'https://i.scdn.co/image/ab67616d00001e02914677a4057e98b10548a29f', 'width': 300}, {'height': 64, 'url': 'https://i.scdn.co/image/ab67616d00004851914677a4057e98b10548a29f', 'width': 64}], 'name': 'TABU.', 'release_date': '2023-03-17', 'release_date_precision': 'day', 'total_tracks': 1, 'type': 'album', 'uri': 'spotify:album:6RfzTgu36z9KsBvxPKoMom'}, 'artists': [{'external_urls': {'spotify': 'https://open.spotify.com/artist/7tzELpzPjTq26pa5FT9ykz'}, 'href': 'https://api.spotify.com/v1/artists/7tzELpzPjTq26pa5FT9ykz', 'id': '7tzELpzPjTq26pa5FT9ykz', 'name': 'Yung Yury', 'type': 'artist', 'uri': 'spotify:artist:7tzELpzPjTq26pa5FT9ykz'}, {'external_urls': {'spotify': 'https://open.spotify.com/artist/7oxHYIVHNg4JQdKnUe1HiQ'}, 'href': 'https://api.spotify.com/v1/artists/7oxHYIVHNg4JQdKnUe1HiQ', 'id': '7oxHYIVHNg4JQdKnUe1HiQ', 'name': 'Damn Yury', 'type': 'artist', 'uri': 'spotify:artist:7oxHYIVHNg4JQdKnUe1HiQ'}], 'available_markets': ['AR', 'AU', 'AT', 'BE', 'BO', 'BR', 'BG', 'CA', 'CL', 'CO', 'CR', 'CY', 'CZ', 'DK', 'DO', 'DE', 'EC', 'EE', 'SV', 'FI', 'FR', 'GR', 'GT', 'HN', 'HK', 'HU', 'IS', 'IE', 'IT', 'LV', 'LT', 'LU', 'MY', 'MT', 'MX', 'NL', 'NZ', 'NI', 'NO', 'PA', 'PY', 'PE', 'PH', 'PL', 'PT', 'SG', 'SK', 'ES', 'SE', 'CH', 'TW', 'TR', 'UY', 'US', 'GB', 'AD', 'LI', 'MC', 'ID', 'JP', 'TH', 'VN', 'RO', 'IL', 'ZA', 'SA', 'AE', 'BH', 'QA', 'OM', 'KW', 'EG', 'MA', 'DZ', 'TN', 'LB', 'JO', 'PS', 'IN', 'BY', 'KZ', 'MD', 'UA', 'AL', 'BA', 'HR', 'ME', 'MK', 'RS', 'SI', 'KR', 'BD', 'PK', 'LK', 'GH', 'KE', 'NG', 'TZ', 'UG', 'AG', 'AM', 'BS', 'BB', 'BZ', 'BT', 'BW', 'BF', 'CV', 'CW', 'DM', 'FJ', 'GM', 'GE', 'GD', 'GW', 'GY', 'HT', 'JM', 'KI', 'LS', 'LR', 'MW', 'MV', 'ML', 'MH', 'FM', 'NA', 'NR', 'NE', 'PW', 'PG', 'WS', 'SM', 'ST', 'SN', 'SC', 'SL', 'SB', 'KN', 'LC', 'VC', 'SR', 'TL', 'TO', 'TT', 'TV', 'VU', 'AZ', 'BN', 'BI', 'KH', 'CM', 'TD', 'KM', 'GQ', 'SZ', 'GA', 'GN', 'KG', 'LA', 'MO', 'MR', 'MN', 'NP', 'RW', 'TG', 'UZ', 'ZW', 'BJ', 'MG', 'MU', 'MZ', 'AO', 'CI', 'DJ', 'ZM', 'CD', 'CG', 'IQ', 'LY', 'TJ', 'VE', 'ET', 'XK'], 'disc_number': 1, 'duration_ms': 135302, 'episode': False, 'explicit': False, 'external_ids': {'isrc': 'QZES82389788'}, 'external_urls': {'spotify': 'https://open.spotify.com/track/42Ztw2ZtZR3mtWjXpg0R5I'}, 'href': 'https://api.spotify.com/v1/tracks/42Ztw2ZtZR3mtWjXpg0R5I', 'id': '42Ztw2ZtZR3mtWjXpg0R5I', 'is_local': False, 'name': 'TABU.', 'popularity': 82, 'preview_url': 'https://p.scdn.co/mp3-preview/f9fb3d998c6d0b7c889b563cdc6c0206a3765c70?cid=43964785e73c43698f52de9f8ea49068', 'track': True, 'track_number': 1, 'type': 'track', 'uri': 'spotify:track:42Ztw2ZtZR3mtWjXpg0R5I'}\n",
      "{'album': {'album_type': 'single', 'artists': [{'external_urls': {'spotify': 'https://open.spotify.com/artist/6fzmobEykeKCwfhH6EsZh4'}, 'href': 'https://api.spotify.com/v1/artists/6fzmobEykeKCwfhH6EsZh4', 'id': '6fzmobEykeKCwfhH6EsZh4', 'name': 'Irshad Khan', 'type': 'artist', 'uri': 'spotify:artist:6fzmobEykeKCwfhH6EsZh4'}], 'available_markets': ['AD', 'AE', 'AG', 'AL', 'AM', 'AO', 'AR', 'AT', 'AU', 'AZ', 'BA', 'BB', 'BD', 'BE', 'BF', 'BG', 'BH', 'BI', 'BJ', 'BN', 'BO', 'BR', 'BS', 'BT', 'BW', 'BY', 'BZ', 'CA', 'CD', 'CG', 'CH', 'CI', 'CL', 'CM', 'CO', 'CR', 'CV', 'CW', 'CY', 'CZ', 'DE', 'DJ', 'DK', 'DM', 'DO', 'DZ', 'EC', 'EE', 'EG', 'ES', 'ET', 'FI', 'FJ', 'FM', 'FR', 'GA', 'GB', 'GD', 'GE', 'GH', 'GM', 'GN', 'GQ', 'GR', 'GT', 'GW', 'GY', 'HK', 'HN', 'HR', 'HT', 'HU', 'ID', 'IE', 'IL', 'IN', 'IQ', 'IS', 'IT', 'JM', 'JO', 'JP', 'KE', 'KG', 'KH', 'KI', 'KM', 'KN', 'KR', 'KW', 'KZ', 'LA', 'LB', 'LC', 'LI', 'LK', 'LR', 'LS', 'LT', 'LU', 'LV', 'LY', 'MA', 'MC', 'MD', 'ME', 'MG', 'MH', 'MK', 'ML', 'MN', 'MO', 'MR', 'MT', 'MU', 'MV', 'MW', 'MX', 'MY', 'MZ', 'NA', 'NE', 'NG', 'NI', 'NL', 'NO', 'NP', 'NR', 'NZ', 'OM', 'PA', 'PE', 'PG', 'PH', 'PK', 'PL', 'PS', 'PT', 'PW', 'PY', 'QA', 'RO', 'RS', 'RW', 'SA', 'SB', 'SC', 'SE', 'SG', 'SI', 'SK', 'SL', 'SM', 'SN', 'SR', 'ST', 'SV', 'SZ', 'TD', 'TG', 'TH', 'TJ', 'TL', 'TN', 'TO', 'TR', 'TT', 'TV', 'TW', 'TZ', 'UA', 'UG', 'US', 'UY', 'UZ', 'VC', 'VE', 'VN', 'VU', 'WS', 'XK', 'ZA', 'ZM', 'ZW'], 'external_urls': {'spotify': 'https://open.spotify.com/album/4x2HtG6BCrYlok67vSgxjj'}, 'href': 'https://api.spotify.com/v1/albums/4x2HtG6BCrYlok67vSgxjj', 'id': '4x2HtG6BCrYlok67vSgxjj', 'images': [{'height': 640, 'url': 'https://i.scdn.co/image/ab67616d0000b273258eb711a21ed6a63e0bfb2d', 'width': 640}, {'height': 300, 'url': 'https://i.scdn.co/image/ab67616d00001e02258eb711a21ed6a63e0bfb2d', 'width': 300}, {'height': 64, 'url': 'https://i.scdn.co/image/ab67616d00004851258eb711a21ed6a63e0bfb2d', 'width': 64}], 'name': 'Haryana Hood', 'release_date': '2022-12-27', 'release_date_precision': 'day', 'total_tracks': 1, 'type': 'album', 'uri': 'spotify:album:4x2HtG6BCrYlok67vSgxjj'}, 'artists': [{'external_urls': {'spotify': 'https://open.spotify.com/artist/6fzmobEykeKCwfhH6EsZh4'}, 'href': 'https://api.spotify.com/v1/artists/6fzmobEykeKCwfhH6EsZh4', 'id': '6fzmobEykeKCwfhH6EsZh4', 'name': 'Irshad Khan', 'type': 'artist', 'uri': 'spotify:artist:6fzmobEykeKCwfhH6EsZh4'}], 'available_markets': ['AR', 'AU', 'AT', 'BE', 'BO', 'BR', 'BG', 'CA', 'CL', 'CO', 'CR', 'CY', 'CZ', 'DK', 'DO', 'DE', 'EC', 'EE', 'SV', 'FI', 'FR', 'GR', 'GT', 'HN', 'HK', 'HU', 'IS', 'IE', 'IT', 'LV', 'LT', 'LU', 'MY', 'MT', 'MX', 'NL', 'NZ', 'NI', 'NO', 'PA', 'PY', 'PE', 'PH', 'PL', 'PT', 'SG', 'SK', 'ES', 'SE', 'CH', 'TW', 'TR', 'UY', 'US', 'GB', 'AD', 'LI', 'MC', 'ID', 'JP', 'TH', 'VN', 'RO', 'IL', 'ZA', 'SA', 'AE', 'BH', 'QA', 'OM', 'KW', 'EG', 'MA', 'DZ', 'TN', 'LB', 'JO', 'PS', 'IN', 'BY', 'KZ', 'MD', 'UA', 'AL', 'BA', 'HR', 'ME', 'MK', 'RS', 'SI', 'KR', 'BD', 'PK', 'LK', 'GH', 'KE', 'NG', 'TZ', 'UG', 'AG', 'AM', 'BS', 'BB', 'BZ', 'BT', 'BW', 'BF', 'CV', 'CW', 'DM', 'FJ', 'GM', 'GE', 'GD', 'GW', 'GY', 'HT', 'JM', 'KI', 'LS', 'LR', 'MW', 'MV', 'ML', 'MH', 'FM', 'NA', 'NR', 'NE', 'PW', 'PG', 'WS', 'SM', 'ST', 'SN', 'SC', 'SL', 'SB', 'KN', 'LC', 'VC', 'SR', 'TL', 'TO', 'TT', 'TV', 'VU', 'AZ', 'BN', 'BI', 'KH', 'CM', 'TD', 'KM', 'GQ', 'SZ', 'GA', 'GN', 'KG', 'LA', 'MO', 'MR', 'MN', 'NP', 'RW', 'TG', 'UZ', 'ZW', 'BJ', 'MG', 'MU', 'MZ', 'AO', 'CI', 'DJ', 'ZM', 'CD', 'CG', 'IQ', 'LY', 'TJ', 'VE', 'ET', 'XK'], 'disc_number': 1, 'duration_ms': 211480, 'episode': False, 'explicit': False, 'external_ids': {'isrc': 'USCGH2323149'}, 'external_urls': {'spotify': 'https://open.spotify.com/track/1RdrAqXa2fUj2XytsKaUwl'}, 'href': 'https://api.spotify.com/v1/tracks/1RdrAqXa2fUj2XytsKaUwl', 'id': '1RdrAqXa2fUj2XytsKaUwl', 'is_local': False, 'name': 'Haryana Hood', 'popularity': 72, 'preview_url': 'https://p.scdn.co/mp3-preview/054469c570e3e87f9c309b67dd580e05b1cff4ca?cid=43964785e73c43698f52de9f8ea49068', 'track': True, 'track_number': 1, 'type': 'track', 'uri': 'spotify:track:1RdrAqXa2fUj2XytsKaUwl'}\n",
      "{'album': {'album_type': 'single', 'artists': [{'external_urls': {'spotify': 'https://open.spotify.com/artist/4AhHkaGz7W2bKKJK90IaV2'}, 'href': 'https://api.spotify.com/v1/artists/4AhHkaGz7W2bKKJK90IaV2', 'id': '4AhHkaGz7W2bKKJK90IaV2', 'name': 'Batas Senja', 'type': 'artist', 'uri': 'spotify:artist:4AhHkaGz7W2bKKJK90IaV2'}], 'available_markets': ['AD', 'AE', 'AG', 'AL', 'AM', 'AO', 'AR', 'AT', 'AU', 'AZ', 'BA', 'BB', 'BD', 'BE', 'BF', 'BG', 'BH', 'BI', 'BJ', 'BN', 'BO', 'BR', 'BS', 'BT', 'BW', 'BY', 'BZ', 'CA', 'CD', 'CG', 'CH', 'CI', 'CL', 'CM', 'CO', 'CR', 'CV', 'CW', 'CY', 'CZ', 'DE', 'DJ', 'DK', 'DM', 'DO', 'DZ', 'EC', 'EE', 'EG', 'ES', 'ET', 'FI', 'FJ', 'FM', 'FR', 'GA', 'GB', 'GD', 'GE', 'GH', 'GM', 'GN', 'GQ', 'GR', 'GT', 'GW', 'GY', 'HK', 'HN', 'HR', 'HT', 'HU', 'ID', 'IE', 'IL', 'IN', 'IQ', 'IS', 'IT', 'JM', 'JO', 'JP', 'KE', 'KG', 'KH', 'KI', 'KM', 'KN', 'KR', 'KW', 'KZ', 'LA', 'LB', 'LC', 'LI', 'LK', 'LR', 'LS', 'LT', 'LU', 'LV', 'LY', 'MA', 'MC', 'MD', 'ME', 'MG', 'MH', 'MK', 'ML', 'MN', 'MO', 'MR', 'MT', 'MU', 'MV', 'MW', 'MX', 'MY', 'MZ', 'NA', 'NE', 'NG', 'NI', 'NL', 'NO', 'NP', 'NR', 'NZ', 'OM', 'PA', 'PE', 'PG', 'PH', 'PK', 'PL', 'PS', 'PT', 'PW', 'PY', 'QA', 'RO', 'RS', 'RW', 'SA', 'SB', 'SC', 'SE', 'SG', 'SI', 'SK', 'SL', 'SM', 'SN', 'SR', 'ST', 'SV', 'SZ', 'TD', 'TG', 'TH', 'TJ', 'TL', 'TN', 'TO', 'TR', 'TT', 'TV', 'TW', 'TZ', 'UA', 'UG', 'US', 'UY', 'UZ', 'VC', 'VE', 'VN', 'VU', 'WS', 'XK', 'ZA', 'ZM', 'ZW'], 'external_urls': {'spotify': 'https://open.spotify.com/album/2UF7W9r1nqberWW2Bkx4ZT'}, 'href': 'https://api.spotify.com/v1/albums/2UF7W9r1nqberWW2Bkx4ZT', 'id': '2UF7W9r1nqberWW2Bkx4ZT', 'images': [{'height': 640, 'url': 'https://i.scdn.co/image/ab67616d0000b273c89e69952aa204255aaf6c5d', 'width': 640}, {'height': 300, 'url': 'https://i.scdn.co/image/ab67616d00001e02c89e69952aa204255aaf6c5d', 'width': 300}, {'height': 64, 'url': 'https://i.scdn.co/image/ab67616d00004851c89e69952aa204255aaf6c5d', 'width': 64}], 'name': 'Nanti Kita Seperti Ini', 'release_date': '2022-09-27', 'release_date_precision': 'day', 'total_tracks': 1, 'type': 'album', 'uri': 'spotify:album:2UF7W9r1nqberWW2Bkx4ZT'}, 'artists': [{'external_urls': {'spotify': 'https://open.spotify.com/artist/4AhHkaGz7W2bKKJK90IaV2'}, 'href': 'https://api.spotify.com/v1/artists/4AhHkaGz7W2bKKJK90IaV2', 'id': '4AhHkaGz7W2bKKJK90IaV2', 'name': 'Batas Senja', 'type': 'artist', 'uri': 'spotify:artist:4AhHkaGz7W2bKKJK90IaV2'}], 'available_markets': ['AR', 'AU', 'AT', 'BE', 'BO', 'BR', 'BG', 'CA', 'CL', 'CO', 'CR', 'CY', 'CZ', 'DK', 'DO', 'DE', 'EC', 'EE', 'SV', 'FI', 'FR', 'GR', 'GT', 'HN', 'HK', 'HU', 'IS', 'IE', 'IT', 'LV', 'LT', 'LU', 'MY', 'MT', 'MX', 'NL', 'NZ', 'NI', 'NO', 'PA', 'PY', 'PE', 'PH', 'PL', 'PT', 'SG', 'SK', 'ES', 'SE', 'CH', 'TW', 'TR', 'UY', 'US', 'GB', 'AD', 'LI', 'MC', 'ID', 'JP', 'TH', 'VN', 'RO', 'IL', 'ZA', 'SA', 'AE', 'BH', 'QA', 'OM', 'KW', 'EG', 'MA', 'DZ', 'TN', 'LB', 'JO', 'PS', 'IN', 'BY', 'KZ', 'MD', 'UA', 'AL', 'BA', 'HR', 'ME', 'MK', 'RS', 'SI', 'KR', 'BD', 'PK', 'LK', 'GH', 'KE', 'NG', 'TZ', 'UG', 'AG', 'AM', 'BS', 'BB', 'BZ', 'BT', 'BW', 'BF', 'CV', 'CW', 'DM', 'FJ', 'GM', 'GE', 'GD', 'GW', 'GY', 'HT', 'JM', 'KI', 'LS', 'LR', 'MW', 'MV', 'ML', 'MH', 'FM', 'NA', 'NR', 'NE', 'PW', 'PG', 'WS', 'SM', 'ST', 'SN', 'SC', 'SL', 'SB', 'KN', 'LC', 'VC', 'SR', 'TL', 'TO', 'TT', 'TV', 'VU', 'AZ', 'BN', 'BI', 'KH', 'CM', 'TD', 'KM', 'GQ', 'SZ', 'GA', 'GN', 'KG', 'LA', 'MO', 'MR', 'MN', 'NP', 'RW', 'TG', 'UZ', 'ZW', 'BJ', 'MG', 'MU', 'MZ', 'AO', 'CI', 'DJ', 'ZM', 'CD', 'CG', 'IQ', 'LY', 'TJ', 'VE', 'ET', 'XK'], 'disc_number': 1, 'duration_ms': 209647, 'episode': False, 'explicit': False, 'external_ids': {'isrc': 'IDA642204127'}, 'external_urls': {'spotify': 'https://open.spotify.com/track/2NjbJR8y083mOV59255QSe'}, 'href': 'https://api.spotify.com/v1/tracks/2NjbJR8y083mOV59255QSe', 'id': '2NjbJR8y083mOV59255QSe', 'is_local': False, 'name': 'Nanti Kita Seperti Ini', 'popularity': 70, 'preview_url': 'https://p.scdn.co/mp3-preview/c301a8b8a4c5fb597c697084076e4189419a7135?cid=43964785e73c43698f52de9f8ea49068', 'track': True, 'track_number': 1, 'type': 'track', 'uri': 'spotify:track:2NjbJR8y083mOV59255QSe'}\n",
      "{'album': {'album_type': 'single', 'artists': [{'external_urls': {'spotify': 'https://open.spotify.com/artist/7ITMCzIU9uII8gwRg8JAhc'}, 'href': 'https://api.spotify.com/v1/artists/7ITMCzIU9uII8gwRg8JAhc', 'id': '7ITMCzIU9uII8gwRg8JAhc', 'name': 'Odetari', 'type': 'artist', 'uri': 'spotify:artist:7ITMCzIU9uII8gwRg8JAhc'}], 'available_markets': ['AD', 'AE', 'AG', 'AL', 'AM', 'AO', 'AR', 'AT', 'AU', 'AZ', 'BA', 'BB', 'BD', 'BE', 'BF', 'BG', 'BH', 'BI', 'BJ', 'BN', 'BO', 'BR', 'BS', 'BT', 'BW', 'BZ', 'CA', 'CD', 'CG', 'CH', 'CI', 'CL', 'CM', 'CO', 'CR', 'CV', 'CW', 'CY', 'CZ', 'DE', 'DJ', 'DK', 'DM', 'DO', 'DZ', 'EC', 'EE', 'EG', 'ES', 'ET', 'FI', 'FJ', 'FM', 'FR', 'GA', 'GB', 'GD', 'GE', 'GH', 'GM', 'GN', 'GQ', 'GR', 'GT', 'GW', 'GY', 'HK', 'HN', 'HR', 'HT', 'HU', 'ID', 'IE', 'IL', 'IN', 'IQ', 'IS', 'IT', 'JM', 'JO', 'JP', 'KE', 'KG', 'KH', 'KI', 'KM', 'KN', 'KR', 'KW', 'KZ', 'LA', 'LB', 'LC', 'LI', 'LK', 'LR', 'LS', 'LT', 'LU', 'LV', 'LY', 'MA', 'MC', 'MD', 'ME', 'MG', 'MH', 'MK', 'ML', 'MN', 'MO', 'MR', 'MT', 'MU', 'MV', 'MW', 'MX', 'MY', 'MZ', 'NA', 'NE', 'NG', 'NI', 'NL', 'NO', 'NP', 'NR', 'NZ', 'OM', 'PA', 'PE', 'PG', 'PH', 'PK', 'PL', 'PS', 'PT', 'PW', 'PY', 'QA', 'RO', 'RS', 'RW', 'SA', 'SB', 'SC', 'SE', 'SG', 'SI', 'SK', 'SL', 'SM', 'SN', 'SR', 'ST', 'SV', 'SZ', 'TD', 'TG', 'TH', 'TJ', 'TL', 'TN', 'TO', 'TR', 'TT', 'TV', 'TW', 'TZ', 'UA', 'UG', 'US', 'UY', 'UZ', 'VC', 'VE', 'VN', 'VU', 'WS', 'XK', 'ZA', 'ZM', 'ZW'], 'external_urls': {'spotify': 'https://open.spotify.com/album/10o52EY3moL562KKhd3Cet'}, 'href': 'https://api.spotify.com/v1/albums/10o52EY3moL562KKhd3Cet', 'id': '10o52EY3moL562KKhd3Cet', 'images': [{'height': 640, 'url': 'https://i.scdn.co/image/ab67616d0000b27317c521a634378f9f4452790a', 'width': 640}, {'height': 300, 'url': 'https://i.scdn.co/image/ab67616d00001e0217c521a634378f9f4452790a', 'width': 300}, {'height': 64, 'url': 'https://i.scdn.co/image/ab67616d0000485117c521a634378f9f4452790a', 'width': 64}], 'name': 'NARCISSISTIC PERSONALITY DISORDER', 'release_date': '2023-04-01', 'release_date_precision': 'day', 'total_tracks': 1, 'type': 'album', 'uri': 'spotify:album:10o52EY3moL562KKhd3Cet'}, 'artists': [{'external_urls': {'spotify': 'https://open.spotify.com/artist/7ITMCzIU9uII8gwRg8JAhc'}, 'href': 'https://api.spotify.com/v1/artists/7ITMCzIU9uII8gwRg8JAhc', 'id': '7ITMCzIU9uII8gwRg8JAhc', 'name': 'Odetari', 'type': 'artist', 'uri': 'spotify:artist:7ITMCzIU9uII8gwRg8JAhc'}], 'available_markets': ['AR', 'AU', 'AT', 'BE', 'BO', 'BR', 'BG', 'CA', 'CL', 'CO', 'CR', 'CY', 'CZ', 'DK', 'DO', 'DE', 'EC', 'EE', 'SV', 'FI', 'FR', 'GR', 'GT', 'HN', 'HK', 'HU', 'IS', 'IE', 'IT', 'LV', 'LT', 'LU', 'MY', 'MT', 'MX', 'NL', 'NZ', 'NI', 'NO', 'PA', 'PY', 'PE', 'PH', 'PL', 'PT', 'SG', 'SK', 'ES', 'SE', 'CH', 'TW', 'TR', 'UY', 'US', 'GB', 'AD', 'LI', 'MC', 'ID', 'JP', 'TH', 'VN', 'RO', 'IL', 'ZA', 'SA', 'AE', 'BH', 'QA', 'OM', 'KW', 'EG', 'MA', 'DZ', 'TN', 'LB', 'JO', 'PS', 'IN', 'KZ', 'MD', 'UA', 'AL', 'BA', 'HR', 'ME', 'MK', 'RS', 'SI', 'KR', 'BD', 'PK', 'LK', 'GH', 'KE', 'NG', 'TZ', 'UG', 'AG', 'AM', 'BS', 'BB', 'BZ', 'BT', 'BW', 'BF', 'CV', 'CW', 'DM', 'FJ', 'GM', 'GE', 'GD', 'GW', 'GY', 'HT', 'JM', 'KI', 'LS', 'LR', 'MW', 'MV', 'ML', 'MH', 'FM', 'NA', 'NR', 'NE', 'PW', 'PG', 'WS', 'SM', 'ST', 'SN', 'SC', 'SL', 'SB', 'KN', 'LC', 'VC', 'SR', 'TL', 'TO', 'TT', 'TV', 'VU', 'AZ', 'BN', 'BI', 'KH', 'CM', 'TD', 'KM', 'GQ', 'SZ', 'GA', 'GN', 'KG', 'LA', 'MO', 'MR', 'MN', 'NP', 'RW', 'TG', 'UZ', 'ZW', 'BJ', 'MG', 'MU', 'MZ', 'AO', 'CI', 'DJ', 'ZM', 'CD', 'CG', 'IQ', 'LY', 'TJ', 'VE', 'ET', 'XK'], 'disc_number': 1, 'duration_ms': 110510, 'episode': False, 'explicit': False, 'external_ids': {'isrc': 'QZHN62339350'}, 'external_urls': {'spotify': 'https://open.spotify.com/track/6lDJ0CkQ6LdQv5EUQ39rpg'}, 'href': 'https://api.spotify.com/v1/tracks/6lDJ0CkQ6LdQv5EUQ39rpg', 'id': '6lDJ0CkQ6LdQv5EUQ39rpg', 'is_local': False, 'name': 'NARCISSISTIC PERSONALITY DISORDER', 'popularity': 57, 'preview_url': None, 'track': True, 'track_number': 1, 'type': 'track', 'uri': 'spotify:track:6lDJ0CkQ6LdQv5EUQ39rpg'}\n",
      "{'album': {'album_type': 'single', 'artists': [{'external_urls': {'spotify': 'https://open.spotify.com/artist/7zAAwgV5Wqmvpb4GzvlRkP'}, 'href': 'https://api.spotify.com/v1/artists/7zAAwgV5Wqmvpb4GzvlRkP', 'id': '7zAAwgV5Wqmvpb4GzvlRkP', 'name': 'Jazzy', 'type': 'artist', 'uri': 'spotify:artist:7zAAwgV5Wqmvpb4GzvlRkP'}], 'available_markets': ['AD', 'AE', 'AG', 'AL', 'AM', 'AO', 'AR', 'AT', 'AU', 'AZ', 'BA', 'BB', 'BD', 'BE', 'BF', 'BG', 'BH', 'BI', 'BJ', 'BN', 'BO', 'BR', 'BS', 'BT', 'BW', 'BZ', 'CA', 'CD', 'CG', 'CH', 'CI', 'CL', 'CM', 'CO', 'CR', 'CV', 'CW', 'CY', 'CZ', 'DE', 'DJ', 'DK', 'DM', 'DO', 'DZ', 'EC', 'EE', 'EG', 'ES', 'ET', 'FI', 'FJ', 'FM', 'FR', 'GA', 'GB', 'GD', 'GE', 'GH', 'GM', 'GN', 'GQ', 'GR', 'GT', 'GW', 'GY', 'HK', 'HN', 'HR', 'HT', 'HU', 'ID', 'IE', 'IL', 'IN', 'IQ', 'IS', 'IT', 'JM', 'JO', 'JP', 'KE', 'KG', 'KH', 'KI', 'KM', 'KN', 'KR', 'KW', 'KZ', 'LA', 'LB', 'LC', 'LI', 'LK', 'LR', 'LS', 'LT', 'LU', 'LV', 'LY', 'MA', 'MC', 'MD', 'ME', 'MG', 'MH', 'MK', 'ML', 'MN', 'MO', 'MR', 'MT', 'MU', 'MV', 'MW', 'MX', 'MY', 'MZ', 'NA', 'NE', 'NG', 'NI', 'NL', 'NO', 'NP', 'NR', 'NZ', 'OM', 'PA', 'PE', 'PG', 'PH', 'PK', 'PL', 'PS', 'PT', 'PW', 'PY', 'QA', 'RO', 'RS', 'RW', 'SA', 'SB', 'SC', 'SE', 'SG', 'SI', 'SK', 'SL', 'SM', 'SN', 'SR', 'ST', 'SV', 'SZ', 'TD', 'TG', 'TH', 'TJ', 'TL', 'TN', 'TO', 'TR', 'TT', 'TV', 'TW', 'TZ', 'UA', 'UG', 'US', 'UY', 'UZ', 'VC', 'VE', 'VN', 'VU', 'WS', 'XK', 'ZA', 'ZM', 'ZW'], 'external_urls': {'spotify': 'https://open.spotify.com/album/0wTaLHasxRWB2VBwh9maAc'}, 'href': 'https://api.spotify.com/v1/albums/0wTaLHasxRWB2VBwh9maAc', 'id': '0wTaLHasxRWB2VBwh9maAc', 'images': [{'height': 640, 'url': 'https://i.scdn.co/image/ab67616d0000b273e0c6c64da0c8e1d1df7e001c', 'width': 640}, {'height': 300, 'url': 'https://i.scdn.co/image/ab67616d00001e02e0c6c64da0c8e1d1df7e001c', 'width': 300}, {'height': 64, 'url': 'https://i.scdn.co/image/ab67616d00004851e0c6c64da0c8e1d1df7e001c', 'width': 64}], 'name': 'Giving Me', 'release_date': '2023-03-10', 'release_date_precision': 'day', 'total_tracks': 1, 'type': 'album', 'uri': 'spotify:album:0wTaLHasxRWB2VBwh9maAc'}, 'artists': [{'external_urls': {'spotify': 'https://open.spotify.com/artist/7zAAwgV5Wqmvpb4GzvlRkP'}, 'href': 'https://api.spotify.com/v1/artists/7zAAwgV5Wqmvpb4GzvlRkP', 'id': '7zAAwgV5Wqmvpb4GzvlRkP', 'name': 'Jazzy', 'type': 'artist', 'uri': 'spotify:artist:7zAAwgV5Wqmvpb4GzvlRkP'}], 'available_markets': ['AR', 'AU', 'AT', 'BE', 'BO', 'BR', 'BG', 'CA', 'CL', 'CO', 'CR', 'CY', 'CZ', 'DK', 'DO', 'DE', 'EC', 'EE', 'SV', 'FI', 'FR', 'GR', 'GT', 'HN', 'HK', 'HU', 'IS', 'IE', 'IT', 'LV', 'LT', 'LU', 'MY', 'MT', 'MX', 'NL', 'NZ', 'NI', 'NO', 'PA', 'PY', 'PE', 'PH', 'PL', 'PT', 'SG', 'SK', 'ES', 'SE', 'CH', 'TW', 'TR', 'UY', 'US', 'GB', 'AD', 'LI', 'MC', 'ID', 'JP', 'TH', 'VN', 'RO', 'IL', 'ZA', 'SA', 'AE', 'BH', 'QA', 'OM', 'KW', 'EG', 'MA', 'DZ', 'TN', 'LB', 'JO', 'PS', 'IN', 'KZ', 'MD', 'UA', 'AL', 'BA', 'HR', 'ME', 'MK', 'RS', 'SI', 'KR', 'BD', 'PK', 'LK', 'GH', 'KE', 'NG', 'TZ', 'UG', 'AG', 'AM', 'BS', 'BB', 'BZ', 'BT', 'BW', 'BF', 'CV', 'CW', 'DM', 'FJ', 'GM', 'GE', 'GD', 'GW', 'GY', 'HT', 'JM', 'KI', 'LS', 'LR', 'MW', 'MV', 'ML', 'MH', 'FM', 'NA', 'NR', 'NE', 'PW', 'PG', 'WS', 'SM', 'ST', 'SN', 'SC', 'SL', 'SB', 'KN', 'LC', 'VC', 'SR', 'TL', 'TO', 'TT', 'TV', 'VU', 'AZ', 'BN', 'BI', 'KH', 'CM', 'TD', 'KM', 'GQ', 'SZ', 'GA', 'GN', 'KG', 'LA', 'MO', 'MR', 'MN', 'NP', 'RW', 'TG', 'UZ', 'ZW', 'BJ', 'MG', 'MU', 'MZ', 'AO', 'CI', 'DJ', 'ZM', 'CD', 'CG', 'IQ', 'LY', 'TJ', 'VE', 'ET', 'XK'], 'disc_number': 1, 'duration_ms': 169000, 'episode': False, 'explicit': False, 'external_ids': {'isrc': 'GBUM72206719'}, 'external_urls': {'spotify': 'https://open.spotify.com/track/1ACFweuuvf6MHtptObgreR'}, 'href': 'https://api.spotify.com/v1/tracks/1ACFweuuvf6MHtptObgreR', 'id': '1ACFweuuvf6MHtptObgreR', 'is_local': False, 'name': 'Giving Me', 'popularity': 78, 'preview_url': None, 'track': True, 'track_number': 1, 'type': 'track', 'uri': 'spotify:track:1ACFweuuvf6MHtptObgreR'}\n",
      "{'album': {'album_type': 'single', 'artists': [{'external_urls': {'spotify': 'https://open.spotify.com/artist/3o9SkahUjtGQ6U9IU0BjhI'}, 'href': 'https://api.spotify.com/v1/artists/3o9SkahUjtGQ6U9IU0BjhI', 'id': '3o9SkahUjtGQ6U9IU0BjhI', 'name': 'TEYA', 'type': 'artist', 'uri': 'spotify:artist:3o9SkahUjtGQ6U9IU0BjhI'}, {'external_urls': {'spotify': 'https://open.spotify.com/artist/5uoK1zfpi48x9aKAM8x6pt'}, 'href': 'https://api.spotify.com/v1/artists/5uoK1zfpi48x9aKAM8x6pt', 'id': '5uoK1zfpi48x9aKAM8x6pt', 'name': 'SALENA', 'type': 'artist', 'uri': 'spotify:artist:5uoK1zfpi48x9aKAM8x6pt'}], 'available_markets': ['AD', 'AE', 'AG', 'AL', 'AM', 'AO', 'AR', 'AT', 'AU', 'AZ', 'BA', 'BB', 'BD', 'BE', 'BF', 'BG', 'BH', 'BI', 'BJ', 'BN', 'BO', 'BR', 'BS', 'BT', 'BW', 'BZ', 'CA', 'CD', 'CG', 'CH', 'CI', 'CL', 'CM', 'CO', 'CR', 'CV', 'CW', 'CY', 'CZ', 'DE', 'DJ', 'DK', 'DM', 'DO', 'DZ', 'EC', 'EE', 'EG', 'ES', 'ET', 'FI', 'FJ', 'FM', 'FR', 'GA', 'GB', 'GD', 'GE', 'GH', 'GM', 'GN', 'GQ', 'GR', 'GT', 'GW', 'GY', 'HK', 'HN', 'HR', 'HT', 'HU', 'ID', 'IE', 'IL', 'IN', 'IQ', 'IS', 'IT', 'JM', 'JO', 'JP', 'KE', 'KG', 'KH', 'KI', 'KM', 'KN', 'KR', 'KW', 'KZ', 'LA', 'LB', 'LC', 'LI', 'LK', 'LR', 'LS', 'LT', 'LU', 'LV', 'LY', 'MA', 'MC', 'MD', 'ME', 'MG', 'MH', 'MK', 'ML', 'MN', 'MO', 'MR', 'MT', 'MU', 'MV', 'MW', 'MX', 'MY', 'MZ', 'NA', 'NE', 'NG', 'NI', 'NL', 'NO', 'NP', 'NR', 'NZ', 'OM', 'PA', 'PE', 'PG', 'PH', 'PK', 'PL', 'PS', 'PT', 'PW', 'PY', 'QA', 'RO', 'RS', 'RW', 'SA', 'SB', 'SC', 'SE', 'SG', 'SI', 'SK', 'SL', 'SM', 'SN', 'SR', 'ST', 'SV', 'SZ', 'TD', 'TG', 'TH', 'TJ', 'TL', 'TN', 'TO', 'TR', 'TT', 'TV', 'TW', 'TZ', 'UA', 'UG', 'US', 'UY', 'UZ', 'VC', 'VE', 'VN', 'VU', 'WS', 'XK', 'ZA', 'ZM', 'ZW'], 'external_urls': {'spotify': 'https://open.spotify.com/album/0Pc0YjphyuqsZbeHJq7AJ0'}, 'href': 'https://api.spotify.com/v1/albums/0Pc0YjphyuqsZbeHJq7AJ0', 'id': '0Pc0YjphyuqsZbeHJq7AJ0', 'images': [{'height': 640, 'url': 'https://i.scdn.co/image/ab67616d0000b273b75dd1b7de969ef4e3a497c2', 'width': 640}, {'height': 300, 'url': 'https://i.scdn.co/image/ab67616d00001e02b75dd1b7de969ef4e3a497c2', 'width': 300}, {'height': 64, 'url': 'https://i.scdn.co/image/ab67616d00004851b75dd1b7de969ef4e3a497c2', 'width': 64}], 'name': 'Who the Hell Is Edgar?', 'release_date': '2023-03-08', 'release_date_precision': 'day', 'total_tracks': 1, 'type': 'album', 'uri': 'spotify:album:0Pc0YjphyuqsZbeHJq7AJ0'}, 'artists': [{'external_urls': {'spotify': 'https://open.spotify.com/artist/3o9SkahUjtGQ6U9IU0BjhI'}, 'href': 'https://api.spotify.com/v1/artists/3o9SkahUjtGQ6U9IU0BjhI', 'id': '3o9SkahUjtGQ6U9IU0BjhI', 'name': 'TEYA', 'type': 'artist', 'uri': 'spotify:artist:3o9SkahUjtGQ6U9IU0BjhI'}, {'external_urls': {'spotify': 'https://open.spotify.com/artist/5uoK1zfpi48x9aKAM8x6pt'}, 'href': 'https://api.spotify.com/v1/artists/5uoK1zfpi48x9aKAM8x6pt', 'id': '5uoK1zfpi48x9aKAM8x6pt', 'name': 'SALENA', 'type': 'artist', 'uri': 'spotify:artist:5uoK1zfpi48x9aKAM8x6pt'}], 'available_markets': ['AR', 'AU', 'AT', 'BE', 'BO', 'BR', 'BG', 'CA', 'CL', 'CO', 'CR', 'CY', 'CZ', 'DK', 'DO', 'DE', 'EC', 'EE', 'SV', 'FI', 'FR', 'GR', 'GT', 'HN', 'HK', 'HU', 'IS', 'IE', 'IT', 'LV', 'LT', 'LU', 'MY', 'MT', 'MX', 'NL', 'NZ', 'NI', 'NO', 'PA', 'PY', 'PE', 'PH', 'PL', 'PT', 'SG', 'SK', 'ES', 'SE', 'CH', 'TW', 'TR', 'UY', 'US', 'GB', 'AD', 'LI', 'MC', 'ID', 'JP', 'TH', 'VN', 'RO', 'IL', 'ZA', 'SA', 'AE', 'BH', 'QA', 'OM', 'KW', 'EG', 'MA', 'DZ', 'TN', 'LB', 'JO', 'PS', 'IN', 'KZ', 'MD', 'UA', 'AL', 'BA', 'HR', 'ME', 'MK', 'RS', 'SI', 'KR', 'BD', 'PK', 'LK', 'GH', 'KE', 'NG', 'TZ', 'UG', 'AG', 'AM', 'BS', 'BB', 'BZ', 'BT', 'BW', 'BF', 'CV', 'CW', 'DM', 'FJ', 'GM', 'GE', 'GD', 'GW', 'GY', 'HT', 'JM', 'KI', 'LS', 'LR', 'MW', 'MV', 'ML', 'MH', 'FM', 'NA', 'NR', 'NE', 'PW', 'PG', 'WS', 'SM', 'ST', 'SN', 'SC', 'SL', 'SB', 'KN', 'LC', 'VC', 'SR', 'TL', 'TO', 'TT', 'TV', 'VU', 'AZ', 'BN', 'BI', 'KH', 'CM', 'TD', 'KM', 'GQ', 'SZ', 'GA', 'GN', 'KG', 'LA', 'MO', 'MR', 'MN', 'NP', 'RW', 'TG', 'UZ', 'ZW', 'BJ', 'MG', 'MU', 'MZ', 'AO', 'CI', 'DJ', 'ZM', 'CD', 'CG', 'IQ', 'LY', 'TJ', 'VE', 'ET', 'XK'], 'disc_number': 1, 'duration_ms': 159417, 'episode': False, 'explicit': False, 'external_ids': {'isrc': 'DEA622300267'}, 'external_urls': {'spotify': 'https://open.spotify.com/track/3gUC7tGDPVLOq42vvTUVdI'}, 'href': 'https://api.spotify.com/v1/tracks/3gUC7tGDPVLOq42vvTUVdI', 'id': '3gUC7tGDPVLOq42vvTUVdI', 'is_local': False, 'name': 'Who the Hell Is Edgar?', 'popularity': 79, 'preview_url': 'https://p.scdn.co/mp3-preview/91bdf1e0480f9418f7ca97498f0f28ca9e3b56f0?cid=43964785e73c43698f52de9f8ea49068', 'track': True, 'track_number': 1, 'type': 'track', 'uri': 'spotify:track:3gUC7tGDPVLOq42vvTUVdI'}\n",
      "{'album': {'album_type': 'single', 'artists': [{'external_urls': {'spotify': 'https://open.spotify.com/artist/6QoCrBHsojKnOrsGNfRcTN'}, 'href': 'https://api.spotify.com/v1/artists/6QoCrBHsojKnOrsGNfRcTN', 'id': '6QoCrBHsojKnOrsGNfRcTN', 'name': 'Talwiinder', 'type': 'artist', 'uri': 'spotify:artist:6QoCrBHsojKnOrsGNfRcTN'}, {'external_urls': {'spotify': 'https://open.spotify.com/artist/5xh6szshoZ0UfZD1x6QzZG'}, 'href': 'https://api.spotify.com/v1/artists/5xh6szshoZ0UfZD1x6QzZG', 'id': '5xh6szshoZ0UfZD1x6QzZG', 'name': 'NDS', 'type': 'artist', 'uri': 'spotify:artist:5xh6szshoZ0UfZD1x6QzZG'}], 'available_markets': ['AD', 'AE', 'AG', 'AL', 'AM', 'AO', 'AR', 'AT', 'AU', 'AZ', 'BA', 'BB', 'BD', 'BE', 'BF', 'BG', 'BH', 'BI', 'BJ', 'BN', 'BO', 'BR', 'BS', 'BT', 'BW', 'BY', 'BZ', 'CA', 'CD', 'CG', 'CH', 'CI', 'CL', 'CM', 'CO', 'CR', 'CV', 'CW', 'CY', 'CZ', 'DE', 'DJ', 'DK', 'DM', 'DO', 'DZ', 'EC', 'EE', 'EG', 'ES', 'ET', 'FI', 'FJ', 'FM', 'FR', 'GA', 'GB', 'GD', 'GE', 'GH', 'GM', 'GN', 'GQ', 'GR', 'GT', 'GW', 'GY', 'HK', 'HN', 'HR', 'HT', 'HU', 'ID', 'IE', 'IL', 'IN', 'IQ', 'IS', 'IT', 'JM', 'JO', 'JP', 'KE', 'KG', 'KH', 'KI', 'KM', 'KN', 'KR', 'KW', 'KZ', 'LA', 'LB', 'LC', 'LI', 'LK', 'LR', 'LS', 'LT', 'LU', 'LV', 'LY', 'MA', 'MC', 'MD', 'ME', 'MG', 'MH', 'MK', 'ML', 'MN', 'MO', 'MR', 'MT', 'MU', 'MV', 'MW', 'MX', 'MY', 'MZ', 'NA', 'NE', 'NG', 'NI', 'NL', 'NO', 'NP', 'NR', 'NZ', 'OM', 'PA', 'PE', 'PG', 'PH', 'PK', 'PL', 'PS', 'PT', 'PW', 'PY', 'QA', 'RO', 'RS', 'RW', 'SA', 'SB', 'SC', 'SE', 'SG', 'SI', 'SK', 'SL', 'SM', 'SN', 'SR', 'ST', 'SV', 'SZ', 'TD', 'TG', 'TH', 'TJ', 'TL', 'TN', 'TO', 'TR', 'TT', 'TV', 'TW', 'TZ', 'UA', 'UG', 'US', 'UY', 'UZ', 'VC', 'VE', 'VN', 'VU', 'WS', 'XK', 'ZA', 'ZM', 'ZW'], 'external_urls': {'spotify': 'https://open.spotify.com/album/6YRCu9pm8bpzydmmddfXYG'}, 'href': 'https://api.spotify.com/v1/albums/6YRCu9pm8bpzydmmddfXYG', 'id': '6YRCu9pm8bpzydmmddfXYG', 'images': [{'height': 640, 'url': 'https://i.scdn.co/image/ab67616d0000b2737e91da890f9767b646a75b86', 'width': 640}, {'height': 300, 'url': 'https://i.scdn.co/image/ab67616d00001e027e91da890f9767b646a75b86', 'width': 300}, {'height': 64, 'url': 'https://i.scdn.co/image/ab67616d000048517e91da890f9767b646a75b86', 'width': 64}], 'name': 'Khayaal', 'release_date': '2023-03-16', 'release_date_precision': 'day', 'total_tracks': 1, 'type': 'album', 'uri': 'spotify:album:6YRCu9pm8bpzydmmddfXYG'}, 'artists': [{'external_urls': {'spotify': 'https://open.spotify.com/artist/6QoCrBHsojKnOrsGNfRcTN'}, 'href': 'https://api.spotify.com/v1/artists/6QoCrBHsojKnOrsGNfRcTN', 'id': '6QoCrBHsojKnOrsGNfRcTN', 'name': 'Talwiinder', 'type': 'artist', 'uri': 'spotify:artist:6QoCrBHsojKnOrsGNfRcTN'}, {'external_urls': {'spotify': 'https://open.spotify.com/artist/5xh6szshoZ0UfZD1x6QzZG'}, 'href': 'https://api.spotify.com/v1/artists/5xh6szshoZ0UfZD1x6QzZG', 'id': '5xh6szshoZ0UfZD1x6QzZG', 'name': 'NDS', 'type': 'artist', 'uri': 'spotify:artist:5xh6szshoZ0UfZD1x6QzZG'}], 'available_markets': ['AR', 'AU', 'AT', 'BE', 'BO', 'BR', 'BG', 'CA', 'CL', 'CO', 'CR', 'CY', 'CZ', 'DK', 'DO', 'DE', 'EC', 'EE', 'SV', 'FI', 'FR', 'GR', 'GT', 'HN', 'HK', 'HU', 'IS', 'IE', 'IT', 'LV', 'LT', 'LU', 'MY', 'MT', 'MX', 'NL', 'NZ', 'NI', 'NO', 'PA', 'PY', 'PE', 'PH', 'PL', 'PT', 'SG', 'SK', 'ES', 'SE', 'CH', 'TW', 'TR', 'UY', 'US', 'GB', 'AD', 'LI', 'MC', 'ID', 'JP', 'TH', 'VN', 'RO', 'IL', 'ZA', 'SA', 'AE', 'BH', 'QA', 'OM', 'KW', 'EG', 'MA', 'DZ', 'TN', 'LB', 'JO', 'PS', 'IN', 'BY', 'KZ', 'MD', 'UA', 'AL', 'BA', 'HR', 'ME', 'MK', 'RS', 'SI', 'KR', 'BD', 'PK', 'LK', 'GH', 'KE', 'NG', 'TZ', 'UG', 'AG', 'AM', 'BS', 'BB', 'BZ', 'BT', 'BW', 'BF', 'CV', 'CW', 'DM', 'FJ', 'GM', 'GE', 'GD', 'GW', 'GY', 'HT', 'JM', 'KI', 'LS', 'LR', 'MW', 'MV', 'ML', 'MH', 'FM', 'NA', 'NR', 'NE', 'PW', 'PG', 'WS', 'SM', 'ST', 'SN', 'SC', 'SL', 'SB', 'KN', 'LC', 'VC', 'SR', 'TL', 'TO', 'TT', 'TV', 'VU', 'AZ', 'BN', 'BI', 'KH', 'CM', 'TD', 'KM', 'GQ', 'SZ', 'GA', 'GN', 'KG', 'LA', 'MO', 'MR', 'MN', 'NP', 'RW', 'TG', 'UZ', 'ZW', 'BJ', 'MG', 'MU', 'MZ', 'AO', 'CI', 'DJ', 'ZM', 'CD', 'CG', 'IQ', 'LY', 'TJ', 'VE', 'ET', 'XK'], 'disc_number': 1, 'duration_ms': 162018, 'episode': False, 'explicit': False, 'external_ids': {'isrc': 'INS172300906'}, 'external_urls': {'spotify': 'https://open.spotify.com/track/4D8eFUu6Hvulrq6CGqGaLR'}, 'href': 'https://api.spotify.com/v1/tracks/4D8eFUu6Hvulrq6CGqGaLR', 'id': '4D8eFUu6Hvulrq6CGqGaLR', 'is_local': False, 'name': 'Khayaal', 'popularity': 68, 'preview_url': 'https://p.scdn.co/mp3-preview/7187b7878853f24547b91c1ab51d6f1306770160?cid=43964785e73c43698f52de9f8ea49068', 'track': True, 'track_number': 1, 'type': 'track', 'uri': 'spotify:track:4D8eFUu6Hvulrq6CGqGaLR'}\n",
      "{'album': {'album_type': 'single', 'artists': [{'external_urls': {'spotify': 'https://open.spotify.com/artist/0q21wtMM1dK3rI2HzCYPui'}, 'href': 'https://api.spotify.com/v1/artists/0q21wtMM1dK3rI2HzCYPui', 'id': '0q21wtMM1dK3rI2HzCYPui', 'name': 'Farizki', 'type': 'artist', 'uri': 'spotify:artist:0q21wtMM1dK3rI2HzCYPui'}], 'available_markets': ['AD', 'AE', 'AG', 'AL', 'AM', 'AO', 'AR', 'AT', 'AU', 'AZ', 'BA', 'BB', 'BD', 'BE', 'BF', 'BG', 'BH', 'BI', 'BJ', 'BN', 'BO', 'BR', 'BS', 'BT', 'BW', 'BY', 'BZ', 'CA', 'CD', 'CG', 'CH', 'CI', 'CL', 'CM', 'CO', 'CR', 'CV', 'CW', 'CY', 'CZ', 'DE', 'DJ', 'DK', 'DM', 'DO', 'DZ', 'EC', 'EE', 'EG', 'ES', 'ET', 'FI', 'FJ', 'FM', 'FR', 'GA', 'GB', 'GD', 'GE', 'GH', 'GM', 'GN', 'GQ', 'GR', 'GT', 'GW', 'GY', 'HK', 'HN', 'HR', 'HT', 'HU', 'ID', 'IE', 'IL', 'IN', 'IQ', 'IS', 'IT', 'JM', 'JO', 'JP', 'KE', 'KG', 'KH', 'KI', 'KM', 'KN', 'KR', 'KW', 'KZ', 'LA', 'LB', 'LC', 'LI', 'LK', 'LR', 'LS', 'LT', 'LU', 'LV', 'LY', 'MA', 'MC', 'MD', 'ME', 'MG', 'MH', 'MK', 'ML', 'MN', 'MO', 'MR', 'MT', 'MU', 'MV', 'MW', 'MX', 'MY', 'MZ', 'NA', 'NE', 'NG', 'NI', 'NL', 'NO', 'NP', 'NR', 'NZ', 'OM', 'PA', 'PE', 'PG', 'PH', 'PK', 'PL', 'PS', 'PT', 'PW', 'PY', 'QA', 'RO', 'RS', 'RW', 'SA', 'SB', 'SC', 'SE', 'SG', 'SI', 'SK', 'SL', 'SM', 'SN', 'SR', 'ST', 'SV', 'SZ', 'TD', 'TG', 'TH', 'TJ', 'TL', 'TN', 'TO', 'TR', 'TT', 'TV', 'TW', 'TZ', 'UA', 'UG', 'US', 'UY', 'UZ', 'VC', 'VE', 'VN', 'VU', 'WS', 'XK', 'ZA', 'ZM', 'ZW'], 'external_urls': {'spotify': 'https://open.spotify.com/album/4mtlhZ8dDdNnXCFu5AzFv8'}, 'href': 'https://api.spotify.com/v1/albums/4mtlhZ8dDdNnXCFu5AzFv8', 'id': '4mtlhZ8dDdNnXCFu5AzFv8', 'images': [{'height': 640, 'url': 'https://i.scdn.co/image/ab67616d0000b2735ec9d33c4073178727f3f60c', 'width': 640}, {'height': 300, 'url': 'https://i.scdn.co/image/ab67616d00001e025ec9d33c4073178727f3f60c', 'width': 300}, {'height': 64, 'url': 'https://i.scdn.co/image/ab67616d000048515ec9d33c4073178727f3f60c', 'width': 64}], 'name': 'Past Lives', 'release_date': '2015-10-16', 'release_date_precision': 'day', 'total_tracks': 1, 'type': 'album', 'uri': 'spotify:album:4mtlhZ8dDdNnXCFu5AzFv8'}, 'artists': [{'external_urls': {'spotify': 'https://open.spotify.com/artist/0q21wtMM1dK3rI2HzCYPui'}, 'href': 'https://api.spotify.com/v1/artists/0q21wtMM1dK3rI2HzCYPui', 'id': '0q21wtMM1dK3rI2HzCYPui', 'name': 'Farizki', 'type': 'artist', 'uri': 'spotify:artist:0q21wtMM1dK3rI2HzCYPui'}], 'available_markets': ['AR', 'AU', 'AT', 'BE', 'BO', 'BR', 'BG', 'CA', 'CL', 'CO', 'CR', 'CY', 'CZ', 'DK', 'DO', 'DE', 'EC', 'EE', 'SV', 'FI', 'FR', 'GR', 'GT', 'HN', 'HK', 'HU', 'IS', 'IE', 'IT', 'LV', 'LT', 'LU', 'MY', 'MT', 'MX', 'NL', 'NZ', 'NI', 'NO', 'PA', 'PY', 'PE', 'PH', 'PL', 'PT', 'SG', 'SK', 'ES', 'SE', 'CH', 'TW', 'TR', 'UY', 'US', 'GB', 'AD', 'LI', 'MC', 'ID', 'JP', 'TH', 'VN', 'RO', 'IL', 'ZA', 'SA', 'AE', 'BH', 'QA', 'OM', 'KW', 'EG', 'MA', 'DZ', 'TN', 'LB', 'JO', 'PS', 'IN', 'BY', 'KZ', 'MD', 'UA', 'AL', 'BA', 'HR', 'ME', 'MK', 'RS', 'SI', 'KR', 'BD', 'PK', 'LK', 'GH', 'KE', 'NG', 'TZ', 'UG', 'AG', 'AM', 'BS', 'BB', 'BZ', 'BT', 'BW', 'BF', 'CV', 'CW', 'DM', 'FJ', 'GM', 'GE', 'GD', 'GW', 'GY', 'HT', 'JM', 'KI', 'LS', 'LR', 'MW', 'MV', 'ML', 'MH', 'FM', 'NA', 'NR', 'NE', 'PW', 'PG', 'WS', 'SM', 'ST', 'SN', 'SC', 'SL', 'SB', 'KN', 'LC', 'VC', 'SR', 'TL', 'TO', 'TT', 'TV', 'VU', 'AZ', 'BN', 'BI', 'KH', 'CM', 'TD', 'KM', 'GQ', 'SZ', 'GA', 'GN', 'KG', 'LA', 'MO', 'MR', 'MN', 'NP', 'RW', 'TG', 'UZ', 'ZW', 'BJ', 'MG', 'MU', 'MZ', 'AO', 'CI', 'DJ', 'ZM', 'CD', 'CG', 'IQ', 'LY', 'TJ', 'VE', 'ET', 'XK'], 'disc_number': 1, 'duration_ms': 153170, 'episode': False, 'explicit': False, 'external_ids': {'isrc': 'NLRD52256632'}, 'external_urls': {'spotify': 'https://open.spotify.com/track/5kZtNsNOOm3Dp5pClPUEhj'}, 'href': 'https://api.spotify.com/v1/tracks/5kZtNsNOOm3Dp5pClPUEhj', 'id': '5kZtNsNOOm3Dp5pClPUEhj', 'is_local': False, 'name': 'Past Lives', 'popularity': 81, 'preview_url': 'https://p.scdn.co/mp3-preview/4c7cf56f75eab9ff61a90d98f86cd87738f543e7?cid=43964785e73c43698f52de9f8ea49068', 'track': True, 'track_number': 1, 'type': 'track', 'uri': 'spotify:track:5kZtNsNOOm3Dp5pClPUEhj'}\n",
      "{'album': {'album_type': 'single', 'artists': [{'external_urls': {'spotify': 'https://open.spotify.com/artist/4GJ6xDCF5jaUqD6avOuQT6'}, 'href': 'https://api.spotify.com/v1/artists/4GJ6xDCF5jaUqD6avOuQT6', 'id': '4GJ6xDCF5jaUqD6avOuQT6', 'name': 'FIFTY FIFTY', 'type': 'artist', 'uri': 'spotify:artist:4GJ6xDCF5jaUqD6avOuQT6'}], 'available_markets': ['AD', 'AE', 'AG', 'AL', 'AM', 'AO', 'AR', 'AT', 'AU', 'AZ', 'BA', 'BB', 'BD', 'BE', 'BF', 'BG', 'BH', 'BI', 'BJ', 'BN', 'BO', 'BR', 'BS', 'BT', 'BW', 'BZ', 'CA', 'CD', 'CG', 'CH', 'CI', 'CL', 'CM', 'CO', 'CR', 'CV', 'CW', 'CY', 'CZ', 'DE', 'DJ', 'DK', 'DM', 'DO', 'DZ', 'EC', 'EE', 'EG', 'ES', 'ET', 'FI', 'FJ', 'FM', 'FR', 'GA', 'GB', 'GD', 'GE', 'GH', 'GM', 'GN', 'GQ', 'GR', 'GT', 'GW', 'GY', 'HK', 'HN', 'HR', 'HT', 'HU', 'ID', 'IE', 'IL', 'IN', 'IQ', 'IS', 'IT', 'JM', 'JO', 'JP', 'KE', 'KG', 'KH', 'KI', 'KM', 'KN', 'KR', 'KW', 'KZ', 'LA', 'LB', 'LC', 'LI', 'LK', 'LR', 'LS', 'LT', 'LU', 'LV', 'LY', 'MA', 'MC', 'MD', 'ME', 'MG', 'MH', 'MK', 'ML', 'MN', 'MO', 'MR', 'MT', 'MU', 'MV', 'MW', 'MX', 'MY', 'MZ', 'NA', 'NE', 'NG', 'NI', 'NL', 'NO', 'NP', 'NR', 'NZ', 'OM', 'PA', 'PE', 'PG', 'PH', 'PK', 'PL', 'PS', 'PT', 'PW', 'PY', 'QA', 'RO', 'RS', 'RW', 'SA', 'SB', 'SC', 'SE', 'SG', 'SI', 'SK', 'SL', 'SM', 'SN', 'SR', 'ST', 'SV', 'SZ', 'TD', 'TG', 'TH', 'TJ', 'TL', 'TN', 'TO', 'TR', 'TT', 'TV', 'TW', 'TZ', 'UA', 'UG', 'US', 'UY', 'UZ', 'VC', 'VE', 'VN', 'VU', 'WS', 'XK', 'ZA', 'ZM', 'ZW'], 'external_urls': {'spotify': 'https://open.spotify.com/album/5letLUZIFsQikJYShfGNs4'}, 'href': 'https://api.spotify.com/v1/albums/5letLUZIFsQikJYShfGNs4', 'id': '5letLUZIFsQikJYShfGNs4', 'images': [{'height': 640, 'url': 'https://i.scdn.co/image/ab67616d0000b27337c0b3670236c067c8e8bbcb', 'width': 640}, {'height': 300, 'url': 'https://i.scdn.co/image/ab67616d00001e0237c0b3670236c067c8e8bbcb', 'width': 300}, {'height': 64, 'url': 'https://i.scdn.co/image/ab67616d0000485137c0b3670236c067c8e8bbcb', 'width': 64}], 'name': 'The Beginning: Cupid', 'release_date': '2023-02-24', 'release_date_precision': 'day', 'total_tracks': 3, 'type': 'album', 'uri': 'spotify:album:5letLUZIFsQikJYShfGNs4'}, 'artists': [{'external_urls': {'spotify': 'https://open.spotify.com/artist/4GJ6xDCF5jaUqD6avOuQT6'}, 'href': 'https://api.spotify.com/v1/artists/4GJ6xDCF5jaUqD6avOuQT6', 'id': '4GJ6xDCF5jaUqD6avOuQT6', 'name': 'FIFTY FIFTY', 'type': 'artist', 'uri': 'spotify:artist:4GJ6xDCF5jaUqD6avOuQT6'}], 'available_markets': ['AR', 'AU', 'AT', 'BE', 'BO', 'BR', 'BG', 'CA', 'CL', 'CO', 'CR', 'CY', 'CZ', 'DK', 'DO', 'DE', 'EC', 'EE', 'SV', 'FI', 'FR', 'GR', 'GT', 'HN', 'HK', 'HU', 'IS', 'IE', 'IT', 'LV', 'LT', 'LU', 'MY', 'MT', 'MX', 'NL', 'NZ', 'NI', 'NO', 'PA', 'PY', 'PE', 'PH', 'PL', 'PT', 'SG', 'SK', 'ES', 'SE', 'CH', 'TW', 'TR', 'UY', 'US', 'GB', 'AD', 'LI', 'MC', 'ID', 'JP', 'TH', 'VN', 'RO', 'IL', 'ZA', 'SA', 'AE', 'BH', 'QA', 'OM', 'KW', 'EG', 'MA', 'DZ', 'TN', 'LB', 'JO', 'PS', 'IN', 'KZ', 'MD', 'UA', 'AL', 'BA', 'HR', 'ME', 'MK', 'RS', 'SI', 'KR', 'BD', 'PK', 'LK', 'GH', 'KE', 'NG', 'TZ', 'UG', 'AG', 'AM', 'BS', 'BB', 'BZ', 'BT', 'BW', 'BF', 'CV', 'CW', 'DM', 'FJ', 'GM', 'GE', 'GD', 'GW', 'GY', 'HT', 'JM', 'KI', 'LS', 'LR', 'MW', 'MV', 'ML', 'MH', 'FM', 'NA', 'NR', 'NE', 'PW', 'PG', 'WS', 'SM', 'ST', 'SN', 'SC', 'SL', 'SB', 'KN', 'LC', 'VC', 'SR', 'TL', 'TO', 'TT', 'TV', 'VU', 'AZ', 'BN', 'BI', 'KH', 'CM', 'TD', 'KM', 'GQ', 'SZ', 'GA', 'GN', 'KG', 'LA', 'MO', 'MR', 'MN', 'NP', 'RW', 'TG', 'UZ', 'ZW', 'BJ', 'MG', 'MU', 'MZ', 'AO', 'CI', 'DJ', 'ZM', 'CD', 'CG', 'IQ', 'LY', 'TJ', 'VE', 'ET', 'XK'], 'disc_number': 1, 'duration_ms': 174253, 'episode': False, 'explicit': False, 'external_ids': {'isrc': 'KSA012239181'}, 'external_urls': {'spotify': 'https://open.spotify.com/track/7FbrGaHYVDmfr7KoLIZnQ7'}, 'href': 'https://api.spotify.com/v1/tracks/7FbrGaHYVDmfr7KoLIZnQ7', 'id': '7FbrGaHYVDmfr7KoLIZnQ7', 'is_local': False, 'name': 'Cupid - Twin Ver.', 'popularity': 98, 'preview_url': 'https://p.scdn.co/mp3-preview/af5c16d4c69be9b3278e7079d5aab14aa425127b?cid=43964785e73c43698f52de9f8ea49068', 'track': True, 'track_number': 2, 'type': 'track', 'uri': 'spotify:track:7FbrGaHYVDmfr7KoLIZnQ7'}\n",
      "{'album': {'album_type': 'single', 'artists': [{'external_urls': {'spotify': 'https://open.spotify.com/artist/4LZrB16vINsCHc28cE6oQo'}, 'href': 'https://api.spotify.com/v1/artists/4LZrB16vINsCHc28cE6oQo', 'id': '4LZrB16vINsCHc28cE6oQo', 'name': 'Aditya Bhardwaj', 'type': 'artist', 'uri': 'spotify:artist:4LZrB16vINsCHc28cE6oQo'}], 'available_markets': ['AD', 'AE', 'AG', 'AL', 'AM', 'AO', 'AR', 'AT', 'AU', 'AZ', 'BA', 'BB', 'BD', 'BE', 'BF', 'BG', 'BH', 'BI', 'BJ', 'BN', 'BO', 'BR', 'BS', 'BT', 'BW', 'BY', 'BZ', 'CA', 'CD', 'CG', 'CH', 'CI', 'CL', 'CM', 'CO', 'CR', 'CV', 'CW', 'CY', 'CZ', 'DE', 'DJ', 'DK', 'DM', 'DO', 'DZ', 'EC', 'EE', 'EG', 'ES', 'ET', 'FI', 'FJ', 'FM', 'FR', 'GA', 'GB', 'GD', 'GE', 'GH', 'GM', 'GN', 'GQ', 'GR', 'GT', 'GW', 'GY', 'HK', 'HN', 'HR', 'HT', 'HU', 'ID', 'IE', 'IL', 'IN', 'IQ', 'IS', 'IT', 'JM', 'JO', 'JP', 'KE', 'KG', 'KH', 'KI', 'KM', 'KN', 'KR', 'KW', 'KZ', 'LA', 'LB', 'LC', 'LI', 'LK', 'LR', 'LS', 'LT', 'LU', 'LV', 'LY', 'MA', 'MC', 'MD', 'ME', 'MG', 'MH', 'MK', 'ML', 'MN', 'MO', 'MR', 'MT', 'MU', 'MV', 'MW', 'MX', 'MY', 'MZ', 'NA', 'NE', 'NG', 'NI', 'NL', 'NO', 'NP', 'NR', 'NZ', 'OM', 'PA', 'PE', 'PG', 'PH', 'PK', 'PL', 'PS', 'PT', 'PW', 'PY', 'QA', 'RO', 'RS', 'RW', 'SA', 'SB', 'SC', 'SE', 'SG', 'SI', 'SK', 'SL', 'SM', 'SN', 'SR', 'ST', 'SV', 'SZ', 'TD', 'TG', 'TH', 'TJ', 'TL', 'TN', 'TO', 'TR', 'TT', 'TV', 'TW', 'TZ', 'UA', 'UG', 'US', 'UY', 'UZ', 'VC', 'VE', 'VN', 'VU', 'WS', 'XK', 'ZA', 'ZM', 'ZW'], 'external_urls': {'spotify': 'https://open.spotify.com/album/6OVWPaE71jVbIOqDAdlaDm'}, 'href': 'https://api.spotify.com/v1/albums/6OVWPaE71jVbIOqDAdlaDm', 'id': '6OVWPaE71jVbIOqDAdlaDm', 'images': [{'height': 640, 'url': 'https://i.scdn.co/image/ab67616d0000b2734043942b44a74672e0210e5d', 'width': 640}, {'height': 300, 'url': 'https://i.scdn.co/image/ab67616d00001e024043942b44a74672e0210e5d', 'width': 300}, {'height': 64, 'url': 'https://i.scdn.co/image/ab67616d000048514043942b44a74672e0210e5d', 'width': 64}], 'name': 'Bye', 'release_date': '2022-12-02', 'release_date_precision': 'day', 'total_tracks': 1, 'type': 'album', 'uri': 'spotify:album:6OVWPaE71jVbIOqDAdlaDm'}, 'artists': [{'external_urls': {'spotify': 'https://open.spotify.com/artist/4LZrB16vINsCHc28cE6oQo'}, 'href': 'https://api.spotify.com/v1/artists/4LZrB16vINsCHc28cE6oQo', 'id': '4LZrB16vINsCHc28cE6oQo', 'name': 'Aditya Bhardwaj', 'type': 'artist', 'uri': 'spotify:artist:4LZrB16vINsCHc28cE6oQo'}], 'available_markets': ['AR', 'AU', 'AT', 'BE', 'BO', 'BR', 'BG', 'CA', 'CL', 'CO', 'CR', 'CY', 'CZ', 'DK', 'DO', 'DE', 'EC', 'EE', 'SV', 'FI', 'FR', 'GR', 'GT', 'HN', 'HK', 'HU', 'IS', 'IE', 'IT', 'LV', 'LT', 'LU', 'MY', 'MT', 'MX', 'NL', 'NZ', 'NI', 'NO', 'PA', 'PY', 'PE', 'PH', 'PL', 'PT', 'SG', 'SK', 'ES', 'SE', 'CH', 'TW', 'TR', 'UY', 'US', 'GB', 'AD', 'LI', 'MC', 'ID', 'JP', 'TH', 'VN', 'RO', 'IL', 'ZA', 'SA', 'AE', 'BH', 'QA', 'OM', 'KW', 'EG', 'MA', 'DZ', 'TN', 'LB', 'JO', 'PS', 'IN', 'BY', 'KZ', 'MD', 'UA', 'AL', 'BA', 'HR', 'ME', 'MK', 'RS', 'SI', 'KR', 'BD', 'PK', 'LK', 'GH', 'KE', 'NG', 'TZ', 'UG', 'AG', 'AM', 'BS', 'BB', 'BZ', 'BT', 'BW', 'BF', 'CV', 'CW', 'DM', 'FJ', 'GM', 'GE', 'GD', 'GW', 'GY', 'HT', 'JM', 'KI', 'LS', 'LR', 'MW', 'MV', 'ML', 'MH', 'FM', 'NA', 'NR', 'NE', 'PW', 'PG', 'WS', 'SM', 'ST', 'SN', 'SC', 'SL', 'SB', 'KN', 'LC', 'VC', 'SR', 'TL', 'TO', 'TT', 'TV', 'VU', 'AZ', 'BN', 'BI', 'KH', 'CM', 'TD', 'KM', 'GQ', 'SZ', 'GA', 'GN', 'KG', 'LA', 'MO', 'MR', 'MN', 'NP', 'RW', 'TG', 'UZ', 'ZW', 'BJ', 'MG', 'MU', 'MZ', 'AO', 'CI', 'DJ', 'ZM', 'CD', 'CG', 'IQ', 'LY', 'TJ', 'VE', 'ET', 'XK'], 'disc_number': 1, 'duration_ms': 174285, 'episode': False, 'explicit': False, 'external_ids': {'isrc': 'TCAGP2204116'}, 'external_urls': {'spotify': 'https://open.spotify.com/track/0GamKm5LCEwxFh8p2VWvnq'}, 'href': 'https://api.spotify.com/v1/tracks/0GamKm5LCEwxFh8p2VWvnq', 'id': '0GamKm5LCEwxFh8p2VWvnq', 'is_local': False, 'name': 'Bye', 'popularity': 74, 'preview_url': 'https://p.scdn.co/mp3-preview/e5ca376cc35b7cb41d9d2f90072fb218244bdc91?cid=43964785e73c43698f52de9f8ea49068', 'track': True, 'track_number': 1, 'type': 'track', 'uri': 'spotify:track:0GamKm5LCEwxFh8p2VWvnq'}\n",
      "{'album': {'album_type': 'single', 'artists': [{'external_urls': {'spotify': 'https://open.spotify.com/artist/1CcZoULzFHa8Uhwo6OlQcp'}, 'href': 'https://api.spotify.com/v1/artists/1CcZoULzFHa8Uhwo6OlQcp', 'id': '1CcZoULzFHa8Uhwo6OlQcp', 'name': 'Semicenk', 'type': 'artist', 'uri': 'spotify:artist:1CcZoULzFHa8Uhwo6OlQcp'}, {'external_urls': {'spotify': 'https://open.spotify.com/artist/0Dl0DuG2pk6VWJ3XLKcvt3'}, 'href': 'https://api.spotify.com/v1/artists/0Dl0DuG2pk6VWJ3XLKcvt3', 'id': '0Dl0DuG2pk6VWJ3XLKcvt3', 'name': 'Rast', 'type': 'artist', 'uri': 'spotify:artist:0Dl0DuG2pk6VWJ3XLKcvt3'}], 'available_markets': ['AD', 'AE', 'AG', 'AL', 'AM', 'AO', 'AR', 'AT', 'AU', 'AZ', 'BA', 'BB', 'BD', 'BE', 'BF', 'BG', 'BH', 'BI', 'BJ', 'BN', 'BO', 'BR', 'BS', 'BT', 'BW', 'BY', 'BZ', 'CA', 'CD', 'CG', 'CH', 'CI', 'CL', 'CM', 'CO', 'CR', 'CV', 'CW', 'CY', 'CZ', 'DE', 'DJ', 'DK', 'DM', 'DO', 'DZ', 'EC', 'EE', 'EG', 'ES', 'ET', 'FI', 'FJ', 'FM', 'FR', 'GA', 'GB', 'GD', 'GE', 'GH', 'GM', 'GN', 'GQ', 'GR', 'GT', 'GW', 'GY', 'HK', 'HN', 'HR', 'HT', 'HU', 'ID', 'IE', 'IL', 'IN', 'IQ', 'IS', 'IT', 'JM', 'JO', 'JP', 'KE', 'KG', 'KH', 'KI', 'KM', 'KN', 'KR', 'KW', 'KZ', 'LA', 'LB', 'LC', 'LI', 'LK', 'LR', 'LS', 'LT', 'LU', 'LV', 'LY', 'MA', 'MC', 'MD', 'ME', 'MG', 'MH', 'MK', 'ML', 'MN', 'MO', 'MR', 'MT', 'MU', 'MV', 'MW', 'MX', 'MY', 'MZ', 'NA', 'NE', 'NG', 'NI', 'NL', 'NO', 'NP', 'NR', 'NZ', 'OM', 'PA', 'PE', 'PG', 'PH', 'PK', 'PL', 'PS', 'PT', 'PW', 'PY', 'QA', 'RO', 'RS', 'RW', 'SA', 'SB', 'SC', 'SE', 'SG', 'SI', 'SK', 'SL', 'SM', 'SN', 'SR', 'ST', 'SV', 'SZ', 'TD', 'TG', 'TH', 'TJ', 'TL', 'TN', 'TO', 'TR', 'TT', 'TV', 'TW', 'TZ', 'UA', 'UG', 'US', 'UY', 'UZ', 'VC', 'VE', 'VN', 'VU', 'WS', 'XK', 'ZA', 'ZM', 'ZW'], 'external_urls': {'spotify': 'https://open.spotify.com/album/6fpX97EwxmnNGNYeBneybh'}, 'href': 'https://api.spotify.com/v1/albums/6fpX97EwxmnNGNYeBneybh', 'id': '6fpX97EwxmnNGNYeBneybh', 'images': [{'height': 640, 'url': 'https://i.scdn.co/image/ab67616d0000b2737c4b5fa9b2ce976aba839e86', 'width': 640}, {'height': 300, 'url': 'https://i.scdn.co/image/ab67616d00001e027c4b5fa9b2ce976aba839e86', 'width': 300}, {'height': 64, 'url': 'https://i.scdn.co/image/ab67616d000048517c4b5fa9b2ce976aba839e86', 'width': 64}], 'name': 'Canın Sağ Olsun', 'release_date': '2023-04-21', 'release_date_precision': 'day', 'total_tracks': 1, 'type': 'album', 'uri': 'spotify:album:6fpX97EwxmnNGNYeBneybh'}, 'artists': [{'external_urls': {'spotify': 'https://open.spotify.com/artist/1CcZoULzFHa8Uhwo6OlQcp'}, 'href': 'https://api.spotify.com/v1/artists/1CcZoULzFHa8Uhwo6OlQcp', 'id': '1CcZoULzFHa8Uhwo6OlQcp', 'name': 'Semicenk', 'type': 'artist', 'uri': 'spotify:artist:1CcZoULzFHa8Uhwo6OlQcp'}, {'external_urls': {'spotify': 'https://open.spotify.com/artist/0Dl0DuG2pk6VWJ3XLKcvt3'}, 'href': 'https://api.spotify.com/v1/artists/0Dl0DuG2pk6VWJ3XLKcvt3', 'id': '0Dl0DuG2pk6VWJ3XLKcvt3', 'name': 'Rast', 'type': 'artist', 'uri': 'spotify:artist:0Dl0DuG2pk6VWJ3XLKcvt3'}], 'available_markets': ['AR', 'AU', 'AT', 'BE', 'BO', 'BR', 'BG', 'CA', 'CL', 'CO', 'CR', 'CY', 'CZ', 'DK', 'DO', 'DE', 'EC', 'EE', 'SV', 'FI', 'FR', 'GR', 'GT', 'HN', 'HK', 'HU', 'IS', 'IE', 'IT', 'LV', 'LT', 'LU', 'MY', 'MT', 'MX', 'NL', 'NZ', 'NI', 'NO', 'PA', 'PY', 'PE', 'PH', 'PL', 'PT', 'SG', 'SK', 'ES', 'SE', 'CH', 'TW', 'TR', 'UY', 'US', 'GB', 'AD', 'LI', 'MC', 'ID', 'JP', 'TH', 'VN', 'RO', 'IL', 'ZA', 'SA', 'AE', 'BH', 'QA', 'OM', 'KW', 'EG', 'MA', 'DZ', 'TN', 'LB', 'JO', 'PS', 'IN', 'BY', 'KZ', 'MD', 'UA', 'AL', 'BA', 'HR', 'ME', 'MK', 'RS', 'SI', 'KR', 'BD', 'PK', 'LK', 'GH', 'KE', 'NG', 'TZ', 'UG', 'AG', 'AM', 'BS', 'BB', 'BZ', 'BT', 'BW', 'BF', 'CV', 'CW', 'DM', 'FJ', 'GM', 'GE', 'GD', 'GW', 'GY', 'HT', 'JM', 'KI', 'LS', 'LR', 'MW', 'MV', 'ML', 'MH', 'FM', 'NA', 'NR', 'NE', 'PW', 'PG', 'WS', 'SM', 'ST', 'SN', 'SC', 'SL', 'SB', 'KN', 'LC', 'VC', 'SR', 'TL', 'TO', 'TT', 'TV', 'VU', 'AZ', 'BN', 'BI', 'KH', 'CM', 'TD', 'KM', 'GQ', 'SZ', 'GA', 'GN', 'KG', 'LA', 'MO', 'MR', 'MN', 'NP', 'RW', 'TG', 'UZ', 'ZW', 'BJ', 'MG', 'MU', 'MZ', 'AO', 'CI', 'DJ', 'ZM', 'CD', 'CG', 'IQ', 'LY', 'TJ', 'VE', 'ET', 'XK'], 'disc_number': 1, 'duration_ms': 179617, 'episode': False, 'explicit': False, 'external_ids': {'isrc': 'FRX282385759'}, 'external_urls': {'spotify': 'https://open.spotify.com/track/0mYqW8vhiw9rgwSwB21JQz'}, 'href': 'https://api.spotify.com/v1/tracks/0mYqW8vhiw9rgwSwB21JQz', 'id': '0mYqW8vhiw9rgwSwB21JQz', 'is_local': False, 'name': 'Canın Sağ Olsun', 'popularity': 82, 'preview_url': 'https://p.scdn.co/mp3-preview/611164919394be30c886a4c9428ab07a739656eb?cid=43964785e73c43698f52de9f8ea49068', 'track': True, 'track_number': 1, 'type': 'track', 'uri': 'spotify:track:0mYqW8vhiw9rgwSwB21JQz'}\n",
      "{'album': {'album_type': 'album', 'artists': [{'external_urls': {'spotify': 'https://open.spotify.com/artist/0DjAjUeZwSixK0dRwplBXb'}, 'href': 'https://api.spotify.com/v1/artists/0DjAjUeZwSixK0dRwplBXb', 'id': '0DjAjUeZwSixK0dRwplBXb', 'name': 'Alta Consigna', 'type': 'artist', 'uri': 'spotify:artist:0DjAjUeZwSixK0dRwplBXb'}], 'available_markets': ['AD', 'AE', 'AG', 'AL', 'AM', 'AO', 'AR', 'AT', 'AU', 'AZ', 'BA', 'BB', 'BD', 'BE', 'BF', 'BG', 'BH', 'BI', 'BJ', 'BN', 'BO', 'BR', 'BS', 'BT', 'BW', 'BY', 'BZ', 'CA', 'CD', 'CG', 'CH', 'CI', 'CL', 'CM', 'CO', 'CR', 'CV', 'CW', 'CY', 'CZ', 'DE', 'DJ', 'DK', 'DM', 'DO', 'DZ', 'EC', 'EE', 'EG', 'ES', 'ET', 'FI', 'FJ', 'FM', 'FR', 'GA', 'GB', 'GD', 'GE', 'GH', 'GM', 'GN', 'GQ', 'GR', 'GT', 'GW', 'GY', 'HK', 'HN', 'HR', 'HT', 'HU', 'ID', 'IE', 'IL', 'IN', 'IQ', 'IS', 'IT', 'JM', 'JO', 'JP', 'KE', 'KG', 'KH', 'KI', 'KM', 'KN', 'KR', 'KW', 'KZ', 'LA', 'LB', 'LC', 'LI', 'LK', 'LR', 'LS', 'LT', 'LU', 'LV', 'LY', 'MA', 'MC', 'MD', 'ME', 'MG', 'MH', 'MK', 'ML', 'MN', 'MO', 'MR', 'MT', 'MU', 'MV', 'MW', 'MX', 'MY', 'MZ', 'NA', 'NE', 'NG', 'NI', 'NL', 'NO', 'NP', 'NR', 'NZ', 'OM', 'PA', 'PE', 'PG', 'PH', 'PK', 'PL', 'PS', 'PT', 'PW', 'PY', 'QA', 'RO', 'RS', 'RW', 'SA', 'SB', 'SC', 'SE', 'SG', 'SI', 'SK', 'SL', 'SM', 'SN', 'SR', 'ST', 'SV', 'SZ', 'TD', 'TG', 'TH', 'TJ', 'TL', 'TN', 'TO', 'TR', 'TT', 'TV', 'TW', 'TZ', 'UA', 'UG', 'US', 'UY', 'UZ', 'VC', 'VE', 'VN', 'VU', 'WS', 'XK', 'ZA', 'ZM', 'ZW'], 'external_urls': {'spotify': 'https://open.spotify.com/album/1fovMxvYso6MyMdxVrATDC'}, 'href': 'https://api.spotify.com/v1/albums/1fovMxvYso6MyMdxVrATDC', 'id': '1fovMxvYso6MyMdxVrATDC', 'images': [{'height': 640, 'url': 'https://i.scdn.co/image/ab67616d0000b27388200be8763c9b28771fd542', 'width': 640}, {'height': 300, 'url': 'https://i.scdn.co/image/ab67616d00001e0288200be8763c9b28771fd542', 'width': 300}, {'height': 64, 'url': 'https://i.scdn.co/image/ab67616d0000485188200be8763c9b28771fd542', 'width': 64}], 'name': 'Culpable Tú', 'release_date': '2023-04-02', 'release_date_precision': 'day', 'total_tracks': 10, 'type': 'album', 'uri': 'spotify:album:1fovMxvYso6MyMdxVrATDC'}, 'artists': [{'external_urls': {'spotify': 'https://open.spotify.com/artist/0DjAjUeZwSixK0dRwplBXb'}, 'href': 'https://api.spotify.com/v1/artists/0DjAjUeZwSixK0dRwplBXb', 'id': '0DjAjUeZwSixK0dRwplBXb', 'name': 'Alta Consigna', 'type': 'artist', 'uri': 'spotify:artist:0DjAjUeZwSixK0dRwplBXb'}], 'available_markets': ['AR', 'AU', 'AT', 'BE', 'BO', 'BR', 'BG', 'CA', 'CL', 'CO', 'CR', 'CY', 'CZ', 'DK', 'DO', 'DE', 'EC', 'EE', 'SV', 'FI', 'FR', 'GR', 'GT', 'HN', 'HK', 'HU', 'IS', 'IE', 'IT', 'LV', 'LT', 'LU', 'MY', 'MT', 'MX', 'NL', 'NZ', 'NI', 'NO', 'PA', 'PY', 'PE', 'PH', 'PL', 'PT', 'SG', 'SK', 'ES', 'SE', 'CH', 'TW', 'TR', 'UY', 'US', 'GB', 'AD', 'LI', 'MC', 'ID', 'JP', 'TH', 'VN', 'RO', 'IL', 'ZA', 'SA', 'AE', 'BH', 'QA', 'OM', 'KW', 'EG', 'MA', 'DZ', 'TN', 'LB', 'JO', 'PS', 'IN', 'BY', 'KZ', 'MD', 'UA', 'AL', 'BA', 'HR', 'ME', 'MK', 'RS', 'SI', 'KR', 'BD', 'PK', 'LK', 'GH', 'KE', 'NG', 'TZ', 'UG', 'AG', 'AM', 'BS', 'BB', 'BZ', 'BT', 'BW', 'BF', 'CV', 'CW', 'DM', 'FJ', 'GM', 'GE', 'GD', 'GW', 'GY', 'HT', 'JM', 'KI', 'LS', 'LR', 'MW', 'MV', 'ML', 'MH', 'FM', 'NA', 'NR', 'NE', 'PW', 'PG', 'WS', 'SM', 'ST', 'SN', 'SC', 'SL', 'SB', 'KN', 'LC', 'VC', 'SR', 'TL', 'TO', 'TT', 'TV', 'VU', 'AZ', 'BN', 'BI', 'KH', 'CM', 'TD', 'KM', 'GQ', 'SZ', 'GA', 'GN', 'KG', 'LA', 'MO', 'MR', 'MN', 'NP', 'RW', 'TG', 'UZ', 'ZW', 'BJ', 'MG', 'MU', 'MZ', 'AO', 'CI', 'DJ', 'ZM', 'CD', 'CG', 'IQ', 'LY', 'TJ', 'VE', 'ET', 'XK'], 'disc_number': 1, 'duration_ms': 155513, 'episode': False, 'explicit': True, 'external_ids': {'isrc': 'US3DF1623618'}, 'external_urls': {'spotify': 'https://open.spotify.com/track/0tGKcpAIy4c7bP1pF4USaX'}, 'href': 'https://api.spotify.com/v1/tracks/0tGKcpAIy4c7bP1pF4USaX', 'id': '0tGKcpAIy4c7bP1pF4USaX', 'is_local': False, 'name': 'Te Deseo Lo Mejor', 'popularity': 70, 'preview_url': 'https://p.scdn.co/mp3-preview/9567a250ba1ed9c13174a99dc9a733e89e0b5caf?cid=43964785e73c43698f52de9f8ea49068', 'track': True, 'track_number': 3, 'type': 'track', 'uri': 'spotify:track:0tGKcpAIy4c7bP1pF4USaX'}\n",
      "{'album': {'album_type': 'single', 'artists': [{'external_urls': {'spotify': 'https://open.spotify.com/artist/51ZSh80McCt7vbqHouzW0A'}, 'href': 'https://api.spotify.com/v1/artists/51ZSh80McCt7vbqHouzW0A', 'id': '51ZSh80McCt7vbqHouzW0A', 'name': 'Yahritza Y Su Esencia', 'type': 'artist', 'uri': 'spotify:artist:51ZSh80McCt7vbqHouzW0A'}, {'external_urls': {'spotify': 'https://open.spotify.com/artist/6XkjpgcEsYab502Vr1bBeW'}, 'href': 'https://api.spotify.com/v1/artists/6XkjpgcEsYab502Vr1bBeW', 'id': '6XkjpgcEsYab502Vr1bBeW', 'name': 'Grupo Frontera', 'type': 'artist', 'uri': 'spotify:artist:6XkjpgcEsYab502Vr1bBeW'}], 'available_markets': ['AD', 'AE', 'AG', 'AL', 'AM', 'AO', 'AR', 'AT', 'AU', 'AZ', 'BA', 'BB', 'BD', 'BE', 'BF', 'BG', 'BH', 'BI', 'BJ', 'BN', 'BO', 'BR', 'BS', 'BT', 'BW', 'BY', 'BZ', 'CA', 'CD', 'CG', 'CH', 'CI', 'CL', 'CM', 'CO', 'CR', 'CV', 'CW', 'CY', 'CZ', 'DE', 'DJ', 'DK', 'DM', 'DO', 'DZ', 'EC', 'EE', 'EG', 'ES', 'ET', 'FI', 'FJ', 'FM', 'FR', 'GA', 'GB', 'GD', 'GE', 'GH', 'GM', 'GN', 'GQ', 'GR', 'GT', 'GW', 'GY', 'HK', 'HN', 'HR', 'HT', 'HU', 'ID', 'IE', 'IL', 'IN', 'IQ', 'IS', 'IT', 'JM', 'JO', 'JP', 'KE', 'KG', 'KH', 'KI', 'KM', 'KN', 'KR', 'KW', 'KZ', 'LA', 'LB', 'LC', 'LI', 'LK', 'LR', 'LS', 'LT', 'LU', 'LV', 'LY', 'MA', 'MC', 'MD', 'ME', 'MG', 'MH', 'MK', 'ML', 'MN', 'MO', 'MR', 'MT', 'MU', 'MV', 'MW', 'MX', 'MY', 'MZ', 'NA', 'NE', 'NG', 'NI', 'NL', 'NO', 'NP', 'NR', 'NZ', 'OM', 'PA', 'PE', 'PG', 'PH', 'PK', 'PL', 'PS', 'PT', 'PW', 'PY', 'QA', 'RO', 'RS', 'RW', 'SA', 'SB', 'SC', 'SE', 'SG', 'SI', 'SK', 'SL', 'SM', 'SN', 'SR', 'ST', 'SV', 'SZ', 'TD', 'TG', 'TH', 'TJ', 'TL', 'TN', 'TO', 'TR', 'TT', 'TV', 'TW', 'TZ', 'UA', 'UG', 'US', 'UY', 'UZ', 'VC', 'VE', 'VN', 'VU', 'WS', 'XK', 'ZA', 'ZM', 'ZW'], 'external_urls': {'spotify': 'https://open.spotify.com/album/6iZUwDpa27jeAvKxs8UYI2'}, 'href': 'https://api.spotify.com/v1/albums/6iZUwDpa27jeAvKxs8UYI2', 'id': '6iZUwDpa27jeAvKxs8UYI2', 'images': [{'height': 640, 'url': 'https://i.scdn.co/image/ab67616d0000b27357ed58cb724f8d55f78a1d4c', 'width': 640}, {'height': 300, 'url': 'https://i.scdn.co/image/ab67616d00001e0257ed58cb724f8d55f78a1d4c', 'width': 300}, {'height': 64, 'url': 'https://i.scdn.co/image/ab67616d0000485157ed58cb724f8d55f78a1d4c', 'width': 64}], 'name': 'Frágil', 'release_date': '2023-04-07', 'release_date_precision': 'day', 'total_tracks': 1, 'type': 'album', 'uri': 'spotify:album:6iZUwDpa27jeAvKxs8UYI2'}, 'artists': [{'external_urls': {'spotify': 'https://open.spotify.com/artist/51ZSh80McCt7vbqHouzW0A'}, 'href': 'https://api.spotify.com/v1/artists/51ZSh80McCt7vbqHouzW0A', 'id': '51ZSh80McCt7vbqHouzW0A', 'name': 'Yahritza Y Su Esencia', 'type': 'artist', 'uri': 'spotify:artist:51ZSh80McCt7vbqHouzW0A'}, {'external_urls': {'spotify': 'https://open.spotify.com/artist/6XkjpgcEsYab502Vr1bBeW'}, 'href': 'https://api.spotify.com/v1/artists/6XkjpgcEsYab502Vr1bBeW', 'id': '6XkjpgcEsYab502Vr1bBeW', 'name': 'Grupo Frontera', 'type': 'artist', 'uri': 'spotify:artist:6XkjpgcEsYab502Vr1bBeW'}], 'available_markets': ['AR', 'AU', 'AT', 'BE', 'BO', 'BR', 'BG', 'CA', 'CL', 'CO', 'CR', 'CY', 'CZ', 'DK', 'DO', 'DE', 'EC', 'EE', 'SV', 'FI', 'FR', 'GR', 'GT', 'HN', 'HK', 'HU', 'IS', 'IE', 'IT', 'LV', 'LT', 'LU', 'MY', 'MT', 'MX', 'NL', 'NZ', 'NI', 'NO', 'PA', 'PY', 'PE', 'PH', 'PL', 'PT', 'SG', 'SK', 'ES', 'SE', 'CH', 'TW', 'TR', 'UY', 'US', 'GB', 'AD', 'LI', 'MC', 'ID', 'JP', 'TH', 'VN', 'RO', 'IL', 'ZA', 'SA', 'AE', 'BH', 'QA', 'OM', 'KW', 'EG', 'MA', 'DZ', 'TN', 'LB', 'JO', 'PS', 'IN', 'BY', 'KZ', 'MD', 'UA', 'AL', 'BA', 'HR', 'ME', 'MK', 'RS', 'SI', 'KR', 'BD', 'PK', 'LK', 'GH', 'KE', 'NG', 'TZ', 'UG', 'AG', 'AM', 'BS', 'BB', 'BZ', 'BT', 'BW', 'BF', 'CV', 'CW', 'DM', 'FJ', 'GM', 'GE', 'GD', 'GW', 'GY', 'HT', 'JM', 'KI', 'LS', 'LR', 'MW', 'MV', 'ML', 'MH', 'FM', 'NA', 'NR', 'NE', 'PW', 'PG', 'WS', 'SM', 'ST', 'SN', 'SC', 'SL', 'SB', 'KN', 'LC', 'VC', 'SR', 'TL', 'TO', 'TT', 'TV', 'VU', 'AZ', 'BN', 'BI', 'KH', 'CM', 'TD', 'KM', 'GQ', 'SZ', 'GA', 'GN', 'KG', 'LA', 'MO', 'MR', 'MN', 'NP', 'RW', 'TG', 'UZ', 'ZW', 'BJ', 'MG', 'MU', 'MZ', 'AO', 'CI', 'DJ', 'ZM', 'CD', 'CG', 'IQ', 'LY', 'TJ', 'VE', 'ET', 'XK'], 'disc_number': 1, 'duration_ms': 160517, 'episode': False, 'explicit': False, 'external_ids': {'isrc': 'USQX92302369'}, 'external_urls': {'spotify': 'https://open.spotify.com/track/4JdSXF2p71cr8uCY3UiJM0'}, 'href': 'https://api.spotify.com/v1/tracks/4JdSXF2p71cr8uCY3UiJM0', 'id': '4JdSXF2p71cr8uCY3UiJM0', 'is_local': False, 'name': 'Frágil', 'popularity': 90, 'preview_url': 'https://p.scdn.co/mp3-preview/391c95844ca92dc6a73d3091802c9a14ae2ea4fa?cid=43964785e73c43698f52de9f8ea49068', 'track': True, 'track_number': 1, 'type': 'track', 'uri': 'spotify:track:4JdSXF2p71cr8uCY3UiJM0'}\n",
      "{'album': {'album_type': 'single', 'artists': [{'external_urls': {'spotify': 'https://open.spotify.com/artist/74slMAMk8L6oMf6OhNyZ8Q'}, 'href': 'https://api.spotify.com/v1/artists/74slMAMk8L6oMf6OhNyZ8Q', 'id': '74slMAMk8L6oMf6OhNyZ8Q', 'name': 'Brenn!', 'type': 'artist', 'uri': 'spotify:artist:74slMAMk8L6oMf6OhNyZ8Q'}], 'available_markets': ['AD', 'AE', 'AG', 'AL', 'AM', 'AO', 'AR', 'AT', 'AU', 'AZ', 'BA', 'BB', 'BD', 'BE', 'BF', 'BG', 'BH', 'BI', 'BJ', 'BN', 'BO', 'BR', 'BS', 'BT', 'BW', 'BZ', 'CA', 'CD', 'CG', 'CH', 'CI', 'CL', 'CM', 'CO', 'CR', 'CV', 'CW', 'CY', 'CZ', 'DE', 'DJ', 'DK', 'DM', 'DO', 'DZ', 'EC', 'EE', 'EG', 'ES', 'ET', 'FI', 'FJ', 'FM', 'FR', 'GA', 'GB', 'GD', 'GE', 'GH', 'GM', 'GN', 'GQ', 'GR', 'GT', 'GW', 'GY', 'HK', 'HN', 'HR', 'HT', 'HU', 'ID', 'IE', 'IL', 'IN', 'IQ', 'IS', 'IT', 'JM', 'JO', 'JP', 'KE', 'KG', 'KH', 'KI', 'KM', 'KN', 'KR', 'KW', 'KZ', 'LA', 'LB', 'LC', 'LI', 'LK', 'LR', 'LS', 'LT', 'LU', 'LV', 'LY', 'MA', 'MC', 'MD', 'ME', 'MG', 'MH', 'MK', 'ML', 'MN', 'MO', 'MR', 'MT', 'MU', 'MV', 'MW', 'MX', 'MY', 'MZ', 'NA', 'NE', 'NG', 'NI', 'NL', 'NO', 'NP', 'NR', 'NZ', 'OM', 'PA', 'PE', 'PG', 'PH', 'PK', 'PL', 'PS', 'PT', 'PW', 'PY', 'QA', 'RO', 'RS', 'RW', 'SA', 'SB', 'SC', 'SE', 'SG', 'SI', 'SK', 'SL', 'SM', 'SN', 'SR', 'ST', 'SV', 'SZ', 'TD', 'TG', 'TH', 'TJ', 'TL', 'TN', 'TO', 'TR', 'TT', 'TV', 'TW', 'TZ', 'UA', 'UG', 'US', 'UY', 'UZ', 'VC', 'VE', 'VN', 'VU', 'WS', 'XK', 'ZA', 'ZM', 'ZW'], 'external_urls': {'spotify': 'https://open.spotify.com/album/3I7cYBHqayM3NGqX6tG5m2'}, 'href': 'https://api.spotify.com/v1/albums/3I7cYBHqayM3NGqX6tG5m2', 'id': '3I7cYBHqayM3NGqX6tG5m2', 'images': [{'height': 640, 'url': 'https://i.scdn.co/image/ab67616d0000b273ff4bc82938eefc2f1ba2f7d9', 'width': 640}, {'height': 300, 'url': 'https://i.scdn.co/image/ab67616d00001e02ff4bc82938eefc2f1ba2f7d9', 'width': 300}, {'height': 64, 'url': 'https://i.scdn.co/image/ab67616d00004851ff4bc82938eefc2f1ba2f7d9', 'width': 64}], 'name': '4runner', 'release_date': '2023-04-28', 'release_date_precision': 'day', 'total_tracks': 1, 'type': 'album', 'uri': 'spotify:album:3I7cYBHqayM3NGqX6tG5m2'}, 'artists': [{'external_urls': {'spotify': 'https://open.spotify.com/artist/74slMAMk8L6oMf6OhNyZ8Q'}, 'href': 'https://api.spotify.com/v1/artists/74slMAMk8L6oMf6OhNyZ8Q', 'id': '74slMAMk8L6oMf6OhNyZ8Q', 'name': 'Brenn!', 'type': 'artist', 'uri': 'spotify:artist:74slMAMk8L6oMf6OhNyZ8Q'}], 'available_markets': ['AR', 'AU', 'AT', 'BE', 'BO', 'BR', 'BG', 'CA', 'CL', 'CO', 'CR', 'CY', 'CZ', 'DK', 'DO', 'DE', 'EC', 'EE', 'SV', 'FI', 'FR', 'GR', 'GT', 'HN', 'HK', 'HU', 'IS', 'IE', 'IT', 'LV', 'LT', 'LU', 'MY', 'MT', 'MX', 'NL', 'NZ', 'NI', 'NO', 'PA', 'PY', 'PE', 'PH', 'PL', 'PT', 'SG', 'SK', 'ES', 'SE', 'CH', 'TW', 'TR', 'UY', 'US', 'GB', 'AD', 'LI', 'MC', 'ID', 'JP', 'TH', 'VN', 'RO', 'IL', 'ZA', 'SA', 'AE', 'BH', 'QA', 'OM', 'KW', 'EG', 'MA', 'DZ', 'TN', 'LB', 'JO', 'PS', 'IN', 'KZ', 'MD', 'UA', 'AL', 'BA', 'HR', 'ME', 'MK', 'RS', 'SI', 'KR', 'BD', 'PK', 'LK', 'GH', 'KE', 'NG', 'TZ', 'UG', 'AG', 'AM', 'BS', 'BB', 'BZ', 'BT', 'BW', 'BF', 'CV', 'CW', 'DM', 'FJ', 'GM', 'GE', 'GD', 'GW', 'GY', 'HT', 'JM', 'KI', 'LS', 'LR', 'MW', 'MV', 'ML', 'MH', 'FM', 'NA', 'NR', 'NE', 'PW', 'PG', 'WS', 'SM', 'ST', 'SN', 'SC', 'SL', 'SB', 'KN', 'LC', 'VC', 'SR', 'TL', 'TO', 'TT', 'TV', 'VU', 'AZ', 'BN', 'BI', 'KH', 'CM', 'TD', 'KM', 'GQ', 'SZ', 'GA', 'GN', 'KG', 'LA', 'MO', 'MR', 'MN', 'NP', 'RW', 'TG', 'UZ', 'ZW', 'BJ', 'MG', 'MU', 'MZ', 'AO', 'CI', 'DJ', 'ZM', 'CD', 'CG', 'IQ', 'LY', 'TJ', 'VE', 'ET', 'XK'], 'disc_number': 1, 'duration_ms': 265453, 'episode': False, 'explicit': False, 'external_ids': {'isrc': 'USUG12302565'}, 'external_urls': {'spotify': 'https://open.spotify.com/track/1RaF9xwakfao1RRknWyYB5'}, 'href': 'https://api.spotify.com/v1/tracks/1RaF9xwakfao1RRknWyYB5', 'id': '1RaF9xwakfao1RRknWyYB5', 'is_local': False, 'name': '4runner', 'popularity': 77, 'preview_url': None, 'track': True, 'track_number': 1, 'type': 'track', 'uri': 'spotify:track:1RaF9xwakfao1RRknWyYB5'}\n",
      "{'album': {'album_type': 'single', 'artists': [{'external_urls': {'spotify': 'https://open.spotify.com/artist/6XkjpgcEsYab502Vr1bBeW'}, 'href': 'https://api.spotify.com/v1/artists/6XkjpgcEsYab502Vr1bBeW', 'id': '6XkjpgcEsYab502Vr1bBeW', 'name': 'Grupo Frontera', 'type': 'artist', 'uri': 'spotify:artist:6XkjpgcEsYab502Vr1bBeW'}, {'external_urls': {'spotify': 'https://open.spotify.com/artist/4q3ewBCX7sLwd24euuV69X'}, 'href': 'https://api.spotify.com/v1/artists/4q3ewBCX7sLwd24euuV69X', 'id': '4q3ewBCX7sLwd24euuV69X', 'name': 'Bad Bunny', 'type': 'artist', 'uri': 'spotify:artist:4q3ewBCX7sLwd24euuV69X'}], 'available_markets': ['AD', 'AE', 'AG', 'AL', 'AM', 'AO', 'AR', 'AT', 'AU', 'AZ', 'BA', 'BB', 'BD', 'BE', 'BF', 'BG', 'BH', 'BI', 'BJ', 'BN', 'BO', 'BR', 'BS', 'BT', 'BW', 'BY', 'BZ', 'CA', 'CD', 'CG', 'CH', 'CI', 'CL', 'CM', 'CO', 'CR', 'CV', 'CW', 'CY', 'CZ', 'DE', 'DJ', 'DK', 'DM', 'DO', 'DZ', 'EC', 'EE', 'EG', 'ES', 'ET', 'FI', 'FJ', 'FM', 'FR', 'GA', 'GB', 'GD', 'GE', 'GH', 'GM', 'GN', 'GQ', 'GR', 'GT', 'GW', 'GY', 'HK', 'HN', 'HR', 'HT', 'HU', 'ID', 'IE', 'IL', 'IN', 'IQ', 'IS', 'IT', 'JM', 'JO', 'JP', 'KE', 'KG', 'KH', 'KI', 'KM', 'KN', 'KR', 'KW', 'KZ', 'LA', 'LB', 'LC', 'LI', 'LK', 'LR', 'LS', 'LT', 'LU', 'LV', 'LY', 'MA', 'MC', 'MD', 'ME', 'MG', 'MH', 'MK', 'ML', 'MN', 'MO', 'MR', 'MT', 'MU', 'MV', 'MW', 'MX', 'MY', 'MZ', 'NA', 'NE', 'NG', 'NI', 'NL', 'NO', 'NP', 'NR', 'NZ', 'OM', 'PA', 'PE', 'PG', 'PH', 'PK', 'PL', 'PS', 'PT', 'PW', 'PY', 'QA', 'RO', 'RS', 'RW', 'SA', 'SB', 'SC', 'SE', 'SG', 'SI', 'SK', 'SL', 'SM', 'SN', 'SR', 'ST', 'SV', 'SZ', 'TD', 'TG', 'TH', 'TJ', 'TL', 'TN', 'TO', 'TR', 'TT', 'TV', 'TW', 'TZ', 'UA', 'UG', 'US', 'UY', 'UZ', 'VC', 'VE', 'VN', 'VU', 'WS', 'XK', 'ZA', 'ZM', 'ZW'], 'external_urls': {'spotify': 'https://open.spotify.com/album/7aGzSSUD8S6IhPCsZSiuMT'}, 'href': 'https://api.spotify.com/v1/albums/7aGzSSUD8S6IhPCsZSiuMT', 'id': '7aGzSSUD8S6IhPCsZSiuMT', 'images': [{'height': 640, 'url': 'https://i.scdn.co/image/ab67616d0000b273716c0b0ad51594ff788b5f06', 'width': 640}, {'height': 300, 'url': 'https://i.scdn.co/image/ab67616d00001e02716c0b0ad51594ff788b5f06', 'width': 300}, {'height': 64, 'url': 'https://i.scdn.co/image/ab67616d00004851716c0b0ad51594ff788b5f06', 'width': 64}], 'name': 'un x100to', 'release_date': '2023-04-17', 'release_date_precision': 'day', 'total_tracks': 1, 'type': 'album', 'uri': 'spotify:album:7aGzSSUD8S6IhPCsZSiuMT'}, 'artists': [{'external_urls': {'spotify': 'https://open.spotify.com/artist/6XkjpgcEsYab502Vr1bBeW'}, 'href': 'https://api.spotify.com/v1/artists/6XkjpgcEsYab502Vr1bBeW', 'id': '6XkjpgcEsYab502Vr1bBeW', 'name': 'Grupo Frontera', 'type': 'artist', 'uri': 'spotify:artist:6XkjpgcEsYab502Vr1bBeW'}, {'external_urls': {'spotify': 'https://open.spotify.com/artist/4q3ewBCX7sLwd24euuV69X'}, 'href': 'https://api.spotify.com/v1/artists/4q3ewBCX7sLwd24euuV69X', 'id': '4q3ewBCX7sLwd24euuV69X', 'name': 'Bad Bunny', 'type': 'artist', 'uri': 'spotify:artist:4q3ewBCX7sLwd24euuV69X'}], 'available_markets': ['AR', 'AU', 'AT', 'BE', 'BO', 'BR', 'BG', 'CA', 'CL', 'CO', 'CR', 'CY', 'CZ', 'DK', 'DO', 'DE', 'EC', 'EE', 'SV', 'FI', 'FR', 'GR', 'GT', 'HN', 'HK', 'HU', 'IS', 'IE', 'IT', 'LV', 'LT', 'LU', 'MY', 'MT', 'MX', 'NL', 'NZ', 'NI', 'NO', 'PA', 'PY', 'PE', 'PH', 'PL', 'PT', 'SG', 'SK', 'ES', 'SE', 'CH', 'TW', 'TR', 'UY', 'US', 'GB', 'AD', 'LI', 'MC', 'ID', 'JP', 'TH', 'VN', 'RO', 'IL', 'ZA', 'SA', 'AE', 'BH', 'QA', 'OM', 'KW', 'EG', 'MA', 'DZ', 'TN', 'LB', 'JO', 'PS', 'IN', 'BY', 'KZ', 'MD', 'UA', 'AL', 'BA', 'HR', 'ME', 'MK', 'RS', 'SI', 'KR', 'BD', 'PK', 'LK', 'GH', 'KE', 'NG', 'TZ', 'UG', 'AG', 'AM', 'BS', 'BB', 'BZ', 'BT', 'BW', 'BF', 'CV', 'CW', 'DM', 'FJ', 'GM', 'GE', 'GD', 'GW', 'GY', 'HT', 'JM', 'KI', 'LS', 'LR', 'MW', 'MV', 'ML', 'MH', 'FM', 'NA', 'NR', 'NE', 'PW', 'PG', 'WS', 'SM', 'ST', 'SN', 'SC', 'SL', 'SB', 'KN', 'LC', 'VC', 'SR', 'TL', 'TO', 'TT', 'TV', 'VU', 'AZ', 'BN', 'BI', 'KH', 'CM', 'TD', 'KM', 'GQ', 'SZ', 'GA', 'GN', 'KG', 'LA', 'MO', 'MR', 'MN', 'NP', 'RW', 'TG', 'UZ', 'ZW', 'BJ', 'MG', 'MU', 'MZ', 'AO', 'CI', 'DJ', 'ZM', 'CD', 'CG', 'IQ', 'LY', 'TJ', 'VE', 'ET', 'XK'], 'disc_number': 1, 'duration_ms': 194563, 'episode': False, 'explicit': False, 'external_ids': {'isrc': 'QM6N22311285'}, 'external_urls': {'spotify': 'https://open.spotify.com/track/6pD0ufEQq0xdHSsRbg9LBK'}, 'href': 'https://api.spotify.com/v1/tracks/6pD0ufEQq0xdHSsRbg9LBK', 'id': '6pD0ufEQq0xdHSsRbg9LBK', 'is_local': False, 'name': 'un x100to', 'popularity': 100, 'preview_url': 'https://p.scdn.co/mp3-preview/15117af933a505dd75ecd33d15f2d4d3e13bdf9a?cid=43964785e73c43698f52de9f8ea49068', 'track': True, 'track_number': 1, 'type': 'track', 'uri': 'spotify:track:6pD0ufEQq0xdHSsRbg9LBK'}\n",
      "{'album': {'album_type': 'single', 'artists': [{'external_urls': {'spotify': 'https://open.spotify.com/artist/4Ley0K7c2keTiOW0Jpam5g'}, 'href': 'https://api.spotify.com/v1/artists/4Ley0K7c2keTiOW0Jpam5g', 'id': '4Ley0K7c2keTiOW0Jpam5g', 'name': 'DJ Katrip', 'type': 'artist', 'uri': 'spotify:artist:4Ley0K7c2keTiOW0Jpam5g'}, {'external_urls': {'spotify': 'https://open.spotify.com/artist/4SKWDIWfEZbyMI8gzeeoXO'}, 'href': 'https://api.spotify.com/v1/artists/4SKWDIWfEZbyMI8gzeeoXO', 'id': '4SKWDIWfEZbyMI8gzeeoXO', 'name': 'Dj Darge', 'type': 'artist', 'uri': 'spotify:artist:4SKWDIWfEZbyMI8gzeeoXO'}, {'external_urls': {'spotify': 'https://open.spotify.com/artist/0bg3fNpRQgZTCAg3Bseyly'}, 'href': 'https://api.spotify.com/v1/artists/0bg3fNpRQgZTCAg3Bseyly', 'id': '0bg3fNpRQgZTCAg3Bseyly', 'name': 'Mc Th', 'type': 'artist', 'uri': 'spotify:artist:0bg3fNpRQgZTCAg3Bseyly'}], 'available_markets': ['AD', 'AE', 'AG', 'AL', 'AM', 'AO', 'AR', 'AT', 'AU', 'AZ', 'BA', 'BB', 'BD', 'BE', 'BF', 'BG', 'BH', 'BI', 'BJ', 'BN', 'BO', 'BR', 'BS', 'BT', 'BW', 'BY', 'BZ', 'CA', 'CD', 'CG', 'CH', 'CI', 'CL', 'CM', 'CO', 'CR', 'CV', 'CW', 'CY', 'CZ', 'DE', 'DJ', 'DK', 'DM', 'DO', 'DZ', 'EC', 'EE', 'EG', 'ES', 'ET', 'FI', 'FJ', 'FM', 'FR', 'GA', 'GB', 'GD', 'GE', 'GH', 'GM', 'GN', 'GQ', 'GR', 'GT', 'GW', 'GY', 'HK', 'HN', 'HR', 'HT', 'HU', 'ID', 'IE', 'IL', 'IN', 'IQ', 'IS', 'IT', 'JM', 'JO', 'JP', 'KE', 'KG', 'KH', 'KI', 'KM', 'KN', 'KR', 'KW', 'KZ', 'LA', 'LB', 'LC', 'LI', 'LK', 'LR', 'LS', 'LT', 'LU', 'LV', 'LY', 'MA', 'MC', 'MD', 'ME', 'MG', 'MH', 'MK', 'ML', 'MN', 'MO', 'MR', 'MT', 'MU', 'MV', 'MW', 'MX', 'MY', 'MZ', 'NA', 'NE', 'NG', 'NI', 'NL', 'NO', 'NP', 'NR', 'NZ', 'OM', 'PA', 'PE', 'PG', 'PH', 'PK', 'PL', 'PS', 'PT', 'PW', 'PY', 'QA', 'RO', 'RS', 'RW', 'SA', 'SB', 'SC', 'SE', 'SG', 'SI', 'SK', 'SL', 'SM', 'SN', 'SR', 'ST', 'SV', 'SZ', 'TD', 'TG', 'TH', 'TJ', 'TL', 'TN', 'TO', 'TR', 'TT', 'TV', 'TW', 'TZ', 'UA', 'UG', 'US', 'UY', 'UZ', 'VC', 'VE', 'VN', 'VU', 'WS', 'XK', 'ZA', 'ZM', 'ZW'], 'external_urls': {'spotify': 'https://open.spotify.com/album/0TqLSBctNqzky2bUakAMVb'}, 'href': 'https://api.spotify.com/v1/albums/0TqLSBctNqzky2bUakAMVb', 'id': '0TqLSBctNqzky2bUakAMVb', 'images': [{'height': 640, 'url': 'https://i.scdn.co/image/ab67616d0000b2733ce45b1312912b8d3d2049d9', 'width': 640}, {'height': 300, 'url': 'https://i.scdn.co/image/ab67616d00001e023ce45b1312912b8d3d2049d9', 'width': 300}, {'height': 64, 'url': 'https://i.scdn.co/image/ab67616d000048513ce45b1312912b8d3d2049d9', 'width': 64}], 'name': 'Na Contramão', 'release_date': '2023-01-06', 'release_date_precision': 'day', 'total_tracks': 1, 'type': 'album', 'uri': 'spotify:album:0TqLSBctNqzky2bUakAMVb'}, 'artists': [{'external_urls': {'spotify': 'https://open.spotify.com/artist/4Ley0K7c2keTiOW0Jpam5g'}, 'href': 'https://api.spotify.com/v1/artists/4Ley0K7c2keTiOW0Jpam5g', 'id': '4Ley0K7c2keTiOW0Jpam5g', 'name': 'DJ Katrip', 'type': 'artist', 'uri': 'spotify:artist:4Ley0K7c2keTiOW0Jpam5g'}, {'external_urls': {'spotify': 'https://open.spotify.com/artist/4SKWDIWfEZbyMI8gzeeoXO'}, 'href': 'https://api.spotify.com/v1/artists/4SKWDIWfEZbyMI8gzeeoXO', 'id': '4SKWDIWfEZbyMI8gzeeoXO', 'name': 'Dj Darge', 'type': 'artist', 'uri': 'spotify:artist:4SKWDIWfEZbyMI8gzeeoXO'}, {'external_urls': {'spotify': 'https://open.spotify.com/artist/0bg3fNpRQgZTCAg3Bseyly'}, 'href': 'https://api.spotify.com/v1/artists/0bg3fNpRQgZTCAg3Bseyly', 'id': '0bg3fNpRQgZTCAg3Bseyly', 'name': 'Mc Th', 'type': 'artist', 'uri': 'spotify:artist:0bg3fNpRQgZTCAg3Bseyly'}, {'external_urls': {'spotify': 'https://open.spotify.com/artist/3l4fsEzoeabsET7ddv0lZW'}, 'href': 'https://api.spotify.com/v1/artists/3l4fsEzoeabsET7ddv0lZW', 'id': '3l4fsEzoeabsET7ddv0lZW', 'name': 'Mc Delux', 'type': 'artist', 'uri': 'spotify:artist:3l4fsEzoeabsET7ddv0lZW'}], 'available_markets': ['AR', 'AU', 'AT', 'BE', 'BO', 'BR', 'BG', 'CA', 'CL', 'CO', 'CR', 'CY', 'CZ', 'DK', 'DO', 'DE', 'EC', 'EE', 'SV', 'FI', 'FR', 'GR', 'GT', 'HN', 'HK', 'HU', 'IS', 'IE', 'IT', 'LV', 'LT', 'LU', 'MY', 'MT', 'MX', 'NL', 'NZ', 'NI', 'NO', 'PA', 'PY', 'PE', 'PH', 'PL', 'PT', 'SG', 'SK', 'ES', 'SE', 'CH', 'TW', 'TR', 'UY', 'US', 'GB', 'AD', 'LI', 'MC', 'ID', 'JP', 'TH', 'VN', 'RO', 'IL', 'ZA', 'SA', 'AE', 'BH', 'QA', 'OM', 'KW', 'EG', 'MA', 'DZ', 'TN', 'LB', 'JO', 'PS', 'IN', 'BY', 'KZ', 'MD', 'UA', 'AL', 'BA', 'HR', 'ME', 'MK', 'RS', 'SI', 'KR', 'BD', 'PK', 'LK', 'GH', 'KE', 'NG', 'TZ', 'UG', 'AG', 'AM', 'BS', 'BB', 'BZ', 'BT', 'BW', 'BF', 'CV', 'CW', 'DM', 'FJ', 'GM', 'GE', 'GD', 'GW', 'GY', 'HT', 'JM', 'KI', 'LS', 'LR', 'MW', 'MV', 'ML', 'MH', 'FM', 'NA', 'NR', 'NE', 'PW', 'PG', 'WS', 'SM', 'ST', 'SN', 'SC', 'SL', 'SB', 'KN', 'LC', 'VC', 'SR', 'TL', 'TO', 'TT', 'TV', 'VU', 'AZ', 'BN', 'BI', 'KH', 'CM', 'TD', 'KM', 'GQ', 'SZ', 'GA', 'GN', 'KG', 'LA', 'MO', 'MR', 'MN', 'NP', 'RW', 'TG', 'UZ', 'ZW', 'BJ', 'MG', 'MU', 'MZ', 'AO', 'CI', 'DJ', 'ZM', 'CD', 'CG', 'IQ', 'LY', 'TJ', 'VE', 'ET', 'XK'], 'disc_number': 1, 'duration_ms': 164826, 'episode': False, 'explicit': True, 'external_ids': {'isrc': 'QZW9N2260398'}, 'external_urls': {'spotify': 'https://open.spotify.com/track/7kJ0aTB5gLMYrJjYft3Vx6'}, 'href': 'https://api.spotify.com/v1/tracks/7kJ0aTB5gLMYrJjYft3Vx6', 'id': '7kJ0aTB5gLMYrJjYft3Vx6', 'is_local': False, 'name': 'Na Contramão', 'popularity': 73, 'preview_url': 'https://p.scdn.co/mp3-preview/a9e1e8eb39484d57c249ab1ae81ea385465a575d?cid=43964785e73c43698f52de9f8ea49068', 'track': True, 'track_number': 1, 'type': 'track', 'uri': 'spotify:track:7kJ0aTB5gLMYrJjYft3Vx6'}\n",
      "{'album': {'album_type': 'single', 'artists': [{'external_urls': {'spotify': 'https://open.spotify.com/artist/64tJ2EAv1R6UaZqc4iOCyj'}, 'href': 'https://api.spotify.com/v1/artists/64tJ2EAv1R6UaZqc4iOCyj', 'id': '64tJ2EAv1R6UaZqc4iOCyj', 'name': 'YOASOBI', 'type': 'artist', 'uri': 'spotify:artist:64tJ2EAv1R6UaZqc4iOCyj'}], 'available_markets': ['AD', 'AE', 'AG', 'AL', 'AM', 'AO', 'AR', 'AT', 'AU', 'AZ', 'BA', 'BB', 'BD', 'BE', 'BF', 'BG', 'BH', 'BI', 'BJ', 'BN', 'BO', 'BR', 'BS', 'BT', 'BW', 'BY', 'BZ', 'CA', 'CD', 'CG', 'CH', 'CI', 'CL', 'CM', 'CO', 'CR', 'CV', 'CW', 'CY', 'CZ', 'DE', 'DJ', 'DK', 'DM', 'DO', 'DZ', 'EC', 'EE', 'EG', 'ES', 'ET', 'FI', 'FJ', 'FM', 'FR', 'GA', 'GB', 'GD', 'GE', 'GH', 'GM', 'GN', 'GQ', 'GR', 'GT', 'GW', 'GY', 'HK', 'HN', 'HR', 'HT', 'HU', 'ID', 'IE', 'IL', 'IN', 'IQ', 'IS', 'IT', 'JM', 'JO', 'JP', 'KE', 'KG', 'KH', 'KI', 'KM', 'KN', 'KR', 'KW', 'KZ', 'LA', 'LB', 'LC', 'LI', 'LK', 'LR', 'LS', 'LT', 'LU', 'LV', 'LY', 'MA', 'MC', 'MD', 'ME', 'MG', 'MH', 'MK', 'ML', 'MN', 'MO', 'MR', 'MT', 'MU', 'MV', 'MW', 'MX', 'MY', 'MZ', 'NA', 'NE', 'NG', 'NI', 'NL', 'NO', 'NP', 'NR', 'NZ', 'OM', 'PA', 'PE', 'PG', 'PH', 'PK', 'PL', 'PS', 'PT', 'PW', 'PY', 'QA', 'RO', 'RS', 'RW', 'SA', 'SB', 'SC', 'SE', 'SG', 'SI', 'SK', 'SL', 'SM', 'SN', 'SR', 'ST', 'SV', 'SZ', 'TD', 'TG', 'TH', 'TJ', 'TL', 'TN', 'TO', 'TR', 'TT', 'TV', 'TW', 'TZ', 'UA', 'UG', 'US', 'UY', 'UZ', 'VC', 'VE', 'VN', 'VU', 'WS', 'XK', 'ZA', 'ZM', 'ZW'], 'external_urls': {'spotify': 'https://open.spotify.com/album/7yMkS4NCpG0FH6NoaH3F0a'}, 'href': 'https://api.spotify.com/v1/albums/7yMkS4NCpG0FH6NoaH3F0a', 'id': '7yMkS4NCpG0FH6NoaH3F0a', 'images': [{'height': 640, 'url': 'https://i.scdn.co/image/ab67616d0000b273b7d6ca50bf766ad72226290c', 'width': 640}, {'height': 300, 'url': 'https://i.scdn.co/image/ab67616d00001e02b7d6ca50bf766ad72226290c', 'width': 300}, {'height': 64, 'url': 'https://i.scdn.co/image/ab67616d00004851b7d6ca50bf766ad72226290c', 'width': 64}], 'name': 'アイドル', 'release_date': '2023-04-12', 'release_date_precision': 'day', 'total_tracks': 1, 'type': 'album', 'uri': 'spotify:album:7yMkS4NCpG0FH6NoaH3F0a'}, 'artists': [{'external_urls': {'spotify': 'https://open.spotify.com/artist/64tJ2EAv1R6UaZqc4iOCyj'}, 'href': 'https://api.spotify.com/v1/artists/64tJ2EAv1R6UaZqc4iOCyj', 'id': '64tJ2EAv1R6UaZqc4iOCyj', 'name': 'YOASOBI', 'type': 'artist', 'uri': 'spotify:artist:64tJ2EAv1R6UaZqc4iOCyj'}], 'available_markets': ['AR', 'AU', 'AT', 'BE', 'BO', 'BR', 'BG', 'CA', 'CL', 'CO', 'CR', 'CY', 'CZ', 'DK', 'DO', 'DE', 'EC', 'EE', 'SV', 'FI', 'FR', 'GR', 'GT', 'HN', 'HK', 'HU', 'IS', 'IE', 'IT', 'LV', 'LT', 'LU', 'MY', 'MT', 'MX', 'NL', 'NZ', 'NI', 'NO', 'PA', 'PY', 'PE', 'PH', 'PL', 'PT', 'SG', 'SK', 'ES', 'SE', 'CH', 'TW', 'TR', 'UY', 'US', 'GB', 'AD', 'LI', 'MC', 'ID', 'JP', 'TH', 'VN', 'RO', 'IL', 'ZA', 'SA', 'AE', 'BH', 'QA', 'OM', 'KW', 'EG', 'MA', 'DZ', 'TN', 'LB', 'JO', 'PS', 'IN', 'BY', 'KZ', 'MD', 'UA', 'AL', 'BA', 'HR', 'ME', 'MK', 'RS', 'SI', 'KR', 'BD', 'PK', 'LK', 'GH', 'KE', 'NG', 'TZ', 'UG', 'AG', 'AM', 'BS', 'BB', 'BZ', 'BT', 'BW', 'BF', 'CV', 'CW', 'DM', 'FJ', 'GM', 'GE', 'GD', 'GW', 'GY', 'HT', 'JM', 'KI', 'LS', 'LR', 'MW', 'MV', 'ML', 'MH', 'FM', 'NA', 'NR', 'NE', 'PW', 'PG', 'WS', 'SM', 'ST', 'SN', 'SC', 'SL', 'SB', 'KN', 'LC', 'VC', 'SR', 'TL', 'TO', 'TT', 'TV', 'VU', 'AZ', 'BN', 'BI', 'KH', 'CM', 'TD', 'KM', 'GQ', 'SZ', 'GA', 'GN', 'KG', 'LA', 'MO', 'MR', 'MN', 'NP', 'RW', 'TG', 'UZ', 'ZW', 'BJ', 'MG', 'MU', 'MZ', 'AO', 'CI', 'DJ', 'ZM', 'CD', 'CG', 'IQ', 'LY', 'TJ', 'VE', 'ET', 'XK'], 'disc_number': 1, 'duration_ms': 213233, 'episode': False, 'explicit': False, 'external_ids': {'isrc': 'JPP302300157'}, 'external_urls': {'spotify': 'https://open.spotify.com/track/7ovUcF5uHTBRzUpB6ZOmvt'}, 'href': 'https://api.spotify.com/v1/tracks/7ovUcF5uHTBRzUpB6ZOmvt', 'id': '7ovUcF5uHTBRzUpB6ZOmvt', 'is_local': False, 'name': 'アイドル', 'popularity': 90, 'preview_url': 'https://p.scdn.co/mp3-preview/3cf6efcc13a380485fa20fda1602b8ad4e3f0b0c?cid=43964785e73c43698f52de9f8ea49068', 'track': True, 'track_number': 1, 'type': 'track', 'uri': 'spotify:track:7ovUcF5uHTBRzUpB6ZOmvt'}\n",
      "{'album': {'album_type': 'single', 'artists': [{'external_urls': {'spotify': 'https://open.spotify.com/artist/4E2rKHVDssGJm2SCDOMMJB'}, 'href': 'https://api.spotify.com/v1/artists/4E2rKHVDssGJm2SCDOMMJB', 'id': '4E2rKHVDssGJm2SCDOMMJB', 'name': 'Doechii', 'type': 'artist', 'uri': 'spotify:artist:4E2rKHVDssGJm2SCDOMMJB'}], 'available_markets': ['AD', 'AE', 'AG', 'AL', 'AM', 'AO', 'AR', 'AT', 'AU', 'AZ', 'BA', 'BB', 'BD', 'BE', 'BF', 'BG', 'BH', 'BI', 'BJ', 'BN', 'BO', 'BR', 'BS', 'BT', 'BW', 'BZ', 'CA', 'CD', 'CG', 'CH', 'CI', 'CL', 'CM', 'CO', 'CR', 'CV', 'CW', 'CY', 'CZ', 'DE', 'DJ', 'DK', 'DM', 'DO', 'DZ', 'EC', 'EE', 'EG', 'ES', 'ET', 'FI', 'FJ', 'FM', 'FR', 'GA', 'GB', 'GD', 'GE', 'GH', 'GM', 'GN', 'GQ', 'GR', 'GT', 'GW', 'GY', 'HK', 'HN', 'HR', 'HT', 'HU', 'ID', 'IE', 'IL', 'IN', 'IQ', 'IS', 'IT', 'JM', 'JO', 'JP', 'KE', 'KG', 'KH', 'KI', 'KM', 'KN', 'KR', 'KW', 'KZ', 'LA', 'LB', 'LC', 'LI', 'LK', 'LR', 'LS', 'LT', 'LU', 'LV', 'LY', 'MA', 'MC', 'MD', 'ME', 'MG', 'MH', 'MK', 'ML', 'MN', 'MO', 'MR', 'MT', 'MU', 'MV', 'MW', 'MX', 'MY', 'MZ', 'NA', 'NE', 'NG', 'NI', 'NL', 'NO', 'NP', 'NR', 'NZ', 'OM', 'PA', 'PE', 'PG', 'PH', 'PK', 'PL', 'PS', 'PT', 'PW', 'PY', 'QA', 'RO', 'RS', 'RW', 'SA', 'SB', 'SC', 'SE', 'SG', 'SI', 'SK', 'SL', 'SM', 'SN', 'SR', 'ST', 'SV', 'SZ', 'TD', 'TG', 'TH', 'TJ', 'TL', 'TN', 'TO', 'TR', 'TT', 'TV', 'TW', 'TZ', 'UA', 'UG', 'US', 'UY', 'UZ', 'VC', 'VE', 'VN', 'VU', 'WS', 'XK', 'ZA', 'ZM', 'ZW'], 'external_urls': {'spotify': 'https://open.spotify.com/album/71MqBkcflJ1Rz1SHo8XSi5'}, 'href': 'https://api.spotify.com/v1/albums/71MqBkcflJ1Rz1SHo8XSi5', 'id': '71MqBkcflJ1Rz1SHo8XSi5', 'images': [{'height': 640, 'url': 'https://i.scdn.co/image/ab67616d0000b2732ee85751f6f503fa9a533eba', 'width': 640}, {'height': 300, 'url': 'https://i.scdn.co/image/ab67616d00001e022ee85751f6f503fa9a533eba', 'width': 300}, {'height': 64, 'url': 'https://i.scdn.co/image/ab67616d000048512ee85751f6f503fa9a533eba', 'width': 64}], 'name': 'What It Is (Versions)', 'release_date': '2023-03-17', 'release_date_precision': 'day', 'total_tracks': 6, 'type': 'album', 'uri': 'spotify:album:71MqBkcflJ1Rz1SHo8XSi5'}, 'artists': [{'external_urls': {'spotify': 'https://open.spotify.com/artist/4E2rKHVDssGJm2SCDOMMJB'}, 'href': 'https://api.spotify.com/v1/artists/4E2rKHVDssGJm2SCDOMMJB', 'id': '4E2rKHVDssGJm2SCDOMMJB', 'name': 'Doechii', 'type': 'artist', 'uri': 'spotify:artist:4E2rKHVDssGJm2SCDOMMJB'}], 'available_markets': ['AR', 'AU', 'AT', 'BE', 'BO', 'BR', 'BG', 'CA', 'CL', 'CO', 'CR', 'CY', 'CZ', 'DK', 'DO', 'DE', 'EC', 'EE', 'SV', 'FI', 'FR', 'GR', 'GT', 'HN', 'HK', 'HU', 'IS', 'IE', 'IT', 'LV', 'LT', 'LU', 'MY', 'MT', 'MX', 'NL', 'NZ', 'NI', 'NO', 'PA', 'PY', 'PE', 'PH', 'PL', 'PT', 'SG', 'SK', 'ES', 'SE', 'CH', 'TW', 'TR', 'UY', 'US', 'GB', 'AD', 'LI', 'MC', 'ID', 'JP', 'TH', 'VN', 'RO', 'IL', 'ZA', 'SA', 'AE', 'BH', 'QA', 'OM', 'KW', 'EG', 'MA', 'DZ', 'TN', 'LB', 'JO', 'PS', 'IN', 'KZ', 'MD', 'UA', 'AL', 'BA', 'HR', 'ME', 'MK', 'RS', 'SI', 'KR', 'BD', 'PK', 'LK', 'GH', 'KE', 'NG', 'TZ', 'UG', 'AG', 'AM', 'BS', 'BB', 'BZ', 'BT', 'BW', 'BF', 'CV', 'CW', 'DM', 'FJ', 'GM', 'GE', 'GD', 'GW', 'GY', 'HT', 'JM', 'KI', 'LS', 'LR', 'MW', 'MV', 'ML', 'MH', 'FM', 'NA', 'NR', 'NE', 'PW', 'PG', 'WS', 'SM', 'ST', 'SN', 'SC', 'SL', 'SB', 'KN', 'LC', 'VC', 'SR', 'TL', 'TO', 'TT', 'TV', 'VU', 'AZ', 'BN', 'BI', 'KH', 'CM', 'TD', 'KM', 'GQ', 'SZ', 'GA', 'GN', 'KG', 'LA', 'MO', 'MR', 'MN', 'NP', 'RW', 'TG', 'UZ', 'ZW', 'BJ', 'MG', 'MU', 'MZ', 'AO', 'CI', 'DJ', 'ZM', 'CD', 'CG', 'IQ', 'LY', 'TJ', 'VE', 'ET', 'XK'], 'disc_number': 1, 'duration_ms': 189824, 'episode': False, 'explicit': True, 'external_ids': {'isrc': 'USUG12301967'}, 'external_urls': {'spotify': 'https://open.spotify.com/track/73RbfOTJIjHzi2pcVHjeHM'}, 'href': 'https://api.spotify.com/v1/tracks/73RbfOTJIjHzi2pcVHjeHM', 'id': '73RbfOTJIjHzi2pcVHjeHM', 'is_local': False, 'name': 'What It Is (Solo Version)', 'popularity': 81, 'preview_url': None, 'track': True, 'track_number': 2, 'type': 'track', 'uri': 'spotify:track:73RbfOTJIjHzi2pcVHjeHM'}\n",
      "{'album': {'album_type': 'album', 'artists': [{'external_urls': {'spotify': 'https://open.spotify.com/artist/1zuJe6b1roixEKMOtyrEak'}, 'href': 'https://api.spotify.com/v1/artists/1zuJe6b1roixEKMOtyrEak', 'id': '1zuJe6b1roixEKMOtyrEak', 'name': 'Tina Turner', 'type': 'artist', 'uri': 'spotify:artist:1zuJe6b1roixEKMOtyrEak'}], 'available_markets': ['AD', 'AE', 'AG', 'AL', 'AM', 'AO', 'AR', 'AT', 'AU', 'AZ', 'BA', 'BB', 'BD', 'BE', 'BF', 'BG', 'BH', 'BI', 'BJ', 'BN', 'BO', 'BR', 'BS', 'BW', 'BY', 'BZ', 'CA', 'CD', 'CG', 'CH', 'CI', 'CL', 'CM', 'CO', 'CR', 'CV', 'CW', 'CY', 'CZ', 'DE', 'DJ', 'DK', 'DM', 'DO', 'DZ', 'EC', 'EE', 'EG', 'ES', 'ET', 'FI', 'FJ', 'FM', 'FR', 'GA', 'GB', 'GD', 'GH', 'GM', 'GN', 'GQ', 'GR', 'GT', 'GW', 'HK', 'HN', 'HR', 'HT', 'HU', 'ID', 'IE', 'IL', 'IN', 'IQ', 'IS', 'IT', 'JM', 'JO', 'JP', 'KE', 'KG', 'KH', 'KM', 'KN', 'KR', 'KW', 'KZ', 'LA', 'LB', 'LC', 'LK', 'LR', 'LS', 'LT', 'LU', 'LV', 'LY', 'MA', 'MC', 'MD', 'ME', 'MG', 'MK', 'ML', 'MN', 'MO', 'MR', 'MT', 'MU', 'MW', 'MX', 'MY', 'MZ', 'NA', 'NE', 'NG', 'NI', 'NL', 'NO', 'NP', 'NZ', 'OM', 'PA', 'PE', 'PG', 'PH', 'PK', 'PL', 'PT', 'PY', 'QA', 'RO', 'RS', 'RW', 'SA', 'SC', 'SE', 'SG', 'SI', 'SK', 'SL', 'SM', 'SN', 'ST', 'SV', 'SZ', 'TD', 'TG', 'TH', 'TJ', 'TL', 'TN', 'TR', 'TT', 'TW', 'TZ', 'UA', 'UG', 'US', 'UY', 'UZ', 'VC', 'VE', 'VN', 'XK', 'ZA', 'ZM', 'ZW'], 'external_urls': {'spotify': 'https://open.spotify.com/album/7gVHUNPQr0AE2A0Yf5MjqR'}, 'href': 'https://api.spotify.com/v1/albums/7gVHUNPQr0AE2A0Yf5MjqR', 'id': '7gVHUNPQr0AE2A0Yf5MjqR', 'images': [{'height': 640, 'url': 'https://i.scdn.co/image/ab67616d0000b2738858cc9df4f43fd5954e5132', 'width': 640}, {'height': 300, 'url': 'https://i.scdn.co/image/ab67616d00001e028858cc9df4f43fd5954e5132', 'width': 300}, {'height': 64, 'url': 'https://i.scdn.co/image/ab67616d000048518858cc9df4f43fd5954e5132', 'width': 64}], 'name': 'Private Dancer (30th Anniversary Issue)', 'release_date': '1984-05-29', 'release_date_precision': 'day', 'total_tracks': 25, 'type': 'album', 'uri': 'spotify:album:7gVHUNPQr0AE2A0Yf5MjqR'}, 'artists': [{'external_urls': {'spotify': 'https://open.spotify.com/artist/1zuJe6b1roixEKMOtyrEak'}, 'href': 'https://api.spotify.com/v1/artists/1zuJe6b1roixEKMOtyrEak', 'id': '1zuJe6b1roixEKMOtyrEak', 'name': 'Tina Turner', 'type': 'artist', 'uri': 'spotify:artist:1zuJe6b1roixEKMOtyrEak'}], 'available_markets': ['AR', 'AU', 'AT', 'BE', 'BO', 'BR', 'BG', 'CA', 'CL', 'CO', 'CR', 'CY', 'CZ', 'DK', 'DO', 'DE', 'EC', 'EE', 'SV', 'FI', 'FR', 'GR', 'GT', 'HN', 'HK', 'HU', 'IS', 'IE', 'IT', 'LV', 'LT', 'LU', 'MY', 'MT', 'MX', 'NL', 'NZ', 'NI', 'NO', 'PA', 'PY', 'PE', 'PH', 'PL', 'PT', 'SG', 'SK', 'ES', 'SE', 'CH', 'TW', 'TR', 'UY', 'US', 'GB', 'AD', 'MC', 'ID', 'JP', 'TH', 'VN', 'RO', 'IL', 'ZA', 'SA', 'AE', 'BH', 'QA', 'OM', 'KW', 'EG', 'MA', 'DZ', 'TN', 'LB', 'JO', 'IN', 'BY', 'KZ', 'MD', 'UA', 'AL', 'BA', 'HR', 'ME', 'MK', 'RS', 'SI', 'KR', 'BD', 'PK', 'LK', 'GH', 'KE', 'NG', 'TZ', 'UG', 'AG', 'AM', 'BS', 'BB', 'BZ', 'BW', 'BF', 'CV', 'CW', 'DM', 'FJ', 'GM', 'GD', 'GW', 'HT', 'JM', 'LS', 'LR', 'MW', 'ML', 'FM', 'NA', 'NE', 'PG', 'SM', 'ST', 'SN', 'SC', 'SL', 'KN', 'LC', 'VC', 'TL', 'TT', 'AZ', 'BN', 'BI', 'KH', 'CM', 'TD', 'KM', 'GQ', 'SZ', 'GA', 'GN', 'KG', 'LA', 'MO', 'MR', 'MN', 'NP', 'RW', 'TG', 'UZ', 'ZW', 'BJ', 'MG', 'MU', 'MZ', 'AO', 'CI', 'DJ', 'ZM', 'CD', 'CG', 'IQ', 'LY', 'TJ', 'VE', 'ET', 'XK'], 'disc_number': 1, 'duration_ms': 230240, 'episode': False, 'explicit': False, 'external_ids': {'isrc': 'GBAYE1401507'}, 'external_urls': {'spotify': 'https://open.spotify.com/track/3ErsOxqe2RmXkR65wkygDz'}, 'href': 'https://api.spotify.com/v1/tracks/3ErsOxqe2RmXkR65wkygDz', 'id': '3ErsOxqe2RmXkR65wkygDz', 'is_local': False, 'name': \"What's Love Got to Do with It - 2015 Remaster\", 'popularity': 71, 'preview_url': 'https://p.scdn.co/mp3-preview/afe30b48577271fb52410be4c3c91d17c1ee9881?cid=43964785e73c43698f52de9f8ea49068', 'track': True, 'track_number': 2, 'type': 'track', 'uri': 'spotify:track:3ErsOxqe2RmXkR65wkygDz'}\n",
      "{'album': {'album_type': 'single', 'artists': [{'external_urls': {'spotify': 'https://open.spotify.com/artist/1mXD3HVrObKWyjMvRjfsXp'}, 'href': 'https://api.spotify.com/v1/artists/1mXD3HVrObKWyjMvRjfsXp', 'id': '1mXD3HVrObKWyjMvRjfsXp', 'name': 'Los Parras', 'type': 'artist', 'uri': 'spotify:artist:1mXD3HVrObKWyjMvRjfsXp'}], 'available_markets': ['AD', 'AE', 'AG', 'AL', 'AM', 'AO', 'AR', 'AT', 'AU', 'AZ', 'BA', 'BB', 'BD', 'BE', 'BF', 'BG', 'BH', 'BI', 'BJ', 'BN', 'BO', 'BR', 'BS', 'BT', 'BW', 'BY', 'BZ', 'CA', 'CD', 'CG', 'CH', 'CI', 'CL', 'CM', 'CO', 'CR', 'CV', 'CW', 'CY', 'CZ', 'DE', 'DJ', 'DK', 'DM', 'DO', 'DZ', 'EC', 'EE', 'EG', 'ES', 'ET', 'FI', 'FJ', 'FM', 'FR', 'GA', 'GB', 'GD', 'GE', 'GH', 'GM', 'GN', 'GQ', 'GR', 'GT', 'GW', 'GY', 'HK', 'HN', 'HR', 'HT', 'HU', 'ID', 'IE', 'IL', 'IN', 'IQ', 'IS', 'IT', 'JM', 'JO', 'JP', 'KE', 'KG', 'KH', 'KI', 'KM', 'KN', 'KR', 'KW', 'KZ', 'LA', 'LB', 'LC', 'LI', 'LK', 'LR', 'LS', 'LT', 'LU', 'LV', 'LY', 'MA', 'MC', 'MD', 'ME', 'MG', 'MH', 'MK', 'ML', 'MN', 'MO', 'MR', 'MT', 'MU', 'MV', 'MW', 'MX', 'MY', 'MZ', 'NA', 'NE', 'NG', 'NI', 'NL', 'NO', 'NP', 'NR', 'NZ', 'OM', 'PA', 'PE', 'PG', 'PH', 'PK', 'PL', 'PS', 'PT', 'PW', 'PY', 'QA', 'RO', 'RS', 'RW', 'SA', 'SB', 'SC', 'SE', 'SG', 'SI', 'SK', 'SL', 'SM', 'SN', 'SR', 'ST', 'SV', 'SZ', 'TD', 'TG', 'TH', 'TJ', 'TL', 'TN', 'TO', 'TR', 'TT', 'TV', 'TW', 'TZ', 'UA', 'UG', 'US', 'UY', 'UZ', 'VC', 'VE', 'VN', 'VU', 'WS', 'XK', 'ZA', 'ZM', 'ZW'], 'external_urls': {'spotify': 'https://open.spotify.com/album/14YHPggstfzTkrgllA7fh6'}, 'href': 'https://api.spotify.com/v1/albums/14YHPggstfzTkrgllA7fh6', 'id': '14YHPggstfzTkrgllA7fh6', 'images': [{'height': 640, 'url': 'https://i.scdn.co/image/ab67616d0000b273522f8512aa766fbc56e882b6', 'width': 640}, {'height': 300, 'url': 'https://i.scdn.co/image/ab67616d00001e02522f8512aa766fbc56e882b6', 'width': 300}, {'height': 64, 'url': 'https://i.scdn.co/image/ab67616d00004851522f8512aa766fbc56e882b6', 'width': 64}], 'name': 'Por Verte Feliz', 'release_date': '2021-03-26', 'release_date_precision': 'day', 'total_tracks': 1, 'type': 'album', 'uri': 'spotify:album:14YHPggstfzTkrgllA7fh6'}, 'artists': [{'external_urls': {'spotify': 'https://open.spotify.com/artist/1mXD3HVrObKWyjMvRjfsXp'}, 'href': 'https://api.spotify.com/v1/artists/1mXD3HVrObKWyjMvRjfsXp', 'id': '1mXD3HVrObKWyjMvRjfsXp', 'name': 'Los Parras', 'type': 'artist', 'uri': 'spotify:artist:1mXD3HVrObKWyjMvRjfsXp'}], 'available_markets': ['AR', 'AU', 'AT', 'BE', 'BO', 'BR', 'BG', 'CA', 'CL', 'CO', 'CR', 'CY', 'CZ', 'DK', 'DO', 'DE', 'EC', 'EE', 'SV', 'FI', 'FR', 'GR', 'GT', 'HN', 'HK', 'HU', 'IS', 'IE', 'IT', 'LV', 'LT', 'LU', 'MY', 'MT', 'MX', 'NL', 'NZ', 'NI', 'NO', 'PA', 'PY', 'PE', 'PH', 'PL', 'PT', 'SG', 'SK', 'ES', 'SE', 'CH', 'TW', 'TR', 'UY', 'US', 'GB', 'AD', 'LI', 'MC', 'ID', 'JP', 'TH', 'VN', 'RO', 'IL', 'ZA', 'SA', 'AE', 'BH', 'QA', 'OM', 'KW', 'EG', 'MA', 'DZ', 'TN', 'LB', 'JO', 'PS', 'IN', 'BY', 'KZ', 'MD', 'UA', 'AL', 'BA', 'HR', 'ME', 'MK', 'RS', 'SI', 'KR', 'BD', 'PK', 'LK', 'GH', 'KE', 'NG', 'TZ', 'UG', 'AG', 'AM', 'BS', 'BB', 'BZ', 'BT', 'BW', 'BF', 'CV', 'CW', 'DM', 'FJ', 'GM', 'GE', 'GD', 'GW', 'GY', 'HT', 'JM', 'KI', 'LS', 'LR', 'MW', 'MV', 'ML', 'MH', 'FM', 'NA', 'NR', 'NE', 'PW', 'PG', 'WS', 'SM', 'ST', 'SN', 'SC', 'SL', 'SB', 'KN', 'LC', 'VC', 'SR', 'TL', 'TO', 'TT', 'TV', 'VU', 'AZ', 'BN', 'BI', 'KH', 'CM', 'TD', 'KM', 'GQ', 'SZ', 'GA', 'GN', 'KG', 'LA', 'MO', 'MR', 'MN', 'NP', 'RW', 'TG', 'UZ', 'ZW', 'BJ', 'MG', 'MU', 'MZ', 'AO', 'CI', 'DJ', 'ZM', 'CD', 'CG', 'IQ', 'LY', 'TJ', 'VE', 'ET', 'XK'], 'disc_number': 1, 'duration_ms': 149250, 'episode': False, 'explicit': False, 'external_ids': {'isrc': 'QM4TX2198061'}, 'external_urls': {'spotify': 'https://open.spotify.com/track/6dI0iFnBCj9YkcWgXeoRkx'}, 'href': 'https://api.spotify.com/v1/tracks/6dI0iFnBCj9YkcWgXeoRkx', 'id': '6dI0iFnBCj9YkcWgXeoRkx', 'is_local': False, 'name': 'Por Verte Feliz', 'popularity': 73, 'preview_url': 'https://p.scdn.co/mp3-preview/37697ee26f687673865dc5f01d1fc8aa099fd75f?cid=43964785e73c43698f52de9f8ea49068', 'track': True, 'track_number': 1, 'type': 'track', 'uri': 'spotify:track:6dI0iFnBCj9YkcWgXeoRkx'}\n",
      "{'album': {'album_type': 'album', 'artists': [{'external_urls': {'spotify': 'https://open.spotify.com/artist/4SpbR6yFEvexJuaBpgAU5p'}, 'href': 'https://api.spotify.com/v1/artists/4SpbR6yFEvexJuaBpgAU5p', 'id': '4SpbR6yFEvexJuaBpgAU5p', 'name': 'LE SSERAFIM', 'type': 'artist', 'uri': 'spotify:artist:4SpbR6yFEvexJuaBpgAU5p'}], 'available_markets': ['AD', 'AE', 'AG', 'AL', 'AM', 'AO', 'AR', 'AT', 'AU', 'AZ', 'BA', 'BB', 'BD', 'BE', 'BF', 'BG', 'BH', 'BI', 'BJ', 'BN', 'BO', 'BR', 'BS', 'BT', 'BW', 'BY', 'BZ', 'CA', 'CD', 'CG', 'CH', 'CI', 'CL', 'CM', 'CO', 'CR', 'CV', 'CW', 'CY', 'CZ', 'DE', 'DJ', 'DK', 'DM', 'DO', 'DZ', 'EC', 'EE', 'EG', 'ES', 'ET', 'FI', 'FJ', 'FM', 'FR', 'GA', 'GB', 'GD', 'GE', 'GH', 'GM', 'GN', 'GQ', 'GR', 'GT', 'GW', 'GY', 'HK', 'HN', 'HR', 'HT', 'HU', 'ID', 'IE', 'IL', 'IN', 'IQ', 'IS', 'IT', 'JM', 'JO', 'JP', 'KE', 'KG', 'KH', 'KI', 'KM', 'KN', 'KR', 'KW', 'KZ', 'LA', 'LB', 'LC', 'LI', 'LK', 'LR', 'LS', 'LT', 'LU', 'LV', 'LY', 'MA', 'MC', 'MD', 'ME', 'MG', 'MH', 'MK', 'ML', 'MN', 'MO', 'MR', 'MT', 'MU', 'MV', 'MW', 'MX', 'MY', 'MZ', 'NA', 'NE', 'NG', 'NI', 'NL', 'NO', 'NP', 'NR', 'NZ', 'OM', 'PA', 'PE', 'PG', 'PH', 'PK', 'PL', 'PS', 'PT', 'PW', 'PY', 'QA', 'RO', 'RS', 'RW', 'SA', 'SB', 'SC', 'SE', 'SG', 'SI', 'SK', 'SL', 'SM', 'SN', 'SR', 'ST', 'SV', 'SZ', 'TD', 'TG', 'TH', 'TJ', 'TL', 'TN', 'TO', 'TR', 'TT', 'TV', 'TW', 'TZ', 'UA', 'UG', 'US', 'UY', 'UZ', 'VC', 'VE', 'VN', 'VU', 'WS', 'XK', 'ZA', 'ZM', 'ZW'], 'external_urls': {'spotify': 'https://open.spotify.com/album/4Oz7K9DRwwGMN49i4NbVDT'}, 'href': 'https://api.spotify.com/v1/albums/4Oz7K9DRwwGMN49i4NbVDT', 'id': '4Oz7K9DRwwGMN49i4NbVDT', 'images': [{'height': 640, 'url': 'https://i.scdn.co/image/ab67616d0000b273d71fd77b89d08bc1bda219c7', 'width': 640}, {'height': 300, 'url': 'https://i.scdn.co/image/ab67616d00001e02d71fd77b89d08bc1bda219c7', 'width': 300}, {'height': 64, 'url': 'https://i.scdn.co/image/ab67616d00004851d71fd77b89d08bc1bda219c7', 'width': 64}], 'name': 'UNFORGIVEN', 'release_date': '2023-05-01', 'release_date_precision': 'day', 'total_tracks': 13, 'type': 'album', 'uri': 'spotify:album:4Oz7K9DRwwGMN49i4NbVDT'}, 'artists': [{'external_urls': {'spotify': 'https://open.spotify.com/artist/4SpbR6yFEvexJuaBpgAU5p'}, 'href': 'https://api.spotify.com/v1/artists/4SpbR6yFEvexJuaBpgAU5p', 'id': '4SpbR6yFEvexJuaBpgAU5p', 'name': 'LE SSERAFIM', 'type': 'artist', 'uri': 'spotify:artist:4SpbR6yFEvexJuaBpgAU5p'}], 'available_markets': ['AR', 'AU', 'AT', 'BE', 'BO', 'BR', 'BG', 'CA', 'CL', 'CO', 'CR', 'CY', 'CZ', 'DK', 'DO', 'DE', 'EC', 'EE', 'SV', 'FI', 'FR', 'GR', 'GT', 'HN', 'HK', 'HU', 'IS', 'IE', 'IT', 'LV', 'LT', 'LU', 'MY', 'MT', 'MX', 'NL', 'NZ', 'NI', 'NO', 'PA', 'PY', 'PE', 'PH', 'PL', 'PT', 'SG', 'SK', 'ES', 'SE', 'CH', 'TW', 'TR', 'UY', 'US', 'GB', 'AD', 'LI', 'MC', 'ID', 'JP', 'TH', 'VN', 'RO', 'IL', 'ZA', 'SA', 'AE', 'BH', 'QA', 'OM', 'KW', 'EG', 'MA', 'DZ', 'TN', 'LB', 'JO', 'PS', 'IN', 'BY', 'KZ', 'MD', 'UA', 'AL', 'BA', 'HR', 'ME', 'MK', 'RS', 'SI', 'KR', 'BD', 'PK', 'LK', 'GH', 'KE', 'NG', 'TZ', 'UG', 'AG', 'AM', 'BS', 'BB', 'BZ', 'BT', 'BW', 'BF', 'CV', 'CW', 'DM', 'FJ', 'GM', 'GE', 'GD', 'GW', 'GY', 'HT', 'JM', 'KI', 'LS', 'LR', 'MW', 'MV', 'ML', 'MH', 'FM', 'NA', 'NR', 'NE', 'PW', 'PG', 'WS', 'SM', 'ST', 'SN', 'SC', 'SL', 'SB', 'KN', 'LC', 'VC', 'SR', 'TL', 'TO', 'TT', 'TV', 'VU', 'AZ', 'BN', 'BI', 'KH', 'CM', 'TD', 'KM', 'GQ', 'SZ', 'GA', 'GN', 'KG', 'LA', 'MO', 'MR', 'MN', 'NP', 'RW', 'TG', 'UZ', 'ZW', 'BJ', 'MG', 'MU', 'MZ', 'AO', 'CI', 'DJ', 'ZM', 'CD', 'CG', 'IQ', 'LY', 'TJ', 'VE', 'ET', 'XK'], 'disc_number': 1, 'duration_ms': 185538, 'episode': False, 'explicit': False, 'external_ids': {'isrc': 'USA2P2310665'}, 'external_urls': {'spotify': 'https://open.spotify.com/track/4QhnNyKDsAkXPwHkSnuc89'}, 'href': 'https://api.spotify.com/v1/tracks/4QhnNyKDsAkXPwHkSnuc89', 'id': '4QhnNyKDsAkXPwHkSnuc89', 'is_local': False, 'name': 'Eve, Psyche & The Bluebeard’s wife', 'popularity': 80, 'preview_url': 'https://p.scdn.co/mp3-preview/c4b879e0473f33fc4e755747661e982af591d800?cid=43964785e73c43698f52de9f8ea49068', 'track': True, 'track_number': 10, 'type': 'track', 'uri': 'spotify:track:4QhnNyKDsAkXPwHkSnuc89'}\n",
      "{'album': {'album_type': 'single', 'artists': [{'external_urls': {'spotify': 'https://open.spotify.com/artist/4gs82a9ZgG2faut653OMRD'}, 'href': 'https://api.spotify.com/v1/artists/4gs82a9ZgG2faut653OMRD', 'id': '4gs82a9ZgG2faut653OMRD', 'name': 'Let 3', 'type': 'artist', 'uri': 'spotify:artist:4gs82a9ZgG2faut653OMRD'}], 'available_markets': ['AD', 'AE', 'AG', 'AL', 'AM', 'AO', 'AR', 'AT', 'AU', 'AZ', 'BA', 'BB', 'BD', 'BE', 'BF', 'BG', 'BH', 'BI', 'BJ', 'BN', 'BO', 'BR', 'BS', 'BT', 'BW', 'BY', 'BZ', 'CA', 'CD', 'CG', 'CH', 'CI', 'CL', 'CM', 'CO', 'CR', 'CV', 'CW', 'CY', 'CZ', 'DE', 'DJ', 'DK', 'DM', 'DO', 'DZ', 'EC', 'EE', 'EG', 'ES', 'ET', 'FI', 'FJ', 'FM', 'FR', 'GA', 'GB', 'GD', 'GE', 'GH', 'GM', 'GN', 'GQ', 'GR', 'GT', 'GW', 'GY', 'HK', 'HN', 'HR', 'HT', 'HU', 'ID', 'IE', 'IL', 'IN', 'IQ', 'IS', 'IT', 'JM', 'JO', 'JP', 'KE', 'KG', 'KH', 'KI', 'KM', 'KN', 'KR', 'KW', 'KZ', 'LA', 'LB', 'LC', 'LI', 'LK', 'LR', 'LS', 'LT', 'LU', 'LV', 'LY', 'MA', 'MC', 'MD', 'ME', 'MG', 'MH', 'MK', 'ML', 'MN', 'MO', 'MR', 'MT', 'MU', 'MV', 'MW', 'MX', 'MY', 'MZ', 'NA', 'NE', 'NG', 'NI', 'NL', 'NO', 'NP', 'NR', 'NZ', 'OM', 'PA', 'PE', 'PG', 'PH', 'PK', 'PL', 'PS', 'PT', 'PW', 'PY', 'QA', 'RO', 'RS', 'RW', 'SA', 'SB', 'SC', 'SE', 'SG', 'SI', 'SK', 'SL', 'SM', 'SN', 'SR', 'ST', 'SV', 'SZ', 'TD', 'TG', 'TH', 'TJ', 'TL', 'TN', 'TO', 'TR', 'TT', 'TV', 'TW', 'TZ', 'UA', 'UG', 'US', 'UY', 'UZ', 'VC', 'VE', 'VN', 'VU', 'WS', 'XK', 'ZA', 'ZM', 'ZW'], 'external_urls': {'spotify': 'https://open.spotify.com/album/2Z7f4V8Z7CcPPtPKXW6wbc'}, 'href': 'https://api.spotify.com/v1/albums/2Z7f4V8Z7CcPPtPKXW6wbc', 'id': '2Z7f4V8Z7CcPPtPKXW6wbc', 'images': [{'height': 640, 'url': 'https://i.scdn.co/image/ab67616d0000b273ea2dd7035c60b6a34fd603d6', 'width': 640}, {'height': 300, 'url': 'https://i.scdn.co/image/ab67616d00001e02ea2dd7035c60b6a34fd603d6', 'width': 300}, {'height': 64, 'url': 'https://i.scdn.co/image/ab67616d00004851ea2dd7035c60b6a34fd603d6', 'width': 64}], 'name': 'Mama ŠČ!', 'release_date': '2023-01-20', 'release_date_precision': 'day', 'total_tracks': 1, 'type': 'album', 'uri': 'spotify:album:2Z7f4V8Z7CcPPtPKXW6wbc'}, 'artists': [{'external_urls': {'spotify': 'https://open.spotify.com/artist/4gs82a9ZgG2faut653OMRD'}, 'href': 'https://api.spotify.com/v1/artists/4gs82a9ZgG2faut653OMRD', 'id': '4gs82a9ZgG2faut653OMRD', 'name': 'Let 3', 'type': 'artist', 'uri': 'spotify:artist:4gs82a9ZgG2faut653OMRD'}], 'available_markets': ['AR', 'AU', 'AT', 'BE', 'BO', 'BR', 'BG', 'CA', 'CL', 'CO', 'CR', 'CY', 'CZ', 'DK', 'DO', 'DE', 'EC', 'EE', 'SV', 'FI', 'FR', 'GR', 'GT', 'HN', 'HK', 'HU', 'IS', 'IE', 'IT', 'LV', 'LT', 'LU', 'MY', 'MT', 'MX', 'NL', 'NZ', 'NI', 'NO', 'PA', 'PY', 'PE', 'PH', 'PL', 'PT', 'SG', 'SK', 'ES', 'SE', 'CH', 'TW', 'TR', 'UY', 'US', 'GB', 'AD', 'LI', 'MC', 'ID', 'JP', 'TH', 'VN', 'RO', 'IL', 'ZA', 'SA', 'AE', 'BH', 'QA', 'OM', 'KW', 'EG', 'MA', 'DZ', 'TN', 'LB', 'JO', 'PS', 'IN', 'BY', 'KZ', 'MD', 'UA', 'AL', 'BA', 'HR', 'ME', 'MK', 'RS', 'SI', 'KR', 'BD', 'PK', 'LK', 'GH', 'KE', 'NG', 'TZ', 'UG', 'AG', 'AM', 'BS', 'BB', 'BZ', 'BT', 'BW', 'BF', 'CV', 'CW', 'DM', 'FJ', 'GM', 'GE', 'GD', 'GW', 'GY', 'HT', 'JM', 'KI', 'LS', 'LR', 'MW', 'MV', 'ML', 'MH', 'FM', 'NA', 'NR', 'NE', 'PW', 'PG', 'WS', 'SM', 'ST', 'SN', 'SC', 'SL', 'SB', 'KN', 'LC', 'VC', 'SR', 'TL', 'TO', 'TT', 'TV', 'VU', 'AZ', 'BN', 'BI', 'KH', 'CM', 'TD', 'KM', 'GQ', 'SZ', 'GA', 'GN', 'KG', 'LA', 'MO', 'MR', 'MN', 'NP', 'RW', 'TG', 'UZ', 'ZW', 'BJ', 'MG', 'MU', 'MZ', 'AO', 'CI', 'DJ', 'ZM', 'CD', 'CG', 'IQ', 'LY', 'TJ', 'VE', 'ET', 'XK'], 'disc_number': 1, 'duration_ms': 154888, 'episode': False, 'explicit': False, 'external_ids': {'isrc': 'HRA372300007'}, 'external_urls': {'spotify': 'https://open.spotify.com/track/7hcPebUUvJDRH6BhjZ5xEZ'}, 'href': 'https://api.spotify.com/v1/tracks/7hcPebUUvJDRH6BhjZ5xEZ', 'id': '7hcPebUUvJDRH6BhjZ5xEZ', 'is_local': False, 'name': 'Mama ŠČ!', 'popularity': 72, 'preview_url': 'https://p.scdn.co/mp3-preview/1004251cced465f0979cb9c68eec183eef88a126?cid=43964785e73c43698f52de9f8ea49068', 'track': True, 'track_number': 1, 'type': 'track', 'uri': 'spotify:track:7hcPebUUvJDRH6BhjZ5xEZ'}\n",
      "{'album': {'album_type': 'single', 'artists': [{'external_urls': {'spotify': 'https://open.spotify.com/artist/1JvbNeV9zG9Sew1JyaWsyx'}, 'href': 'https://api.spotify.com/v1/artists/1JvbNeV9zG9Sew1JyaWsyx', 'id': '1JvbNeV9zG9Sew1JyaWsyx', 'name': 'Anggi Marito', 'type': 'artist', 'uri': 'spotify:artist:1JvbNeV9zG9Sew1JyaWsyx'}], 'available_markets': ['AD', 'AE', 'AG', 'AL', 'AM', 'AO', 'AR', 'AT', 'AU', 'AZ', 'BA', 'BB', 'BD', 'BE', 'BF', 'BG', 'BH', 'BI', 'BJ', 'BN', 'BO', 'BR', 'BS', 'BT', 'BW', 'BZ', 'CA', 'CD', 'CG', 'CH', 'CI', 'CL', 'CM', 'CO', 'CR', 'CV', 'CW', 'CY', 'CZ', 'DE', 'DJ', 'DK', 'DM', 'DO', 'DZ', 'EC', 'EE', 'EG', 'ES', 'ET', 'FI', 'FJ', 'FM', 'FR', 'GA', 'GB', 'GD', 'GE', 'GH', 'GM', 'GN', 'GQ', 'GR', 'GT', 'GW', 'GY', 'HK', 'HN', 'HR', 'HT', 'HU', 'ID', 'IE', 'IL', 'IN', 'IQ', 'IS', 'IT', 'JM', 'JO', 'JP', 'KE', 'KG', 'KH', 'KI', 'KM', 'KN', 'KR', 'KW', 'KZ', 'LA', 'LB', 'LC', 'LI', 'LK', 'LR', 'LS', 'LT', 'LU', 'LV', 'LY', 'MA', 'MC', 'MD', 'ME', 'MG', 'MH', 'MK', 'ML', 'MN', 'MO', 'MR', 'MT', 'MU', 'MV', 'MW', 'MX', 'MY', 'MZ', 'NA', 'NE', 'NG', 'NI', 'NL', 'NO', 'NP', 'NR', 'NZ', 'OM', 'PA', 'PE', 'PG', 'PH', 'PK', 'PL', 'PS', 'PT', 'PW', 'PY', 'QA', 'RO', 'RS', 'RW', 'SA', 'SB', 'SC', 'SE', 'SG', 'SI', 'SK', 'SL', 'SM', 'SN', 'SR', 'ST', 'SV', 'SZ', 'TD', 'TG', 'TH', 'TJ', 'TL', 'TN', 'TO', 'TR', 'TT', 'TV', 'TW', 'TZ', 'UA', 'UG', 'US', 'UY', 'UZ', 'VC', 'VE', 'VN', 'VU', 'WS', 'XK', 'ZA', 'ZM', 'ZW'], 'external_urls': {'spotify': 'https://open.spotify.com/album/6gO5mDyNTqiIqHItRil4OG'}, 'href': 'https://api.spotify.com/v1/albums/6gO5mDyNTqiIqHItRil4OG', 'id': '6gO5mDyNTqiIqHItRil4OG', 'images': [{'height': 640, 'url': 'https://i.scdn.co/image/ab67616d0000b2732844c4e4e984ea408ab7fd6f', 'width': 640}, {'height': 300, 'url': 'https://i.scdn.co/image/ab67616d00001e022844c4e4e984ea408ab7fd6f', 'width': 300}, {'height': 64, 'url': 'https://i.scdn.co/image/ab67616d000048512844c4e4e984ea408ab7fd6f', 'width': 64}], 'name': 'Tak Segampang Itu', 'release_date': '2022-12-02', 'release_date_precision': 'day', 'total_tracks': 1, 'type': 'album', 'uri': 'spotify:album:6gO5mDyNTqiIqHItRil4OG'}, 'artists': [{'external_urls': {'spotify': 'https://open.spotify.com/artist/1JvbNeV9zG9Sew1JyaWsyx'}, 'href': 'https://api.spotify.com/v1/artists/1JvbNeV9zG9Sew1JyaWsyx', 'id': '1JvbNeV9zG9Sew1JyaWsyx', 'name': 'Anggi Marito', 'type': 'artist', 'uri': 'spotify:artist:1JvbNeV9zG9Sew1JyaWsyx'}], 'available_markets': ['AR', 'AU', 'AT', 'BE', 'BO', 'BR', 'BG', 'CA', 'CL', 'CO', 'CR', 'CY', 'CZ', 'DK', 'DO', 'DE', 'EC', 'EE', 'SV', 'FI', 'FR', 'GR', 'GT', 'HN', 'HK', 'HU', 'IS', 'IE', 'IT', 'LV', 'LT', 'LU', 'MY', 'MT', 'MX', 'NL', 'NZ', 'NI', 'NO', 'PA', 'PY', 'PE', 'PH', 'PL', 'PT', 'SG', 'SK', 'ES', 'SE', 'CH', 'TW', 'TR', 'UY', 'US', 'GB', 'AD', 'LI', 'MC', 'ID', 'JP', 'TH', 'VN', 'RO', 'IL', 'ZA', 'SA', 'AE', 'BH', 'QA', 'OM', 'KW', 'EG', 'MA', 'DZ', 'TN', 'LB', 'JO', 'PS', 'IN', 'KZ', 'MD', 'UA', 'AL', 'BA', 'HR', 'ME', 'MK', 'RS', 'SI', 'KR', 'BD', 'PK', 'LK', 'GH', 'KE', 'NG', 'TZ', 'UG', 'AG', 'AM', 'BS', 'BB', 'BZ', 'BT', 'BW', 'BF', 'CV', 'CW', 'DM', 'FJ', 'GM', 'GE', 'GD', 'GW', 'GY', 'HT', 'JM', 'KI', 'LS', 'LR', 'MW', 'MV', 'ML', 'MH', 'FM', 'NA', 'NR', 'NE', 'PW', 'PG', 'WS', 'SM', 'ST', 'SN', 'SC', 'SL', 'SB', 'KN', 'LC', 'VC', 'SR', 'TL', 'TO', 'TT', 'TV', 'VU', 'AZ', 'BN', 'BI', 'KH', 'CM', 'TD', 'KM', 'GQ', 'SZ', 'GA', 'GN', 'KG', 'LA', 'MO', 'MR', 'MN', 'NP', 'RW', 'TG', 'UZ', 'ZW', 'BJ', 'MG', 'MU', 'MZ', 'AO', 'CI', 'DJ', 'ZM', 'CD', 'CG', 'IQ', 'LY', 'TJ', 'VE', 'ET', 'XK'], 'disc_number': 1, 'duration_ms': 231100, 'episode': False, 'explicit': False, 'external_ids': {'isrc': 'IDUM72200281'}, 'external_urls': {'spotify': 'https://open.spotify.com/track/26cvTWJq2E1QqN4jyH2OTU'}, 'href': 'https://api.spotify.com/v1/tracks/26cvTWJq2E1QqN4jyH2OTU', 'id': '26cvTWJq2E1QqN4jyH2OTU', 'is_local': False, 'name': 'Tak Segampang Itu', 'popularity': 88, 'preview_url': None, 'track': True, 'track_number': 1, 'type': 'track', 'uri': 'spotify:track:26cvTWJq2E1QqN4jyH2OTU'}\n",
      "{'album': {'album_type': 'album', 'artists': [{'external_urls': {'spotify': 'https://open.spotify.com/artist/4QVBYiagIaa6ZGSPMbybpy'}, 'href': 'https://api.spotify.com/v1/artists/4QVBYiagIaa6ZGSPMbybpy', 'id': '4QVBYiagIaa6ZGSPMbybpy', 'name': 'Pedro Capó', 'type': 'artist', 'uri': 'spotify:artist:4QVBYiagIaa6ZGSPMbybpy'}], 'available_markets': ['AD', 'AE', 'AG', 'AL', 'AM', 'AO', 'AR', 'AT', 'AU', 'AZ', 'BA', 'BB', 'BD', 'BE', 'BF', 'BG', 'BH', 'BI', 'BJ', 'BN', 'BO', 'BR', 'BS', 'BT', 'BW', 'BY', 'BZ', 'CA', 'CD', 'CG', 'CH', 'CI', 'CL', 'CM', 'CO', 'CR', 'CV', 'CW', 'CY', 'CZ', 'DE', 'DJ', 'DK', 'DM', 'DO', 'DZ', 'EC', 'EE', 'EG', 'ES', 'ET', 'FI', 'FJ', 'FM', 'FR', 'GA', 'GB', 'GD', 'GE', 'GH', 'GM', 'GN', 'GQ', 'GR', 'GT', 'GW', 'GY', 'HK', 'HN', 'HR', 'HT', 'HU', 'ID', 'IE', 'IL', 'IN', 'IQ', 'IS', 'IT', 'JM', 'JO', 'JP', 'KE', 'KG', 'KH', 'KI', 'KM', 'KN', 'KR', 'KW', 'KZ', 'LA', 'LB', 'LC', 'LI', 'LK', 'LR', 'LS', 'LT', 'LU', 'LV', 'LY', 'MA', 'MC', 'MD', 'ME', 'MG', 'MH', 'MK', 'ML', 'MN', 'MO', 'MR', 'MT', 'MU', 'MV', 'MW', 'MX', 'MY', 'MZ', 'NA', 'NE', 'NG', 'NI', 'NL', 'NO', 'NP', 'NR', 'NZ', 'OM', 'PA', 'PE', 'PG', 'PH', 'PK', 'PL', 'PS', 'PT', 'PW', 'PY', 'QA', 'RO', 'RS', 'RW', 'SA', 'SB', 'SC', 'SE', 'SG', 'SI', 'SK', 'SL', 'SM', 'SN', 'SR', 'ST', 'SV', 'SZ', 'TD', 'TG', 'TH', 'TJ', 'TL', 'TN', 'TO', 'TR', 'TT', 'TV', 'TW', 'TZ', 'UA', 'UG', 'US', 'UY', 'UZ', 'VC', 'VE', 'VN', 'VU', 'WS', 'XK', 'ZA', 'ZM', 'ZW'], 'external_urls': {'spotify': 'https://open.spotify.com/album/4jL4G1XbqAKQjp3irG9kl1'}, 'href': 'https://api.spotify.com/v1/albums/4jL4G1XbqAKQjp3irG9kl1', 'id': '4jL4G1XbqAKQjp3irG9kl1', 'images': [{'height': 640, 'url': 'https://i.scdn.co/image/ab67616d0000b273bb248cd8105d63bca05e2363', 'width': 640}, {'height': 300, 'url': 'https://i.scdn.co/image/ab67616d00001e02bb248cd8105d63bca05e2363', 'width': 300}, {'height': 64, 'url': 'https://i.scdn.co/image/ab67616d00004851bb248cd8105d63bca05e2363', 'width': 64}], 'name': 'La Neta', 'release_date': '2022-12-02', 'release_date_precision': 'day', 'total_tracks': 10, 'type': 'album', 'uri': 'spotify:album:4jL4G1XbqAKQjp3irG9kl1'}, 'artists': [{'external_urls': {'spotify': 'https://open.spotify.com/artist/4QVBYiagIaa6ZGSPMbybpy'}, 'href': 'https://api.spotify.com/v1/artists/4QVBYiagIaa6ZGSPMbybpy', 'id': '4QVBYiagIaa6ZGSPMbybpy', 'name': 'Pedro Capó', 'type': 'artist', 'uri': 'spotify:artist:4QVBYiagIaa6ZGSPMbybpy'}], 'available_markets': ['AR', 'AU', 'AT', 'BE', 'BO', 'BR', 'BG', 'CA', 'CL', 'CO', 'CR', 'CY', 'CZ', 'DK', 'DO', 'DE', 'EC', 'EE', 'SV', 'FI', 'FR', 'GR', 'GT', 'HN', 'HK', 'HU', 'IS', 'IE', 'IT', 'LV', 'LT', 'LU', 'MY', 'MT', 'MX', 'NL', 'NZ', 'NI', 'NO', 'PA', 'PY', 'PE', 'PH', 'PL', 'PT', 'SG', 'SK', 'ES', 'SE', 'CH', 'TW', 'TR', 'UY', 'US', 'GB', 'AD', 'LI', 'MC', 'ID', 'JP', 'TH', 'VN', 'RO', 'IL', 'ZA', 'SA', 'AE', 'BH', 'QA', 'OM', 'KW', 'EG', 'MA', 'DZ', 'TN', 'LB', 'JO', 'PS', 'IN', 'BY', 'KZ', 'MD', 'UA', 'AL', 'BA', 'HR', 'ME', 'MK', 'RS', 'SI', 'KR', 'BD', 'PK', 'LK', 'GH', 'KE', 'NG', 'TZ', 'UG', 'AG', 'AM', 'BS', 'BB', 'BZ', 'BT', 'BW', 'BF', 'CV', 'CW', 'DM', 'FJ', 'GM', 'GE', 'GD', 'GW', 'GY', 'HT', 'JM', 'KI', 'LS', 'LR', 'MW', 'MV', 'ML', 'MH', 'FM', 'NA', 'NR', 'NE', 'PW', 'PG', 'WS', 'SM', 'ST', 'SN', 'SC', 'SL', 'SB', 'KN', 'LC', 'VC', 'SR', 'TL', 'TO', 'TT', 'TV', 'VU', 'AZ', 'BN', 'BI', 'KH', 'CM', 'TD', 'KM', 'GQ', 'SZ', 'GA', 'GN', 'KG', 'LA', 'MO', 'MR', 'MN', 'NP', 'RW', 'TG', 'UZ', 'ZW', 'BJ', 'MG', 'MU', 'MZ', 'AO', 'CI', 'DJ', 'ZM', 'CD', 'CG', 'IQ', 'LY', 'TJ', 'VE', 'ET', 'XK'], 'disc_number': 1, 'duration_ms': 201044, 'episode': False, 'explicit': False, 'external_ids': {'isrc': 'USSD12200357'}, 'external_urls': {'spotify': 'https://open.spotify.com/track/2o6pi3nx1UAYxuBccabCMQ'}, 'href': 'https://api.spotify.com/v1/tracks/2o6pi3nx1UAYxuBccabCMQ', 'id': '2o6pi3nx1UAYxuBccabCMQ', 'is_local': False, 'name': 'La Fiesta', 'popularity': 74, 'preview_url': 'https://p.scdn.co/mp3-preview/65e3b421a21b6005f24cef9d603931c40448a0f7?cid=43964785e73c43698f52de9f8ea49068', 'track': True, 'track_number': 9, 'type': 'track', 'uri': 'spotify:track:2o6pi3nx1UAYxuBccabCMQ'}\n",
      "{'album': {'album_type': 'single', 'artists': [{'external_urls': {'spotify': 'https://open.spotify.com/artist/4M207MF4iyxBGBXzx5HL3p'}, 'href': 'https://api.spotify.com/v1/artists/4M207MF4iyxBGBXzx5HL3p', 'id': '4M207MF4iyxBGBXzx5HL3p', 'name': 'Elsya', 'type': 'artist', 'uri': 'spotify:artist:4M207MF4iyxBGBXzx5HL3p'}, {'external_urls': {'spotify': 'https://open.spotify.com/artist/21delmj7yVs6NDL6o1CPbk'}, 'href': 'https://api.spotify.com/v1/artists/21delmj7yVs6NDL6o1CPbk', 'id': '21delmj7yVs6NDL6o1CPbk', 'name': 'Aan Story', 'type': 'artist', 'uri': 'spotify:artist:21delmj7yVs6NDL6o1CPbk'}], 'available_markets': ['AD', 'AE', 'AG', 'AL', 'AM', 'AO', 'AR', 'AT', 'AU', 'AZ', 'BA', 'BB', 'BD', 'BE', 'BF', 'BG', 'BH', 'BI', 'BJ', 'BN', 'BO', 'BR', 'BS', 'BT', 'BW', 'BY', 'BZ', 'CA', 'CD', 'CG', 'CH', 'CI', 'CL', 'CM', 'CO', 'CR', 'CV', 'CW', 'CY', 'CZ', 'DE', 'DJ', 'DK', 'DM', 'DO', 'DZ', 'EC', 'EE', 'EG', 'ES', 'ET', 'FI', 'FJ', 'FM', 'FR', 'GA', 'GB', 'GD', 'GE', 'GH', 'GM', 'GN', 'GQ', 'GR', 'GT', 'GW', 'GY', 'HK', 'HN', 'HR', 'HT', 'HU', 'ID', 'IE', 'IL', 'IN', 'IQ', 'IS', 'IT', 'JM', 'JO', 'JP', 'KE', 'KG', 'KH', 'KI', 'KM', 'KN', 'KR', 'KW', 'KZ', 'LA', 'LB', 'LC', 'LI', 'LK', 'LR', 'LS', 'LT', 'LU', 'LV', 'LY', 'MA', 'MC', 'MD', 'ME', 'MG', 'MH', 'MK', 'ML', 'MN', 'MO', 'MR', 'MT', 'MU', 'MV', 'MW', 'MX', 'MY', 'MZ', 'NA', 'NE', 'NG', 'NI', 'NL', 'NO', 'NP', 'NR', 'NZ', 'OM', 'PA', 'PE', 'PG', 'PH', 'PK', 'PL', 'PS', 'PT', 'PW', 'PY', 'QA', 'RO', 'RS', 'RW', 'SA', 'SB', 'SC', 'SE', 'SG', 'SI', 'SK', 'SL', 'SM', 'SN', 'SR', 'ST', 'SV', 'SZ', 'TD', 'TG', 'TH', 'TJ', 'TL', 'TN', 'TO', 'TR', 'TT', 'TV', 'TW', 'TZ', 'UA', 'UG', 'US', 'UY', 'UZ', 'VC', 'VE', 'VN', 'VU', 'WS', 'XK', 'ZA', 'ZM', 'ZW'], 'external_urls': {'spotify': 'https://open.spotify.com/album/6X4KUt8RZEuJnlXXX04JC9'}, 'href': 'https://api.spotify.com/v1/albums/6X4KUt8RZEuJnlXXX04JC9', 'id': '6X4KUt8RZEuJnlXXX04JC9', 'images': [{'height': 640, 'url': 'https://i.scdn.co/image/ab67616d0000b273b76576fd575338ec7ef83492', 'width': 640}, {'height': 300, 'url': 'https://i.scdn.co/image/ab67616d00001e02b76576fd575338ec7ef83492', 'width': 300}, {'height': 64, 'url': 'https://i.scdn.co/image/ab67616d00004851b76576fd575338ec7ef83492', 'width': 64}], 'name': 'Trauma', 'release_date': '2023-03-15', 'release_date_precision': 'day', 'total_tracks': 1, 'type': 'album', 'uri': 'spotify:album:6X4KUt8RZEuJnlXXX04JC9'}, 'artists': [{'external_urls': {'spotify': 'https://open.spotify.com/artist/4M207MF4iyxBGBXzx5HL3p'}, 'href': 'https://api.spotify.com/v1/artists/4M207MF4iyxBGBXzx5HL3p', 'id': '4M207MF4iyxBGBXzx5HL3p', 'name': 'Elsya', 'type': 'artist', 'uri': 'spotify:artist:4M207MF4iyxBGBXzx5HL3p'}, {'external_urls': {'spotify': 'https://open.spotify.com/artist/21delmj7yVs6NDL6o1CPbk'}, 'href': 'https://api.spotify.com/v1/artists/21delmj7yVs6NDL6o1CPbk', 'id': '21delmj7yVs6NDL6o1CPbk', 'name': 'Aan Story', 'type': 'artist', 'uri': 'spotify:artist:21delmj7yVs6NDL6o1CPbk'}], 'available_markets': ['AR', 'AU', 'AT', 'BE', 'BO', 'BR', 'BG', 'CA', 'CL', 'CO', 'CR', 'CY', 'CZ', 'DK', 'DO', 'DE', 'EC', 'EE', 'SV', 'FI', 'FR', 'GR', 'GT', 'HN', 'HK', 'HU', 'IS', 'IE', 'IT', 'LV', 'LT', 'LU', 'MY', 'MT', 'MX', 'NL', 'NZ', 'NI', 'NO', 'PA', 'PY', 'PE', 'PH', 'PL', 'PT', 'SG', 'SK', 'ES', 'SE', 'CH', 'TW', 'TR', 'UY', 'US', 'GB', 'AD', 'LI', 'MC', 'ID', 'JP', 'TH', 'VN', 'RO', 'IL', 'ZA', 'SA', 'AE', 'BH', 'QA', 'OM', 'KW', 'EG', 'MA', 'DZ', 'TN', 'LB', 'JO', 'PS', 'IN', 'BY', 'KZ', 'MD', 'UA', 'AL', 'BA', 'HR', 'ME', 'MK', 'RS', 'SI', 'KR', 'BD', 'PK', 'LK', 'GH', 'KE', 'NG', 'TZ', 'UG', 'AG', 'AM', 'BS', 'BB', 'BZ', 'BT', 'BW', 'BF', 'CV', 'CW', 'DM', 'FJ', 'GM', 'GE', 'GD', 'GW', 'GY', 'HT', 'JM', 'KI', 'LS', 'LR', 'MW', 'MV', 'ML', 'MH', 'FM', 'NA', 'NR', 'NE', 'PW', 'PG', 'WS', 'SM', 'ST', 'SN', 'SC', 'SL', 'SB', 'KN', 'LC', 'VC', 'SR', 'TL', 'TO', 'TT', 'TV', 'VU', 'AZ', 'BN', 'BI', 'KH', 'CM', 'TD', 'KM', 'GQ', 'SZ', 'GA', 'GN', 'KG', 'LA', 'MO', 'MR', 'MN', 'NP', 'RW', 'TG', 'UZ', 'ZW', 'BJ', 'MG', 'MU', 'MZ', 'AO', 'CI', 'DJ', 'ZM', 'CD', 'CG', 'IQ', 'LY', 'TJ', 'VE', 'ET', 'XK'], 'disc_number': 1, 'duration_ms': 218073, 'episode': False, 'explicit': False, 'external_ids': {'isrc': 'FR96X2355780'}, 'external_urls': {'spotify': 'https://open.spotify.com/track/6bOW2X3ffFoOpMfDoz91Q6'}, 'href': 'https://api.spotify.com/v1/tracks/6bOW2X3ffFoOpMfDoz91Q6', 'id': '6bOW2X3ffFoOpMfDoz91Q6', 'is_local': False, 'name': 'Trauma', 'popularity': 70, 'preview_url': 'https://p.scdn.co/mp3-preview/1397eb94d32967608ee1a9d81b1372f7ed893918?cid=43964785e73c43698f52de9f8ea49068', 'track': True, 'track_number': 1, 'type': 'track', 'uri': 'spotify:track:6bOW2X3ffFoOpMfDoz91Q6'}\n",
      "{'album': {'album_type': 'album', 'artists': [{'external_urls': {'spotify': 'https://open.spotify.com/artist/6udveWUgX4vu75FF0DTrXV'}, 'href': 'https://api.spotify.com/v1/artists/6udveWUgX4vu75FF0DTrXV', 'id': '6udveWUgX4vu75FF0DTrXV', 'name': 'TAEYANG', 'type': 'artist', 'uri': 'spotify:artist:6udveWUgX4vu75FF0DTrXV'}], 'available_markets': ['AD', 'AG', 'AL', 'AO', 'AR', 'AT', 'AU', 'BA', 'BB', 'BE', 'BF', 'BG', 'BI', 'BJ', 'BO', 'BR', 'BS', 'BW', 'BZ', 'CA', 'CD', 'CG', 'CH', 'CI', 'CL', 'CM', 'CO', 'CR', 'CV', 'CW', 'CZ', 'DE', 'DJ', 'DK', 'DM', 'DO', 'DZ', 'EC', 'EE', 'EG', 'ES', 'ET', 'FI', 'FR', 'GA', 'GB', 'GD', 'GH', 'GM', 'GN', 'GQ', 'GR', 'GT', 'GW', 'GY', 'HN', 'HR', 'HT', 'HU', 'IE', 'IS', 'IT', 'JM', 'KE', 'KM', 'KN', 'LC', 'LI', 'LR', 'LS', 'LT', 'LU', 'LV', 'LY', 'MA', 'MC', 'MD', 'ME', 'MG', 'MK', 'ML', 'MR', 'MT', 'MU', 'MW', 'MX', 'MZ', 'NA', 'NE', 'NG', 'NI', 'NL', 'NO', 'NZ', 'PA', 'PE', 'PL', 'PT', 'PY', 'RO', 'RS', 'RW', 'SC', 'SE', 'SI', 'SK', 'SL', 'SM', 'SN', 'SR', 'ST', 'SV', 'SZ', 'TD', 'TG', 'TN', 'TT', 'TZ', 'UA', 'UG', 'US', 'UY', 'VC', 'VE', 'XK', 'ZA', 'ZM', 'ZW'], 'external_urls': {'spotify': 'https://open.spotify.com/album/6uMu4poce5OdMd1HYglZux'}, 'href': 'https://api.spotify.com/v1/albums/6uMu4poce5OdMd1HYglZux', 'id': '6uMu4poce5OdMd1HYglZux', 'images': [{'height': 640, 'url': 'https://i.scdn.co/image/ab67616d0000b27346313223adf2b6d726388328', 'width': 640}, {'height': 300, 'url': 'https://i.scdn.co/image/ab67616d00001e0246313223adf2b6d726388328', 'width': 300}, {'height': 64, 'url': 'https://i.scdn.co/image/ab67616d0000485146313223adf2b6d726388328', 'width': 64}], 'name': 'Down to Earth', 'release_date': '2023-04-25', 'release_date_precision': 'day', 'total_tracks': 6, 'type': 'album', 'uri': 'spotify:album:6uMu4poce5OdMd1HYglZux'}, 'artists': [{'external_urls': {'spotify': 'https://open.spotify.com/artist/6udveWUgX4vu75FF0DTrXV'}, 'href': 'https://api.spotify.com/v1/artists/6udveWUgX4vu75FF0DTrXV', 'id': '6udveWUgX4vu75FF0DTrXV', 'name': 'TAEYANG', 'type': 'artist', 'uri': 'spotify:artist:6udveWUgX4vu75FF0DTrXV'}, {'external_urls': {'spotify': 'https://open.spotify.com/artist/5L1lO4eRHmJ7a0Q6csE5cT'}, 'href': 'https://api.spotify.com/v1/artists/5L1lO4eRHmJ7a0Q6csE5cT', 'id': '5L1lO4eRHmJ7a0Q6csE5cT', 'name': 'LISA', 'type': 'artist', 'uri': 'spotify:artist:5L1lO4eRHmJ7a0Q6csE5cT'}], 'available_markets': ['AR', 'AU', 'AT', 'BE', 'BO', 'BR', 'BG', 'CA', 'CL', 'CO', 'CR', 'CZ', 'DK', 'DO', 'DE', 'EC', 'EE', 'SV', 'FI', 'FR', 'GR', 'GT', 'HN', 'HU', 'IS', 'IE', 'IT', 'LV', 'LT', 'LU', 'MT', 'MX', 'NL', 'NZ', 'NI', 'NO', 'PA', 'PY', 'PE', 'PL', 'PT', 'SK', 'ES', 'SE', 'CH', 'UY', 'US', 'GB', 'AD', 'LI', 'MC', 'RO', 'ZA', 'EG', 'MA', 'DZ', 'TN', 'MD', 'UA', 'AL', 'BA', 'HR', 'ME', 'MK', 'RS', 'SI', 'GH', 'KE', 'NG', 'TZ', 'UG', 'AG', 'BS', 'BB', 'BZ', 'BW', 'BF', 'CV', 'CW', 'DM', 'GM', 'GD', 'GW', 'GY', 'HT', 'JM', 'LS', 'LR', 'MW', 'ML', 'NA', 'NE', 'SM', 'ST', 'SN', 'SC', 'SL', 'KN', 'LC', 'VC', 'SR', 'TT', 'BI', 'CM', 'TD', 'KM', 'GQ', 'SZ', 'GA', 'GN', 'MR', 'RW', 'TG', 'ZW', 'BJ', 'MG', 'MU', 'MZ', 'AO', 'CI', 'DJ', 'ZM', 'CD', 'CG', 'LY', 'VE', 'ET', 'XK'], 'disc_number': 1, 'duration_ms': 205101, 'episode': False, 'explicit': False, 'external_ids': {'isrc': 'KSA002300722'}, 'external_urls': {'spotify': 'https://open.spotify.com/track/5HrIcZOo1DysX53qDRlRnt'}, 'href': 'https://api.spotify.com/v1/tracks/5HrIcZOo1DysX53qDRlRnt', 'id': '5HrIcZOo1DysX53qDRlRnt', 'is_local': False, 'name': 'Shoong! (feat. LISA of BLACKPINK)', 'popularity': 79, 'preview_url': 'https://p.scdn.co/mp3-preview/bb72139d4655eba702e34d0d95bcc800678b6721?cid=43964785e73c43698f52de9f8ea49068', 'track': True, 'track_number': 2, 'type': 'track', 'uri': 'spotify:track:5HrIcZOo1DysX53qDRlRnt'}\n",
      "{'album': {'album_type': 'single', 'artists': [{'external_urls': {'spotify': 'https://open.spotify.com/artist/55L5ivgJXuhhrPw3pdEph7'}, 'href': 'https://api.spotify.com/v1/artists/55L5ivgJXuhhrPw3pdEph7', 'id': '55L5ivgJXuhhrPw3pdEph7', 'name': 'Gustaph', 'type': 'artist', 'uri': 'spotify:artist:55L5ivgJXuhhrPw3pdEph7'}], 'available_markets': ['AD', 'AE', 'AG', 'AL', 'AM', 'AO', 'AR', 'AT', 'AU', 'AZ', 'BA', 'BB', 'BD', 'BE', 'BF', 'BG', 'BH', 'BI', 'BJ', 'BN', 'BO', 'BR', 'BS', 'BT', 'BW', 'BY', 'BZ', 'CA', 'CD', 'CG', 'CH', 'CI', 'CL', 'CM', 'CO', 'CR', 'CV', 'CW', 'CY', 'CZ', 'DE', 'DJ', 'DK', 'DM', 'DO', 'DZ', 'EC', 'EE', 'EG', 'ES', 'ET', 'FI', 'FJ', 'FM', 'FR', 'GA', 'GB', 'GD', 'GE', 'GH', 'GM', 'GN', 'GQ', 'GR', 'GT', 'GW', 'GY', 'HK', 'HN', 'HR', 'HT', 'HU', 'ID', 'IE', 'IL', 'IN', 'IQ', 'IS', 'IT', 'JM', 'JO', 'JP', 'KE', 'KG', 'KH', 'KI', 'KM', 'KN', 'KR', 'KW', 'KZ', 'LA', 'LB', 'LC', 'LI', 'LK', 'LR', 'LS', 'LT', 'LU', 'LV', 'LY', 'MA', 'MC', 'MD', 'ME', 'MG', 'MH', 'MK', 'ML', 'MN', 'MO', 'MR', 'MT', 'MU', 'MV', 'MW', 'MX', 'MY', 'MZ', 'NA', 'NE', 'NG', 'NI', 'NL', 'NO', 'NP', 'NR', 'NZ', 'OM', 'PA', 'PE', 'PG', 'PH', 'PK', 'PL', 'PS', 'PT', 'PW', 'PY', 'QA', 'RO', 'RS', 'RW', 'SA', 'SB', 'SC', 'SE', 'SG', 'SI', 'SK', 'SL', 'SM', 'SN', 'SR', 'ST', 'SV', 'SZ', 'TD', 'TG', 'TH', 'TJ', 'TL', 'TN', 'TO', 'TR', 'TT', 'TV', 'TW', 'TZ', 'UA', 'UG', 'US', 'UY', 'UZ', 'VC', 'VE', 'VN', 'VU', 'WS', 'XK', 'ZA', 'ZM', 'ZW'], 'external_urls': {'spotify': 'https://open.spotify.com/album/4Pbi89jb8k56Qh8hrwwbGu'}, 'href': 'https://api.spotify.com/v1/albums/4Pbi89jb8k56Qh8hrwwbGu', 'id': '4Pbi89jb8k56Qh8hrwwbGu', 'images': [{'height': 640, 'url': 'https://i.scdn.co/image/ab67616d0000b2733e1ec68711bcf4fcbf9c5c85', 'width': 640}, {'height': 300, 'url': 'https://i.scdn.co/image/ab67616d00001e023e1ec68711bcf4fcbf9c5c85', 'width': 300}, {'height': 64, 'url': 'https://i.scdn.co/image/ab67616d000048513e1ec68711bcf4fcbf9c5c85', 'width': 64}], 'name': 'Because Of You', 'release_date': '2023-01-13', 'release_date_precision': 'day', 'total_tracks': 1, 'type': 'album', 'uri': 'spotify:album:4Pbi89jb8k56Qh8hrwwbGu'}, 'artists': [{'external_urls': {'spotify': 'https://open.spotify.com/artist/55L5ivgJXuhhrPw3pdEph7'}, 'href': 'https://api.spotify.com/v1/artists/55L5ivgJXuhhrPw3pdEph7', 'id': '55L5ivgJXuhhrPw3pdEph7', 'name': 'Gustaph', 'type': 'artist', 'uri': 'spotify:artist:55L5ivgJXuhhrPw3pdEph7'}], 'available_markets': ['AR', 'AU', 'AT', 'BE', 'BO', 'BR', 'BG', 'CA', 'CL', 'CO', 'CR', 'CY', 'CZ', 'DK', 'DO', 'DE', 'EC', 'EE', 'SV', 'FI', 'FR', 'GR', 'GT', 'HN', 'HK', 'HU', 'IS', 'IE', 'IT', 'LV', 'LT', 'LU', 'MY', 'MT', 'MX', 'NL', 'NZ', 'NI', 'NO', 'PA', 'PY', 'PE', 'PH', 'PL', 'PT', 'SG', 'SK', 'ES', 'SE', 'CH', 'TW', 'TR', 'UY', 'US', 'GB', 'AD', 'LI', 'MC', 'ID', 'JP', 'TH', 'VN', 'RO', 'IL', 'ZA', 'SA', 'AE', 'BH', 'QA', 'OM', 'KW', 'EG', 'MA', 'DZ', 'TN', 'LB', 'JO', 'PS', 'IN', 'BY', 'KZ', 'MD', 'UA', 'AL', 'BA', 'HR', 'ME', 'MK', 'RS', 'SI', 'KR', 'BD', 'PK', 'LK', 'GH', 'KE', 'NG', 'TZ', 'UG', 'AG', 'AM', 'BS', 'BB', 'BZ', 'BT', 'BW', 'BF', 'CV', 'CW', 'DM', 'FJ', 'GM', 'GE', 'GD', 'GW', 'GY', 'HT', 'JM', 'KI', 'LS', 'LR', 'MW', 'MV', 'ML', 'MH', 'FM', 'NA', 'NR', 'NE', 'PW', 'PG', 'WS', 'SM', 'ST', 'SN', 'SC', 'SL', 'SB', 'KN', 'LC', 'VC', 'SR', 'TL', 'TO', 'TT', 'TV', 'VU', 'AZ', 'BN', 'BI', 'KH', 'CM', 'TD', 'KM', 'GQ', 'SZ', 'GA', 'GN', 'KG', 'LA', 'MO', 'MR', 'MN', 'NP', 'RW', 'TG', 'UZ', 'ZW', 'BJ', 'MG', 'MU', 'MZ', 'AO', 'CI', 'DJ', 'ZM', 'CD', 'CG', 'IQ', 'LY', 'TJ', 'VE', 'ET', 'XK'], 'disc_number': 1, 'duration_ms': 179908, 'episode': False, 'explicit': False, 'external_ids': {'isrc': 'BEMK12200001'}, 'external_urls': {'spotify': 'https://open.spotify.com/track/320jqrATpl9762bCQkmLDf'}, 'href': 'https://api.spotify.com/v1/tracks/320jqrATpl9762bCQkmLDf', 'id': '320jqrATpl9762bCQkmLDf', 'is_local': False, 'name': 'Because Of You', 'popularity': 77, 'preview_url': 'https://p.scdn.co/mp3-preview/fb112f71fceb4754aa8070dd36737bbfa430096b?cid=43964785e73c43698f52de9f8ea49068', 'track': True, 'track_number': 1, 'type': 'track', 'uri': 'spotify:track:320jqrATpl9762bCQkmLDf'}\n",
      "{'album': {'album_type': 'single', 'artists': [{'external_urls': {'spotify': 'https://open.spotify.com/artist/1EPZusBDP8yewhsaKtwktz'}, 'href': 'https://api.spotify.com/v1/artists/1EPZusBDP8yewhsaKtwktz', 'id': '1EPZusBDP8yewhsaKtwktz', 'name': 'ALIZADE', 'type': 'artist', 'uri': 'spotify:artist:1EPZusBDP8yewhsaKtwktz'}, {'external_urls': {'spotify': 'https://open.spotify.com/artist/6q1sTU51oryTTcWTPTd0VC'}, 'href': 'https://api.spotify.com/v1/artists/6q1sTU51oryTTcWTPTd0VC', 'id': '6q1sTU51oryTTcWTPTd0VC', 'name': 'BEGE', 'type': 'artist', 'uri': 'spotify:artist:6q1sTU51oryTTcWTPTd0VC'}], 'available_markets': ['AD', 'AE', 'AG', 'AL', 'AM', 'AO', 'AR', 'AT', 'AU', 'AZ', 'BA', 'BB', 'BD', 'BE', 'BF', 'BG', 'BH', 'BI', 'BJ', 'BN', 'BO', 'BR', 'BS', 'BT', 'BW', 'BY', 'BZ', 'CA', 'CD', 'CG', 'CH', 'CI', 'CL', 'CM', 'CO', 'CR', 'CV', 'CW', 'CY', 'CZ', 'DE', 'DJ', 'DK', 'DM', 'DO', 'DZ', 'EC', 'EE', 'EG', 'ES', 'ET', 'FI', 'FJ', 'FM', 'FR', 'GA', 'GB', 'GD', 'GE', 'GH', 'GM', 'GN', 'GQ', 'GR', 'GT', 'GW', 'GY', 'HK', 'HN', 'HR', 'HT', 'HU', 'ID', 'IE', 'IL', 'IN', 'IQ', 'IS', 'IT', 'JM', 'JO', 'JP', 'KE', 'KG', 'KH', 'KI', 'KM', 'KN', 'KR', 'KW', 'KZ', 'LA', 'LB', 'LC', 'LI', 'LK', 'LR', 'LS', 'LT', 'LU', 'LV', 'LY', 'MA', 'MC', 'MD', 'ME', 'MG', 'MH', 'MK', 'ML', 'MN', 'MO', 'MR', 'MT', 'MU', 'MV', 'MW', 'MX', 'MY', 'MZ', 'NA', 'NE', 'NG', 'NI', 'NL', 'NO', 'NP', 'NR', 'NZ', 'OM', 'PA', 'PE', 'PG', 'PH', 'PK', 'PL', 'PS', 'PT', 'PW', 'PY', 'QA', 'RO', 'RS', 'RW', 'SA', 'SB', 'SC', 'SE', 'SG', 'SI', 'SK', 'SL', 'SM', 'SN', 'SR', 'ST', 'SV', 'SZ', 'TD', 'TG', 'TH', 'TJ', 'TL', 'TN', 'TO', 'TR', 'TT', 'TV', 'TW', 'TZ', 'UA', 'UG', 'US', 'UY', 'UZ', 'VC', 'VE', 'VN', 'VU', 'WS', 'XK', 'ZA', 'ZM', 'ZW'], 'external_urls': {'spotify': 'https://open.spotify.com/album/2oxz5cyLZc8ucTNW2DoTZY'}, 'href': 'https://api.spotify.com/v1/albums/2oxz5cyLZc8ucTNW2DoTZY', 'id': '2oxz5cyLZc8ucTNW2DoTZY', 'images': [{'height': 640, 'url': 'https://i.scdn.co/image/ab67616d0000b273233d34d11189c085df678d87', 'width': 640}, {'height': 300, 'url': 'https://i.scdn.co/image/ab67616d00001e02233d34d11189c085df678d87', 'width': 300}, {'height': 64, 'url': 'https://i.scdn.co/image/ab67616d00004851233d34d11189c085df678d87', 'width': 64}], 'name': '24/7', 'release_date': '2023-04-21', 'release_date_precision': 'day', 'total_tracks': 1, 'type': 'album', 'uri': 'spotify:album:2oxz5cyLZc8ucTNW2DoTZY'}, 'artists': [{'external_urls': {'spotify': 'https://open.spotify.com/artist/1EPZusBDP8yewhsaKtwktz'}, 'href': 'https://api.spotify.com/v1/artists/1EPZusBDP8yewhsaKtwktz', 'id': '1EPZusBDP8yewhsaKtwktz', 'name': 'ALIZADE', 'type': 'artist', 'uri': 'spotify:artist:1EPZusBDP8yewhsaKtwktz'}, {'external_urls': {'spotify': 'https://open.spotify.com/artist/6q1sTU51oryTTcWTPTd0VC'}, 'href': 'https://api.spotify.com/v1/artists/6q1sTU51oryTTcWTPTd0VC', 'id': '6q1sTU51oryTTcWTPTd0VC', 'name': 'BEGE', 'type': 'artist', 'uri': 'spotify:artist:6q1sTU51oryTTcWTPTd0VC'}], 'available_markets': ['AR', 'AU', 'AT', 'BE', 'BO', 'BR', 'BG', 'CA', 'CL', 'CO', 'CR', 'CY', 'CZ', 'DK', 'DO', 'DE', 'EC', 'EE', 'SV', 'FI', 'FR', 'GR', 'GT', 'HN', 'HK', 'HU', 'IS', 'IE', 'IT', 'LV', 'LT', 'LU', 'MY', 'MT', 'MX', 'NL', 'NZ', 'NI', 'NO', 'PA', 'PY', 'PE', 'PH', 'PL', 'PT', 'SG', 'SK', 'ES', 'SE', 'CH', 'TW', 'TR', 'UY', 'US', 'GB', 'AD', 'LI', 'MC', 'ID', 'JP', 'TH', 'VN', 'RO', 'IL', 'ZA', 'SA', 'AE', 'BH', 'QA', 'OM', 'KW', 'EG', 'MA', 'DZ', 'TN', 'LB', 'JO', 'PS', 'IN', 'BY', 'KZ', 'MD', 'UA', 'AL', 'BA', 'HR', 'ME', 'MK', 'RS', 'SI', 'KR', 'BD', 'PK', 'LK', 'GH', 'KE', 'NG', 'TZ', 'UG', 'AG', 'AM', 'BS', 'BB', 'BZ', 'BT', 'BW', 'BF', 'CV', 'CW', 'DM', 'FJ', 'GM', 'GE', 'GD', 'GW', 'GY', 'HT', 'JM', 'KI', 'LS', 'LR', 'MW', 'MV', 'ML', 'MH', 'FM', 'NA', 'NR', 'NE', 'PW', 'PG', 'WS', 'SM', 'ST', 'SN', 'SC', 'SL', 'SB', 'KN', 'LC', 'VC', 'SR', 'TL', 'TO', 'TT', 'TV', 'VU', 'AZ', 'BN', 'BI', 'KH', 'CM', 'TD', 'KM', 'GQ', 'SZ', 'GA', 'GN', 'KG', 'LA', 'MO', 'MR', 'MN', 'NP', 'RW', 'TG', 'UZ', 'ZW', 'BJ', 'MG', 'MU', 'MZ', 'AO', 'CI', 'DJ', 'ZM', 'CD', 'CG', 'IQ', 'LY', 'TJ', 'VE', 'ET', 'XK'], 'disc_number': 1, 'duration_ms': 186352, 'episode': False, 'explicit': True, 'external_ids': {'isrc': 'QM6MZ2368857'}, 'external_urls': {'spotify': 'https://open.spotify.com/track/4UySkSnMBKf1PS32agnwxp'}, 'href': 'https://api.spotify.com/v1/tracks/4UySkSnMBKf1PS32agnwxp', 'id': '4UySkSnMBKf1PS32agnwxp', 'is_local': False, 'name': '24/7', 'popularity': 82, 'preview_url': 'https://p.scdn.co/mp3-preview/2b2c2ce9ce20a8b595d4b6879d8714a1a3f3e602?cid=43964785e73c43698f52de9f8ea49068', 'track': True, 'track_number': 1, 'type': 'track', 'uri': 'spotify:track:4UySkSnMBKf1PS32agnwxp'}\n",
      "{'album': {'album_type': 'album', 'artists': [{'external_urls': {'spotify': 'https://open.spotify.com/artist/0KOSzgkMlkeowt1tgIg6ca'}, 'href': 'https://api.spotify.com/v1/artists/0KOSzgkMlkeowt1tgIg6ca', 'id': '0KOSzgkMlkeowt1tgIg6ca', 'name': 'Heijan', 'type': 'artist', 'uri': 'spotify:artist:0KOSzgkMlkeowt1tgIg6ca'}, {'external_urls': {'spotify': 'https://open.spotify.com/artist/3NPQ2qMGXAR0g1COJxuZ8r'}, 'href': 'https://api.spotify.com/v1/artists/3NPQ2qMGXAR0g1COJxuZ8r', 'id': '3NPQ2qMGXAR0g1COJxuZ8r', 'name': 'Muti', 'type': 'artist', 'uri': 'spotify:artist:3NPQ2qMGXAR0g1COJxuZ8r'}], 'available_markets': ['AD', 'AE', 'AG', 'AL', 'AM', 'AO', 'AR', 'AT', 'AU', 'AZ', 'BA', 'BB', 'BD', 'BE', 'BF', 'BG', 'BH', 'BI', 'BJ', 'BN', 'BO', 'BR', 'BS', 'BT', 'BW', 'BY', 'BZ', 'CA', 'CD', 'CG', 'CH', 'CI', 'CL', 'CM', 'CO', 'CR', 'CV', 'CW', 'CY', 'CZ', 'DE', 'DJ', 'DK', 'DM', 'DO', 'DZ', 'EC', 'EE', 'EG', 'ES', 'ET', 'FI', 'FJ', 'FM', 'FR', 'GA', 'GB', 'GD', 'GE', 'GH', 'GM', 'GN', 'GQ', 'GR', 'GT', 'GW', 'GY', 'HK', 'HN', 'HR', 'HT', 'HU', 'ID', 'IE', 'IL', 'IN', 'IQ', 'IS', 'IT', 'JM', 'JO', 'JP', 'KE', 'KG', 'KH', 'KI', 'KM', 'KN', 'KR', 'KW', 'KZ', 'LA', 'LB', 'LC', 'LI', 'LK', 'LR', 'LS', 'LT', 'LU', 'LV', 'LY', 'MA', 'MC', 'MD', 'ME', 'MG', 'MH', 'MK', 'ML', 'MN', 'MO', 'MR', 'MT', 'MU', 'MV', 'MW', 'MX', 'MY', 'MZ', 'NA', 'NE', 'NG', 'NI', 'NL', 'NO', 'NP', 'NR', 'NZ', 'OM', 'PA', 'PE', 'PG', 'PH', 'PK', 'PL', 'PS', 'PT', 'PW', 'PY', 'QA', 'RO', 'RS', 'RW', 'SA', 'SB', 'SC', 'SE', 'SG', 'SI', 'SK', 'SL', 'SM', 'SN', 'SR', 'ST', 'SV', 'SZ', 'TD', 'TG', 'TH', 'TJ', 'TL', 'TN', 'TO', 'TR', 'TT', 'TV', 'TW', 'TZ', 'UA', 'UG', 'US', 'UY', 'UZ', 'VC', 'VE', 'VN', 'VU', 'WS', 'XK', 'ZA', 'ZM', 'ZW'], 'external_urls': {'spotify': 'https://open.spotify.com/album/75VicDyzJQYjtYdtDyGxn4'}, 'href': 'https://api.spotify.com/v1/albums/75VicDyzJQYjtYdtDyGxn4', 'id': '75VicDyzJQYjtYdtDyGxn4', 'images': [{'height': 640, 'url': 'https://i.scdn.co/image/ab67616d0000b273965a9c2c41ab5c84477f3606', 'width': 640}, {'height': 300, 'url': 'https://i.scdn.co/image/ab67616d00001e02965a9c2c41ab5c84477f3606', 'width': 300}, {'height': 64, 'url': 'https://i.scdn.co/image/ab67616d00004851965a9c2c41ab5c84477f3606', 'width': 64}], 'name': 'Hermano', 'release_date': '2023-04-28', 'release_date_precision': 'day', 'total_tracks': 12, 'type': 'album', 'uri': 'spotify:album:75VicDyzJQYjtYdtDyGxn4'}, 'artists': [{'external_urls': {'spotify': 'https://open.spotify.com/artist/0KOSzgkMlkeowt1tgIg6ca'}, 'href': 'https://api.spotify.com/v1/artists/0KOSzgkMlkeowt1tgIg6ca', 'id': '0KOSzgkMlkeowt1tgIg6ca', 'name': 'Heijan', 'type': 'artist', 'uri': 'spotify:artist:0KOSzgkMlkeowt1tgIg6ca'}, {'external_urls': {'spotify': 'https://open.spotify.com/artist/3NPQ2qMGXAR0g1COJxuZ8r'}, 'href': 'https://api.spotify.com/v1/artists/3NPQ2qMGXAR0g1COJxuZ8r', 'id': '3NPQ2qMGXAR0g1COJxuZ8r', 'name': 'Muti', 'type': 'artist', 'uri': 'spotify:artist:3NPQ2qMGXAR0g1COJxuZ8r'}], 'available_markets': ['AR', 'AU', 'AT', 'BE', 'BO', 'BR', 'BG', 'CA', 'CL', 'CO', 'CR', 'CY', 'CZ', 'DK', 'DO', 'DE', 'EC', 'EE', 'SV', 'FI', 'FR', 'GR', 'GT', 'HN', 'HK', 'HU', 'IS', 'IE', 'IT', 'LV', 'LT', 'LU', 'MY', 'MT', 'MX', 'NL', 'NZ', 'NI', 'NO', 'PA', 'PY', 'PE', 'PH', 'PL', 'PT', 'SG', 'SK', 'ES', 'SE', 'CH', 'TW', 'TR', 'UY', 'US', 'GB', 'AD', 'LI', 'MC', 'ID', 'JP', 'TH', 'VN', 'RO', 'IL', 'ZA', 'SA', 'AE', 'BH', 'QA', 'OM', 'KW', 'EG', 'MA', 'DZ', 'TN', 'LB', 'JO', 'PS', 'IN', 'BY', 'KZ', 'MD', 'UA', 'AL', 'BA', 'HR', 'ME', 'MK', 'RS', 'SI', 'KR', 'BD', 'PK', 'LK', 'GH', 'KE', 'NG', 'TZ', 'UG', 'AG', 'AM', 'BS', 'BB', 'BZ', 'BT', 'BW', 'BF', 'CV', 'CW', 'DM', 'FJ', 'GM', 'GE', 'GD', 'GW', 'GY', 'HT', 'JM', 'KI', 'LS', 'LR', 'MW', 'MV', 'ML', 'MH', 'FM', 'NA', 'NR', 'NE', 'PW', 'PG', 'WS', 'SM', 'ST', 'SN', 'SC', 'SL', 'SB', 'KN', 'LC', 'VC', 'SR', 'TL', 'TO', 'TT', 'TV', 'VU', 'AZ', 'BN', 'BI', 'KH', 'CM', 'TD', 'KM', 'GQ', 'SZ', 'GA', 'GN', 'KG', 'LA', 'MO', 'MR', 'MN', 'NP', 'RW', 'TG', 'UZ', 'ZW', 'BJ', 'MG', 'MU', 'MZ', 'AO', 'CI', 'DJ', 'ZM', 'CD', 'CG', 'IQ', 'LY', 'TJ', 'VE', 'ET', 'XK'], 'disc_number': 1, 'duration_ms': 186950, 'episode': False, 'explicit': False, 'external_ids': {'isrc': 'QZMZ92307983'}, 'external_urls': {'spotify': 'https://open.spotify.com/track/72HD3OMs70hTZlbKVVd1rG'}, 'href': 'https://api.spotify.com/v1/tracks/72HD3OMs70hTZlbKVVd1rG', 'id': '72HD3OMs70hTZlbKVVd1rG', 'is_local': False, 'name': 'Aynen', 'popularity': 76, 'preview_url': 'https://p.scdn.co/mp3-preview/3b2b85daa3cec1fa273ba218086da2ea00121d72?cid=43964785e73c43698f52de9f8ea49068', 'track': True, 'track_number': 2, 'type': 'track', 'uri': 'spotify:track:72HD3OMs70hTZlbKVVd1rG'}\n",
      "{'album': {'album_type': 'single', 'artists': [{'external_urls': {'spotify': 'https://open.spotify.com/artist/7nqOGRxlXj7N2JYbgNEjYH'}, 'href': 'https://api.spotify.com/v1/artists/7nqOGRxlXj7N2JYbgNEjYH', 'id': '7nqOGRxlXj7N2JYbgNEjYH', 'name': 'SEVENTEEN', 'type': 'artist', 'uri': 'spotify:artist:7nqOGRxlXj7N2JYbgNEjYH'}], 'available_markets': ['AD', 'AE', 'AG', 'AL', 'AM', 'AO', 'AR', 'AT', 'AU', 'AZ', 'BA', 'BB', 'BD', 'BE', 'BF', 'BG', 'BH', 'BI', 'BJ', 'BN', 'BO', 'BR', 'BS', 'BT', 'BW', 'BY', 'BZ', 'CA', 'CD', 'CG', 'CH', 'CI', 'CL', 'CM', 'CO', 'CR', 'CV', 'CW', 'CY', 'CZ', 'DE', 'DJ', 'DK', 'DM', 'DO', 'DZ', 'EC', 'EE', 'EG', 'ES', 'ET', 'FI', 'FJ', 'FM', 'FR', 'GA', 'GB', 'GD', 'GE', 'GH', 'GM', 'GN', 'GQ', 'GR', 'GT', 'GW', 'GY', 'HK', 'HN', 'HR', 'HT', 'HU', 'ID', 'IE', 'IL', 'IN', 'IQ', 'IS', 'IT', 'JM', 'JO', 'JP', 'KE', 'KG', 'KH', 'KI', 'KM', 'KN', 'KR', 'KW', 'KZ', 'LA', 'LB', 'LC', 'LI', 'LK', 'LR', 'LS', 'LT', 'LU', 'LV', 'LY', 'MA', 'MC', 'MD', 'ME', 'MG', 'MH', 'MK', 'ML', 'MN', 'MO', 'MR', 'MT', 'MU', 'MV', 'MW', 'MX', 'MY', 'MZ', 'NA', 'NE', 'NG', 'NI', 'NL', 'NO', 'NP', 'NR', 'NZ', 'OM', 'PA', 'PE', 'PG', 'PH', 'PK', 'PL', 'PS', 'PT', 'PW', 'PY', 'QA', 'RO', 'RS', 'RW', 'SA', 'SB', 'SC', 'SE', 'SG', 'SI', 'SK', 'SL', 'SM', 'SN', 'SR', 'ST', 'SV', 'SZ', 'TD', 'TG', 'TH', 'TJ', 'TL', 'TN', 'TO', 'TR', 'TT', 'TV', 'TW', 'TZ', 'UA', 'UG', 'US', 'UY', 'UZ', 'VC', 'VE', 'VN', 'VU', 'WS', 'XK', 'ZA', 'ZM', 'ZW'], 'external_urls': {'spotify': 'https://open.spotify.com/album/1JBzeeCJ3axQMVkqWbKh0I'}, 'href': 'https://api.spotify.com/v1/albums/1JBzeeCJ3axQMVkqWbKh0I', 'id': '1JBzeeCJ3axQMVkqWbKh0I', 'images': [{'height': 640, 'url': 'https://i.scdn.co/image/ab67616d0000b27380e31ba0c05187e6310ef264', 'width': 640}, {'height': 300, 'url': 'https://i.scdn.co/image/ab67616d00001e0280e31ba0c05187e6310ef264', 'width': 300}, {'height': 64, 'url': 'https://i.scdn.co/image/ab67616d0000485180e31ba0c05187e6310ef264', 'width': 64}], 'name': \"SEVENTEEN 10th Mini Album 'FML'\", 'release_date': '2023-04-24', 'release_date_precision': 'day', 'total_tracks': 6, 'type': 'album', 'uri': 'spotify:album:1JBzeeCJ3axQMVkqWbKh0I'}, 'artists': [{'external_urls': {'spotify': 'https://open.spotify.com/artist/7nqOGRxlXj7N2JYbgNEjYH'}, 'href': 'https://api.spotify.com/v1/artists/7nqOGRxlXj7N2JYbgNEjYH', 'id': '7nqOGRxlXj7N2JYbgNEjYH', 'name': 'SEVENTEEN', 'type': 'artist', 'uri': 'spotify:artist:7nqOGRxlXj7N2JYbgNEjYH'}], 'available_markets': ['AR', 'AU', 'AT', 'BE', 'BO', 'BR', 'BG', 'CA', 'CL', 'CO', 'CR', 'CY', 'CZ', 'DK', 'DO', 'DE', 'EC', 'EE', 'SV', 'FI', 'FR', 'GR', 'GT', 'HN', 'HK', 'HU', 'IS', 'IE', 'IT', 'LV', 'LT', 'LU', 'MY', 'MT', 'MX', 'NL', 'NZ', 'NI', 'NO', 'PA', 'PY', 'PE', 'PH', 'PL', 'PT', 'SG', 'SK', 'ES', 'SE', 'CH', 'TW', 'TR', 'UY', 'US', 'GB', 'AD', 'LI', 'MC', 'ID', 'JP', 'TH', 'VN', 'RO', 'IL', 'ZA', 'SA', 'AE', 'BH', 'QA', 'OM', 'KW', 'EG', 'MA', 'DZ', 'TN', 'LB', 'JO', 'PS', 'IN', 'BY', 'KZ', 'MD', 'UA', 'AL', 'BA', 'HR', 'ME', 'MK', 'RS', 'SI', 'KR', 'BD', 'PK', 'LK', 'GH', 'KE', 'NG', 'TZ', 'UG', 'AG', 'AM', 'BS', 'BB', 'BZ', 'BT', 'BW', 'BF', 'CV', 'CW', 'DM', 'FJ', 'GM', 'GE', 'GD', 'GW', 'GY', 'HT', 'JM', 'KI', 'LS', 'LR', 'MW', 'MV', 'ML', 'MH', 'FM', 'NA', 'NR', 'NE', 'PW', 'PG', 'WS', 'SM', 'ST', 'SN', 'SC', 'SL', 'SB', 'KN', 'LC', 'VC', 'SR', 'TL', 'TO', 'TT', 'TV', 'VU', 'AZ', 'BN', 'BI', 'KH', 'CM', 'TD', 'KM', 'GQ', 'SZ', 'GA', 'GN', 'KG', 'LA', 'MO', 'MR', 'MN', 'NP', 'RW', 'TG', 'UZ', 'ZW', 'BJ', 'MG', 'MU', 'MZ', 'AO', 'CI', 'DJ', 'ZM', 'CD', 'CG', 'IQ', 'LY', 'TJ', 'VE', 'ET', 'XK'], 'disc_number': 1, 'duration_ms': 200386, 'episode': False, 'explicit': False, 'external_ids': {'isrc': 'USA2P2310675'}, 'external_urls': {'spotify': 'https://open.spotify.com/track/3AOf6YEpxQ894FmrwI9k96'}, 'href': 'https://api.spotify.com/v1/tracks/3AOf6YEpxQ894FmrwI9k96', 'id': '3AOf6YEpxQ894FmrwI9k96', 'is_local': False, 'name': 'Super', 'popularity': 88, 'preview_url': 'https://p.scdn.co/mp3-preview/1dd31996959e603934dbe4c7d3ee377243a0f890?cid=43964785e73c43698f52de9f8ea49068', 'track': True, 'track_number': 2, 'type': 'track', 'uri': 'spotify:track:3AOf6YEpxQ894FmrwI9k96'}\n"
     ]
    }
   ],
   "source": [
    "for item in range(item_len):\n",
    "    print(data['items'][item]['track'])"
   ]
  },
  {
   "cell_type": "code",
   "execution_count": 108,
   "id": "034cbafe",
   "metadata": {},
   "outputs": [
    {
     "data": {
      "text/plain": [
       "190444"
      ]
     },
     "execution_count": 108,
     "metadata": {},
     "output_type": "execute_result"
    }
   ],
   "source": [
    "song_duration_ms = data['items'][0]['track']['duration_ms']\n",
    "song_duration_ms"
   ]
  },
  {
   "cell_type": "code",
   "execution_count": 109,
   "id": "b7f4aea3",
   "metadata": {},
   "outputs": [
    {
     "data": {
      "text/plain": [
       "False"
      ]
     },
     "execution_count": 109,
     "metadata": {},
     "output_type": "execute_result"
    }
   ],
   "source": [
    "song_episode = data['items'][0]['track']['episode']\n",
    "song_episode "
   ]
  },
  {
   "cell_type": "code",
   "execution_count": 110,
   "id": "76d367e2",
   "metadata": {},
   "outputs": [
    {
     "data": {
      "text/plain": [
       "False"
      ]
     },
     "execution_count": 110,
     "metadata": {},
     "output_type": "execute_result"
    }
   ],
   "source": [
    "song_explicit = data['items'][0]['track']['explicit']\n",
    "song_explicit"
   ]
  },
  {
   "cell_type": "code",
   "execution_count": 111,
   "id": "90f13f98",
   "metadata": {},
   "outputs": [
    {
     "data": {
      "text/plain": [
       "76"
      ]
     },
     "execution_count": 111,
     "metadata": {},
     "output_type": "execute_result"
    }
   ],
   "source": [
    "song_popularity = data['items'][0]['track']['popularity']\n",
    "song_popularity"
   ]
  },
  {
   "cell_type": "code",
   "execution_count": 114,
   "id": "c5f26d29",
   "metadata": {},
   "outputs": [
    {
     "data": {
      "text/plain": [
       "'20230526'"
      ]
     },
     "execution_count": 114,
     "metadata": {},
     "output_type": "execute_result"
    }
   ],
   "source": [
    "datetime.today().strftime('%Y%m%d')"
   ]
  },
  {
   "cell_type": "code",
   "execution_count": null,
   "id": "dc39181c",
   "metadata": {},
   "outputs": [],
   "source": [
    "rank = 0\n",
    "for row in data['items']:\n",
    "    date_key = datetime.today().strftime('%Y%m%d')\n",
    "    track_rank = rank + 1\n",
    "    \n",
    "    "
   ]
  }
 ],
 "metadata": {
  "kernelspec": {
   "display_name": "Python 3 (ipykernel)",
   "language": "python",
   "name": "python3"
  },
  "language_info": {
   "codemirror_mode": {
    "name": "ipython",
    "version": 3
   },
   "file_extension": ".py",
   "mimetype": "text/x-python",
   "name": "python",
   "nbconvert_exporter": "python",
   "pygments_lexer": "ipython3",
   "version": "3.10.6"
  }
 },
 "nbformat": 4,
 "nbformat_minor": 5
}
